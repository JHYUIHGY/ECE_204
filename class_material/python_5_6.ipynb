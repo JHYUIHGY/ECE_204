{
 "cells": [
  {
   "cell_type": "markdown",
   "metadata": {},
   "source": [
    "# ECE 204 Data Science & Engineering: Python 5 & 6"
   ]
  },
  {
   "cell_type": "markdown",
   "metadata": {},
   "source": [
    "## Python 5:  Dictionaries and Series\n",
    "### In-Class Activity Item I"
   ]
  },
  {
   "cell_type": "markdown",
   "metadata": {},
   "source": [
    "Here are the number of males and females (in millions) over the age of 18 in each state. Find the total number of people over the age of 18 in each state:"
   ]
  },
  {
   "cell_type": "code",
   "execution_count": 1,
   "metadata": {},
   "outputs": [],
   "source": [
    "males = {'CA': 15.9, 'TX': 11.68, 'NY': 7.86, 'FL': 8.55, 'PA': 5.09, 'IL': 5.14, 'OH': 4.66, 'GA': 4.33, 'MN': 2.32, 'WI': 2.3, 'OR': 1.72, 'MI': 4.01}\n",
    "females = {'IL': 5.02, 'OH': 4.7, 'CA': 15.78, 'TX': 11.28, 'NY': 7.74, 'FL': 8.49, 'PA': 5.15, 'GA': 4.07, 'MN': 2.16, 'WI': 2.34, 'OR': 1.64, 'MD': 3.99}"
   ]
  },
  {
   "cell_type": "code",
   "execution_count": 2,
   "metadata": {},
   "outputs": [
    {
     "data": {
      "text/plain": [
       "CA    31.68\n",
       "TX    22.96\n",
       "FL    17.04\n",
       "NY    15.60\n",
       "PA    10.24\n",
       "IL    10.16\n",
       "OH     9.36\n",
       "GA     8.40\n",
       "WI     4.64\n",
       "MN     4.48\n",
       "MI     4.01\n",
       "MD     3.99\n",
       "OR     3.36\n",
       "dtype: float64"
      ]
     },
     "execution_count": 2,
     "metadata": {},
     "output_type": "execute_result"
    }
   ],
   "source": [
    "import pandas as pd\n",
    "\n",
    "population = {}\n",
    "for state in set(males.keys()).union(set(females.keys())):\n",
    "    population[state] = males.get(state, 0) + females.get(state, 0)\n",
    "\n",
    "pop_series = pd.Series(population)\n",
    "\n",
    "sorted_pop = pop_series.sort_values(ascending=False)\n",
    "sorted_pop"
   ]
  },
  {
   "cell_type": "code",
   "execution_count": 3,
   "metadata": {},
   "outputs": [
    {
     "data": {
      "text/plain": [
       "(('j', 1), ('k', 2), ('l', 3))"
      ]
     },
     "execution_count": 3,
     "metadata": {},
     "output_type": "execute_result"
    }
   ],
   "source": [
    "s = {\"j\": 1, \"k\": 2, \"l\": 3}\n",
    "list_s = tuple(s.items())\n",
    "list_s"
   ]
  },
  {
   "cell_type": "code",
   "execution_count": 4,
   "metadata": {},
   "outputs": [
    {
     "data": {
      "text/plain": [
       "Index([-3, -2, -1], dtype='int64')"
      ]
     },
     "execution_count": 4,
     "metadata": {},
     "output_type": "execute_result"
    }
   ],
   "source": [
    "import pandas as pd\n",
    "df = pd.DataFrame({\"col1\": [0, 1, 2], \"col2\": [0, 2, 4]}, index=[-3, -2, -1])\n",
    "index = df.index\n",
    "index"
   ]
  },
  {
   "cell_type": "markdown",
   "metadata": {},
   "source": [
    "## Python 6: Pandas DataFrames\n",
    "### In-Class Activity Item II"
   ]
  },
  {
   "cell_type": "code",
   "execution_count": 5,
   "metadata": {},
   "outputs": [],
   "source": [
    "x = [-14, -12, 5, 44, -24, -27, -15, 38, 7, -48, -38, 10, -22, 25, 42, 15, 24, -1, -29, -47, 21, 3, 26, 39, 9, 47, 16, 31, 20, -4, 6, -35, -41, 2, -34, -36, -49, 41, -26, -30, 17, 40, 36, 28, 32, 34, 45, -3, -42, -43, -50, -19, 22, -17, 27, 14, -39, 19, -6, -5, -46, 11, -40, -8, 13, 0, -13, -10, 29, 12, -44, -23, -45, 46, 37, -7, 33, 18, -37, 35, -31, -16, -25, 4, -33, 48, -11, -2, -9, 30, -21, 1, -20, 49, -18, 23, 8, -32, 43, -28]\n",
    "y1 = [ 53,  26,  19, 138,  10, 119, 180, 118,  82, 105, 144, 161, 130, 142, 180,   7,  71, 162,  16, 149,  52,  10, 141,  88, 130, 6, 137, 154, 184, 198, 192, 152, 125, 179, 152,  63,  35,  51,  43, 136, 118, 127,  27, 133, 126,  60, 195,   8,  65,   5, 103,  89, 136,  24,  16,  81, 165, 141, 147, 102,  42, 166,  87, 118,  72, 161,  13,  26,  67,  93, 142, 171, 162,   8,  72,  51,  83,  79, 51,  23,  59,  29, 171,  52,  28, 170, 170,  78,   1,   2,  48, 184, 124,  95,   1, 144, 159,  72, 190,  94]\n",
    "y2 = [ 92, -23, 236,  -9, 123, -16, 114, 242,  95, 152,  47,  30, 200, 86, 237,  44, 186,  90, 242,  15, -18, -14,  48, 193,  54,  74, 137,  60,  26, -19, 216,  54, 117, -23, 232, 146, 126, -13,  75, 4,  60,  76, 228,  28, 206,   7, 121, 199, 149,  32, 186, 186, 124, 233, 168,  -2, 111, 214, 224, 111, 114, -21,  95,  61, 155, 101, 210,   4, -28,  45,  70, 228,   8, 147,  59, 236, 140, 193, 240, 160, 117, 174,  36,  83, 159,  60,  21,  74, 181, -10, 174, 175,  83,   1, 132,  88, -18, -11, 155, -27]"
   ]
  },
  {
   "cell_type": "markdown",
   "metadata": {},
   "source": [
    "Create a Pandas DataFrame out of the `y1` and `y2` lists, using `x` as the index:"
   ]
  },
  {
   "cell_type": "code",
   "execution_count": 7,
   "metadata": {},
   "outputs": [
    {
     "data": {
      "text/html": [
       "<div>\n",
       "<style scoped>\n",
       "    .dataframe tbody tr th:only-of-type {\n",
       "        vertical-align: middle;\n",
       "    }\n",
       "\n",
       "    .dataframe tbody tr th {\n",
       "        vertical-align: top;\n",
       "    }\n",
       "\n",
       "    .dataframe thead th {\n",
       "        text-align: right;\n",
       "    }\n",
       "</style>\n",
       "<table border=\"1\" class=\"dataframe\">\n",
       "  <thead>\n",
       "    <tr style=\"text-align: right;\">\n",
       "      <th></th>\n",
       "      <th>x</th>\n",
       "      <th>y1</th>\n",
       "      <th>y2</th>\n",
       "    </tr>\n",
       "  </thead>\n",
       "  <tbody>\n",
       "    <tr>\n",
       "      <th>0</th>\n",
       "      <td>-14</td>\n",
       "      <td>53</td>\n",
       "      <td>92</td>\n",
       "    </tr>\n",
       "    <tr>\n",
       "      <th>1</th>\n",
       "      <td>-12</td>\n",
       "      <td>26</td>\n",
       "      <td>-23</td>\n",
       "    </tr>\n",
       "    <tr>\n",
       "      <th>2</th>\n",
       "      <td>5</td>\n",
       "      <td>19</td>\n",
       "      <td>236</td>\n",
       "    </tr>\n",
       "    <tr>\n",
       "      <th>3</th>\n",
       "      <td>44</td>\n",
       "      <td>138</td>\n",
       "      <td>-9</td>\n",
       "    </tr>\n",
       "    <tr>\n",
       "      <th>4</th>\n",
       "      <td>-24</td>\n",
       "      <td>10</td>\n",
       "      <td>123</td>\n",
       "    </tr>\n",
       "    <tr>\n",
       "      <th>...</th>\n",
       "      <td>...</td>\n",
       "      <td>...</td>\n",
       "      <td>...</td>\n",
       "    </tr>\n",
       "    <tr>\n",
       "      <th>95</th>\n",
       "      <td>23</td>\n",
       "      <td>144</td>\n",
       "      <td>88</td>\n",
       "    </tr>\n",
       "    <tr>\n",
       "      <th>96</th>\n",
       "      <td>8</td>\n",
       "      <td>159</td>\n",
       "      <td>-18</td>\n",
       "    </tr>\n",
       "    <tr>\n",
       "      <th>97</th>\n",
       "      <td>-32</td>\n",
       "      <td>72</td>\n",
       "      <td>-11</td>\n",
       "    </tr>\n",
       "    <tr>\n",
       "      <th>98</th>\n",
       "      <td>43</td>\n",
       "      <td>190</td>\n",
       "      <td>155</td>\n",
       "    </tr>\n",
       "    <tr>\n",
       "      <th>99</th>\n",
       "      <td>-28</td>\n",
       "      <td>94</td>\n",
       "      <td>-27</td>\n",
       "    </tr>\n",
       "  </tbody>\n",
       "</table>\n",
       "<p>100 rows × 3 columns</p>\n",
       "</div>"
      ],
      "text/plain": [
       "     x   y1   y2\n",
       "0  -14   53   92\n",
       "1  -12   26  -23\n",
       "2    5   19  236\n",
       "3   44  138   -9\n",
       "4  -24   10  123\n",
       "..  ..  ...  ...\n",
       "95  23  144   88\n",
       "96   8  159  -18\n",
       "97 -32   72  -11\n",
       "98  43  190  155\n",
       "99 -28   94  -27\n",
       "\n",
       "[100 rows x 3 columns]"
      ]
     },
     "execution_count": 7,
     "metadata": {},
     "output_type": "execute_result"
    }
   ],
   "source": [
    "import pandas as pd\n",
    "\n",
    "df = pd.DataFrame({'x': x, 'y1': y1, 'y2': y2})\n",
    "df"
   ]
  },
  {
   "cell_type": "markdown",
   "metadata": {},
   "source": [
    "Index the created DataFrame to get the values of `y1` and `y2` that correspond to `x` taking on a particular value:"
   ]
  },
  {
   "cell_type": "code",
   "execution_count": 8,
   "metadata": {},
   "outputs": [
    {
     "data": {
      "text/plain": [
       "(29, 174)"
      ]
     },
     "execution_count": 8,
     "metadata": {},
     "output_type": "execute_result"
    }
   ],
   "source": [
    "index_x = x.index(-16)\n",
    "y1_value = y1[index_x]  \n",
    "y2_value = y2[index_x]\n",
    "y1_value, y2_value"
   ]
  },
  {
   "cell_type": "markdown",
   "metadata": {},
   "source": [
    "Find the mean value of `y1` and `y2`."
   ]
  },
  {
   "cell_type": "code",
   "execution_count": 10,
   "metadata": {},
   "outputs": [
    {
     "data": {
      "text/plain": [
       "(96.66, 101.83)"
      ]
     },
     "execution_count": 10,
     "metadata": {},
     "output_type": "execute_result"
    }
   ],
   "source": [
    "y1_mean = df['y1'].mean()\n",
    "y2_mean = df['y2'].mean()\n",
    "y1_mean, y2_mean"
   ]
  },
  {
   "cell_type": "markdown",
   "metadata": {},
   "source": [
    "Find the median value of `y1` and `y2`."
   ]
  },
  {
   "cell_type": "code",
   "execution_count": 11,
   "metadata": {},
   "outputs": [
    {
     "data": {
      "text/plain": [
       "(94.5, 95.0)"
      ]
     },
     "execution_count": 11,
     "metadata": {},
     "output_type": "execute_result"
    }
   ],
   "source": [
    "y1_median = df['y1'].median()\n",
    "y2_median = df['y2'].median()\n",
    "y1_median, y2_median"
   ]
  },
  {
   "cell_type": "code",
   "execution_count": 12,
   "metadata": {},
   "outputs": [
    {
     "data": {
      "text/plain": [
       "True"
      ]
     },
     "execution_count": 12,
     "metadata": {},
     "output_type": "execute_result"
    }
   ],
   "source": [
    "d1 = {}\n",
    "d2 = dict()\n",
    "\n",
    "d1 == d2"
   ]
  },
  {
   "cell_type": "code",
   "execution_count": 22,
   "metadata": {},
   "outputs": [
    {
     "data": {
      "text/plain": [
       "'This is great'"
      ]
     },
     "execution_count": 22,
     "metadata": {},
     "output_type": "execute_result"
    }
   ],
   "source": [
    "d3 = {'2': 'This ', '0': 'is ', '4': 'great'}\n",
    "conc = d3['2'] + d3['0'] + d3['4']\n",
    "conc"
   ]
  },
  {
   "cell_type": "code",
   "execution_count": 31,
   "metadata": {},
   "outputs": [
    {
     "data": {
      "text/html": [
       "<div>\n",
       "<style scoped>\n",
       "    .dataframe tbody tr th:only-of-type {\n",
       "        vertical-align: middle;\n",
       "    }\n",
       "\n",
       "    .dataframe tbody tr th {\n",
       "        vertical-align: top;\n",
       "    }\n",
       "\n",
       "    .dataframe thead th {\n",
       "        text-align: right;\n",
       "    }\n",
       "</style>\n",
       "<table border=\"1\" class=\"dataframe\">\n",
       "  <thead>\n",
       "    <tr style=\"text-align: right;\">\n",
       "      <th></th>\n",
       "      <th>Major</th>\n",
       "      <th>Previous_Residence</th>\n",
       "      <th>Number_of_Pets</th>\n",
       "      <th>Early_Bird_or_Night_Owl</th>\n",
       "      <th>Prefers_Summer</th>\n",
       "      <th>Comments</th>\n",
       "    </tr>\n",
       "  </thead>\n",
       "  <tbody>\n",
       "    <tr>\n",
       "      <th>Phillip Duan</th>\n",
       "      <td>bio+ds</td>\n",
       "      <td>China</td>\n",
       "      <td>0</td>\n",
       "      <td>Night Owl</td>\n",
       "      <td>True</td>\n",
       "      <td>None</td>\n",
       "    </tr>\n",
       "    <tr>\n",
       "      <th>Xander Zhou</th>\n",
       "      <td>cs</td>\n",
       "      <td>China</td>\n",
       "      <td>2</td>\n",
       "      <td>Night Owl</td>\n",
       "      <td>True</td>\n",
       "      <td>None</td>\n",
       "    </tr>\n",
       "    <tr>\n",
       "      <th>Qianyi Gong</th>\n",
       "      <td>cs</td>\n",
       "      <td>China</td>\n",
       "      <td>10</td>\n",
       "      <td>Night Owl</td>\n",
       "      <td>True</td>\n",
       "      <td>None</td>\n",
       "    </tr>\n",
       "  </tbody>\n",
       "</table>\n",
       "</div>"
      ],
      "text/plain": [
       "               Major Previous_Residence Number_of_Pets  \\\n",
       "Phillip Duan  bio+ds              China              0   \n",
       "Xander Zhou       cs              China              2   \n",
       "Qianyi Gong       cs              China             10   \n",
       "\n",
       "             Early_Bird_or_Night_Owl Prefers_Summer Comments  \n",
       "Phillip Duan               Night Owl           True     None  \n",
       "Xander Zhou                Night Owl           True     None  \n",
       "Qianyi Gong                Night Owl           True     None  "
      ]
     },
     "execution_count": 31,
     "metadata": {},
     "output_type": "execute_result"
    }
   ],
   "source": [
    "student_data = {\n",
    "    \"Phillip Duan\": {\n",
    "        \"Major\": \"bio+ds\",\n",
    "        \"Previous_Residence\": \"China\",\n",
    "        \"Number_of_Pets\": 0,\n",
    "        \"Early_Bird_or_Night_Owl\": \"Night Owl\",\n",
    "        \"Prefers_Summer\": True,\n",
    "        \"Comments\": None\n",
    "    },\n",
    "    \"Xander Zhou\": {\n",
    "        \"Major\": \"cs\",\n",
    "        \"Previous_Residence\": \"China\",\n",
    "        \"Number_of_Pets\": 2,\n",
    "        \"Early_Bird_or_Night_Owl\": \"Night Owl\",\n",
    "        \"Prefers_Summer\": True,\n",
    "        \"Comments\": None\n",
    "    },\n",
    "    \"Qianyi Gong\": {\n",
    "        \"Major\": \"cs\",\n",
    "        \"Previous_Residence\": \"China\",\n",
    "        \"Number_of_Pets\": 10,\n",
    "        \"Early_Bird_or_Night_Owl\": \"Night Owl\",\n",
    "        \"Prefers_Summer\": True,\n",
    "        \"Comments\": None\n",
    "    }\n",
    "}\n",
    "\n",
    "df = pd.DataFrame.from_dict(student_data).T\n",
    "df"
   ]
  },
  {
   "cell_type": "code",
   "execution_count": null,
   "metadata": {},
   "outputs": [],
   "source": []
  }
 ],
 "metadata": {
  "kernelspec": {
   "display_name": "base",
   "language": "python",
   "name": "python3"
  },
  "language_info": {
   "codemirror_mode": {
    "name": "ipython",
    "version": 3
   },
   "file_extension": ".py",
   "mimetype": "text/x-python",
   "name": "python",
   "nbconvert_exporter": "python",
   "pygments_lexer": "ipython3",
   "version": "3.11.5"
  }
 },
 "nbformat": 4,
 "nbformat_minor": 2
}
