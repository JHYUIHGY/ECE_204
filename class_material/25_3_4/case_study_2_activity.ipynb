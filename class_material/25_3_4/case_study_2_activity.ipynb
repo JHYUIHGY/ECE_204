{
 "cells": [
  {
   "cell_type": "markdown",
   "metadata": {},
   "source": [
    "# Concept 7 & Case Study 2: Standardization and PCA\n",
    "## ECE 204 Data Science & Engineering"
   ]
  },
  {
   "cell_type": "markdown",
   "metadata": {},
   "source": [
    "### Lecture Notes"
   ]
  },
  {
   "cell_type": "code",
   "execution_count": null,
   "metadata": {},
   "outputs": [],
   "source": []
  },
  {
   "cell_type": "markdown",
   "metadata": {},
   "source": [
    "### In-Class Activity\n",
    "#### Please first read the questions in the in-class activity, where the questions are there in detail. This is just a starter notebook."
   ]
  },
  {
   "cell_type": "markdown",
   "metadata": {},
   "source": [
    "#### Import Statments"
   ]
  },
  {
   "cell_type": "code",
   "execution_count": 1,
   "metadata": {},
   "outputs": [],
   "source": [
    "# Add the following import statements here: pandas, numpy, StandardScaler, and PCA\n",
    "import pandas as pd \n",
    "import numpy as np \n",
    "from sklearn.preprocessing import StandardScaler\n",
    "from sklearn.decomposition import PCA"
   ]
  },
  {
   "cell_type": "markdown",
   "metadata": {},
   "source": [
    "---\n",
    "**Problem 1.** Read the data in `companies.csv`. Fit a StandardScaler on both the `employees` and `revenue_usd` variables. **Find the standardized data point given to you in Canvas.**"
   ]
  },
  {
   "cell_type": "code",
   "execution_count": 2,
   "metadata": {},
   "outputs": [
    {
     "data": {
      "text/html": [
       "<div>\n",
       "<style scoped>\n",
       "    .dataframe tbody tr th:only-of-type {\n",
       "        vertical-align: middle;\n",
       "    }\n",
       "\n",
       "    .dataframe tbody tr th {\n",
       "        vertical-align: top;\n",
       "    }\n",
       "\n",
       "    .dataframe thead th {\n",
       "        text-align: right;\n",
       "    }\n",
       "</style>\n",
       "<table border=\"1\" class=\"dataframe\">\n",
       "  <thead>\n",
       "    <tr style=\"text-align: right;\">\n",
       "      <th></th>\n",
       "      <th>emplyee scaled</th>\n",
       "      <th>revenue_usd_scaled</th>\n",
       "    </tr>\n",
       "  </thead>\n",
       "  <tbody>\n",
       "    <tr>\n",
       "      <th>0</th>\n",
       "      <td>-1.31</td>\n",
       "      <td>-1.38</td>\n",
       "    </tr>\n",
       "  </tbody>\n",
       "</table>\n",
       "</div>"
      ],
      "text/plain": [
       "   emplyee scaled  revenue_usd_scaled\n",
       "0           -1.31               -1.38"
      ]
     },
     "execution_count": 2,
     "metadata": {},
     "output_type": "execute_result"
    }
   ],
   "source": [
    "# read the data\n",
    "dfq1 = pd.read_csv(\"companies.csv\")\n",
    "\n",
    "# fit with StandardScaler to standardize\n",
    "scaler = StandardScaler()\n",
    "scaler.fit(dfq1[['employees', 'revenue_usd']])\n",
    "\n",
    "# Now we can standardize the data using the transform method.\n",
    "new_data = pd.DataFrame({'employees':[448], 'revenue_usd':[958447]})\n",
    "\n",
    "# Make the new datapoint into a new 1-row dataframe and then transform!\n",
    "standardized_data = scaler.transform(new_data)\n",
    "standardized_df = pd.DataFrame(standardized_data, columns=['emplyee scaled', 'revenue_usd_scaled'])\n",
    "np.round(standardized_df, 2)    "
   ]
  },
  {
   "cell_type": "markdown",
   "metadata": {},
   "source": [
    "---\n",
    "**Problem 2.** Read the data in `companies_extended.csv`. Now run PCA on this dataset, first with 4 components, and then with 2 components. **Is the first Principal Component same for both of these runs?**\n",
    "<br>\n",
    "\n",
    "To check if they are same, we can just subtract the two vectors and take the Euclidean norm!\n",
    "\n",
    "`NOTE:` **Skip data standardization for this question**"
   ]
  },
  {
   "cell_type": "code",
   "execution_count": 3,
   "metadata": {},
   "outputs": [
    {
     "data": {
      "text/plain": [
       "0.0"
      ]
     },
     "execution_count": 3,
     "metadata": {},
     "output_type": "execute_result"
    }
   ],
   "source": [
    "### read the data\n",
    "dfq2 = pd.read_csv(\"companies_extended.csv\")\n",
    "\n",
    "### fit PCA with 2 components and get the first Principle Component\n",
    "pca_2 = PCA(n_components=2)\n",
    "pca_2.fit(dfq2)\n",
    "pc1_2 = pca_2.components_[0]\n",
    "\n",
    "### fit PCA with 4 components and get the first Principle Component\n",
    "pca_4 = PCA(n_components=4)\n",
    "pca_4.fit(dfq2)\n",
    "pc1_4 = pca_4.components_[0]\n",
    "\n",
    "### Check if the first PC is same\n",
    "difference = pc1_2 - pc1_4\n",
    "sum_diff = np.sum(difference)\n",
    "sum_diff.item()"
   ]
  },
  {
   "cell_type": "markdown",
   "metadata": {},
   "source": [
    "---\n",
    "**Problem 3.** Read in `companies_extended.csv`. Reduce the number of features/dimensions to `2` , and then apply the Inverse transform to get the data back into original number of dimensions. What is the mean value of the reconstructed `employees` feature (The first column)? <br>\n",
    "\n",
    "*Round the value to two decimal places*\n",
    "\n",
    "`NOTE:` **Skip data standardization for this question**"
   ]
  },
  {
   "cell_type": "code",
   "execution_count": 4,
   "metadata": {},
   "outputs": [
    {
     "data": {
      "text/plain": [
       "1107.15"
      ]
     },
     "execution_count": 4,
     "metadata": {},
     "output_type": "execute_result"
    }
   ],
   "source": [
    "### read the data\n",
    "dfq3 = pd.read_csv(\"companies_extended.csv\")\n",
    "\n",
    "### use PCA to reduce the data from 5-D to 2D\n",
    "pca_2D = PCA(n_components=2)\n",
    "pca_2D.fit(dfq3)\n",
    "pca_2D_data = pca_2D.transform(dfq3)\n",
    "\n",
    "### now use inverse transform to get the data back in 5-D \n",
    "pca_5D = pca_2D.inverse_transform(pca_2D_data)\n",
    "\n",
    "### now report the mean of employee column (The first column)\n",
    "mean_employee_reconstructed = pca_5D[:, 0].mean()\n",
    "round(mean_employee_reconstructed.item(), 2)"
   ]
  },
  {
   "cell_type": "code",
   "execution_count": null,
   "metadata": {},
   "outputs": [],
   "source": []
  }
 ],
 "metadata": {
  "kernelspec": {
   "display_name": "Python 3",
   "language": "python",
   "name": "python3"
  },
  "language_info": {
   "codemirror_mode": {
    "name": "ipython",
    "version": 3
   },
   "file_extension": ".py",
   "mimetype": "text/x-python",
   "name": "python",
   "nbconvert_exporter": "python",
   "pygments_lexer": "ipython3",
   "version": "3.10.7"
  }
 },
 "nbformat": 4,
 "nbformat_minor": 4
}
