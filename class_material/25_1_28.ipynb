{
 "cells": [
  {
   "cell_type": "code",
   "execution_count": 1,
   "metadata": {},
   "outputs": [
    {
     "name": "stdout",
     "output_type": "stream",
     "text": [
      "Time for average function: 0.00045950000640004873 seconds\n",
      "Time for direct calculation: 4.600000102072954e-05 seconds\n"
     ]
    }
   ],
   "source": [
    "import timeit\n",
    "\n",
    "def average(a,b):\n",
    "    avg = (a + b)/2\n",
    "    return avg \n",
    "\n",
    "time_function = timeit.timeit(\"average(6889, 9888)\", globals=globals(), number = 10000)\n",
    "time_direct = timeit.timeit(\"(6889 + 9888)/2\", number = 10000)\n",
    "\n",
    "print(f\"Time for average function: {time_function} seconds\")\n",
    "print(f\"Time for direct calculation: {time_direct} seconds\")"
   ]
  },
  {
   "cell_type": "code",
   "execution_count": 2,
   "metadata": {},
   "outputs": [
    {
     "data": {
      "text/plain": [
       "2"
      ]
     },
     "execution_count": 2,
     "metadata": {},
     "output_type": "execute_result"
    }
   ],
   "source": [
    "apples = ['cortland', 'gala', 'opal']\n",
    "oranges = ['tangerine', 'clementine']\n",
    "fruits = [apples, oranges]\n",
    "length = len(fruits)\n",
    "length"
   ]
  },
  {
   "cell_type": "code",
   "execution_count": 3,
   "metadata": {},
   "outputs": [
    {
     "name": "stdout",
     "output_type": "stream",
     "text": [
      "([0, 1, 2, 3, 5], 4)\n"
     ]
    }
   ],
   "source": [
    "a = ([0, 1, 2, 3], 4) \n",
    "a[0].append(5)\n",
    "print(a)"
   ]
  },
  {
   "cell_type": "code",
   "execution_count": 4,
   "metadata": {},
   "outputs": [
    {
     "data": {
      "text/plain": [
       "True"
      ]
     },
     "execution_count": 4,
     "metadata": {},
     "output_type": "execute_result"
    }
   ],
   "source": [
    "a = (4, 3, 2, 1)\n",
    "b = (1, 2, 3, 4)\n",
    "result = a == b[::-1]\n",
    "result"
   ]
  },
  {
   "cell_type": "code",
   "execution_count": 10,
   "metadata": {},
   "outputs": [
    {
     "ename": "TypeError",
     "evalue": "unsupported operand type(s) for +: 'int' and 'str'",
     "output_type": "error",
     "traceback": [
      "\u001b[0;31m---------------------------------------------------------------------------\u001b[0m",
      "\u001b[0;31mTypeError\u001b[0m                                 Traceback (most recent call last)",
      "Cell \u001b[0;32mIn[10], line 2\u001b[0m\n\u001b[1;32m      1\u001b[0m l2 \u001b[38;5;241m=\u001b[39m [\u001b[38;5;241m1\u001b[39m, \u001b[38;5;241m2\u001b[39m, \u001b[38;5;124m'\u001b[39m\u001b[38;5;124ma\u001b[39m\u001b[38;5;124m'\u001b[39m, \u001b[38;5;124m'\u001b[39m\u001b[38;5;124mb\u001b[39m\u001b[38;5;124m'\u001b[39m]\n\u001b[0;32m----> 2\u001b[0m val \u001b[38;5;241m=\u001b[39m \u001b[38;5;28msum\u001b[39m(l2) \u001b[38;5;241m*\u001b[39m l2\n\u001b[1;32m      3\u001b[0m val\n",
      "\u001b[0;31mTypeError\u001b[0m: unsupported operand type(s) for +: 'int' and 'str'"
     ]
    }
   ],
   "source": [
    "l2 = [1, 2, 'a', 'b']\n",
    "val = sum(l2) * l2\n",
    "val"
   ]
  },
  {
   "cell_type": "code",
   "execution_count": null,
   "metadata": {},
   "outputs": [],
   "source": []
  }
 ],
 "metadata": {
  "kernelspec": {
   "display_name": "base",
   "language": "python",
   "name": "python3"
  },
  "language_info": {
   "codemirror_mode": {
    "name": "ipython",
    "version": 3
   },
   "file_extension": ".py",
   "mimetype": "text/x-python",
   "name": "python",
   "nbconvert_exporter": "python",
   "pygments_lexer": "ipython3",
   "version": "3.11.5"
  }
 },
 "nbformat": 4,
 "nbformat_minor": 2
}
