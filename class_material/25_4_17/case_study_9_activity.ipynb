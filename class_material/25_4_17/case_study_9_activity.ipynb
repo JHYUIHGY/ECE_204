{
 "cells": [
  {
   "cell_type": "markdown",
   "metadata": {},
   "source": [
    "# Case Study 9: Autoregression (Activity)\n",
    "## ECE204 Data Science & Engineering"
   ]
  },
  {
   "cell_type": "markdown",
   "metadata": {},
   "source": [
    "### Import Statements"
   ]
  },
  {
   "cell_type": "code",
   "execution_count": 1,
   "metadata": {},
   "outputs": [],
   "source": [
    "# Add any import statments you need here\n",
    "from sklearn.metrics import mean_squared_error\n",
    "from statsmodels.tsa.ar_model import AutoReg\n",
    "import pandas as pd\n",
    "import numpy as np"
   ]
  },
  {
   "cell_type": "markdown",
   "metadata": {},
   "source": [
    "### In-Class Activity\n",
    "#### Please first read the questions in the in-class activity, where the questions are there in detail. This is just a starter notebook."
   ]
  },
  {
   "cell_type": "code",
   "execution_count": 2,
   "metadata": {},
   "outputs": [
    {
     "data": {
      "text/html": [
       "<div>\n",
       "<style scoped>\n",
       "    .dataframe tbody tr th:only-of-type {\n",
       "        vertical-align: middle;\n",
       "    }\n",
       "\n",
       "    .dataframe tbody tr th {\n",
       "        vertical-align: top;\n",
       "    }\n",
       "\n",
       "    .dataframe thead th {\n",
       "        text-align: right;\n",
       "    }\n",
       "</style>\n",
       "<table border=\"1\" class=\"dataframe\">\n",
       "  <thead>\n",
       "    <tr style=\"text-align: right;\">\n",
       "      <th></th>\n",
       "      <th>min_temp</th>\n",
       "    </tr>\n",
       "  </thead>\n",
       "  <tbody>\n",
       "    <tr>\n",
       "      <th>1990-12-27</th>\n",
       "      <td>14.0</td>\n",
       "    </tr>\n",
       "    <tr>\n",
       "      <th>1990-12-28</th>\n",
       "      <td>13.6</td>\n",
       "    </tr>\n",
       "    <tr>\n",
       "      <th>1990-12-29</th>\n",
       "      <td>13.5</td>\n",
       "    </tr>\n",
       "    <tr>\n",
       "      <th>1990-12-30</th>\n",
       "      <td>15.7</td>\n",
       "    </tr>\n",
       "    <tr>\n",
       "      <th>1990-12-31</th>\n",
       "      <td>13.0</td>\n",
       "    </tr>\n",
       "  </tbody>\n",
       "</table>\n",
       "</div>"
      ],
      "text/plain": [
       "            min_temp\n",
       "1990-12-27      14.0\n",
       "1990-12-28      13.6\n",
       "1990-12-29      13.5\n",
       "1990-12-30      15.7\n",
       "1990-12-31      13.0"
      ]
     },
     "execution_count": 2,
     "metadata": {},
     "output_type": "execute_result"
    }
   ],
   "source": [
    "df  = pd.read_csv(\"daily-min-temp-melb.csv\", index_col=0, parse_dates=True)\n",
    "\n",
    "# fill in missing values\n",
    "idx = pd.date_range('1981-01-01', '1990-12-31')\n",
    "df = df.reindex(idx)\n",
    "df.bfill(inplace=True)\n",
    "\n",
    "df.tail()"
   ]
  },
  {
   "cell_type": "markdown",
   "metadata": {},
   "source": [
    "---\n",
    "**Problem 1.** In this question, your task is to fit an AR model using the same dataset and training data as before (1981-01-01 to 1990-12-24). Then, you have to forecast for the period of same testing data (1990-12-25 to 1990-12-31) choosing a value of `lags` that corresponds to using a maximum of `5` past observations. **Find the \"Mean squared error\" between the predicted values and the true minimum temperature values for the testing period.** Report your answer rounded to 2 decimal places."
   ]
  },
  {
   "cell_type": "code",
   "execution_count": 3,
   "metadata": {
    "scrolled": true
   },
   "outputs": [
    {
     "name": "stdout",
     "output_type": "stream",
     "text": [
      "1990-12-25    11.091799\n",
      "1990-12-26    11.818449\n",
      "1990-12-27    11.926953\n",
      "1990-12-28    11.892508\n",
      "1990-12-29    11.493351\n",
      "1990-12-30    11.433394\n",
      "1990-12-31    11.517292\n",
      "Freq: D, dtype: float64 1990-12-25    12.9\n",
      "1990-12-26    14.6\n",
      "1990-12-27    14.0\n",
      "1990-12-28    13.6\n",
      "1990-12-29    13.5\n",
      "1990-12-30    15.7\n",
      "1990-12-31    13.0\n",
      "Freq: D, Name: min_temp, dtype: float64\n"
     ]
    },
    {
     "data": {
      "text/plain": [
       "6.09"
      ]
     },
     "execution_count": 3,
     "metadata": {},
     "output_type": "execute_result"
    }
   ],
   "source": [
    "df_train = df.loc[:'1990-12-24']\n",
    "df_test = df.loc['1990-12-25':]\n",
    "\n",
    "model = AutoReg(df_train.min_temp, lags=5)\n",
    "model_fit = model.fit()\n",
    "\n",
    "start = len(df_train)\n",
    "end = start + len(df_test) - 1\n",
    "pred = model_fit.predict(start=start, end=end)\n",
    "print(pred, df_test.min_temp)\n",
    "\n",
    "mse = mean_squared_error(df_test.min_temp, pred)\n",
    "round(mse, 2)"
   ]
  },
  {
   "cell_type": "markdown",
   "metadata": {},
   "source": [
    "---\n",
    "**Problem 2.** In the case study, we forecasted minimum temperature values for 7 days (1990-12-25 to 1990-12-31) ahead from the last date in the training period (1981-01-01 to 1990-12-24). Suppose you want to get predictions on the **5th of January 1991** using a `lags = 365` and the whole dataset. What value of minimum temperature is predicted using this AR model? Report your answer rounded to 2 decimal places.\n",
    "\n",
    "**Hint:** The \"start\" and \"end\" parameters in the .predict() method might be useful. The \"start\" parameter should be the end of the training set."
   ]
  },
  {
   "cell_type": "code",
   "execution_count": 4,
   "metadata": {
    "scrolled": true
   },
   "outputs": [
    {
     "data": {
      "text/plain": [
       "1991-01-01    14.09\n",
       "1991-01-02    14.57\n",
       "1991-01-03    14.33\n",
       "1991-01-04    14.19\n",
       "1991-01-05    14.42\n",
       "Freq: D, dtype: float64"
      ]
     },
     "execution_count": 4,
     "metadata": {},
     "output_type": "execute_result"
    }
   ],
   "source": [
    "# print(df_train.isna().sum())\n",
    "\n",
    "model_1 = AutoReg(df.min_temp, lags=365)\n",
    "model_1_fit = model_1.fit()\n",
    "\n",
    "start = len(df)\n",
    "# print(start)\n",
    "end = start + 4\n",
    "predict = model_1_fit.predict(start=start, end=end)\n",
    "\n",
    "round(predict, 2)"
   ]
  }
 ],
 "metadata": {
  "kernelspec": {
   "display_name": "Python 3",
   "language": "python",
   "name": "python3"
  },
  "language_info": {
   "codemirror_mode": {
    "name": "ipython",
    "version": 3
   },
   "file_extension": ".py",
   "mimetype": "text/x-python",
   "name": "python",
   "nbconvert_exporter": "python",
   "pygments_lexer": "ipython3",
   "version": "3.10.11"
  }
 },
 "nbformat": 4,
 "nbformat_minor": 4
}
