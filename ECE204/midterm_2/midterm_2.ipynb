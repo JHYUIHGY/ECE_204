{
 "cells": [
  {
   "cell_type": "markdown",
   "metadata": {},
   "source": [
    "# ECE 204: Midterm 1 (Fall 2022)"
   ]
  },
  {
   "cell_type": "markdown",
   "metadata": {},
   "source": [
    "## Item 2: Lightning Questions"
   ]
  },
  {
   "cell_type": "markdown",
   "metadata": {},
   "source": [
    "Please add/delete cells as necessary below to answer the questions in this item."
   ]
  },
  {
   "cell_type": "code",
   "execution_count": 33,
   "metadata": {},
   "outputs": [
    {
     "data": {
      "text/plain": [
       "[2, 5, 4, 9]"
      ]
     },
     "execution_count": 33,
     "metadata": {},
     "output_type": "execute_result"
    }
   ],
   "source": [
    "mylist = [2,3,5,7,4,6,9,1]\n",
    "mylist[::2]"
   ]
  },
  {
   "cell_type": "code",
   "execution_count": null,
   "metadata": {},
   "outputs": [],
   "source": []
  },
  {
   "cell_type": "code",
   "execution_count": null,
   "metadata": {},
   "outputs": [],
   "source": []
  },
  {
   "cell_type": "code",
   "execution_count": null,
   "metadata": {},
   "outputs": [],
   "source": []
  },
  {
   "cell_type": "code",
   "execution_count": null,
   "metadata": {},
   "outputs": [],
   "source": []
  },
  {
   "cell_type": "markdown",
   "metadata": {},
   "source": [
    "## Item 3: Bird Strikes"
   ]
  },
  {
   "cell_type": "code",
   "execution_count": 34,
   "metadata": {},
   "outputs": [
    {
     "name": "stdout",
     "output_type": "stream",
     "text": [
      "Intel MKL WARNING: Support of Intel(R) Streaming SIMD Extensions 4.2 (Intel(R) SSE4.2) enabled only processors has been deprecated. Intel oneAPI Math Kernel Library 2025.0 will require Intel(R) Advanced Vector Extensions (Intel(R) AVX) instructions.\n",
      "Intel MKL WARNING: Support of Intel(R) Streaming SIMD Extensions 4.2 (Intel(R) SSE4.2) enabled only processors has been deprecated. Intel oneAPI Math Kernel Library 2025.0 will require Intel(R) Advanced Vector Extensions (Intel(R) AVX) instructions.\n"
     ]
    },
    {
     "data": {
      "text/html": [
       "<div>\n",
       "<style scoped>\n",
       "    .dataframe tbody tr th:only-of-type {\n",
       "        vertical-align: middle;\n",
       "    }\n",
       "\n",
       "    .dataframe tbody tr th {\n",
       "        vertical-align: top;\n",
       "    }\n",
       "\n",
       "    .dataframe thead th {\n",
       "        text-align: right;\n",
       "    }\n",
       "</style>\n",
       "<table border=\"1\" class=\"dataframe\">\n",
       "  <thead>\n",
       "    <tr style=\"text-align: right;\">\n",
       "      <th></th>\n",
       "      <th>Date</th>\n",
       "      <th>Airline</th>\n",
       "      <th>OriginState</th>\n",
       "      <th>TimeOfDay</th>\n",
       "      <th>Speed</th>\n",
       "    </tr>\n",
       "  </thead>\n",
       "  <tbody>\n",
       "    <tr>\n",
       "      <th>0</th>\n",
       "      <td>1/8/90</td>\n",
       "      <td>MILITARY</td>\n",
       "      <td>Louisiana</td>\n",
       "      <td>Day</td>\n",
       "      <td>304</td>\n",
       "    </tr>\n",
       "    <tr>\n",
       "      <th>1</th>\n",
       "      <td>1/9/90</td>\n",
       "      <td>MILITARY</td>\n",
       "      <td>Louisiana</td>\n",
       "      <td>Night</td>\n",
       "      <td>209</td>\n",
       "    </tr>\n",
       "    <tr>\n",
       "      <th>2</th>\n",
       "      <td>1/11/90</td>\n",
       "      <td>MILITARY</td>\n",
       "      <td>Louisiana</td>\n",
       "      <td>Day</td>\n",
       "      <td>137</td>\n",
       "    </tr>\n",
       "    <tr>\n",
       "      <th>3</th>\n",
       "      <td>1/11/90</td>\n",
       "      <td>SOUTHWEST AIRLINES</td>\n",
       "      <td>Louisiana</td>\n",
       "      <td>Day</td>\n",
       "      <td>148</td>\n",
       "    </tr>\n",
       "    <tr>\n",
       "      <th>4</th>\n",
       "      <td>1/12/90</td>\n",
       "      <td>MILITARY</td>\n",
       "      <td>Louisiana</td>\n",
       "      <td>Day</td>\n",
       "      <td>164</td>\n",
       "    </tr>\n",
       "  </tbody>\n",
       "</table>\n",
       "</div>"
      ],
      "text/plain": [
       "      Date             Airline OriginState TimeOfDay  Speed\n",
       "0   1/8/90            MILITARY   Louisiana       Day    304\n",
       "1   1/9/90            MILITARY   Louisiana     Night    209\n",
       "2  1/11/90            MILITARY   Louisiana       Day    137\n",
       "3  1/11/90  SOUTHWEST AIRLINES   Louisiana       Day    148\n",
       "4  1/12/90            MILITARY   Louisiana       Day    164"
      ]
     },
     "execution_count": 34,
     "metadata": {},
     "output_type": "execute_result"
    }
   ],
   "source": [
    "import pandas as pd\n",
    "df_birds = pd.read_csv('bird_strikes.csv')\n",
    "df_birds.head()"
   ]
  },
  {
   "cell_type": "markdown",
   "metadata": {},
   "source": [
    "Please add/delete cells as necessary below to answer the questions in this item."
   ]
  },
  {
   "cell_type": "code",
   "execution_count": 35,
   "metadata": {},
   "outputs": [
    {
     "data": {
      "text/plain": [
       "Text(0, 0.5, 'Frequency')"
      ]
     },
     "execution_count": 35,
     "metadata": {},
     "output_type": "execute_result"
    },
    {
     "data": {
      "image/png": "[encoded data removed]",
      "text/plain": [
       "<Figure size 640x480 with 1 Axes>"
      ]
     },
     "metadata": {},
     "output_type": "display_data"
    }
   ],
   "source": [
    "df = df_birds[\"Speed\"]\n",
    "\n",
    "ax = df.plot.hist(bins=25, ec='black',grid = True, title = \"Speed of aircraft in knots \")\n",
    "ax.set_xlabel('Speed bins')\n",
    "ax.set_ylabel('Frequency')"
   ]
  },
  {
   "cell_type": "markdown",
   "metadata": {},
   "source": [
    "## Item 4: Elections"
   ]
  },
  {
   "cell_type": "code",
   "execution_count": 36,
   "metadata": {},
   "outputs": [
    {
     "data": {
      "text/html": [
       "<div>\n",
       "<style scoped>\n",
       "    .dataframe tbody tr th:only-of-type {\n",
       "        vertical-align: middle;\n",
       "    }\n",
       "\n",
       "    .dataframe tbody tr th {\n",
       "        vertical-align: top;\n",
       "    }\n",
       "\n",
       "    .dataframe thead th {\n",
       "        text-align: right;\n",
       "    }\n",
       "</style>\n",
       "<table border=\"1\" class=\"dataframe\">\n",
       "  <thead>\n",
       "    <tr style=\"text-align: right;\">\n",
       "      <th></th>\n",
       "      <th>year</th>\n",
       "      <th>state</th>\n",
       "      <th>state_po</th>\n",
       "      <th>candidate</th>\n",
       "      <th>party</th>\n",
       "      <th>writein</th>\n",
       "      <th>candidatevotes</th>\n",
       "    </tr>\n",
       "  </thead>\n",
       "  <tbody>\n",
       "    <tr>\n",
       "      <th>0</th>\n",
       "      <td>1976</td>\n",
       "      <td>ALABAMA</td>\n",
       "      <td>AL</td>\n",
       "      <td>CARTER, JIMMY</td>\n",
       "      <td>DEMOCRAT</td>\n",
       "      <td>False</td>\n",
       "      <td>659171</td>\n",
       "    </tr>\n",
       "    <tr>\n",
       "      <th>1</th>\n",
       "      <td>1976</td>\n",
       "      <td>ALABAMA</td>\n",
       "      <td>AL</td>\n",
       "      <td>FORD, GERALD</td>\n",
       "      <td>REPUBLICAN</td>\n",
       "      <td>False</td>\n",
       "      <td>504071</td>\n",
       "    </tr>\n",
       "    <tr>\n",
       "      <th>2</th>\n",
       "      <td>1976</td>\n",
       "      <td>ALABAMA</td>\n",
       "      <td>AL</td>\n",
       "      <td>MADDOX, LESTER</td>\n",
       "      <td>AMERICAN INDEPENDENT PARTY</td>\n",
       "      <td>False</td>\n",
       "      <td>9199</td>\n",
       "    </tr>\n",
       "    <tr>\n",
       "      <th>3</th>\n",
       "      <td>1976</td>\n",
       "      <td>ALABAMA</td>\n",
       "      <td>AL</td>\n",
       "      <td>BUBAR, BENJAMIN \"\"BEN\"\"</td>\n",
       "      <td>PROHIBITION</td>\n",
       "      <td>False</td>\n",
       "      <td>6670</td>\n",
       "    </tr>\n",
       "    <tr>\n",
       "      <th>4</th>\n",
       "      <td>1976</td>\n",
       "      <td>ALABAMA</td>\n",
       "      <td>AL</td>\n",
       "      <td>HALL, GUS</td>\n",
       "      <td>COMMUNIST PARTY USE</td>\n",
       "      <td>False</td>\n",
       "      <td>1955</td>\n",
       "    </tr>\n",
       "  </tbody>\n",
       "</table>\n",
       "</div>"
      ],
      "text/plain": [
       "   year    state state_po                candidate  \\\n",
       "0  1976  ALABAMA       AL            CARTER, JIMMY   \n",
       "1  1976  ALABAMA       AL             FORD, GERALD   \n",
       "2  1976  ALABAMA       AL           MADDOX, LESTER   \n",
       "3  1976  ALABAMA       AL  BUBAR, BENJAMIN \"\"BEN\"\"   \n",
       "4  1976  ALABAMA       AL                HALL, GUS   \n",
       "\n",
       "                        party writein  candidatevotes  \n",
       "0                    DEMOCRAT   False          659171  \n",
       "1                  REPUBLICAN   False          504071  \n",
       "2  AMERICAN INDEPENDENT PARTY   False            9199  \n",
       "3                 PROHIBITION   False            6670  \n",
       "4         COMMUNIST PARTY USE   False            1955  "
      ]
     },
     "execution_count": 36,
     "metadata": {},
     "output_type": "execute_result"
    }
   ],
   "source": [
    "import pandas as pd\n",
    "df_all = pd.read_csv('elections.csv')\n",
    "df_all.head()"
   ]
  },
  {
   "cell_type": "markdown",
   "metadata": {},
   "source": [
    "Please add/delete cells as necessary below to answer the questions in this item."
   ]
  },
  {
   "cell_type": "code",
   "execution_count": 37,
   "metadata": {},
   "outputs": [
    {
     "data": {
      "text/html": [
       "<div>\n",
       "<style scoped>\n",
       "    .dataframe tbody tr th:only-of-type {\n",
       "        vertical-align: middle;\n",
       "    }\n",
       "\n",
       "    .dataframe tbody tr th {\n",
       "        vertical-align: top;\n",
       "    }\n",
       "\n",
       "    .dataframe thead th {\n",
       "        text-align: right;\n",
       "    }\n",
       "</style>\n",
       "<table border=\"1\" class=\"dataframe\">\n",
       "  <thead>\n",
       "    <tr style=\"text-align: right;\">\n",
       "      <th></th>\n",
       "      <th>year</th>\n",
       "      <th>state</th>\n",
       "      <th>state_po</th>\n",
       "      <th>candidate</th>\n",
       "      <th>party</th>\n",
       "      <th>writein</th>\n",
       "      <th>candidatevotes</th>\n",
       "    </tr>\n",
       "  </thead>\n",
       "  <tbody>\n",
       "    <tr>\n",
       "      <th>1474</th>\n",
       "      <td>1992</td>\n",
       "      <td>MINNESOTA</td>\n",
       "      <td>MN</td>\n",
       "      <td>CLINTON, BILL</td>\n",
       "      <td>DEMOCRAT</td>\n",
       "      <td>False</td>\n",
       "      <td>1020998</td>\n",
       "    </tr>\n",
       "    <tr>\n",
       "      <th>1475</th>\n",
       "      <td>1992</td>\n",
       "      <td>MINNESOTA</td>\n",
       "      <td>MN</td>\n",
       "      <td>BUSH, GEORGE H.W.</td>\n",
       "      <td>REPUBLICAN</td>\n",
       "      <td>False</td>\n",
       "      <td>747842</td>\n",
       "    </tr>\n",
       "    <tr>\n",
       "      <th>1476</th>\n",
       "      <td>1992</td>\n",
       "      <td>MINNESOTA</td>\n",
       "      <td>MN</td>\n",
       "      <td>PEROT, ROSS</td>\n",
       "      <td>INDEPENDENT</td>\n",
       "      <td>False</td>\n",
       "      <td>562507</td>\n",
       "    </tr>\n",
       "    <tr>\n",
       "      <th>1477</th>\n",
       "      <td>1992</td>\n",
       "      <td>MINNESOTA</td>\n",
       "      <td>MN</td>\n",
       "      <td>MARROU, ANDRE</td>\n",
       "      <td>LIBERTARIAN</td>\n",
       "      <td>False</td>\n",
       "      <td>3375</td>\n",
       "    </tr>\n",
       "    <tr>\n",
       "      <th>1478</th>\n",
       "      <td>1992</td>\n",
       "      <td>MINNESOTA</td>\n",
       "      <td>MN</td>\n",
       "      <td>GRITZ, JAMES \"\"BO\"\"</td>\n",
       "      <td>CONSTITUTION PARTY</td>\n",
       "      <td>False</td>\n",
       "      <td>3364</td>\n",
       "    </tr>\n",
       "    <tr>\n",
       "      <th>1479</th>\n",
       "      <td>1992</td>\n",
       "      <td>MINNESOTA</td>\n",
       "      <td>MN</td>\n",
       "      <td>HERER, JACK</td>\n",
       "      <td>GRASSROOTS</td>\n",
       "      <td>False</td>\n",
       "      <td>2660</td>\n",
       "    </tr>\n",
       "    <tr>\n",
       "      <th>1480</th>\n",
       "      <td>1992</td>\n",
       "      <td>MINNESOTA</td>\n",
       "      <td>MN</td>\n",
       "      <td>NaN</td>\n",
       "      <td>NaN</td>\n",
       "      <td>True</td>\n",
       "      <td>2500</td>\n",
       "    </tr>\n",
       "    <tr>\n",
       "      <th>1481</th>\n",
       "      <td>1992</td>\n",
       "      <td>MINNESOTA</td>\n",
       "      <td>MN</td>\n",
       "      <td>HAGELIN, JOHN</td>\n",
       "      <td>NATURAL LAW</td>\n",
       "      <td>False</td>\n",
       "      <td>1407</td>\n",
       "    </tr>\n",
       "    <tr>\n",
       "      <th>1482</th>\n",
       "      <td>1992</td>\n",
       "      <td>MINNESOTA</td>\n",
       "      <td>MN</td>\n",
       "      <td>WARREN, JAMES \"\"MAC\"\"</td>\n",
       "      <td>SOCIALIST WORKERS</td>\n",
       "      <td>False</td>\n",
       "      <td>991</td>\n",
       "    </tr>\n",
       "    <tr>\n",
       "      <th>1483</th>\n",
       "      <td>1992</td>\n",
       "      <td>MINNESOTA</td>\n",
       "      <td>MN</td>\n",
       "      <td>FULANI, LENORA</td>\n",
       "      <td>NEW ALLIANCE</td>\n",
       "      <td>False</td>\n",
       "      <td>959</td>\n",
       "    </tr>\n",
       "    <tr>\n",
       "      <th>1484</th>\n",
       "      <td>1992</td>\n",
       "      <td>MINNESOTA</td>\n",
       "      <td>MN</td>\n",
       "      <td>PHILLIPS, HOWARD</td>\n",
       "      <td>TAXPAYERS PARTY</td>\n",
       "      <td>False</td>\n",
       "      <td>734</td>\n",
       "    </tr>\n",
       "    <tr>\n",
       "      <th>1485</th>\n",
       "      <td>1992</td>\n",
       "      <td>MINNESOTA</td>\n",
       "      <td>MN</td>\n",
       "      <td>LAROUCHE, LYNDON, JR.</td>\n",
       "      <td>INDEPENDENTS FOR ECONOMIC RECOVERY</td>\n",
       "      <td>False</td>\n",
       "      <td>623</td>\n",
       "    </tr>\n",
       "  </tbody>\n",
       "</table>\n",
       "</div>"
      ],
      "text/plain": [
       "      year      state state_po              candidate  \\\n",
       "1474  1992  MINNESOTA       MN          CLINTON, BILL   \n",
       "1475  1992  MINNESOTA       MN      BUSH, GEORGE H.W.   \n",
       "1476  1992  MINNESOTA       MN            PEROT, ROSS   \n",
       "1477  1992  MINNESOTA       MN          MARROU, ANDRE   \n",
       "1478  1992  MINNESOTA       MN    GRITZ, JAMES \"\"BO\"\"   \n",
       "1479  1992  MINNESOTA       MN            HERER, JACK   \n",
       "1480  1992  MINNESOTA       MN                    NaN   \n",
       "1481  1992  MINNESOTA       MN          HAGELIN, JOHN   \n",
       "1482  1992  MINNESOTA       MN  WARREN, JAMES \"\"MAC\"\"   \n",
       "1483  1992  MINNESOTA       MN         FULANI, LENORA   \n",
       "1484  1992  MINNESOTA       MN       PHILLIPS, HOWARD   \n",
       "1485  1992  MINNESOTA       MN  LAROUCHE, LYNDON, JR.   \n",
       "\n",
       "                                   party writein  candidatevotes  \n",
       "1474                            DEMOCRAT   False         1020998  \n",
       "1475                          REPUBLICAN   False          747842  \n",
       "1476                         INDEPENDENT   False          562507  \n",
       "1477                         LIBERTARIAN   False            3375  \n",
       "1478                  CONSTITUTION PARTY   False            3364  \n",
       "1479                          GRASSROOTS   False            2660  \n",
       "1480                                 NaN    True            2500  \n",
       "1481                         NATURAL LAW   False            1407  \n",
       "1482                   SOCIALIST WORKERS   False             991  \n",
       "1483                        NEW ALLIANCE   False             959  \n",
       "1484                     TAXPAYERS PARTY   False             734  \n",
       "1485  INDEPENDENTS FOR ECONOMIC RECOVERY   False             623  "
      ]
     },
     "execution_count": 37,
     "metadata": {},
     "output_type": "execute_result"
    }
   ],
   "source": [
    "df1 = df_all[df_all[\"state\"] == \"MINNESOTA\"]\n",
    "df2 = df1[df1[\"year\"] == 1992]\n",
    "df2"
   ]
  },
  {
   "cell_type": "code",
   "execution_count": 44,
   "metadata": {},
   "outputs": [
    {
     "data": {
      "text/plain": [
       "Text(24.0, 0.5, 'candidatevotes')"
      ]
     },
     "execution_count": 44,
     "metadata": {},
     "output_type": "execute_result"
    },
    {
     "data": {
      "image/png": "[encoded data removed]",
      "text/plain": [
       "<Figure size 650x400 with 1 Axes>"
      ]
     },
     "metadata": {},
     "output_type": "display_data"
    }
   ],
   "source": [
    "ax1 = df2.plot.bar(x=\"party\", y=\"candidatevotes\", figsize=(6.5,4),rot=90, grid = True, title = \"Votes cast in 1992 in the state of MINNESOTA\")\n",
    "ax.set_xlabel('party')\n",
    "ax.set_ylabel('candidatevotes')"
   ]
  },
  {
   "cell_type": "code",
   "execution_count": 71,
   "metadata": {},
   "outputs": [],
   "source": [
    "\n",
    "\n",
    "def valid(s):\n",
    "    large = 0\n",
    "    middle = 0\n",
    "    small = 0\n",
    "    for l in s:\n",
    "        if (l == \"(\"):\n",
    "            small += 1\n",
    "        if (l == \")\"):\n",
    "            small -= 1\n",
    "        if (l == \"[\"):\n",
    "            middle += 1\n",
    "        if (l == \"]\"):\n",
    "            middle -= 1\n",
    "        if (l == \"{\"):\n",
    "            large += 1\n",
    "        if (l == \"}\"):\n",
    "            large -= 1\n",
    "    print(large,small,middle)\n",
    "\n"
   ]
  },
  {
   "cell_type": "code",
   "execution_count": 72,
   "metadata": {},
   "outputs": [
    {
     "name": "stdout",
     "output_type": "stream",
     "text": [
      "0 0 0\n"
     ]
    }
   ],
   "source": [
    "s1 = 'EVoMaffDn{}eO()b[]Vm()qHgK{}oPitIt{{}}CNc{}CPSjoXtpJcUxs()fIdig{}VrcnH()RBcyQGqImj[C]eGB([])()(b)p()FdHBi[Ev]PcjdKC{[]}b{}K{}xpI{ZK}HfyNxJ[]NZ{}SqQh{{}}'\n",
    "valid(s1)"
   ]
  },
  {
   "cell_type": "code",
   "execution_count": 73,
   "metadata": {},
   "outputs": [
    {
     "name": "stdout",
     "output_type": "stream",
     "text": [
      "0 -2 0\n"
     ]
    }
   ],
   "source": [
    "s2 = 'egc[]aGMgzROGwVvc[{(Y{}{})[(){}V]wJX()}](Kf[F]())m)()l)(W){}DgrFPRMSSr[B]X(y{}{}V)zz{}pZ[]j[]T(({}[]V))gqif()DOhW[()]eptUavfWuM([])WggiZvN{}(q)()Y{}Tq'\n",
    "valid(s2)"
   ]
  },
  {
   "cell_type": "code",
   "execution_count": 74,
   "metadata": {},
   "outputs": [
    {
     "name": "stdout",
     "output_type": "stream",
     "text": [
      "0 0 0\n"
     ]
    }
   ],
   "source": [
    "s3 = 'Z({}){tD{B}{}}EHl[[]x]b[([])c]B{y(Z)}aMWs{}XnTGI([{}h])g{{M}}jGlI[UEz{x}]VNnynXjWczpFl()yWT{{}}()()gVeGhlAq(g{p()}R)j[(((Q{U({}j)(()q[]N{})}())))W{B{M}}]'\n",
    "\n",
    "valid(s3)"
   ]
  },
  {
   "cell_type": "code",
   "execution_count": 1,
   "metadata": {},
   "outputs": [],
   "source": [
    "l1 = [4244530312433166, 40937967176, 193285507610732333145838635, 712066649769401300258, 2, 1230, 9367676476326953763, 426581027718477880074488843607, 3361968689330811120964600127114860714, 157940964738754500327491300544853348193, 871415242, 37284804110243375209310823927144619978, 9664143118, 4114320979130032160060915, 359607300338648395229065958920519, 1188611027608, 9080304536725289625694354943, 6452891178097439379049311979274666, 394845, 7896940157218997793093, 60328080314255562559090238308854364109, 150819, 73828494374523271301274764, 690222601804358220614615539418, 141704841438129202797416, 1672578, 90350075010114, 2464785104328870816547125237093065, 2834135616999800006404595404971085399139, 1621266313070262, 13600, 23043276204012187349779414381709744130, 440081391812757478212, 263641574085880340540126695811, 1, 2143569127066903974389528450, 600271341072744362440739, 3578134018344046609, 5439779608450188369283404709160007570, 10771432163989170972682189, 2542790205729106652560366, 291, 581856834550524675362997773084012, 13181898293171, 2706287, 2, 13, 39682114344946675603, 6657111184859138812621279, 3988106073768568562502186742181601, 5035037111748, 5972768917, 522042717771511576, 54126433058950825773169, 10440997251866007941551498721456264, 18, 33451975320227551251085, 137357766126772115095134144757028, 8405, 1116803629522836100689104383024, 107176989500, 71563659793622357844905429545105304, 55839417242352, 3016362732933718857185, 103889124100530165882, 20040227998231735073875281294641, 11112324624229237, 7419863374032130704271126525480992504213, 66239022323, 115792433905415260427658549668023422, 669048663065261376519276026106558012736, 454009013143, 100702120453282801005764548010, 64207009755583490283, 21328759474594, 280593001321, 3111824069676, 97612884424498937768401062235998984083, 2077810919119377248318804582045146859, 244026, 3, 844682860933674489, 758, 303148527604452878700222528881152140, 76165006056534404, 312742520846941394990402512, 12385542045204479908585912761274, 4, 271985257956643822047, 34510657767762, 1324798577762288851262884797, 199402574609348660, 1751592140032530691461935715538821705937, 25301055147, 14692241368621386425736296638, 22005, 1571530773400925507500552, 28199975512837480757985652, 18549153, 1523320969439697745955061505088537, 3212, 236539567262577, 0, 84891768085104165038797669406471, 6867794311796075, 1284157770211433872645795545069713859, 2211408439638860550, 8801748297780999490248004836274868282, 119457013236209061844563876, 52465998041667950056336475350556, 72, 818770549304615123126643654, 1864214691351560078723, 2623263999362908, 20674457738723274522088, 146189492252463, 187356093699037618272563979213128723, 29092443560254549, 1033712, 619268626777613, 78575465, 173416011821, 5789542457982907159, 23772545905346676051430651580, 16893888429963447320600810700730931, 638866, 8146861181422, 8, 17980118936025313, 471, 87578408379178377024251, 5611936831896096800041941695, 4378863, 38464787273968062477166948215, 15157218934309860921, 4730856092177224743296544227907, 1001997686292650, 45628518861685790543289116, 168096133856113656166, 2923829860850030421992824305465, 1, 48562308, 12777517581504276728998, 413494813902007938423383663325705680465, 734602014465, 506028028457673728136241142, 47072562496279860, 11464007, 7085149, 29, 2281394722, 30013158, 62237333179314738528597599794, 370988091255436782619080, 322640143162162918, 27334885681829455262152309422187191, 1409979481, 255553849163253438095892362780852332276, 490504621303490496972786508094280863, 1807026231327194321303719922443, 4, 229283249817307579821663, 17428543348848309785303463, 793653148907943375673009036975432999, 127137773, 4880577424285278935907, 123237568552814259, 382729059515041, 941464134889173070592063732004530, 12005591131064461402137657645990899609288, 15636912034, 112, 1923213042073, 5196, 32425770043436214982461194055915, 1152148041582158778467, 3468367704829192825652413247, 14241527906231187859531409545434875853, 44228774111792902582753120122918118, 44, 3691374200, 971259432328181145059814, 4585727757032330697866531120509907105075, 205713234, 538564238, 3, 1082543476967269314942659689432263693202, 3, 35606, 1366725578705186062, 1983, 24524895410636814681, 57610, 162939453632597539534362147800, 7654685953027255165289368533369, 332851006, 222249534211876280133931814163496, 93212, 2, 183]"
   ]
  },
  {
   "cell_type": "code",
   "execution_count": 16,
   "metadata": {},
   "outputs": [
    {
     "name": "stdout",
     "output_type": "stream",
     "text": [
      "1152148041582158778467\n",
      "175\n"
     ]
    }
   ],
   "source": [
    "num = 1152148079996158778467\n",
    "difference = 0\n",
    "closet = 0\n",
    "for n in l1:\n",
    "    curr_difference = abs(1152148079996158778467 - n)\n",
    "    if (difference == 0 or curr_difference < difference):\n",
    "        difference = curr_difference\n",
    "        closet = n\n",
    "print(closet)\n",
    "\n",
    "print(l1.index(1152148041582158778467))"
   ]
  },
  {
   "cell_type": "code",
   "execution_count": 27,
   "metadata": {},
   "outputs": [
    {
     "name": "stdout",
     "output_type": "stream",
     "text": [
      "['Learning', 'is', 'a', 'valuable', 'skill', 'that', 'can', 'help', 'us', 'solve', 'complex', 'problems']\n",
      "75827.0\n"
     ]
    }
   ],
   "source": [
    "string = 'Learning is a valuable skill that can help us solve complex problems'\n",
    "l2 = string.split(\" \")\n",
    "count = 0\n",
    "\n",
    "count += 8*7*6*5*4*3*2*1/2\n",
    "count += 2\n",
    "count += 1\n",
    "count += 8*7*6*5*4*3*2*1/4\n",
    "count += 5*4*3*2*1/2\n",
    "count += 4*3*2*1/2\n",
    "count += 3*2*1\n",
    "count += 4*3*2*1\n",
    "count += 2\n",
    "count += 5*4*3*2*1\n",
    "count += 7*6*5*4*3*2*1\n",
    "count += 8*7*6*5*4*3*2*1\n",
    "\n",
    "print(l2)\n",
    "print(count)"
   ]
  },
  {
   "cell_type": "code",
   "execution_count": null,
   "metadata": {},
   "outputs": [],
   "source": []
  },
  {
   "cell_type": "code",
   "execution_count": null,
   "metadata": {},
   "outputs": [],
   "source": []
  }
 ],
 "metadata": {
  "kernelspec": {
   "display_name": "Python 3 (ipykernel)",
   "language": "python",
   "name": "python3"
  },
  "language_info": {
   "codemirror_mode": {
    "name": "ipython",
    "version": 3
   },
   "file_extension": ".py",
   "mimetype": "text/x-python",
   "name": "python",
   "nbconvert_exporter": "python",
   "pygments_lexer": "ipython3",
   "version": "3.11.4"
  }
 },
 "nbformat": 4,
 "nbformat_minor": 2
}
