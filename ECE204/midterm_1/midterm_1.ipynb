{
 "cells": [
  {
   "cell_type": "markdown",
   "metadata": {},
   "source": [
    "# ECE 204: Midterm 1 (Fall 2022)"
   ]
  },
  {
   "cell_type": "markdown",
   "metadata": {},
   "source": [
    "## Item 2: Lightning Questions"
   ]
  },
  {
   "cell_type": "markdown",
   "metadata": {},
   "source": [
    "Please add/delete cells as necessary below to answer the questions in this item."
   ]
  },
  {
   "cell_type": "code",
   "execution_count": null,
   "metadata": {},
   "outputs": [],
   "source": []
  },
  {
   "cell_type": "code",
   "execution_count": 162,
   "metadata": {},
   "outputs": [
    {
     "name": "stdout",
     "output_type": "stream",
     "text": [
      "[3, 0, 1, 2, 3, 0, 1, 2, 3]\n"
     ]
    }
   ],
   "source": [
    "\n",
    "mylist = [0, 1, 2, 3]\n",
    "newlist = [3] +  2 * mylist\n",
    "newlist"
   ]
  },
  {
   "cell_type": "code",
   "execution_count": 220,
   "metadata": {},
   "outputs": [
    {
     "data": {
      "text/plain": [
       "0"
      ]
     },
     "execution_count": 220,
     "metadata": {},
     "output_type": "execute_result"
    }
   ],
   "source": [
    "m, i, d, t, e, r = 2, 0, 4, True, False, True\n",
    "x = d\n",
    "y = i\n",
    "not (i or r // 2) and (x + y)"
   ]
  },
  {
   "cell_type": "code",
   "execution_count": 235,
   "metadata": {},
   "outputs": [
    {
     "data": {
      "text/plain": [
       "0.0"
      ]
     },
     "execution_count": 235,
     "metadata": {},
     "output_type": "execute_result"
    }
   ],
   "source": [
    "num = list(nums)\n",
    "num.remove(max(num))\n",
    "num.remove(max(num))"
   ]
  },
  {
   "cell_type": "code",
   "execution_count": 236,
   "metadata": {},
   "outputs": [
    {
     "data": {
      "text/plain": [
       "1080"
      ]
     },
     "execution_count": 236,
     "metadata": {},
     "output_type": "execute_result"
    }
   ],
   "source": [
    "\n",
    "from functools import reduce\n",
    "import random\n",
    "r = lambda x: random.randint(1, 6)\n",
    "random.seed(2)\n",
    "\n",
    "numbers = [1, 2, 3, 4, 5]\n",
    "numbers += [r(0), r(0), r(0), r(0)] * 2\n",
    "\n",
    "reduce(lambda x, y : x*y, numbers)"
   ]
  },
  {
   "cell_type": "code",
   "execution_count": 237,
   "metadata": {},
   "outputs": [
    {
     "ename": "IndexError",
     "evalue": "list index out of range",
     "output_type": "error",
     "traceback": [
      "\u001b[0;31m---------------------------------------------------------------------------\u001b[0m",
      "\u001b[0;31mIndexError\u001b[0m                                Traceback (most recent call last)",
      "Cell \u001b[0;32mIn[237], line 13\u001b[0m\n\u001b[1;32m     11\u001b[0m i \u001b[38;5;241m=\u001b[39m \u001b[38;5;241m0\u001b[39m\n\u001b[1;32m     12\u001b[0m \u001b[38;5;28;01mwhile\u001b[39;00m (i \u001b[38;5;241m<\u001b[39m \u001b[38;5;241m70\u001b[39m):\n\u001b[0;32m---> 13\u001b[0m     count \u001b[38;5;241m+\u001b[39m\u001b[38;5;241m=\u001b[39m \u001b[43mnums\u001b[49m\u001b[43m[\u001b[49m\u001b[43mi\u001b[49m\u001b[43m]\u001b[49m\n\u001b[1;32m     14\u001b[0m     i \u001b[38;5;241m+\u001b[39m\u001b[38;5;241m=\u001b[39m\u001b[38;5;241m2\u001b[39m\n\u001b[1;32m     16\u001b[0m count\n",
      "\u001b[0;31mIndexError\u001b[0m: list index out of range"
     ]
    }
   ],
   "source": [
    "import random\n",
    "r = lambda _: random.randint(0, 4)\n",
    "s = lambda _: 's' + str(r(0))\n",
    "\n",
    "random.seed(0)\n",
    "nums = [r(0), r(0), r(0), r(0), r(0), r(0), r(0), r(0), r(0), r(0), r(0), r(0), r(0), r(0),\n",
    "        r(0), r(0), r(0), r(0), r(0), r(0), r(0), r(0), r(0), r(0), r(0), r(0), r(0), r(0),\n",
    "        r(0), r(0), r(0), r(0), r(0), r(0), r(0)]\n",
    "sum(nums)\n",
    "count = 0\n",
    "i = 0\n",
    "while (i < 70):\n",
    "    count += nums[i]\n",
    "    i +=2\n",
    "\n",
    "count"
   ]
  },
  {
   "cell_type": "code",
   "execution_count": null,
   "metadata": {},
   "outputs": [],
   "source": [
    "import math\n",
    "\n",
    "def is_perfect_square(x):\n",
    "  root = math.sqrt(x)\n",
    "  return root == int(root)\n",
    "\n",
    "def is_fibonacci(n):\n",
    "  num1 = 5*(n**2) + 4\n",
    "  num2 = 5*(n**2) - 4\n",
    "  return is_perfect_square(num1) or is_perfect_square(num2)\n",
    "\n",
    "numRange1 = range(165580138, 165580148)\n",
    "fibNums1 = filter(lambda x : is_fibonacci(x), numRange1)\n",
    "fibNums1\n",
    "\n",
    "numRange2 = range(4807526973, 4807526978)\n",
    "fibNums2 = filter(lambda x : is_fibonacci(x), numRange2)\n",
    "fibNums2"
   ]
  },
  {
   "cell_type": "markdown",
   "metadata": {},
   "source": [
    "## Item 3: Bird Strikes"
   ]
  },
  {
   "cell_type": "code",
   "execution_count": null,
   "metadata": {},
   "outputs": [
    {
     "data": {
      "text/html": [
       "<div>\n",
       "<style scoped>\n",
       "    .dataframe tbody tr th:only-of-type {\n",
       "        vertical-align: middle;\n",
       "    }\n",
       "\n",
       "    .dataframe tbody tr th {\n",
       "        vertical-align: top;\n",
       "    }\n",
       "\n",
       "    .dataframe thead th {\n",
       "        text-align: right;\n",
       "    }\n",
       "</style>\n",
       "<table border=\"1\" class=\"dataframe\">\n",
       "  <thead>\n",
       "    <tr style=\"text-align: right;\">\n",
       "      <th></th>\n",
       "      <th>Date</th>\n",
       "      <th>Airline</th>\n",
       "      <th>OriginState</th>\n",
       "      <th>TimeOfDay</th>\n",
       "      <th>Speed</th>\n",
       "    </tr>\n",
       "  </thead>\n",
       "  <tbody>\n",
       "    <tr>\n",
       "      <th>0</th>\n",
       "      <td>1/8/90</td>\n",
       "      <td>MILITARY</td>\n",
       "      <td>Louisiana</td>\n",
       "      <td>Day</td>\n",
       "      <td>304</td>\n",
       "    </tr>\n",
       "    <tr>\n",
       "      <th>1</th>\n",
       "      <td>1/9/90</td>\n",
       "      <td>MILITARY</td>\n",
       "      <td>Louisiana</td>\n",
       "      <td>Night</td>\n",
       "      <td>209</td>\n",
       "    </tr>\n",
       "    <tr>\n",
       "      <th>2</th>\n",
       "      <td>1/11/90</td>\n",
       "      <td>MILITARY</td>\n",
       "      <td>Louisiana</td>\n",
       "      <td>Day</td>\n",
       "      <td>137</td>\n",
       "    </tr>\n",
       "    <tr>\n",
       "      <th>3</th>\n",
       "      <td>1/11/90</td>\n",
       "      <td>SOUTHWEST AIRLINES</td>\n",
       "      <td>Louisiana</td>\n",
       "      <td>Day</td>\n",
       "      <td>148</td>\n",
       "    </tr>\n",
       "    <tr>\n",
       "      <th>4</th>\n",
       "      <td>1/12/90</td>\n",
       "      <td>MILITARY</td>\n",
       "      <td>Louisiana</td>\n",
       "      <td>Day</td>\n",
       "      <td>164</td>\n",
       "    </tr>\n",
       "  </tbody>\n",
       "</table>\n",
       "</div>"
      ],
      "text/plain": [
       "      Date             Airline OriginState TimeOfDay  Speed\n",
       "0   1/8/90            MILITARY   Louisiana       Day    304\n",
       "1   1/9/90            MILITARY   Louisiana     Night    209\n",
       "2  1/11/90            MILITARY   Louisiana       Day    137\n",
       "3  1/11/90  SOUTHWEST AIRLINES   Louisiana       Day    148\n",
       "4  1/12/90            MILITARY   Louisiana       Day    164"
      ]
     },
     "execution_count": 163,
     "metadata": {},
     "output_type": "execute_result"
    }
   ],
   "source": [
    "import pandas as pd\n",
    "df_birds = pd.read_csv('bird_strikes.csv')\n",
    "df_birds.head()"
   ]
  },
  {
   "cell_type": "markdown",
   "metadata": {},
   "source": [
    "Please add/delete cells as necessary below to answer the questions in this item."
   ]
  },
  {
   "cell_type": "code",
   "execution_count": null,
   "metadata": {},
   "outputs": [
    {
     "data": {
      "text/html": [
       "<div>\n",
       "<style scoped>\n",
       "    .dataframe tbody tr th:only-of-type {\n",
       "        vertical-align: middle;\n",
       "    }\n",
       "\n",
       "    .dataframe tbody tr th {\n",
       "        vertical-align: top;\n",
       "    }\n",
       "\n",
       "    .dataframe thead th {\n",
       "        text-align: right;\n",
       "    }\n",
       "</style>\n",
       "<table border=\"1\" class=\"dataframe\">\n",
       "  <thead>\n",
       "    <tr style=\"text-align: right;\">\n",
       "      <th></th>\n",
       "      <th>Date</th>\n",
       "      <th>Airline</th>\n",
       "      <th>OriginState</th>\n",
       "      <th>TimeOfDay</th>\n",
       "      <th>Speed</th>\n",
       "    </tr>\n",
       "  </thead>\n",
       "  <tbody>\n",
       "    <tr>\n",
       "      <th>0</th>\n",
       "      <td>1/8/90</td>\n",
       "      <td>MILITARY</td>\n",
       "      <td>Louisiana</td>\n",
       "      <td>Day</td>\n",
       "      <td>304</td>\n",
       "    </tr>\n",
       "    <tr>\n",
       "      <th>1</th>\n",
       "      <td>1/9/90</td>\n",
       "      <td>MILITARY</td>\n",
       "      <td>Louisiana</td>\n",
       "      <td>Night</td>\n",
       "      <td>209</td>\n",
       "    </tr>\n",
       "    <tr>\n",
       "      <th>2</th>\n",
       "      <td>1/11/90</td>\n",
       "      <td>MILITARY</td>\n",
       "      <td>Louisiana</td>\n",
       "      <td>Day</td>\n",
       "      <td>137</td>\n",
       "    </tr>\n",
       "    <tr>\n",
       "      <th>3</th>\n",
       "      <td>1/11/90</td>\n",
       "      <td>SOUTHWEST AIRLINES</td>\n",
       "      <td>Louisiana</td>\n",
       "      <td>Day</td>\n",
       "      <td>148</td>\n",
       "    </tr>\n",
       "    <tr>\n",
       "      <th>4</th>\n",
       "      <td>1/12/90</td>\n",
       "      <td>MILITARY</td>\n",
       "      <td>Louisiana</td>\n",
       "      <td>Day</td>\n",
       "      <td>164</td>\n",
       "    </tr>\n",
       "    <tr>\n",
       "      <th>...</th>\n",
       "      <td>...</td>\n",
       "      <td>...</td>\n",
       "      <td>...</td>\n",
       "      <td>...</td>\n",
       "      <td>...</td>\n",
       "    </tr>\n",
       "    <tr>\n",
       "      <th>7159</th>\n",
       "      <td>7/24/02</td>\n",
       "      <td>FEDEX EXPRESS</td>\n",
       "      <td>Indiana</td>\n",
       "      <td>Night</td>\n",
       "      <td>221</td>\n",
       "    </tr>\n",
       "    <tr>\n",
       "      <th>7160</th>\n",
       "      <td>7/24/02</td>\n",
       "      <td>AMERICAN AIRLINES</td>\n",
       "      <td>Texas</td>\n",
       "      <td>Day</td>\n",
       "      <td>253</td>\n",
       "    </tr>\n",
       "    <tr>\n",
       "      <th>7161</th>\n",
       "      <td>7/24/02</td>\n",
       "      <td>AMERICAN AIRLINES</td>\n",
       "      <td>Colorado</td>\n",
       "      <td>Day</td>\n",
       "      <td>129</td>\n",
       "    </tr>\n",
       "    <tr>\n",
       "      <th>7162</th>\n",
       "      <td>7/25/02</td>\n",
       "      <td>MILITARY</td>\n",
       "      <td>Louisiana</td>\n",
       "      <td>Day</td>\n",
       "      <td>112</td>\n",
       "    </tr>\n",
       "    <tr>\n",
       "      <th>7163</th>\n",
       "      <td>7/25/02</td>\n",
       "      <td>TRANS STATES AIRLINES</td>\n",
       "      <td>Pennsylvania</td>\n",
       "      <td>Day</td>\n",
       "      <td>140</td>\n",
       "    </tr>\n",
       "  </tbody>\n",
       "</table>\n",
       "<p>7164 rows × 5 columns</p>\n",
       "</div>"
      ],
      "text/plain": [
       "         Date                Airline   OriginState TimeOfDay  Speed\n",
       "0      1/8/90               MILITARY     Louisiana       Day    304\n",
       "1      1/9/90               MILITARY     Louisiana     Night    209\n",
       "2     1/11/90               MILITARY     Louisiana       Day    137\n",
       "3     1/11/90     SOUTHWEST AIRLINES     Louisiana       Day    148\n",
       "4     1/12/90               MILITARY     Louisiana       Day    164\n",
       "...       ...                    ...           ...       ...    ...\n",
       "7159  7/24/02          FEDEX EXPRESS       Indiana     Night    221\n",
       "7160  7/24/02      AMERICAN AIRLINES         Texas       Day    253\n",
       "7161  7/24/02      AMERICAN AIRLINES      Colorado       Day    129\n",
       "7162  7/25/02               MILITARY     Louisiana       Day    112\n",
       "7163  7/25/02  TRANS STATES AIRLINES  Pennsylvania       Day    140\n",
       "\n",
       "[7164 rows x 5 columns]"
      ]
     },
     "execution_count": 164,
     "metadata": {},
     "output_type": "execute_result"
    }
   ],
   "source": [
    "df_birds\n"
   ]
  },
  {
   "cell_type": "code",
   "execution_count": null,
   "metadata": {},
   "outputs": [
    {
     "data": {
      "text/plain": [
       "Date                     11/2/90\n",
       "Airline        AMERICAN AIRLINES\n",
       "OriginState           California\n",
       "TimeOfDay                   Dawn\n",
       "Speed                        155\n",
       "Name: 353, dtype: object"
      ]
     },
     "execution_count": 165,
     "metadata": {},
     "output_type": "execute_result"
    }
   ],
   "source": [
    "df_birds.iloc[353]"
   ]
  },
  {
   "cell_type": "code",
   "execution_count": null,
   "metadata": {},
   "outputs": [
    {
     "data": {
      "text/html": [
       "<div>\n",
       "<style scoped>\n",
       "    .dataframe tbody tr th:only-of-type {\n",
       "        vertical-align: middle;\n",
       "    }\n",
       "\n",
       "    .dataframe tbody tr th {\n",
       "        vertical-align: top;\n",
       "    }\n",
       "\n",
       "    .dataframe thead th {\n",
       "        text-align: right;\n",
       "    }\n",
       "</style>\n",
       "<table border=\"1\" class=\"dataframe\">\n",
       "  <thead>\n",
       "    <tr style=\"text-align: right;\">\n",
       "      <th></th>\n",
       "      <th>Date</th>\n",
       "      <th>Airline</th>\n",
       "      <th>OriginState</th>\n",
       "      <th>TimeOfDay</th>\n",
       "      <th>Speed</th>\n",
       "    </tr>\n",
       "  </thead>\n",
       "  <tbody>\n",
       "    <tr>\n",
       "      <th>22</th>\n",
       "      <td>4/16/90</td>\n",
       "      <td>MILITARY</td>\n",
       "      <td>Louisiana</td>\n",
       "      <td>Dawn</td>\n",
       "      <td>151</td>\n",
       "    </tr>\n",
       "    <tr>\n",
       "      <th>28</th>\n",
       "      <td>4/23/90</td>\n",
       "      <td>MILITARY</td>\n",
       "      <td>Louisiana</td>\n",
       "      <td>Dawn</td>\n",
       "      <td>197</td>\n",
       "    </tr>\n",
       "    <tr>\n",
       "      <th>103</th>\n",
       "      <td>6/18/90</td>\n",
       "      <td>AMERICA WEST AIRLINES</td>\n",
       "      <td>Massachusetts</td>\n",
       "      <td>Dawn</td>\n",
       "      <td>133</td>\n",
       "    </tr>\n",
       "    <tr>\n",
       "      <th>132</th>\n",
       "      <td>7/11/90</td>\n",
       "      <td>DELTA AIR LINES</td>\n",
       "      <td>Georgia</td>\n",
       "      <td>Dawn</td>\n",
       "      <td>138</td>\n",
       "    </tr>\n",
       "    <tr>\n",
       "      <th>134</th>\n",
       "      <td>7/13/90</td>\n",
       "      <td>ALOHA AIRLINES</td>\n",
       "      <td>Hawaii</td>\n",
       "      <td>Dawn</td>\n",
       "      <td>91</td>\n",
       "    </tr>\n",
       "    <tr>\n",
       "      <th>...</th>\n",
       "      <td>...</td>\n",
       "      <td>...</td>\n",
       "      <td>...</td>\n",
       "      <td>...</td>\n",
       "      <td>...</td>\n",
       "    </tr>\n",
       "    <tr>\n",
       "      <th>7072</th>\n",
       "      <td>6/25/02</td>\n",
       "      <td>DELTA AIR LINES</td>\n",
       "      <td>Ohio</td>\n",
       "      <td>Dawn</td>\n",
       "      <td>165</td>\n",
       "    </tr>\n",
       "    <tr>\n",
       "      <th>7089</th>\n",
       "      <td>7/3/02</td>\n",
       "      <td>TRANS WORLD AIRLINES</td>\n",
       "      <td>California</td>\n",
       "      <td>Dawn</td>\n",
       "      <td>158</td>\n",
       "    </tr>\n",
       "    <tr>\n",
       "      <th>7101</th>\n",
       "      <td>7/8/02</td>\n",
       "      <td>SOUTHWEST AIRLINES</td>\n",
       "      <td>Oregon</td>\n",
       "      <td>Dawn</td>\n",
       "      <td>145</td>\n",
       "    </tr>\n",
       "    <tr>\n",
       "      <th>7102</th>\n",
       "      <td>7/8/02</td>\n",
       "      <td>MILITARY</td>\n",
       "      <td>South Carolina</td>\n",
       "      <td>Dawn</td>\n",
       "      <td>140</td>\n",
       "    </tr>\n",
       "    <tr>\n",
       "      <th>7149</th>\n",
       "      <td>7/22/02</td>\n",
       "      <td>TRANS STATES AIRLINES</td>\n",
       "      <td>Pennsylvania</td>\n",
       "      <td>Dawn</td>\n",
       "      <td>124</td>\n",
       "    </tr>\n",
       "  </tbody>\n",
       "</table>\n",
       "<p>315 rows × 5 columns</p>\n",
       "</div>"
      ],
      "text/plain": [
       "         Date                Airline     OriginState TimeOfDay  Speed\n",
       "22    4/16/90               MILITARY       Louisiana      Dawn    151\n",
       "28    4/23/90               MILITARY       Louisiana      Dawn    197\n",
       "103   6/18/90  AMERICA WEST AIRLINES   Massachusetts      Dawn    133\n",
       "132   7/11/90        DELTA AIR LINES         Georgia      Dawn    138\n",
       "134   7/13/90         ALOHA AIRLINES          Hawaii      Dawn     91\n",
       "...       ...                    ...             ...       ...    ...\n",
       "7072  6/25/02        DELTA AIR LINES            Ohio      Dawn    165\n",
       "7089   7/3/02   TRANS WORLD AIRLINES      California      Dawn    158\n",
       "7101   7/8/02     SOUTHWEST AIRLINES          Oregon      Dawn    145\n",
       "7102   7/8/02               MILITARY  South Carolina      Dawn    140\n",
       "7149  7/22/02  TRANS STATES AIRLINES    Pennsylvania      Dawn    124\n",
       "\n",
       "[315 rows x 5 columns]"
      ]
     },
     "execution_count": 166,
     "metadata": {},
     "output_type": "execute_result"
    }
   ],
   "source": [
    "\n",
    "dawn = (df_birds[df_birds['TimeOfDay'] == 'Dawn'])\n",
    "dawn"
   ]
  },
  {
   "cell_type": "code",
   "execution_count": null,
   "metadata": {},
   "outputs": [
    {
     "data": {
      "text/plain": [
       "158.48394751535454"
      ]
     },
     "execution_count": 167,
     "metadata": {},
     "output_type": "execute_result"
    }
   ],
   "source": [
    "\n",
    "mean = df_birds['Speed'].mean()\n",
    "median = df_birds['Speed'].median()\n",
    "\n",
    "mean\n"
   ]
  },
  {
   "cell_type": "code",
   "execution_count": null,
   "metadata": {},
   "outputs": [
    {
     "data": {
      "text/plain": [
       "147.0"
      ]
     },
     "execution_count": 168,
     "metadata": {},
     "output_type": "execute_result"
    }
   ],
   "source": [
    "median"
   ]
  },
  {
   "cell_type": "markdown",
   "metadata": {},
   "source": [
    "## Item 4: Elections"
   ]
  },
  {
   "cell_type": "code",
   "execution_count": null,
   "metadata": {},
   "outputs": [
    {
     "data": {
      "text/html": [
       "<div>\n",
       "<style scoped>\n",
       "    .dataframe tbody tr th:only-of-type {\n",
       "        vertical-align: middle;\n",
       "    }\n",
       "\n",
       "    .dataframe tbody tr th {\n",
       "        vertical-align: top;\n",
       "    }\n",
       "\n",
       "    .dataframe thead th {\n",
       "        text-align: right;\n",
       "    }\n",
       "</style>\n",
       "<table border=\"1\" class=\"dataframe\">\n",
       "  <thead>\n",
       "    <tr style=\"text-align: right;\">\n",
       "      <th></th>\n",
       "      <th>year</th>\n",
       "      <th>state</th>\n",
       "      <th>state_po</th>\n",
       "      <th>candidate</th>\n",
       "      <th>party</th>\n",
       "      <th>writein</th>\n",
       "      <th>candidatevotes</th>\n",
       "    </tr>\n",
       "  </thead>\n",
       "  <tbody>\n",
       "    <tr>\n",
       "      <th>0</th>\n",
       "      <td>1976</td>\n",
       "      <td>ALABAMA</td>\n",
       "      <td>AL</td>\n",
       "      <td>CARTER, JIMMY</td>\n",
       "      <td>DEMOCRAT</td>\n",
       "      <td>False</td>\n",
       "      <td>659171</td>\n",
       "    </tr>\n",
       "    <tr>\n",
       "      <th>1</th>\n",
       "      <td>1976</td>\n",
       "      <td>ALABAMA</td>\n",
       "      <td>AL</td>\n",
       "      <td>FORD, GERALD</td>\n",
       "      <td>REPUBLICAN</td>\n",
       "      <td>False</td>\n",
       "      <td>504071</td>\n",
       "    </tr>\n",
       "    <tr>\n",
       "      <th>2</th>\n",
       "      <td>1976</td>\n",
       "      <td>ALABAMA</td>\n",
       "      <td>AL</td>\n",
       "      <td>MADDOX, LESTER</td>\n",
       "      <td>AMERICAN INDEPENDENT PARTY</td>\n",
       "      <td>False</td>\n",
       "      <td>9199</td>\n",
       "    </tr>\n",
       "    <tr>\n",
       "      <th>3</th>\n",
       "      <td>1976</td>\n",
       "      <td>ALABAMA</td>\n",
       "      <td>AL</td>\n",
       "      <td>BUBAR, BENJAMIN \"\"BEN\"\"</td>\n",
       "      <td>PROHIBITION</td>\n",
       "      <td>False</td>\n",
       "      <td>6670</td>\n",
       "    </tr>\n",
       "    <tr>\n",
       "      <th>4</th>\n",
       "      <td>1976</td>\n",
       "      <td>ALABAMA</td>\n",
       "      <td>AL</td>\n",
       "      <td>HALL, GUS</td>\n",
       "      <td>COMMUNIST PARTY USE</td>\n",
       "      <td>False</td>\n",
       "      <td>1955</td>\n",
       "    </tr>\n",
       "  </tbody>\n",
       "</table>\n",
       "</div>"
      ],
      "text/plain": [
       "   year    state state_po                candidate  \\\n",
       "0  1976  ALABAMA       AL            CARTER, JIMMY   \n",
       "1  1976  ALABAMA       AL             FORD, GERALD   \n",
       "2  1976  ALABAMA       AL           MADDOX, LESTER   \n",
       "3  1976  ALABAMA       AL  BUBAR, BENJAMIN \"\"BEN\"\"   \n",
       "4  1976  ALABAMA       AL                HALL, GUS   \n",
       "\n",
       "                        party writein  candidatevotes  \n",
       "0                    DEMOCRAT   False          659171  \n",
       "1                  REPUBLICAN   False          504071  \n",
       "2  AMERICAN INDEPENDENT PARTY   False            9199  \n",
       "3                 PROHIBITION   False            6670  \n",
       "4         COMMUNIST PARTY USE   False            1955  "
      ]
     },
     "execution_count": 169,
     "metadata": {},
     "output_type": "execute_result"
    }
   ],
   "source": [
    "import pandas as pd\n",
    "df_all = pd.read_csv('elections.csv')\n",
    "df_all.head()"
   ]
  },
  {
   "cell_type": "markdown",
   "metadata": {},
   "source": [
    "Please add/delete cells as necessary below to answer the questions in this item."
   ]
  },
  {
   "cell_type": "code",
   "execution_count": null,
   "metadata": {},
   "outputs": [
    {
     "data": {
      "text/html": [
       "<div>\n",
       "<style scoped>\n",
       "    .dataframe tbody tr th:only-of-type {\n",
       "        vertical-align: middle;\n",
       "    }\n",
       "\n",
       "    .dataframe tbody tr th {\n",
       "        vertical-align: top;\n",
       "    }\n",
       "\n",
       "    .dataframe thead th {\n",
       "        text-align: right;\n",
       "    }\n",
       "</style>\n",
       "<table border=\"1\" class=\"dataframe\">\n",
       "  <thead>\n",
       "    <tr style=\"text-align: right;\">\n",
       "      <th></th>\n",
       "      <th>year</th>\n",
       "      <th>state</th>\n",
       "      <th>state_po</th>\n",
       "      <th>candidate</th>\n",
       "      <th>party</th>\n",
       "      <th>writein</th>\n",
       "      <th>candidatevotes</th>\n",
       "    </tr>\n",
       "  </thead>\n",
       "  <tbody>\n",
       "    <tr>\n",
       "      <th>1019</th>\n",
       "      <td>1988</td>\n",
       "      <td>ALABAMA</td>\n",
       "      <td>AL</td>\n",
       "      <td>BUSH, GEORGE H.W.</td>\n",
       "      <td>REPUBLICAN</td>\n",
       "      <td>False</td>\n",
       "      <td>815577</td>\n",
       "    </tr>\n",
       "    <tr>\n",
       "      <th>1020</th>\n",
       "      <td>1988</td>\n",
       "      <td>ALABAMA</td>\n",
       "      <td>AL</td>\n",
       "      <td>DUKAKIS, MICHAEL</td>\n",
       "      <td>DEMOCRAT</td>\n",
       "      <td>False</td>\n",
       "      <td>549507</td>\n",
       "    </tr>\n",
       "    <tr>\n",
       "      <th>1021</th>\n",
       "      <td>1988</td>\n",
       "      <td>ALABAMA</td>\n",
       "      <td>AL</td>\n",
       "      <td>PAUL, RONALD \"\"RON\"\"</td>\n",
       "      <td>LIBERTARIAN</td>\n",
       "      <td>False</td>\n",
       "      <td>8461</td>\n",
       "    </tr>\n",
       "    <tr>\n",
       "      <th>1022</th>\n",
       "      <td>1988</td>\n",
       "      <td>ALABAMA</td>\n",
       "      <td>AL</td>\n",
       "      <td>WINN, EDWARD</td>\n",
       "      <td>INDEPENDENT</td>\n",
       "      <td>False</td>\n",
       "      <td>4429</td>\n",
       "    </tr>\n",
       "    <tr>\n",
       "      <th>1023</th>\n",
       "      <td>1988</td>\n",
       "      <td>ALABAMA</td>\n",
       "      <td>AL</td>\n",
       "      <td>NaN</td>\n",
       "      <td>NaN</td>\n",
       "      <td>True</td>\n",
       "      <td>507</td>\n",
       "    </tr>\n",
       "    <tr>\n",
       "      <th>...</th>\n",
       "      <td>...</td>\n",
       "      <td>...</td>\n",
       "      <td>...</td>\n",
       "      <td>...</td>\n",
       "      <td>...</td>\n",
       "      <td>...</td>\n",
       "      <td>...</td>\n",
       "    </tr>\n",
       "    <tr>\n",
       "      <th>1299</th>\n",
       "      <td>1988</td>\n",
       "      <td>WISCONSIN</td>\n",
       "      <td>WI</td>\n",
       "      <td>SCATTERING</td>\n",
       "      <td>NaN</td>\n",
       "      <td>False</td>\n",
       "      <td>2274</td>\n",
       "    </tr>\n",
       "    <tr>\n",
       "      <th>1300</th>\n",
       "      <td>1988</td>\n",
       "      <td>WYOMING</td>\n",
       "      <td>WY</td>\n",
       "      <td>BUSH, GEORGE H.W.</td>\n",
       "      <td>REPUBLICAN</td>\n",
       "      <td>False</td>\n",
       "      <td>106868</td>\n",
       "    </tr>\n",
       "    <tr>\n",
       "      <th>1301</th>\n",
       "      <td>1988</td>\n",
       "      <td>WYOMING</td>\n",
       "      <td>WY</td>\n",
       "      <td>DUKAKIS, MICHAEL</td>\n",
       "      <td>DEMOCRAT</td>\n",
       "      <td>False</td>\n",
       "      <td>67114</td>\n",
       "    </tr>\n",
       "    <tr>\n",
       "      <th>1302</th>\n",
       "      <td>1988</td>\n",
       "      <td>WYOMING</td>\n",
       "      <td>WY</td>\n",
       "      <td>PAUL, RONALD \"\"RON\"\"</td>\n",
       "      <td>LIBERTARIAN</td>\n",
       "      <td>False</td>\n",
       "      <td>2027</td>\n",
       "    </tr>\n",
       "    <tr>\n",
       "      <th>1303</th>\n",
       "      <td>1988</td>\n",
       "      <td>WYOMING</td>\n",
       "      <td>WY</td>\n",
       "      <td>FULANI, LENORA</td>\n",
       "      <td>NEW ALLIANCE</td>\n",
       "      <td>False</td>\n",
       "      <td>546</td>\n",
       "    </tr>\n",
       "  </tbody>\n",
       "</table>\n",
       "<p>285 rows × 7 columns</p>\n",
       "</div>"
      ],
      "text/plain": [
       "      year      state state_po             candidate         party writein  \\\n",
       "1019  1988    ALABAMA       AL     BUSH, GEORGE H.W.    REPUBLICAN   False   \n",
       "1020  1988    ALABAMA       AL      DUKAKIS, MICHAEL      DEMOCRAT   False   \n",
       "1021  1988    ALABAMA       AL  PAUL, RONALD \"\"RON\"\"   LIBERTARIAN   False   \n",
       "1022  1988    ALABAMA       AL          WINN, EDWARD   INDEPENDENT   False   \n",
       "1023  1988    ALABAMA       AL                   NaN           NaN    True   \n",
       "...    ...        ...      ...                   ...           ...     ...   \n",
       "1299  1988  WISCONSIN       WI            SCATTERING           NaN   False   \n",
       "1300  1988    WYOMING       WY     BUSH, GEORGE H.W.    REPUBLICAN   False   \n",
       "1301  1988    WYOMING       WY      DUKAKIS, MICHAEL      DEMOCRAT   False   \n",
       "1302  1988    WYOMING       WY  PAUL, RONALD \"\"RON\"\"   LIBERTARIAN   False   \n",
       "1303  1988    WYOMING       WY        FULANI, LENORA  NEW ALLIANCE   False   \n",
       "\n",
       "      candidatevotes  \n",
       "1019          815577  \n",
       "1020          549507  \n",
       "1021            8461  \n",
       "1022            4429  \n",
       "1023             507  \n",
       "...              ...  \n",
       "1299            2274  \n",
       "1300          106868  \n",
       "1301           67114  \n",
       "1302            2027  \n",
       "1303             546  \n",
       "\n",
       "[285 rows x 7 columns]"
      ]
     },
     "execution_count": 170,
     "metadata": {},
     "output_type": "execute_result"
    }
   ],
   "source": [
    "df_year = (df_all[df_all['year'] == 1988])\n",
    "df_year\n"
   ]
  },
  {
   "cell_type": "code",
   "execution_count": null,
   "metadata": {},
   "outputs": [
    {
     "data": {
      "text/plain": [
       "91587110"
      ]
     },
     "execution_count": 171,
     "metadata": {},
     "output_type": "execute_result"
    }
   ],
   "source": [
    "total_votes = df_year['candidatevotes'].sum()\n",
    "total_votes"
   ]
  },
  {
   "cell_type": "code",
   "execution_count": null,
   "metadata": {},
   "outputs": [
    {
     "data": {
      "text/plain": [
       "10523"
      ]
     },
     "execution_count": 172,
     "metadata": {},
     "output_type": "execute_result"
    }
   ],
   "source": [
    "total_writein = (df_year[df_year['writein'] == True])[\"candidatevotes\"]\n",
    "\n",
    "sum(total_writein)"
   ]
  },
  {
   "cell_type": "code",
   "execution_count": null,
   "metadata": {},
   "outputs": [
    {
     "data": {
      "text/html": [
       "<div>\n",
       "<style scoped>\n",
       "    .dataframe tbody tr th:only-of-type {\n",
       "        vertical-align: middle;\n",
       "    }\n",
       "\n",
       "    .dataframe tbody tr th {\n",
       "        vertical-align: top;\n",
       "    }\n",
       "\n",
       "    .dataframe thead th {\n",
       "        text-align: right;\n",
       "    }\n",
       "</style>\n",
       "<table border=\"1\" class=\"dataframe\">\n",
       "  <thead>\n",
       "    <tr style=\"text-align: right;\">\n",
       "      <th></th>\n",
       "      <th>year</th>\n",
       "      <th>state</th>\n",
       "      <th>state_po</th>\n",
       "      <th>candidate</th>\n",
       "      <th>party</th>\n",
       "      <th>writein</th>\n",
       "      <th>candidatevotes</th>\n",
       "    </tr>\n",
       "  </thead>\n",
       "  <tbody>\n",
       "    <tr>\n",
       "      <th>1041</th>\n",
       "      <td>1988</td>\n",
       "      <td>CALIFORNIA</td>\n",
       "      <td>CA</td>\n",
       "      <td>BUSH, GEORGE H.W.</td>\n",
       "      <td>REPUBLICAN</td>\n",
       "      <td>False</td>\n",
       "      <td>5054918</td>\n",
       "    </tr>\n",
       "    <tr>\n",
       "      <th>1042</th>\n",
       "      <td>1988</td>\n",
       "      <td>CALIFORNIA</td>\n",
       "      <td>CA</td>\n",
       "      <td>DUKAKIS, MICHAEL</td>\n",
       "      <td>DEMOCRAT</td>\n",
       "      <td>False</td>\n",
       "      <td>4702234</td>\n",
       "    </tr>\n",
       "    <tr>\n",
       "      <th>1043</th>\n",
       "      <td>1988</td>\n",
       "      <td>CALIFORNIA</td>\n",
       "      <td>CA</td>\n",
       "      <td>PAUL, RONALD \"\"RON\"\"</td>\n",
       "      <td>LIBERTARIAN</td>\n",
       "      <td>False</td>\n",
       "      <td>70106</td>\n",
       "    </tr>\n",
       "    <tr>\n",
       "      <th>1044</th>\n",
       "      <td>1988</td>\n",
       "      <td>CALIFORNIA</td>\n",
       "      <td>CA</td>\n",
       "      <td>FULANI, LENORA</td>\n",
       "      <td>INDEPENDENT</td>\n",
       "      <td>False</td>\n",
       "      <td>59000</td>\n",
       "    </tr>\n",
       "    <tr>\n",
       "      <th>1045</th>\n",
       "      <td>1988</td>\n",
       "      <td>CALIFORNIA</td>\n",
       "      <td>CA</td>\n",
       "      <td>NaN</td>\n",
       "      <td>NaN</td>\n",
       "      <td>True</td>\n",
       "      <td>812</td>\n",
       "    </tr>\n",
       "  </tbody>\n",
       "</table>\n",
       "</div>"
      ],
      "text/plain": [
       "      year       state state_po             candidate        party writein  \\\n",
       "1041  1988  CALIFORNIA       CA     BUSH, GEORGE H.W.   REPUBLICAN   False   \n",
       "1042  1988  CALIFORNIA       CA      DUKAKIS, MICHAEL     DEMOCRAT   False   \n",
       "1043  1988  CALIFORNIA       CA  PAUL, RONALD \"\"RON\"\"  LIBERTARIAN   False   \n",
       "1044  1988  CALIFORNIA       CA        FULANI, LENORA  INDEPENDENT   False   \n",
       "1045  1988  CALIFORNIA       CA                   NaN          NaN    True   \n",
       "\n",
       "      candidatevotes  \n",
       "1041         5054918  \n",
       "1042         4702234  \n",
       "1043           70106  \n",
       "1044           59000  \n",
       "1045             812  "
      ]
     },
     "execution_count": 173,
     "metadata": {},
     "output_type": "execute_result"
    }
   ],
   "source": [
    "df_year_state = df_year[df_year['state'] == \"CALIFORNIA\"]\n",
    "df_year_state"
   ]
  },
  {
   "cell_type": "code",
   "execution_count": null,
   "metadata": {},
   "outputs": [],
   "source": []
  }
 ],
 "metadata": {
  "kernelspec": {
   "display_name": "Python 3 (ipykernel)",
   "language": "python",
   "name": "python3"
  },
  "language_info": {
   "codemirror_mode": {
    "name": "ipython",
    "version": 3
   },
   "file_extension": ".py",
   "mimetype": "text/x-python",
   "name": "python",
   "nbconvert_exporter": "python",
   "pygments_lexer": "ipython3",
   "version": "3.11.4"
  }
 },
 "nbformat": 4,
 "nbformat_minor": 2
}
