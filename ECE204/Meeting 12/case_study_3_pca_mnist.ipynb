{
 "cells": [
  {
   "cell_type": "markdown",
   "metadata": {
    "id": "kj1MFuBiWzTJ"
   },
   "source": [
    "# **PCA with MNIST**\n",
    "## ECE204 Data Science & Engineering\n",
    "\n",
    "Let's investigate a real world example of PCA with the [MNIST digits dataset][mnist]. This is a very popular dataset that looks like:\n",
    "\n",
    "![](https://upload.wikimedia.org/wikipedia/commons/2/27/MnistExamples.png)\n",
    "\n",
    "[mnist]:https://en.wikipedia.org/wiki/MNIST_database\n",
    "\n",
    "This is a very simple dataset. **How good is PCA at finding the components that best describe this dataset?**"
   ]
  },
  {
   "cell_type": "markdown",
   "metadata": {
    "id": "b93R582LWzTJ"
   },
   "source": [
    "### Data"
   ]
  },
  {
   "cell_type": "code",
   "execution_count": 1,
   "metadata": {
    "id": "rUxt8lzwWzTJ"
   },
   "outputs": [
    {
     "name": "stdout",
     "output_type": "stream",
     "text": [
      "Intel MKL WARNING: Support of Intel(R) Streaming SIMD Extensions 4.2 (Intel(R) SSE4.2) enabled only processors has been deprecated. Intel oneAPI Math Kernel Library 2025.0 will require Intel(R) Advanced Vector Extensions (Intel(R) AVX) instructions.\n",
      "Intel MKL WARNING: Support of Intel(R) Streaming SIMD Extensions 4.2 (Intel(R) SSE4.2) enabled only processors has been deprecated. Intel oneAPI Math Kernel Library 2025.0 will require Intel(R) Advanced Vector Extensions (Intel(R) AVX) instructions.\n"
     ]
    }
   ],
   "source": [
    "import numpy as np\n",
    "import pandas as pd\n"
   ]
  },
  {
   "cell_type": "code",
   "execution_count": 6,
   "metadata": {
    "id": "ThRuai-4XN_5"
   },
   "outputs": [],
   "source": [
    "data = np.load(\"mnist.npz\")\n",
    "X = data[\"X\"]\n",
    "labels = data[\"y\"]"
   ]
  },
  {
   "cell_type": "markdown",
   "metadata": {
    "id": "6b4VW8RFWzTK"
   },
   "source": [
    "This data is 70,000 images, each of which are 28x28, or have 784 pixels each. The rows are concatenated to conform with \"tidy\" data, which is what Scikit-Learn expects:"
   ]
  },
  {
   "cell_type": "code",
   "execution_count": 7,
   "metadata": {
    "colab": {
     "base_uri": "https://localhost:8080/"
    },
    "id": "CZpNPFZiWzTK",
    "outputId": "f636ff73-caa3-4b5e-d810-bb49cbc37e2a"
   },
   "outputs": [
    {
     "data": {
      "text/plain": [
       "(70000, 784)"
      ]
     },
     "execution_count": 7,
     "metadata": {},
     "output_type": "execute_result"
    }
   ],
   "source": [
    "X.shape"
   ]
  },
  {
   "cell_type": "markdown",
   "metadata": {
    "id": "-LQobwySWzTK"
   },
   "source": [
    "These images are 28 x 28 images, which means that there are 784 pixel values for each image. Each row of X has 784 numbers (which is 28x28)"
   ]
  },
  {
   "cell_type": "code",
   "execution_count": 8,
   "metadata": {
    "colab": {
     "base_uri": "https://localhost:8080/"
    },
    "id": "wnK2_Dl1WzTL",
    "outputId": "f8d7c199-14a9-4513-c8a7-f836073a23dd"
   },
   "outputs": [
    {
     "data": {
      "text/plain": [
       "array([[  0,   0,   0,   0,   0,   0,   0,   0,   0,   0,   0,   0,   0,   0,   0,   0,   0,   0,   0,   0,   0,   0,   0,   0,   0,   0,   0,   0],\n",
       "       [  0,   0,   0,   0,   0,   0,   0,   0,   0,   0,   0,   0,   0,   0,   0,   0,   0,   0,   0,   0,   0,   0,   0,   0,   0,   0,   0,   0],\n",
       "       [  0,   0,   0,   0,   0,   0,   0,   0,   0,   0,   0,   0,   0,   0,   0,   0,   0,   0,   0,   0,   0,   0,   0,   0,   0,   0,   0,   0],\n",
       "       [  0,   0,   0,   0,   0,   0,   0,   0,   0,   0,   0,   0,   0,   0,   0,   0,   0,   0,   0,   0,   0,   0,   0,   0,   0,   0,   0,   0],\n",
       "       [  0,   0,   0,   0,   0,   0,   0,   0,   0,   0,   0,   0,   0,   0,   0,   0,   0,   0,   0,   0,   0,   0,   0,   0,   0,   0,   0,   0],\n",
       "       [  0,   0,   0,   0,   0,   0,   0,   0,   0,   0,   0,   0,   0,   0,   0,  13,  25, 100, 122,   7,   0,   0,   0,   0,   0,   0,   0,   0],\n",
       "       [  0,   0,   0,   0,   0,   0,   0,   0,   0,   0,   0,   0,   0,  33, 151, 208, 252, 252, 252, 146,   0,   0,   0,   0,   0,   0,   0,   0],\n",
       "       [  0,   0,   0,   0,   0,   0,   0,   0,   0,   0,   0,  40, 152, 244, 252, 253, 224, 211, 252, 232,  40,   0,   0,   0,   0,   0,   0,   0],\n",
       "       [  0,   0,   0,   0,   0,   0,   0,   0,   0,  15, 152, 239, 252, 252, 252, 216,  31,  37, 252, 252,  60,   0,   0,   0,   0,   0,   0,   0],\n",
       "       [  0,   0,   0,   0,   0,   0,   0,   0,   0,  96, 252, 252, 252, 252, 217,  29,   0,  37, 252, 252,  60,   0,   0,   0,   0,   0,   0,   0],\n",
       "       [  0,   0,   0,   0,   0,   0,   0,   0,   0, 181, 252, 252, 220, 167,  30,   0,   0,  77, 252, 252,  60,   0,   0,   0,   0,   0,   0,   0],\n",
       "       [  0,   0,   0,   0,   0,   0,   0,   0,   0,  26, 128,  58,  22,   0,   0,   0,   0, 100, 252, 252,  60,   0,   0,   0,   0,   0,   0,   0],\n",
       "       [  0,   0,   0,   0,   0,   0,   0,   0,   0,   0,   0,   0,   0,   0,   0,   0,   0, 157, 252, 252,  60,   0,   0,   0,   0,   0,   0,   0],\n",
       "       [  0,   0,   0,   0,   0,   0,   0,   0,   0,   0,   0,   0,   0, 110, 121, 122, 121, 202, 252, 194,   3,   0,   0,   0,   0,   0,   0,   0],\n",
       "       [  0,   0,   0,   0,   0,   0,   0,   0,   0,   0,  10,  53, 179, 253, 253, 255, 253, 253, 228,  35,   0,   0,   0,   0,   0,   0,   0,   0],\n",
       "       [  0,   0,   0,   0,   0,   0,   0,   0,   5,  54, 227, 252, 243, 228, 170, 242, 252, 252, 231, 117,   6,   0,   0,   0,   0,   0,   0,   0],\n",
       "       [  0,   0,   0,   0,   0,   0,   0,   6,  78, 252, 252, 125,  59,   0,  18, 208, 252, 252, 252, 252,  87,   7,   0,   0,   0,   0,   0,   0],\n",
       "       [  0,   0,   0,   0,   0,   0,   5, 135, 252, 252, 180,  16,   0,  21, 203, 253, 247, 129, 173, 252, 252, 184,  66,  49,  49,   0,   0,   0],\n",
       "       [  0,   0,   0,   0,   0,   3, 136, 252, 241, 106,  17,   0,  53, 200, 252, 216,  65,   0,  14,  72, 163, 241, 252, 252, 223,   0,   0,   0],\n",
       "       [  0,   0,   0,   0,   0, 105, 252, 242,  88,  18,  73, 170, 244, 252, 126,  29,   0,   0,   0,   0,   0,  89, 180, 180,  37,   0,   0,   0],\n",
       "       [  0,   0,   0,   0,   0, 231, 252, 245, 205, 216, 252, 252, 252, 124,   3,   0,   0,   0,   0,   0,   0,   0,   0,   0,   0,   0,   0,   0],\n",
       "       [  0,   0,   0,   0,   0, 207, 252, 252, 252, 252, 178, 116,  36,   4,   0,   0,   0,   0,   0,   0,   0,   0,   0,   0,   0,   0,   0,   0],\n",
       "       [  0,   0,   0,   0,   0,  13,  93, 143, 121,  23,   6,   0,   0,   0,   0,   0,   0,   0,   0,   0,   0,   0,   0,   0,   0,   0,   0,   0],\n",
       "       [  0,   0,   0,   0,   0,   0,   0,   0,   0,   0,   0,   0,   0,   0,   0,   0,   0,   0,   0,   0,   0,   0,   0,   0,   0,   0,   0,   0],\n",
       "       [  0,   0,   0,   0,   0,   0,   0,   0,   0,   0,   0,   0,   0,   0,   0,   0,   0,   0,   0,   0,   0,   0,   0,   0,   0,   0,   0,   0],\n",
       "       [  0,   0,   0,   0,   0,   0,   0,   0,   0,   0,   0,   0,   0,   0,   0,   0,   0,   0,   0,   0,   0,   0,   0,   0,   0,   0,   0,   0],\n",
       "       [  0,   0,   0,   0,   0,   0,   0,   0,   0,   0,   0,   0,   0,   0,   0,   0,   0,   0,   0,   0,   0,   0,   0,   0,   0,   0,   0,   0],\n",
       "       [  0,   0,   0,   0,   0,   0,   0,   0,   0,   0,   0,   0,   0,   0,   0,   0,   0,   0,   0,   0,   0,   0,   0,   0,   0,   0,   0,   0]], dtype=uint8)"
      ]
     },
     "execution_count": 8,
     "metadata": {},
     "output_type": "execute_result"
    }
   ],
   "source": [
    "# visualize one of the digits (reshape to 28x28)\n",
    "np.set_printoptions(linewidth=300)\n",
    "X[5].reshape(28,28)"
   ]
  },
  {
   "cell_type": "code",
   "execution_count": null,
   "metadata": {
    "id": "C__GjIRsWzTM"
   },
   "outputs": [],
   "source": [
    "labels.shape"
   ]
  },
  {
   "cell_type": "markdown",
   "metadata": {
    "id": "8dGOsgPPWzTM"
   },
   "source": [
    "Let's better visulize this as an image. To do this, matplotlib will need to be imported (Pandas plotting is a wrapper around matplotlib):"
   ]
  },
  {
   "cell_type": "code",
   "execution_count": 10,
   "metadata": {
    "colab": {
     "base_uri": "https://localhost:8080/",
     "height": 265
    },
    "id": "VzylAC6eWzTM",
    "outputId": "631b5272-9ecb-4bf1-e94e-8ff9c8c3e6be"
   },
   "outputs": [
    {
     "data": {
      "image/png": "[encoded data removed]",
      "text/plain": [
       "<Figure size 640x480 with 1 Axes>"
      ]
     },
     "metadata": {},
     "output_type": "display_data"
    }
   ],
   "source": [
    "import matplotlib.pyplot as plt\n",
    "\n",
    "plt.imshow(X[5].reshape(28,28), cmap='gray_r');"
   ]
  },
  {
   "cell_type": "markdown",
   "metadata": {
    "id": "eLwKTqZ9WzTM"
   },
   "source": [
    "Let's visualize a random selection of images:"
   ]
  },
  {
   "cell_type": "code",
   "execution_count": 11,
   "metadata": {
    "colab": {
     "base_uri": "https://localhost:8080/",
     "height": 366
    },
    "id": "-NtNfq3SWzTN",
    "outputId": "2030ab7d-34e1-4b4c-cb85-3f88c457d887"
   },
   "outputs": [
    {
     "data": {
      "image/png": "[encoded data removed]",
      "text/plain": [
       "<Figure size 800x600 with 24 Axes>"
      ]
     },
     "metadata": {},
     "output_type": "display_data"
    }
   ],
   "source": [
    "# create a d1 x d2 grid of subplots\n",
    "rows, cols = 4, 6\n",
    "fig, axs = plt.subplots(nrows=rows, ncols=cols, figsize=(8,6))\n",
    "\n",
    "for i in range(rows):\n",
    "    for j in range(cols):\n",
    "    \n",
    "        # pick an image at random\n",
    "        k = np.random.randint(len(labels))\n",
    "\n",
    "        # reshape the image\n",
    "        img = X[k].reshape(28,28)\n",
    "        label = labels[k]\n",
    "\n",
    "        # plot the image\n",
    "        axs[i,j].imshow(img, cmap='gray_r')\n",
    "        axs[i,j].set_title(str(label))\n",
    "        axs[i,j].axis('off')"
   ]
  },
  {
   "cell_type": "markdown",
   "metadata": {
    "id": "qjH3yp3yWzTN"
   },
   "source": [
    "Running this cell multiple times will show different images because no random seed is set."
   ]
  },
  {
   "cell_type": "markdown",
   "metadata": {
    "id": "oJhOWjTUWzTN"
   },
   "source": [
    "This data is complicated because the handwritten numbers...\n",
    "\n",
    "* are in different places\n",
    "* are of different widths\n",
    "* have different shapes\n",
    "\n",
    "This prompts a couple questions:\n",
    "\n",
    "1. How many dimensions are required to effectively code this data?\n",
    "2. How good is that embedding?"
   ]
  },
  {
   "cell_type": "markdown",
   "metadata": {
    "id": "pbQtUGTkWzTN"
   },
   "source": [
    "# How many dimensions are needed?\n",
    "\n",
    "Specifically, how many dimensions are needed to explain 90% of the variance? This will look at the standard deviation of the same pixel in different images. However, there's no control on image location: the handwriting can appear anywhere. **Why should the standard deviation of the same pixel in different images mean anything?**\n",
    "\n",
    "This can be found by passing computing all the principal components, then using the `explained_variance_ratio_` attribute."
   ]
  },
  {
   "cell_type": "code",
   "execution_count": 3,
   "metadata": {
    "id": "-Dq4EJEPWzTN"
   },
   "outputs": [],
   "source": [
    "from sklearn.decomposition import PCA\n",
    "embedding = PCA()"
   ]
  },
  {
   "cell_type": "markdown",
   "metadata": {
    "id": "b5Md9rBZWzTN"
   },
   "source": [
    "We *could* say \"explain 90% of the variance\", but let's look at *all* data PCA has to offer and make sure that 0.90 is a good value.\n",
    "\n",
    "The [Scikit-Learn PCA documentation][pca] explains that when `PCA()` is called with no arguments, it computes *all* the principal components.\n",
    "\n",
    "[pca]:https://scikit-learn.org/stable/modules/generated/sklearn.decomposition.PCA.html#sklearn.decomposition.PCA"
   ]
  },
  {
   "cell_type": "code",
   "execution_count": 12,
   "metadata": {
    "colab": {
     "base_uri": "https://localhost:8080/"
    },
    "id": "asZ2gf8vWzTO",
    "outputId": "dd8baaa2-39ae-4624-a1d6-9409adac5bc8"
   },
   "outputs": [
    {
     "data": {
      "text/html": [
       "<style>#sk-container-id-1 {color: black;background-color: white;}#sk-container-id-1 pre{padding: 0;}#sk-container-id-1 div.sk-toggleable {background-color: white;}#sk-container-id-1 label.sk-toggleable__label {cursor: pointer;display: block;width: 100%;margin-bottom: 0;padding: 0.3em;box-sizing: border-box;text-align: center;}#sk-container-id-1 label.sk-toggleable__label-arrow:before {content: \"▸\";float: left;margin-right: 0.25em;color: #696969;}#sk-container-id-1 label.sk-toggleable__label-arrow:hover:before {color: black;}#sk-container-id-1 div.sk-estimator:hover label.sk-toggleable__label-arrow:before {color: black;}#sk-container-id-1 div.sk-toggleable__content {max-height: 0;max-width: 0;overflow: hidden;text-align: left;background-color: #f0f8ff;}#sk-container-id-1 div.sk-toggleable__content pre {margin: 0.2em;color: black;border-radius: 0.25em;background-color: #f0f8ff;}#sk-container-id-1 input.sk-toggleable__control:checked~div.sk-toggleable__content {max-height: 200px;max-width: 100%;overflow: auto;}#sk-container-id-1 input.sk-toggleable__control:checked~label.sk-toggleable__label-arrow:before {content: \"▾\";}#sk-container-id-1 div.sk-estimator input.sk-toggleable__control:checked~label.sk-toggleable__label {background-color: #d4ebff;}#sk-container-id-1 div.sk-label input.sk-toggleable__control:checked~label.sk-toggleable__label {background-color: #d4ebff;}#sk-container-id-1 input.sk-hidden--visually {border: 0;clip: rect(1px 1px 1px 1px);clip: rect(1px, 1px, 1px, 1px);height: 1px;margin: -1px;overflow: hidden;padding: 0;position: absolute;width: 1px;}#sk-container-id-1 div.sk-estimator {font-family: monospace;background-color: #f0f8ff;border: 1px dotted black;border-radius: 0.25em;box-sizing: border-box;margin-bottom: 0.5em;}#sk-container-id-1 div.sk-estimator:hover {background-color: #d4ebff;}#sk-container-id-1 div.sk-parallel-item::after {content: \"\";width: 100%;border-bottom: 1px solid gray;flex-grow: 1;}#sk-container-id-1 div.sk-label:hover label.sk-toggleable__label {background-color: #d4ebff;}#sk-container-id-1 div.sk-serial::before {content: \"\";position: absolute;border-left: 1px solid gray;box-sizing: border-box;top: 0;bottom: 0;left: 50%;z-index: 0;}#sk-container-id-1 div.sk-serial {display: flex;flex-direction: column;align-items: center;background-color: white;padding-right: 0.2em;padding-left: 0.2em;position: relative;}#sk-container-id-1 div.sk-item {position: relative;z-index: 1;}#sk-container-id-1 div.sk-parallel {display: flex;align-items: stretch;justify-content: center;background-color: white;position: relative;}#sk-container-id-1 div.sk-item::before, #sk-container-id-1 div.sk-parallel-item::before {content: \"\";position: absolute;border-left: 1px solid gray;box-sizing: border-box;top: 0;bottom: 0;left: 50%;z-index: -1;}#sk-container-id-1 div.sk-parallel-item {display: flex;flex-direction: column;z-index: 1;position: relative;background-color: white;}#sk-container-id-1 div.sk-parallel-item:first-child::after {align-self: flex-end;width: 50%;}#sk-container-id-1 div.sk-parallel-item:last-child::after {align-self: flex-start;width: 50%;}#sk-container-id-1 div.sk-parallel-item:only-child::after {width: 0;}#sk-container-id-1 div.sk-dashed-wrapped {border: 1px dashed gray;margin: 0 0.4em 0.5em 0.4em;box-sizing: border-box;padding-bottom: 0.4em;background-color: white;}#sk-container-id-1 div.sk-label label {font-family: monospace;font-weight: bold;display: inline-block;line-height: 1.2em;}#sk-container-id-1 div.sk-label-container {text-align: center;}#sk-container-id-1 div.sk-container {/* jupyter's `normalize.less` sets `[hidden] { display: none; }` but bootstrap.min.css set `[hidden] { display: none !important; }` so we also need the `!important` here to be able to override the default hidden behavior on the sphinx rendered scikit-learn.org. See: https://github.com/scikit-learn/scikit-learn/issues/21755 */display: inline-block !important;position: relative;}#sk-container-id-1 div.sk-text-repr-fallback {display: none;}</style><div id=\"sk-container-id-1\" class=\"sk-top-container\"><div class=\"sk-text-repr-fallback\"><pre>PCA()</pre><b>In a Jupyter environment, please rerun this cell to show the HTML representation or trust the notebook. <br />On GitHub, the HTML representation is unable to render, please try loading this page with nbviewer.org.</b></div><div class=\"sk-container\" hidden><div class=\"sk-item\"><div class=\"sk-estimator sk-toggleable\"><input class=\"sk-toggleable__control sk-hidden--visually\" id=\"sk-estimator-id-1\" type=\"checkbox\" checked><label for=\"sk-estimator-id-1\" class=\"sk-toggleable__label sk-toggleable__label-arrow\">PCA</label><div class=\"sk-toggleable__content\"><pre>PCA()</pre></div></div></div></div></div>"
      ],
      "text/plain": [
       "PCA()"
      ]
     },
     "execution_count": 12,
     "metadata": {},
     "output_type": "execute_result"
    }
   ],
   "source": [
    "embedding.fit(X)"
   ]
  },
  {
   "cell_type": "code",
   "execution_count": 13,
   "metadata": {
    "colab": {
     "base_uri": "https://localhost:8080/"
    },
    "id": "I-Pmr7pHWzTO",
    "outputId": "0f1f4f03-f1ea-4618-d57b-ca74f6e5c3c9"
   },
   "outputs": [
    {
     "data": {
      "text/plain": [
       "dimensions\n",
       "1     0.097461\n",
       "2     0.071554\n",
       "3     0.061495\n",
       "4     0.054034\n",
       "5     0.048889\n",
       "6     0.043052\n",
       "7     0.032783\n",
       "8     0.028896\n",
       "9     0.027584\n",
       "10    0.023421\n",
       "11    0.021067\n",
       "12    0.020376\n",
       "13    0.017071\n",
       "14    0.016940\n",
       "15    0.015834\n",
       "16    0.014863\n",
       "17    0.013194\n",
       "18    0.012790\n",
       "19    0.011873\n",
       "20    0.011529\n",
       "dtype: float64"
      ]
     },
     "execution_count": 13,
     "metadata": {},
     "output_type": "execute_result"
    }
   ],
   "source": [
    "import pandas as pd\n",
    "\n",
    "dims = pd.Index(range(1,785), name=\"dimensions\")\n",
    "dim_explain = pd.Series(embedding.explained_variance_ratio_, index=dims)\n",
    "dim_explain.head(20)"
   ]
  },
  {
   "cell_type": "markdown",
   "metadata": {
    "id": "lz2UQMhnWzTO"
   },
   "source": [
    "This information says \"the 4th principal component explains 5.4% of the variance\", and so on. To see the cumulative effect (variace explained by the first k components combined), where k=1,2,..., we can use the Series `cumsum` method:"
   ]
  },
  {
   "cell_type": "code",
   "execution_count": null,
   "metadata": {
    "colab": {
     "base_uri": "https://localhost:8080/",
     "height": 414
    },
    "id": "0jnJrzYpWzTO",
    "outputId": "b5135cfb-22c2-4985-8e44-d5ec11ef6177"
   },
   "outputs": [],
   "source": [
    "ax = dim_explain.cumsum().plot(grid=True, figsize = (6,6), fontsize = 14)\n",
    "ax.set_ylabel('Fractional Variance Explained', fontsize = 14)\n",
    "ax.set_xlabel('Dimensions', fontsize = 14)\n",
    "ax.set_title('Cumulative Variance vs Dimensions', fontsize = 16);"
   ]
  },
  {
   "cell_type": "markdown",
   "metadata": {
    "id": "lFEHDRonWzTO"
   },
   "source": [
    "Looks like around 100 features are needed in the MNIST dataset to explain 90% of the variance."
   ]
  },
  {
   "cell_type": "markdown",
   "metadata": {
    "id": "z1LtB7j1WzTO"
   },
   "source": [
    "There's another method to find how many principal components explain 90% of the variance:\n",
    "\n",
    "> If called with just a number between 0 and 1, it uses just enough principal components to explain this amount of variance. More information about this in the documentation:\n",
    ">\n",
    "> https://scikit-learn.org/stable/modules/generated/sklearn.decomposition.PCA.html#sklearn.decomposition.PCA\n",
    "\n",
    "Let's use that to explain 90% of the variance for this dataset."
   ]
  },
  {
   "cell_type": "markdown",
   "metadata": {
    "id": "4Sr3tkYvWzTO"
   },
   "source": [
    "# Principal Component Analysis"
   ]
  },
  {
   "cell_type": "code",
   "execution_count": 14,
   "metadata": {
    "id": "ryvqisc7WzTP"
   },
   "outputs": [],
   "source": [
    "embedding = PCA(n_components = 0.90)\n",
    "\n",
    "#For in-class activity:\n",
    "#embedding = PCA(n_components = 2)"
   ]
  },
  {
   "cell_type": "code",
   "execution_count": 15,
   "metadata": {
    "id": "e8vUwfafWzTP"
   },
   "outputs": [],
   "source": [
    "# compressed version of the dataset (reduced dimensions)\n",
    "X_low = embedding.fit_transform(X)"
   ]
  },
  {
   "cell_type": "markdown",
   "metadata": {
    "id": "C_DEs3VLWzTP"
   },
   "source": [
    "Exactly how many principal components were used to explain 90% of the variance?"
   ]
  },
  {
   "cell_type": "code",
   "execution_count": 16,
   "metadata": {
    "colab": {
     "base_uri": "https://localhost:8080/"
    },
    "id": "XObu3w4cWzTP",
    "outputId": "b68d0b8e-a4fc-4251-e2e4-796824920fd4"
   },
   "outputs": [
    {
     "data": {
      "text/plain": [
       "(87, 0.9005229738568303)"
      ]
     },
     "execution_count": 16,
     "metadata": {},
     "output_type": "execute_result"
    }
   ],
   "source": [
    "embedding.n_components_, embedding.explained_variance_ratio_.sum()"
   ]
  },
  {
   "cell_type": "markdown",
   "metadata": {
    "id": "7CsthIulWzTP"
   },
   "source": [
    "Great – 90% of the variance is explained by 87 dimensions."
   ]
  },
  {
   "cell_type": "markdown",
   "metadata": {
    "id": "RxMV3upyWzTP"
   },
   "source": [
    "How well does this perform? Let's visualize that by seeing how well the embedding performs. It takes points in 28x28 images (or 784 pixel values) and approximates that with `n_components` principal components that are each 28x28 (or 784 images).\n",
    "\n",
    "A reconstruction of the original 28x28 image can be found from only the `n_components` 28x28 principal components. How well does that reconstruction look? Let's use the `inverse_tranform` method to reconstruct the digits from the PCA approximation:"
   ]
  },
  {
   "cell_type": "code",
   "execution_count": null,
   "metadata": {
    "id": "-NI9AKViWzTQ"
   },
   "outputs": [],
   "source": [
    "# Use inverse transform to construct approximation to original dataset\n",
    "X_inv = embedding.inverse_transform(X_low)"
   ]
  },
  {
   "cell_type": "markdown",
   "metadata": {
    "id": "i_yrv2qcWzTQ"
   },
   "source": [
    "Let's visualize the original images and the reconstructed image:"
   ]
  },
  {
   "cell_type": "code",
   "execution_count": null,
   "metadata": {
    "colab": {
     "base_uri": "https://localhost:8080/",
     "height": 482
    },
    "id": "aXNG6U2iWzTQ",
    "outputId": "18d88b0d-5f49-4d15-eb91-02a1dbebaeb3"
   },
   "outputs": [],
   "source": [
    "fig, axs = plt.subplots(nrows=4, ncols=2, figsize=(6,8))\n",
    "\n",
    "for left, right in axs:\n",
    "    \n",
    "    # pick an image at random\n",
    "    k = np.random.randint(len(labels))\n",
    "    \n",
    "    # reshape images\n",
    "    img = X[k].reshape(28, 28)\n",
    "    img_est = X_inv[k].reshape(28, 28).clip(min=0,max=255)\n",
    "    \n",
    "    left.imshow(img, cmap='gray_r')\n",
    "    left.set_title('original')\n",
    "    left.axis('off')\n",
    "    right.imshow(img_est, cmap='gray_r')\n",
    "    right.set_title('reconstructed')\n",
    "    right.axis('off')"
   ]
  },
  {
   "cell_type": "markdown",
   "metadata": {
    "id": "U3iM0_hnWzTQ"
   },
   "source": [
    "This is very useful as a compression technique. PCA has some internal structure that allows it to map from `n_components` features to 784 features. Given the quality of the reconstruction, that means the images could be stored with 87 dimensions instead of 784 dimensions (alongside the `n_components` principal components given by the `PCA` object)."
   ]
  },
  {
   "cell_type": "markdown",
   "metadata": {
    "id": "JZGN-XeMWzTQ"
   },
   "source": [
    "## Visualization"
   ]
  },
  {
   "cell_type": "markdown",
   "metadata": {
    "id": "zaYTP1avWzTQ"
   },
   "source": [
    "Let's visualize the principal components of these images:"
   ]
  },
  {
   "cell_type": "code",
   "execution_count": null,
   "metadata": {
    "id": "hk6sPKijWzTQ"
   },
   "outputs": [],
   "source": [
    "N = min(embedding.n_components_, 10)\n",
    "principal_components = [embedding.components_[k].reshape(28,28) for k in range(N)]"
   ]
  },
  {
   "cell_type": "code",
   "execution_count": null,
   "metadata": {
    "colab": {
     "base_uri": "https://localhost:8080/",
     "height": 141
    },
    "id": "E8PtN3S6WzTQ",
    "outputId": "286c8016-7887-4648-9c5f-4e5117c50adc"
   },
   "outputs": [],
   "source": [
    "fig, axs = plt.subplots(ncols=10, figsize=(20, 2))\n",
    "i = 0\n",
    "for img, ax in zip(principal_components, axs):\n",
    "    ax.imshow(img, cmap='bwr')\n",
    "    i = i+1\n",
    "    ax.set_title('PC ' + str(i))\n",
    "    ax.axis('off')"
   ]
  },
  {
   "cell_type": "code",
   "execution_count": null,
   "metadata": {
    "colab": {
     "base_uri": "https://localhost:8080/",
     "height": 265
    },
    "id": "xlLPmKhkWzTQ",
    "outputId": "e9673a55-417e-4b04-972c-6b4a5f77c84c"
   },
   "outputs": [],
   "source": [
    "# let's take a closer look: NOTE! these are normalized vectors!\n",
    "plt.imshow(principal_components[0], cmap='bwr')\n",
    "plt.colorbar();"
   ]
  },
  {
   "cell_type": "markdown",
   "metadata": {
    "id": "YC6NqmbaWzTQ"
   },
   "source": [
    "The first image is the first principal component. It's the most important because it's the first one. It says \"the most basic approximation using PCA to any digit is somewhat 0 shaped\"."
   ]
  },
  {
   "cell_type": "markdown",
   "metadata": {
    "id": "W8fzol93WzTR"
   },
   "source": [
    "Let's visualize the two dimensions, the two dimensions marked as \"most important\" by PCA."
   ]
  },
  {
   "cell_type": "code",
   "execution_count": null,
   "metadata": {
    "colab": {
     "base_uri": "https://localhost:8080/",
     "height": 408
    },
    "id": "2r-MR3ZSWzTR",
    "outputId": "795e6951-b8eb-4b61-c63b-94f379e10906"
   },
   "outputs": [],
   "source": [
    "Y = np.hstack((X_low[:,:2],labels[:,None]))\n",
    "#print(np.shape(Y))\n",
    "show = pd.DataFrame(Y, columns = ['1st PCA Coef', '2nd PCA Coef', 'Labels'])\n",
    "ax = show.plot.scatter(x=0, y=1, style=\"o\", c=2, cmap=\"tab10\", s=10, colorbar = True,  sharex=False, figsize = (8,6), fontsize = 12)\n",
    "ax.set_title('Scatterplot of 1st and 2nd PCA Coefficients for All Digits', fontsize=14);"
   ]
  },
  {
   "cell_type": "markdown",
   "metadata": {
    "id": "X0KS03p0WzTR"
   },
   "source": [
    "Let's visualize only two digits projected onto these two dimensions"
   ]
  },
  {
   "cell_type": "code",
   "execution_count": null,
   "metadata": {
    "colab": {
     "base_uri": "https://localhost:8080/",
     "height": 407
    },
    "id": "jduwVV-HWzTR",
    "outputId": "98e71781-4842-4cb8-b2d4-cc86390bf631"
   },
   "outputs": [],
   "source": [
    "idx = (labels == 0) | (labels == 1)\n",
    "ax = show[idx].plot.scatter(x=0, y=1, style=\"o\", c=labels[idx], cmap=\"tab10\", s=10, colorbar = False, figsize = (8,6), fontsize=12)\n",
    "ax.set_title('Scatterplot of 1st and 2nd PCA Coefficients for Digits 0 and 1');"
   ]
  },
  {
   "cell_type": "code",
   "execution_count": null,
   "metadata": {
    "id": "NszHqb5bWzTR"
   },
   "outputs": [],
   "source": []
  }
 ],
 "metadata": {
  "colab": {
   "provenance": []
  },
  "kernelspec": {
   "display_name": "bonding",
   "language": "python",
   "name": "bonding"
  },
  "language_info": {
   "codemirror_mode": {
    "name": "ipython",
    "version": 3
   },
   "file_extension": ".py",
   "mimetype": "text/x-python",
   "name": "python",
   "nbconvert_exporter": "python",
   "pygments_lexer": "ipython3",
   "version": "3.11.4"
  }
 },
 "nbformat": 4,
 "nbformat_minor": 1
}
