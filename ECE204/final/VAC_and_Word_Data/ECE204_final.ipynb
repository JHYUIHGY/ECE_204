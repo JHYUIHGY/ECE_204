{
 "cells": [
  {
   "cell_type": "code",
   "execution_count": 105,
   "metadata": {},
   "outputs": [
    {
     "data": {
      "text/plain": [
       "(30, 15)"
      ]
     },
     "execution_count": 105,
     "metadata": {},
     "output_type": "execute_result"
    }
   ],
   "source": [
    "import numpy as np\n",
    "from scipy.linalg import circulant\n",
    "matrix = np.loadtxt('VAC_001.txt', delimiter=',')\n",
    "matrix.shape"
   ]
  },
  {
   "cell_type": "code",
   "execution_count": 104,
   "metadata": {},
   "outputs": [
    {
     "name": "stdout",
     "output_type": "stream",
     "text": [
      "False\n"
     ]
    }
   ],
   "source": [
    "def check_va_matrix(A):\n",
    "    for i in range(30):\n",
    "        for j in range (15):\n",
    "            vi = A[i][1]\n",
    "            vij = vi ** (j)\n",
    "            #print(A[i][j],vi,vij)\n",
    "            if (A[i][j] != vij):\n",
    "                return False\n",
    "    return True\n",
    "\n",
    "\n",
    "\n",
    "def check_c_matrix(rows):\n",
    "    c_matrix = circulant(rows[0])\n",
    "    return np.array_equal(rows, c_matrix)\n",
    "\n",
    "def is_vac_matrix(matrix):\n",
    "    if not check_va_matrix(matrix):\n",
    "        return False\n",
    "    if not check_c_matrix(matrix):\n",
    "        return False\n",
    "\n",
    "    return True\n",
    "\n",
    "\n",
    "matrix = np.loadtxt('VAC_001.txt', delimiter=',')\n",
    "\n",
    "result = is_vac_matrix(matrix)\n",
    "print(result)"
   ]
  },
  {
   "cell_type": "code",
   "execution_count": 35,
   "metadata": {},
   "outputs": [
    {
     "name": "stdout",
     "output_type": "stream",
     "text": [
      "(44, 22)\n",
      "False\n"
     ]
    }
   ],
   "source": [
    "def check_va_matrix(A):\n",
    "    for i in range(44):\n",
    "        for j in range (22):\n",
    "            vi = A[i][1]\n",
    "            vij = vi ** (j)\n",
    "            #print(A[i][j],vi,vij)\n",
    "            if (A[i][j] != vij):\n",
    "                return False\n",
    "    return True\n",
    "\n",
    "\n",
    "\n",
    "def check_c_matrix(rows):\n",
    "    c_matrix = circulant(rows[0])\n",
    "    return np.array_equal(rows, c_matrix)\n",
    "\n",
    "def is_vac_matrix(matrix):\n",
    "    if not check_va_matrix(matrix):\n",
    "        return False\n",
    "    if not check_c_matrix(matrix):\n",
    "        return False\n",
    "\n",
    "    return True\n",
    "\n",
    "\n",
    "\n",
    "\n",
    "matrix2 = np.loadtxt('VAC_008_2.txt', delimiter=',')\n",
    "print(matrix2.shape)\n",
    "result2 = is_vac_matrix(matrix2)\n",
    "print(result2)\n"
   ]
  },
  {
   "cell_type": "code",
   "execution_count": null,
   "metadata": {},
   "outputs": [],
   "source": []
  },
  {
   "cell_type": "code",
   "execution_count": 103,
   "metadata": {},
   "outputs": [
    {
     "name": "stdout",
     "output_type": "stream",
     "text": [
      "False\n"
     ]
    }
   ],
   "source": [
    "\n",
    "\n",
    "matrix2 = np.loadtxt('VAC_008_2.txt', delimiter=',')\n",
    "result2 = is_vac_matrix(matrix2)\n",
    "print(result2)\n"
   ]
  },
  {
   "cell_type": "code",
   "execution_count": null,
   "metadata": {},
   "outputs": [],
   "source": []
  },
  {
   "cell_type": "code",
   "execution_count": 36,
   "metadata": {},
   "outputs": [],
   "source": [
    "with open(\"word_latter_words.txt\", \"r\") as file:\n",
    "    word_set = file.readlines()\n",
    "word_set = [line.strip() for line in word_set]"
   ]
  },
  {
   "cell_type": "code",
   "execution_count": null,
   "metadata": {},
   "outputs": [],
   "source": []
  },
  {
   "cell_type": "code",
   "execution_count": 107,
   "metadata": {},
   "outputs": [
    {
     "name": "stdout",
     "output_type": "stream",
     "text": [
      "['silent', 'night', 'disrupted', 'distant', 'listen', 'enlist', 'soldiers', 'marched', 'through', 'inlets', 'their', 'footsteps', 'tinsel', 'sound', 'cobblestones', 'Brags', 'their', 'victories', 'shared', 'while', 'garbs', 'finest', 'grabs', 'power', 'lightning', 'illuminated', 'parked', 'along', 'street', 'burnt', 'earth', 'marked', 'where', 'struck', 'swift', 'creatures', 'darted', 'through', 'forest', 'their', 'movements', 'fluid', 'covered', 'Alert', 'dangers', 'would', 'alter', 'their', 'danger', 'presented', 'later', 'recount', 'tales', 'their', 'journey', 'Aligned', 'stars', 'dealing', 'leading', 'force', 'lives', 'allergy', 'mundane', 'gallery', 'extraordinary', 'largely', 'regally', 'lived', 'angel', 'descended', 'angle', 'mercy', 'glean', 'heavens', 'brought', 'antler', 'caught', 'brush', 'learnt', 'lesson', 'caution', 'rental', 'wilderness', 'smallest', 'things', 'encouragement', 'Arches', 'stone', 'stood', 'chaser', 'dreams', 'walked', 'beneath', 'search', 'beyond', 'outstretched', 'friendship', 'grievances', 'forgotten', 'stubbornness', 'overcome', 'artist', 'painted', 'strait', 'strokes', 'traits', 'landscape', 'vivid', 'canvas', 'celebrated', 'scurried', 'alleys', 'shone', 'brightly', 'above', 'paved', 'forward', 'ascent', 'greatness', 'secant', 'success', 'stance', 'determination', 'ascot', 'pride', 'coats', 'colors', 'coast', 'endless', 'possibilities', 'tacos', 'savored', 'delight', 'Asleep', 'meadow', 'elapse', 'unnoticed', 'please', 'contentment', 'whispered', 'Assert', 'place', 'world', 'asters', 'blooming', 'confidence', 'stares', 'admiration', 'followed', 'aster', 'bloom', 'rates', 'growth', 'astounding', 'stare', 'unknown', 'taser', 'surprise', 'tears', 'gusto', 'measure', 'sipped', 'leisurely', 'auctioned', 'piece', 'history', 'cautioned', 'tales', 'education', 'making', 'baker', 'brake', 'applied', 'break', 'routine', 'tales', 'pages', 'together', 'world', 'brightened', 'Bared', 'souls', 'conversation', 'beard', 'wisdom', 'bread', 'shared', 'among', 'friends', 'debar', 'worries', 'twilight', 'excitement', 'changing', 'seasons', 'Begin', 'being', 'present', 'moment', 'binge', 'happiness', 'Below', 'surface', 'bowel', 'earth', 'elbow', 'Bleats', 'flock', 'stable', 'shelter', 'tables', 'feast']\n",
      "['silent', 'night', 'disrupted', 'distant', 'listen', 'enlist', 'soldiers', 'marched', 'through', 'inlets', 'their', 'footsteps', 'tinsel', 'sound', 'cobblestones', 'Brags', 'their', 'victories', 'shared', 'while', 'garbs', 'finest', 'grabs', 'power', 'lightning', 'illuminated', 'parked', 'along', 'street', 'burnt', 'earth', 'marked', 'where', 'struck', 'swift', 'creatures', 'darted', 'through', 'forest', 'their', 'movements', 'fluid', 'covered', 'Alert', 'dangers', 'would', 'alter', 'their', 'danger', 'presented', 'later', 'recount', 'tales', 'their', 'journey', 'Aligned', 'stars', 'dealing', 'leading', 'force', 'lives', 'allergy', 'mundane', 'gallery', 'extraordinary', 'largely', 'regally', 'lived', 'angel', 'descended', 'angle', 'mercy', 'glean', 'heavens', 'brought', 'antler', 'caught', 'brush', 'learnt', 'lesson', 'caution', 'rental', 'wilderness', 'smallest', 'things', 'encouragement', 'Arches', 'stone', 'stood', 'chaser', 'dreams', 'walked', 'beneath', 'search', 'beyond', 'outstretched', 'friendship', 'grievances', 'forgotten', 'stubbornness', 'overcome', 'artist', 'painted', 'strait', 'strokes', 'traits', 'landscape', 'vivid', 'canvas', 'celebrated', 'scurried', 'alleys', 'shone', 'brightly', 'above', 'paved', 'forward', 'ascent', 'greatness', 'secant', 'success', 'stance', 'determination', 'ascot', 'pride', 'coats', 'colors', 'coast', 'endless', 'possibilities', 'tacos', 'savored', 'delight', 'Asleep', 'meadow', 'elapse', 'unnoticed', 'please', 'contentment', 'whispered', 'Assert', 'place', 'world', 'asters', 'blooming', 'confidence', 'stares', 'admiration', 'followed', 'aster', 'bloom', 'rates', 'growth', 'astounding', 'stare', 'unknown', 'taser', 'surprise', 'tears', 'gusto', 'measure', 'sipped', 'leisurely', 'auctioned', 'piece', 'history', 'cautioned', 'tales', 'education', 'making', 'baker', 'brake', 'applied', 'break', 'routine', 'tales', 'pages', 'together', 'world', 'brightened', 'Bared', 'souls', 'conversation', 'beard', 'wisdom', 'bread', 'shared', 'among', 'friends', 'debar', 'worries', 'twilight', 'excitement', 'changing', 'seasons', 'Begin', 'being', 'present', 'moment', 'binge', 'happiness', 'Below', 'surface', 'bowel', 'earth', 'elbow', 'Bleats', 'flock', 'stable', 'shelter', 'tables', 'feast']\n"
     ]
    }
   ],
   "source": [
    "text = (\n",
    "    \"The silent night was disrupted only by the distant listen of the wind. \"\n",
    "    \"An enlist of soldiers marched through the inlets, their footsteps a tinsel sound on the cobblestones. \"\n",
    "    \"Brags of their past victories were shared, while garbs of the finest silk were worn, and grabs for more power were made. \"\n",
    "    \"Arcs of lightning illuminated the cars parked along the street, and a scar of burnt earth marked where they struck. \"\n",
    "    \"A race of swift creatures darted through the forest, their movements as fluid as care, and the acre of land they covered vast. \"\n",
    "    \"Alert to the dangers, they would alter their path if danger presented, and later recount the tales of their journey. \"\n",
    "    \"Aligned with the stars, the dealing of fate was a leading force in the lives of all. \"\n",
    "    \"An allergy to the mundane, a gallery of the extraordinary, and largely a regally lived life. \"\n",
    "    \"The angel descended with an angle of mercy, and glean from the heavens brought hope. \"\n",
    "    \"An antler caught in the brush, a learnt lesson of caution, a rental of time in the wilderness. \"\n",
    "    \"Apt to find joy in the smallest of things, a pat on the back, a tap of encouragement. \"\n",
    "    \"Arches of stone stood tall, a chaser of dreams walked beneath, in search of what lay beyond. \"\n",
    "    \"An arm outstretched in friendship, a mar of past grievances forgotten, a ram of stubbornness overcome. \"\n",
    "    \"An artist painted the strait with bold strokes, the traits of the landscape vivid on the canvas. \"\n",
    "    \"The arts were celebrated, rats scurried in the alleys, a star shone brightly above, and tars paved the way forward. \"\n",
    "    \"An ascent to greatness, a secant of success, a stance of determination. \"\n",
    "    \"An ascot worn with pride, coats of many colors, a coast of endless possibilities, tacos savored with delight. \"\n",
    "    \"Asleep in the meadow, an elapse of time unnoticed, please of contentment whispered. \"\n",
    "    \"Assert your place in the world, asters blooming with confidence, stares of admiration followed. \"\n",
    "    \"An aster in full bloom, rates of growth astounding, a stare into the unknown, a taser of surprise, tears of joy shed. \"\n",
    "    \"Ate with gusto, eat to live, eta a measure of time, tea sipped leisurely. \"\n",
    "    \"An auctioned piece of history, cautioned tales of the past, an education in the making. \"\n",
    "    \"A baker at work, the brake applied with care, a break from the routine. \"\n",
    "    \"A bard sang tales of old, a brad held the pages together, a drab world brightened by song. \"\n",
    "    \"Bared souls in conversation, a beard of wisdom, bread shared among friends, a debar from worries. \"\n",
    "    \"Bats flew in the twilight, a stab of excitement, tabs kept on the changing seasons. \"\n",
    "    \"Begin anew each day, being present in the moment, a binge of happiness. \"\n",
    "    \"Below the surface, a bowel of the earth, an elbow room to grow. \"\n",
    "    \"Bleats of the flock, a stable shelter, tables set for a feast. \"\n",
    ")\n",
    "\n",
    "sentences = text.split(\". \")\n",
    "words = []\n",
    "for sentence in sentences:\n",
    "    sentence = sentence.split(\", \")\n",
    "    for s in sentence:\n",
    "        words.append(s)\n",
    "\n",
    "singleword = []\n",
    "for word in words:\n",
    "    word = word.split(\" \")\n",
    "    #print(word)\n",
    "    for w in word:\n",
    "        singleword.append(w)\n",
    "\n",
    "\n",
    "filtered_words = [word for word in singleword if len(word) >= 5]\n",
    "print(filtered_words)\n",
    "print(filtered_words)"
   ]
  },
  {
   "cell_type": "code",
   "execution_count": 111,
   "metadata": {},
   "outputs": [
    {
     "name": "stdout",
     "output_type": "stream",
     "text": [
      "['baker', 'brake', 'break']\n"
     ]
    }
   ],
   "source": [
    "from collections import defaultdict\n",
    "\n",
    "anagrams = defaultdict(list)\n",
    "for word in filtered_words:\n",
    "    key = ''.join(sorted(word))\n",
    "    anagrams[key].append(word)\n",
    "    \n",
    "group =  [group for group in anagrams.values() if len(group) > 1]\n",
    "\n",
    "sorted_groups = sorted(group, key=len, reverse=True)\n",
    "\n",
    "print(sorted_groups[11])\n"
   ]
  },
  {
   "cell_type": "code",
   "execution_count": null,
   "metadata": {},
   "outputs": [],
   "source": []
  },
  {
   "cell_type": "code",
   "execution_count": 114,
   "metadata": {},
   "outputs": [
    {
     "name": "stdout",
     "output_type": "stream",
     "text": [
      "71\n"
     ]
    },
    {
     "data": {
      "text/plain": [
       "5"
      ]
     },
     "execution_count": 114,
     "metadata": {},
     "output_type": "execute_result"
    }
   ],
   "source": [
    "def sum(nested):\n",
    "    total_sum = 0\n",
    "    if isinstance(nested, dict):\n",
    "        for value in nested.values():\n",
    "            total_sum += sum(value)\n",
    "    elif isinstance(nested, list):\n",
    "        for item in nested:\n",
    "            total_sum += sum(item)\n",
    "    elif isinstance(nested, int):\n",
    "        total_sum += nested\n",
    "    \n",
    "    return total_sum\n",
    "\n",
    "\n",
    "\n",
    "nested = [1, 2, [3, 13, 6, 9], [5, [0, 12]], {'a': 8, 'b': [11, 1]}]\n",
    "\n",
    "print(sum(nested))\n",
    "sum(nested) % 11\n",
    "\n",
    "\n"
   ]
  },
  {
   "cell_type": "code",
   "execution_count": 117,
   "metadata": {},
   "outputs": [
    {
     "name": "stdout",
     "output_type": "stream",
     "text": [
      "122650\n"
     ]
    },
    {
     "data": {
      "text/plain": [
       "66"
      ]
     },
     "execution_count": 117,
     "metadata": {},
     "output_type": "execute_result"
    }
   ],
   "source": [
    "nested_structure = [{'f': [380, 372, 287, 69, 122, 456, 211, 34, 197, 90]}, 412, [876, 521, 914, 265, [786, 639, [715, 458, [108, 942, [618, 174, [291, 835, [360, 602, [727, 75]]]]]]], 328, 49, 889], [{'e': [873, 996, 468, 219, 705, 136, 803, 565, 43, 610]}, 925, 804, 994, 759, 692, 938, 276, 851, 523, 320, 606, 424, 188, 510], 680, 243, [816, 343, [498, 227, [667, 894, [385, 624, [971, 738, [142, 581, [859, 261, [306, 749, [233, 419]]]]]]]]], 197, 405, 949, 786, 723, 163, 341, 820, 603, [659, 948, [956, 701, [779, 473, [619, 805, [487, 444, [940, 31, [651, 828, [989, 967]]]]]]], 638, 210, 362], 779, 298, 741, 252, 971, 29, 792, 127, 684, 525, 863, 733, 583, 912, 55, 894, [{'b': [665, 11, 1]}, 700, 736, 687, 383, 861, 867, 667, 454, 878, 852, 934, 302, 623, 257, 278, 64, 687, 613, 718, 27, 914, 598], 240, [145, 135, [527, 838, [169, 103, [425, 732, [586, 871, [408, 982, [393, 845, [572, 292]]]]]]], 281, 231, 902], 508, 530, 36, 552, 709, 485, 213, 356, 454, 579, 17, 381, 913, 868, 93, 319, 760, 777, 672, 550, 81, 332, 309, 393, [846, 289, [679, 623, [594, 968, [974, 329, [346, 55, [622, 193, [675, 785, [754, 865]]]]]]]], 533, 351, 760, 856, 741, 388, 639, 129, 763, 164, 315, 833, 492, 675, 181, 871, 199, 626, 356, 641, 960, 1000, 687, 128, 46]\n",
    "print(sum(nested_structure))\n",
    "sum(nested_structure) % 199"
   ]
  }
 ],
 "metadata": {
  "kernelspec": {
   "display_name": "bonding",
   "language": "python",
   "name": "python3"
  },
  "language_info": {
   "codemirror_mode": {
    "name": "ipython",
    "version": 3
   },
   "file_extension": ".py",
   "mimetype": "text/x-python",
   "name": "python",
   "nbconvert_exporter": "python",
   "pygments_lexer": "ipython3",
   "version": "3.11.4"
  }
 },
 "nbformat": 4,
 "nbformat_minor": 2
}
