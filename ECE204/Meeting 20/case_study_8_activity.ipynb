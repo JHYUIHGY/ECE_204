{
 "cells": [
  {
   "cell_type": "markdown",
   "metadata": {},
   "source": [
    "# In-Class Activity: Polynomial Regression\n",
    "## ECE 204 Data Science & Engineering"
   ]
  },
  {
   "cell_type": "markdown",
   "metadata": {},
   "source": [
    "### Lecture Notes"
   ]
  },
  {
   "cell_type": "code",
   "execution_count": null,
   "metadata": {},
   "outputs": [],
   "source": []
  },
  {
   "cell_type": "markdown",
   "metadata": {},
   "source": [
    "### Import Statements"
   ]
  },
  {
   "cell_type": "code",
   "execution_count": 40,
   "metadata": {},
   "outputs": [],
   "source": [
    "# Add any import statements you need to complete the activity here!\n",
    "from sklearn.metrics import mean_squared_error\n",
    "import pandas as pd\n",
    "import numpy as np\n",
    "\n"
   ]
  },
  {
   "cell_type": "markdown",
   "metadata": {},
   "source": [
    "### User-defined Functions"
   ]
  },
  {
   "cell_type": "code",
   "execution_count": 41,
   "metadata": {},
   "outputs": [],
   "source": [
    "def make_observations(x, sigma=0.1, seed=42):\n",
    "    np.random.seed(seed)\n",
    "    noise = sigma * np.random.randn(len(x))\n",
    "    y = 1 - np.exp(-x**2) + noise\n",
    "    return y\n",
    "\n",
    "def polynomial_features(x, max_degree):\n",
    "    return pd.DataFrame( { i: x ** i for i in range(max_degree+1) } )\n"
   ]
  },
  {
   "cell_type": "markdown",
   "metadata": {},
   "source": [
    "### In-Class Activity\n",
    "#### Please first read the questions in the in-class activity, where the questions are there in detail. This is just a starter notebook."
   ]
  },
  {
   "cell_type": "markdown",
   "metadata": {},
   "source": [
    "Let's test the goal of machine learning: **to predict well on *unseen* data.** We only trained on input in a certain range and validated off that input too. But how well does it perform on a completely new value? Let's test on unseen data, or polynomial inputs in a *slightly* broader range."
   ]
  },
  {
   "cell_type": "markdown",
   "metadata": {},
   "source": [
    "---\n",
    "**Problem 1.**\n",
    "Fit a polynomial with degree 2 to the following training data.\n",
    "\n",
    "Test this polynomial on the provided test data. **How well does it predict for $x$ values in [3, 4]?**\n",
    "\n",
    "* The prediction is relatively close to the testing data in [3, 4].\n",
    "* It does not predict well in [3, 4]. The prediction increases while the testing data stays flat.\n",
    "* It does not predict well in [3, 4]. The prediction decreases while the testing data stays increases."
   ]
  },
  {
   "cell_type": "code",
   "execution_count": 42,
   "metadata": {},
   "outputs": [],
   "source": [
    "x_train = np.linspace(-2, 2, num=100)\n",
    "y_train = make_observations(x_train)\n",
    "\n",
    "x_test = np.linspace(-4, 4, num=100)\n",
    "y_test = make_observations(x_test)\n",
    "\n",
    "d = 2\n",
    "\n",
    "X_test = polynomial_features(x_test, max_degree=d)\n",
    "X_train = polynomial_features(x_train, max_degree=d)"
   ]
  },
  {
   "cell_type": "code",
   "execution_count": 43,
   "metadata": {},
   "outputs": [],
   "source": [
    "# Your code here. Use the X_train and X_test defined in the cell above!\n",
    "from sklearn.linear_model import LinearRegression\n",
    "\n",
    "# note: we don't need to use an \"intercept\" term because this is the same thing as using a\n",
    "# polynomial of degree zero, which we have included in our list of features!\n",
    "model = LinearRegression(fit_intercept=False)\n",
    "model.fit(X_train, y_train)\n",
    "y_pred = model.predict(X_test)"
   ]
  },
  {
   "cell_type": "code",
   "execution_count": 44,
   "metadata": {},
   "outputs": [
    {
     "data": {
      "text/plain": [
       "<Axes: xlabel='x_test'>"
      ]
     },
     "execution_count": 44,
     "metadata": {},
     "output_type": "execute_result"
    },
    {
     "data": {
      "image/png": "[encoded data removed]",
      "text/plain": [
       "<Figure size 640x480 with 1 Axes>"
      ]
     },
     "metadata": {},
     "output_type": "display_data"
    }
   ],
   "source": [
    "# Define y_pred above as the predictions on X_test\n",
    "show = pd.DataFrame({\"y_pred\": y_pred, \"x_test\": x_test, \"y_test\": y_test})\n",
    "\n",
    "ax = show.plot(x=\"x_test\", y=\"y_test\", style=\"o\")\n",
    "show.plot(x=\"x_test\", y=\"y_pred\", style=\"-\", ax=ax)"
   ]
  },
  {
   "cell_type": "markdown",
   "metadata": {},
   "source": [
    "---\n",
    "**Problem 2.**\n",
    "What is the residual sum of squares (RSS) for the train data? Use the setup above; the degree and train data will remain the same."
   ]
  },
  {
   "cell_type": "code",
   "execution_count": 48,
   "metadata": {},
   "outputs": [
    {
     "data": {
      "text/plain": [
       "2.5553217194953333"
      ]
     },
     "execution_count": 48,
     "metadata": {},
     "output_type": "execute_result"
    }
   ],
   "source": [
    "# Your code here\n",
    "y_train_pred = model.predict(X_train)\n",
    "np.sum((y_train - y_train_pred)** 2)"
   ]
  },
  {
   "cell_type": "markdown",
   "metadata": {},
   "source": [
    "---\n",
    "**Problem 3.**\n",
    "What is the residual sum of squares (RSS) for the test data? Use the setup above; the degree, train data and test data will remain the same."
   ]
  },
  {
   "cell_type": "code",
   "execution_count": 49,
   "metadata": {},
   "outputs": [
    {
     "data": {
      "text/plain": [
       "192.29118519993418"
      ]
     },
     "execution_count": 49,
     "metadata": {},
     "output_type": "execute_result"
    }
   ],
   "source": [
    "# Your code here\n",
    "y_test_pred = model.predict(X_test)\n",
    "np.sum((y_test - y_test_pred)** 2)"
   ]
  }
 ],
 "metadata": {
  "kernelspec": {
   "display_name": "Python 3",
   "language": "python",
   "name": "python3"
  },
  "language_info": {
   "codemirror_mode": {
    "name": "ipython",
    "version": 3
   },
   "file_extension": ".py",
   "mimetype": "text/x-python",
   "name": "python",
   "nbconvert_exporter": "python",
   "pygments_lexer": "ipython3",
   "version": "3.11.4"
  }
 },
 "nbformat": 4,
 "nbformat_minor": 4
}
