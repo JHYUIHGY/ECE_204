{
  "cells": [
    {
      "cell_type": "markdown",
      "metadata": {
        "id": "qNg4j62mP5H4"
      },
      "source": [
        "# **K-Nearest-Neighbor Classification**\n",
        "## ECE 204 Data Science & Engineering"
      ]
    },
    {
      "cell_type": "markdown",
      "metadata": {
        "id": "aOh5tVnyP5H8"
      },
      "source": [
        "### Lecture Notes"
      ]
    },
    {
      "cell_type": "code",
      "execution_count": null,
      "metadata": {
        "id": "gymp86bTP5H9"
      },
      "outputs": [],
      "source": []
    },
    {
      "cell_type": "markdown",
      "metadata": {
        "id": "RSZTZplkP5H-"
      },
      "source": [
        "### Import Statements"
      ]
    },
    {
      "cell_type": "code",
      "execution_count": 8,
      "metadata": {
        "id": "7ETbM21QP5H_"
      },
      "outputs": [],
      "source": [
        "# Add any import statements that you might need to complete the activity here!\n",
        "import pandas as pd\n",
        "from sklearn.metrics import accuracy_score\n",
        "from sklearn.neighbors import KNeighborsClassifier"
      ]
    },
    {
      "cell_type": "markdown",
      "metadata": {
        "id": "Rsvss7WlP5IA"
      },
      "source": [
        "### In-Class Activity\n",
        "#### Please first read the questions in the in-class activity, where the questions are there in detail. This is just a starter notebook."
      ]
    },
    {
      "cell_type": "code",
      "execution_count": 9,
      "metadata": {
        "id": "S6tHPNW4P5IA"
      },
      "outputs": [
        {
          "data": {
            "text/html": [
              "<div>\n",
              "<style scoped>\n",
              "    .dataframe tbody tr th:only-of-type {\n",
              "        vertical-align: middle;\n",
              "    }\n",
              "\n",
              "    .dataframe tbody tr th {\n",
              "        vertical-align: top;\n",
              "    }\n",
              "\n",
              "    .dataframe thead th {\n",
              "        text-align: right;\n",
              "    }\n",
              "</style>\n",
              "<table border=\"1\" class=\"dataframe\">\n",
              "  <thead>\n",
              "    <tr style=\"text-align: right;\">\n",
              "      <th></th>\n",
              "      <th>petalLength</th>\n",
              "      <th>petalWidth</th>\n",
              "      <th>sepalLength</th>\n",
              "      <th>sepalWidth</th>\n",
              "      <th>species</th>\n",
              "    </tr>\n",
              "  </thead>\n",
              "  <tbody>\n",
              "    <tr>\n",
              "      <th>111</th>\n",
              "      <td>5.3</td>\n",
              "      <td>1.9</td>\n",
              "      <td>6.4</td>\n",
              "      <td>2.7</td>\n",
              "      <td>virginica</td>\n",
              "    </tr>\n",
              "    <tr>\n",
              "      <th>85</th>\n",
              "      <td>4.5</td>\n",
              "      <td>1.6</td>\n",
              "      <td>6.0</td>\n",
              "      <td>3.4</td>\n",
              "      <td>versicolor</td>\n",
              "    </tr>\n",
              "    <tr>\n",
              "      <th>99</th>\n",
              "      <td>4.1</td>\n",
              "      <td>1.3</td>\n",
              "      <td>5.7</td>\n",
              "      <td>2.8</td>\n",
              "      <td>versicolor</td>\n",
              "    </tr>\n",
              "    <tr>\n",
              "      <th>47</th>\n",
              "      <td>1.4</td>\n",
              "      <td>0.2</td>\n",
              "      <td>4.6</td>\n",
              "      <td>3.2</td>\n",
              "      <td>setosa</td>\n",
              "    </tr>\n",
              "    <tr>\n",
              "      <th>41</th>\n",
              "      <td>1.3</td>\n",
              "      <td>0.3</td>\n",
              "      <td>4.5</td>\n",
              "      <td>2.3</td>\n",
              "      <td>setosa</td>\n",
              "    </tr>\n",
              "    <tr>\n",
              "      <th>1</th>\n",
              "      <td>1.4</td>\n",
              "      <td>0.2</td>\n",
              "      <td>4.9</td>\n",
              "      <td>3.0</td>\n",
              "      <td>setosa</td>\n",
              "    </tr>\n",
              "    <tr>\n",
              "      <th>104</th>\n",
              "      <td>5.8</td>\n",
              "      <td>2.2</td>\n",
              "      <td>6.5</td>\n",
              "      <td>3.0</td>\n",
              "      <td>virginica</td>\n",
              "    </tr>\n",
              "    <tr>\n",
              "      <th>0</th>\n",
              "      <td>1.4</td>\n",
              "      <td>0.2</td>\n",
              "      <td>5.1</td>\n",
              "      <td>3.5</td>\n",
              "      <td>setosa</td>\n",
              "    </tr>\n",
              "    <tr>\n",
              "      <th>58</th>\n",
              "      <td>4.6</td>\n",
              "      <td>1.3</td>\n",
              "      <td>6.6</td>\n",
              "      <td>2.9</td>\n",
              "      <td>versicolor</td>\n",
              "    </tr>\n",
              "    <tr>\n",
              "      <th>66</th>\n",
              "      <td>4.5</td>\n",
              "      <td>1.5</td>\n",
              "      <td>5.6</td>\n",
              "      <td>3.0</td>\n",
              "      <td>versicolor</td>\n",
              "    </tr>\n",
              "  </tbody>\n",
              "</table>\n",
              "</div>"
            ],
            "text/plain": [
              "     petalLength  petalWidth  sepalLength  sepalWidth     species\n",
              "111          5.3         1.9          6.4         2.7   virginica\n",
              "85           4.5         1.6          6.0         3.4  versicolor\n",
              "99           4.1         1.3          5.7         2.8  versicolor\n",
              "47           1.4         0.2          4.6         3.2      setosa\n",
              "41           1.3         0.3          4.5         2.3      setosa\n",
              "1            1.4         0.2          4.9         3.0      setosa\n",
              "104          5.8         2.2          6.5         3.0   virginica\n",
              "0            1.4         0.2          5.1         3.5      setosa\n",
              "58           4.6         1.3          6.6         2.9  versicolor\n",
              "66           4.5         1.5          5.6         3.0  versicolor"
            ]
          },
          "execution_count": 9,
          "metadata": {},
          "output_type": "execute_result"
        }
      ],
      "source": [
        "df = pd.read_csv(\"iris.csv\")\n",
        "df.sample(10)"
      ]
    },
    {
      "cell_type": "markdown",
      "metadata": {
        "id": "YcChxgVhP5IA"
      },
      "source": [
        "---\n",
        "**Problem 2.** This time, we will only use two of the features of the iris dataset. What accuracy do we obtain if we only use the `sepalWidth` and `sepalLength` features for classification and KNN with K=5?"
      ]
    },
    {
      "cell_type": "code",
      "execution_count": 12,
      "metadata": {
        "id": "1zbQS1aQP5IC"
      },
      "outputs": [],
      "source": [
        "features = ['sepalLength', 'sepalWidth']\n",
        "Xtrain = df[features]\n",
        "Ytrain = df[\"species\"]"
      ]
    },
    {
      "cell_type": "code",
      "execution_count": 14,
      "metadata": {
        "id": "nBF8oOluP5ID"
      },
      "outputs": [
        {
          "name": "stdout",
          "output_type": "stream",
          "text": [
            "The model accuracy is:  0.8333333333333334\n"
          ]
        }
      ],
      "source": [
        "# 1.) Instantiate a KNN learning model\n",
        "knn = KNeighborsClassifier(n_neighbors=5)\n",
        "\n",
        "# 2.) Fit the model to Xtrain\n",
        "knn = knn.fit(Xtrain,Ytrain)\n",
        "\n",
        "# 3.) Store the KNN predictions in Ypred\n",
        "Ypred = knn.predict(Xtrain)\n",
        "\n",
        "# 4.) Calculate accuracy (hint: you can do this manually or use sklearn)\n",
        "accuracy = accuracy_score(Ytrain,Ypred)\n",
        "print(\"The model accuracy is: \", accuracy)"
      ]
    },
    {
      "cell_type": "markdown",
      "metadata": {
        "id": "BEp8q_RuP5ID"
      },
      "source": [
        "---\n",
        "**Problem 3.a.** Rather than using the same training and testing set, we will do the following:\n",
        "\n",
        "- Train using the even-numbered rows (index 0,2,4,...)\n",
        "- Test using the odd-numbered rows (index 1,3,5,...)\n",
        "\n",
        "When we do this with KNN (K = 5), what accuracy do we obtain? Please be sure to use all four features of the data set to answer this question."
      ]
    },
    {
      "cell_type": "code",
      "execution_count": 15,
      "metadata": {
        "id": "fCKvHepmP5IE"
      },
      "outputs": [],
      "source": [
        "features = ['petalLength', 'petalWidth', 'sepalLength', 'sepalWidth']\n",
        "Xtrain = df[features]\n",
        "Ytrain = df.species\n",
        "\n"
      ]
    },
    {
      "cell_type": "code",
      "execution_count": 17,
      "metadata": {
        "id": "liFkF7DcP5IE"
      },
      "outputs": [
        {
          "name": "stdout",
          "output_type": "stream",
          "text": [
            "The model accuracy is:  0.9866666666666667\n"
          ]
        }
      ],
      "source": [
        "# 1.) Instantiate a KNN learning model\n",
        "knn = KNeighborsClassifier(n_neighbors=5)\n",
        "\n",
        "# 2.) Fit the model to Xtrain\n",
        "knn.fit(Xtrain.iloc[::2],Ytrain.iloc[::2])\n",
        "\n",
        "# 3.) Store the KNN predictions in Ypred\n",
        "Ypred = knn.predict(Xtrain.iloc[1::2])\n",
        "\n",
        "# 4.) Calculate accuracy (hint: you can do this manually or use sklearn)\n",
        "accuracy = accuracy_score(Ytrain.iloc[1::2], Ypred)\n",
        "print(\"The model accuracy is: \", accuracy)"
      ]
    },
    {
      "cell_type": "markdown",
      "metadata": {
        "id": "59dpjeYfP5IF"
      },
      "source": [
        "**Problem 3.b.** Using the same training and testing data sets described in problem 3.a, what accuracy do you obtain when K = 1?"
      ]
    },
    {
      "cell_type": "code",
      "execution_count": 18,
      "metadata": {
        "id": "rBXW1XtwP5IG"
      },
      "outputs": [
        {
          "name": "stdout",
          "output_type": "stream",
          "text": [
            "The model accuracy is:  0.96\n"
          ]
        }
      ],
      "source": [
        "# 1.) Instantiate a KNN learning model\n",
        "knn = KNeighborsClassifier(n_neighbors=1)\n",
        "\n",
        "# 2.) Fit the model to Xtrain\n",
        "knn.fit(Xtrain.iloc[::2],Ytrain.iloc[::2])\n",
        "\n",
        "# 3.) Store the KNN predictions in Ypred\n",
        "Ypred = knn.predict(Xtrain.iloc[1::2])\n",
        "\n",
        "# 4.) Calculate accuracy (hint: you can do this manually or use sklearn)\n",
        "accuracy = accuracy_score(Ytrain.iloc[1::2], Ypred)\n",
        "print(\"The model accuracy is: \", accuracy)"
      ]
    },
    {
      "cell_type": "code",
      "execution_count": null,
      "metadata": {},
      "outputs": [],
      "source": []
    }
  ],
  "metadata": {
    "colab": {
      "provenance": []
    },
    "kernelspec": {
      "display_name": "Python 3",
      "language": "python",
      "name": "python3"
    },
    "language_info": {
      "codemirror_mode": {
        "name": "ipython",
        "version": 3
      },
      "file_extension": ".py",
      "mimetype": "text/x-python",
      "name": "python",
      "nbconvert_exporter": "python",
      "pygments_lexer": "ipython3",
      "version": "3.11.4"
    }
  },
  "nbformat": 4,
  "nbformat_minor": 0
}
