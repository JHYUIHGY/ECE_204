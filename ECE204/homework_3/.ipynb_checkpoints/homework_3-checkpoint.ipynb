{
 "cells": [
  {
   "cell_type": "markdown",
   "metadata": {},
   "source": [
    "# Homework 3\n",
    "## ECE204 Data Science & Engineering"
   ]
  },
  {
   "cell_type": "markdown",
   "metadata": {},
   "source": [
    "---\n",
    "## Question 1\n",
    "> A number N is _divisible_ by P if P divides N evenly. For example, 15 is divisible by 1, 3, 5, and 15. The numbers [1,3,5,15] are called the \"divisors\" of 15. Your task is to create a function that returns the sum of all the divisors of a number. For example, if you call the function \"F\", you should find that F(15) returns 24.\n",
    "> We can figure out if N is divisible by P by using Python's \"modulo\" function. The syntax for this is:\n",
    "> ```python\n",
    "> N % P == 0    # this returns True if P divides N\n",
    ">```\n",
    "> <br>For more information about the modulo (%) function in Python, see [this link](https://www.pythoncentral.io/using-python-to-check-for-odd-or-even-numbers/).\n",
    ">\n",
    "> Write the function \"F\" and test it to make sure that `F(15) == 24`. Call the function with the argument given to you in Canvas."
   ]
  },
  {
   "cell_type": "code",
   "execution_count": 5,
   "metadata": {},
   "outputs": [
    {
     "data": {
      "text/plain": [
       "52416"
      ]
     },
     "execution_count": 5,
     "metadata": {},
     "output_type": "execute_result"
    }
   ],
   "source": [
    "# your code here\n",
    "def F(n):\n",
    "    sum = 0\n",
    "    for i in range(1, int(n / 2) + 1):\n",
    "        if n % i == 0:\n",
    "            sum += i\n",
    "    sum += n\n",
    "    return sum\n",
    "\n",
    "F(13860)"
   ]
  },
  {
   "cell_type": "markdown",
   "metadata": {},
   "source": [
    "---\n",
    "## Question 2\n",
    "> List comprehensions we saw in class looked like this:\n",
    "> ```python\n",
    "> [ (do this) for (item in collection) ]\n",
    "> ```\n",
    "> <br>But what if we only want to select the items that satisfy an additional condition as well? We can use the syntax:\n",
    "> ```python\n",
    "> [ (do this) for (item in collection) if (true/false condition) ]\n",
    "> ```\n",
    "> <br>**Use this technique to find the sum of numbers divisible by 7 or 11 and report this result. Be sure to use the range of vlaues (inclusive) given to you in Canvas**. You may want to start with a smaller number first to make sure your list comprehension is doing the right thing!\n",
    ">\n",
    "> `NOTE:` If a number is divisible by both 7 and 11, add it only **once**.\n",
    ">\n",
    "> Hint: The answer for numbers 1 to 30 would be: 7 + 11 + 14 + 21 + 22 + 28 = 103"
   ]
  },
  {
   "cell_type": "code",
   "execution_count": 11,
   "metadata": {},
   "outputs": [
    {
     "data": {
      "text/plain": [
       "11095700"
      ]
     },
     "execution_count": 11,
     "metadata": {},
     "output_type": "execute_result"
    }
   ],
   "source": [
    "# your code here\n",
    "sum([ i for i in range (61, 10026) if ((i%7==0) or (i%11==0)) ])"
   ]
  },
  {
   "cell_type": "markdown",
   "metadata": {},
   "source": [
    "---\n",
    "## Question 3\n",
    "> The square of the sum of the first ten natural numbers is\n",
    ">\n",
    "> $$(1 + 2 + ... + 10)^2 = 55^2 = 3025$$\n",
    "> \n",
    ">   The sum of the squares of the first ten natural numbers is\n",
    ">\n",
    "> $$1^2 + 2^2 + ... + 10^2 = 385$$\n",
    ">\n",
    "> Hence the difference between the square of the sum of first ten natural numbers and the sum of the squares is 3025 − 385 = 2640.\n",
    ">\n",
    "> **Find the difference between the square of the sum of the first X natural numbers and the sum of the squares. Note that X is the value given to you in Canvas**\n"
   ]
  },
  {
   "cell_type": "code",
   "execution_count": 17,
   "metadata": {},
   "outputs": [
    {
     "data": {
      "text/plain": [
       "52124380"
      ]
     },
     "execution_count": 17,
     "metadata": {},
     "output_type": "execute_result"
    }
   ],
   "source": [
    "# your code here\n",
    "def F(n):\n",
    "    square_of_sum = sum([i for i in range(n+1)])**2\n",
    "    sum_of_square = sum([i**2 for i in range(n+1)])\n",
    "    difference = square_of_sum - sum_of_square\n",
    "    return difference\n",
    "\n",
    "F(120)\n"
   ]
  },
  {
   "cell_type": "markdown",
   "metadata": {},
   "source": [
    "---\n",
    "## Question 4\n",
    "> Out of all the points in the list of `candidates`, find the one that is the furthest (in Euclidean distance) from the `given` point? Note: the `given` point is provided for you in Canvas. \n",
    "> What is this furthest / highest distance? **Report this furthest distance rounded to two numbers after the decimal.**\n",
    ">\n",
    "> `Hint: np.linalg.norm( )`"
   ]
  },
  {
   "cell_type": "code",
   "execution_count": 19,
   "metadata": {},
   "outputs": [],
   "source": [
    "candidates = [\n",
    "    (0.0, 1.0),\n",
    "    (0.32, 0.95),\n",
    "    (0.61, 0.79),\n",
    "    (0.84, 0.55),\n",
    "    (0.97, 0.25),\n",
    "    (1.0, -0.08),\n",
    "    (0.92, -0.4),\n",
    "    (0.74, -0.68),\n",
    "    (0.48, -0.88),\n",
    "    (0.16, -0.99),\n",
    "    (-0.16, -0.99),\n",
    "    (-0.48, -0.88),\n",
    "    (-0.74, -0.68),\n",
    "    (-0.92, -0.4),\n",
    "    (-1.0, -0.08),\n",
    "    (-0.97, 0.25),\n",
    "    (-0.84, 0.55),\n",
    "    (-0.61, 0.79),\n",
    "    (-0.32, 0.95),\n",
    "    (-0.0, 1.0)\n",
    "]\n",
    "\n",
    "given = [3, 1]"
   ]
  },
  {
   "cell_type": "code",
   "execution_count": 26,
   "metadata": {},
   "outputs": [
    {
     "data": {
      "text/plain": [
       "[[2.164116447883524, (0.97, 0.25)],\n",
       " [2.2063771209836274, (0.84, 0.55)],\n",
       " [2.2729716232280595, (1.0, -0.08)],\n",
       " [2.3992082027202226, (0.61, 0.79)],\n",
       " [2.5072694310743713, (0.92, -0.4)],\n",
       " [2.680466377330632, (0.32, 0.95)],\n",
       " [2.8160255680657444, (0.74, -0.68)],\n",
       " [3.0, (0.0, 1.0)],\n",
       " [3.0, (-0.0, 1.0)],\n",
       " [3.1440101781005736, (0.48, -0.88)],\n",
       " [3.3203764846776034, (-0.32, 0.95)],\n",
       " [3.467809106626257, (0.16, -0.99)],\n",
       " [3.6161028746428108, (-0.61, 0.79)],\n",
       " [3.7343941945113404, (-0.16, -0.99)],\n",
       " [3.8662772792442084, (-0.84, 0.55)],\n",
       " [3.9553508061864755, (-0.48, -0.88)],\n",
       " [4.0402227661355505, (-0.97, 0.25)],\n",
       " [4.1000000000000005, (-0.74, -0.68)],\n",
       " [4.143235450707575, (-1.0, -0.08)],\n",
       " [4.162499249249182, (-0.92, -0.4)]]"
      ]
     },
     "execution_count": 26,
     "metadata": {},
     "output_type": "execute_result"
    }
   ],
   "source": [
    "# your code here\n",
    "import numpy as np\n",
    "sorted([ [np.linalg.norm(np.array(given) - np.array(i)), i] for i in candidates])"
   ]
  },
  {
   "cell_type": "markdown",
   "metadata": {},
   "source": [
    "---\n",
    "## Question 5\n",
    "> `celsius.csv` contains a list of temperatures in Celsius. **What is the mean Fahrenheit temperature? (Report your answer rounded to two numbers after the decimal)**\n",
    ">\n",
    "> The Celsuis to Fahrenheit conversion is given by `fahrenheit = 1.8 * celsius + 32`."
   ]
  },
  {
   "cell_type": "code",
   "execution_count": 28,
   "metadata": {},
   "outputs": [
    {
     "data": {
      "text/html": [
       "<div>\n",
       "<style scoped>\n",
       "    .dataframe tbody tr th:only-of-type {\n",
       "        vertical-align: middle;\n",
       "    }\n",
       "\n",
       "    .dataframe tbody tr th {\n",
       "        vertical-align: top;\n",
       "    }\n",
       "\n",
       "    .dataframe thead th {\n",
       "        text-align: right;\n",
       "    }\n",
       "</style>\n",
       "<table border=\"1\" class=\"dataframe\">\n",
       "  <thead>\n",
       "    <tr style=\"text-align: right;\">\n",
       "      <th></th>\n",
       "      <th>temps</th>\n",
       "    </tr>\n",
       "  </thead>\n",
       "  <tbody>\n",
       "    <tr>\n",
       "      <th>0</th>\n",
       "      <td>54.88</td>\n",
       "    </tr>\n",
       "    <tr>\n",
       "      <th>1</th>\n",
       "      <td>71.52</td>\n",
       "    </tr>\n",
       "    <tr>\n",
       "      <th>2</th>\n",
       "      <td>60.28</td>\n",
       "    </tr>\n",
       "    <tr>\n",
       "      <th>3</th>\n",
       "      <td>54.49</td>\n",
       "    </tr>\n",
       "    <tr>\n",
       "      <th>4</th>\n",
       "      <td>42.37</td>\n",
       "    </tr>\n",
       "  </tbody>\n",
       "</table>\n",
       "</div>"
      ],
      "text/plain": [
       "   temps\n",
       "0  54.88\n",
       "1  71.52\n",
       "2  60.28\n",
       "3  54.49\n",
       "4  42.37"
      ]
     },
     "execution_count": 28,
     "metadata": {},
     "output_type": "execute_result"
    }
   ],
   "source": [
    "# given code\n",
    "import pandas as pd\n",
    "# Import the data file and have a look!\n",
    "s = pd.read_csv(\"celsius.csv\")\n",
    "s.head()"
   ]
  },
  {
   "cell_type": "markdown",
   "metadata": {},
   "source": [
    "---\n",
    "## Question 6\n",
    "> **What is the fastest method to convert from Celsius to Fahrenheit?**\n",
    ">\n",
    "> * a list comphrension used to make a list of all the converted temperatures\n",
    "> * using `Series.apply` to convert each element of the Series\n",
    "> * directly evaluating (`1.8*T + 32`), where `T` is the Series of temperatures\n",
    ">\n",
    "> `NOTE:` Use `%timeit` to do your timing analysis. Use the `celsius.csv` data file from the previous problem."
   ]
  },
  {
   "cell_type": "code",
   "execution_count": 47,
   "metadata": {},
   "outputs": [
    {
     "name": "stdout",
     "output_type": "stream",
     "text": [
      "71.3 µs ± 11.3 µs per loop (mean ± std. dev. of 7 runs, 100 loops each)\n",
      "992 µs ± 10.9 µs per loop (mean ± std. dev. of 7 runs, 100 loops each)\n",
      "705 µs ± 12.4 µs per loop (mean ± std. dev. of 7 runs, 100 loops each)\n"
     ]
    }
   ],
   "source": [
    "# your code here\n",
    "\n",
    "# Define the conversion functions\n",
    "def method1(T):\n",
    "    return 1.8 * T + 32\n",
    "\n",
    "def method2(T):\n",
    "    return T.apply(lambda x: 1.8 * x + 32)\n",
    "\n",
    "def method3(T):\n",
    "    return [1.8 * x + 32 for x in T]\n",
    "\n",
    "# Use %timeit to measure the execution time for each method\n",
    "%timeit -n 100 method1(s['temps'])\n",
    "%timeit -n 100 method2(s['temps'])\n",
    "%timeit -n 100 method3(s['temps'])\n"
   ]
  },
  {
   "cell_type": "markdown",
   "metadata": {},
   "source": [
    "---\n",
    "## Question 7\n",
    "> **What is one of the centers in `features.csv` when using Scikit-Learn's KMeans?** They are listed as `[feature0, feature1]`, and `KMeans` should be used as `KMeans(n_clusters=4, random_state=42)`. These numbers are rounded -- pick the closest one in the list.\n",
    ">\n",
    "> Hint: read the documentation at https://scikit-learn.org/stable/modules/generated/sklearn.cluster.KMeans.html\n",
    ">\n",
    "> * [170  67]\n",
    "> * [170  88]\n",
    "> * [201  88]\n",
    "> * [201  67]\n",
    "> * [-131  748]\n",
    "> * [-131  728]\n",
    "> * [-161  728]\n",
    "> * [-161  748]"
   ]
  },
  {
   "cell_type": "code",
   "execution_count": 135,
   "metadata": {},
   "outputs": [
    {
     "data": {
      "text/html": [
       "<div>\n",
       "<style scoped>\n",
       "    .dataframe tbody tr th:only-of-type {\n",
       "        vertical-align: middle;\n",
       "    }\n",
       "\n",
       "    .dataframe tbody tr th {\n",
       "        vertical-align: top;\n",
       "    }\n",
       "\n",
       "    .dataframe thead th {\n",
       "        text-align: right;\n",
       "    }\n",
       "</style>\n",
       "<table border=\"1\" class=\"dataframe\">\n",
       "  <thead>\n",
       "    <tr style=\"text-align: right;\">\n",
       "      <th></th>\n",
       "      <th>feature0</th>\n",
       "      <th>feature1</th>\n",
       "    </tr>\n",
       "  </thead>\n",
       "  <tbody>\n",
       "    <tr>\n",
       "      <th>0</th>\n",
       "      <td>124.30</td>\n",
       "      <td>172.35</td>\n",
       "    </tr>\n",
       "    <tr>\n",
       "      <th>1</th>\n",
       "      <td>-135.85</td>\n",
       "      <td>755.16</td>\n",
       "    </tr>\n",
       "    <tr>\n",
       "      <th>2</th>\n",
       "      <td>109.56</td>\n",
       "      <td>483.43</td>\n",
       "    </tr>\n",
       "    <tr>\n",
       "      <th>3</th>\n",
       "      <td>-109.52</td>\n",
       "      <td>782.18</td>\n",
       "    </tr>\n",
       "    <tr>\n",
       "      <th>4</th>\n",
       "      <td>153.27</td>\n",
       "      <td>156.09</td>\n",
       "    </tr>\n",
       "  </tbody>\n",
       "</table>\n",
       "</div>"
      ],
      "text/plain": [
       "   feature0  feature1\n",
       "0    124.30    172.35\n",
       "1   -135.85    755.16\n",
       "2    109.56    483.43\n",
       "3   -109.52    782.18\n",
       "4    153.27    156.09"
      ]
     },
     "execution_count": 135,
     "metadata": {},
     "output_type": "execute_result"
    }
   ],
   "source": [
    "# Read the dataset and take a look!\n",
    "df = pd.read_csv(\"features.csv\")\n",
    "df.head()"
   ]
  },
  {
   "cell_type": "code",
   "execution_count": 140,
   "metadata": {},
   "outputs": [
    {
     "name": "stdout",
     "output_type": "stream",
     "text": [
      "[[-133.15813333  778.09466667]\n",
      " [ 200.6812       87.76973333]\n",
      " [  95.85786667  438.06426667]\n",
      " [-156.52253333  285.9836    ]]\n"
     ]
    },
    {
     "name": "stderr",
     "output_type": "stream",
     "text": [
      "/Users/janeli/anaconda3/envs/bonding/lib/python3.11/site-packages/sklearn/cluster/_kmeans.py:870: FutureWarning: The default value of `n_init` will change from 10 to 'auto' in 1.4. Set the value of `n_init` explicitly to suppress the warning\n",
      "  warnings.warn(\n"
     ]
    },
    {
     "data": {
      "image/png": "[encoded data removed]",
      "text/plain": [
       "<Figure size 640x480 with 1 Axes>"
      ]
     },
     "metadata": {},
     "output_type": "display_data"
    }
   ],
   "source": [
    "# your code here\n",
    "\n",
    "from sklearn.cluster import KMeans\n",
    "km = KMeans(n_clusters=4, random_state=42)\n",
    "\n",
    "km.fit(df)\n",
    "\n",
    "# Get the cluster centers\n",
    "centers = km.cluster_centers_\n",
    "\n",
    "\n",
    "df.plot.scatter(x=\"feature0\", y=\"feature1\", c=km.predict(df),cmap=\"viridis\", colorbar=False)\n",
    "print(centers)"
   ]
  },
  {
   "cell_type": "markdown",
   "metadata": {},
   "source": [
    "---\n",
    "## Question 8\n",
    "> **Using the same setup as before, which cluster center is the point `[-100, 850]` nearest to?** <br>\n",
    ">\n",
    "> `NOTE:` **choose a valid cluster center**\n",
    ">\n",
    "> * [-157,  286]\n",
    "> * [-91,  743]\n",
    "> * [ 201,   87]\n",
    "> * [  -133,  778]"
   ]
  },
  {
   "cell_type": "code",
   "execution_count": 52,
   "metadata": {},
   "outputs": [
    {
     "data": {
      "text/plain": [
       "[[79.20227269466452, [-133, 778]],\n",
       " [107.37783756436893, [-91, 743]],\n",
       " [566.8730016502815, [-157, 286]],\n",
       " [820.2255787281936, [201, 87]]]"
      ]
     },
     "execution_count": 52,
     "metadata": {},
     "output_type": "execute_result"
    }
   ],
   "source": [
    "# your code here\n",
    "point = [-100, 850]\n",
    "arrays = [[ -133, 778],[-157, 286],[-91, 743],[ 201, 87]]\n",
    "sorted([ [np.linalg.norm(np.array(point) - np.array(i)), i] for i in arrays])"
   ]
  },
  {
   "cell_type": "code",
   "execution_count": 65,
   "metadata": {},
   "outputs": [
    {
     "data": {
      "text/plain": [
       "['Alice', 'Ryan', 'Tara']"
      ]
     },
     "execution_count": 65,
     "metadata": {},
     "output_type": "execute_result"
    }
   ],
   "source": [
    "import random\n",
    "r = lambda x: random.randint(0, 99)\n",
    "random.seed(0)\n",
    "\n",
    "names_and_ages = {'Alice': 25, 'Bob': 18, 'Charlie': 32, 'David': 9, 'Eva': 45}\n",
    "# Add more names and ages to the dictionary\n",
    "names_and_ages.update({'Frank': r(0), 'Grace': r(0), 'Henry': r(0), 'Iris': r(0), 'Jack': r(0), 'Kelly': r(0), 'Leo': r(0), 'Mia': r(0), 'Noah': r(0), 'Olivia': r(0), 'Peter': r(0), 'Quinn': r(0), 'Ryan': r(0), 'Sophia': r(0), 'Tyler': r(0), 'Uma': r(0), 'Victor': r(0), 'Wendy': r(0), 'Xavier': r(0), 'Yara': r(0), 'Zach': r(0), 'Abby': r(0), 'Ben': r(0), 'Chloe': r(0), 'Dylan': r(0), 'Eli': r(0), 'Faith': r(0), 'George': r(0), 'Hailey': r(0), 'Isaac': r(0), 'Jade': r(0), 'Kevin': r(0), 'Lily': r(0), 'Max': r(0), 'Nora': r(0), 'Oscar': r(0), 'Paige': r(0), 'Riley': r(0), 'Sam': r(0), 'Tara': r(0), 'Uri': r(0), 'Vera': r(0), 'Will': r(0), 'Xena': r(0), 'Yosef': r(0), 'Zoe': r(0)})\n",
    "result = []\n",
    "for key in names_and_ages:\n",
    "    age = names_and_ages[key]\n",
    "    if (age >= 20 and age <= 29):\n",
    "        result.append(key)\n",
    "result\n"
   ]
  },
  {
   "cell_type": "code",
   "execution_count": 68,
   "metadata": {},
   "outputs": [
    {
     "data": {
      "text/plain": [
       "['Noah', 'Uma', 'Eli', 'Jade', 'Paige']"
      ]
     },
     "execution_count": 68,
     "metadata": {},
     "output_type": "execute_result"
    }
   ],
   "source": [
    "result = []\n",
    "for key in names_and_ages:\n",
    "    age = names_and_ages[key]\n",
    "    if (age >= 30 and age <= 39):\n",
    "        result.append(key)\n",
    "result"
   ]
  },
  {
   "cell_type": "code",
   "execution_count": 69,
   "metadata": {},
   "outputs": [
    {
     "data": {
      "text/plain": [
       "['Noah', 'Uma', 'Eli', 'Jade', 'Paige']"
      ]
     },
     "execution_count": 69,
     "metadata": {},
     "output_type": "execute_result"
    }
   ],
   "source": [
    "result = []\n",
    "for key in names_and_ages:\n",
    "    age = names_and_ages[key]\n",
    "    if (age >= 35 and age <= 44):\n",
    "        result.append(key)\n",
    "result"
   ]
  },
  {
   "cell_type": "code",
   "execution_count": 71,
   "metadata": {},
   "outputs": [],
   "source": [
    "string = ('Data science is the art and science of extracting insights from data. Data can be any kind of information, such as '\n",
    "          'numbers, texts, images, sounds, or even DNA. Data science uses various methods and tools, such as statistics, machine '\n",
    "          'learning, programming, visualization, and domain knowledge, to analyze, interpret, and communicate data. Data science '\n",
    "          'can be applied to many fields and problems, such as business, health, education, social media, sports, and more. Data '\n",
    "          'science can help us understand the past, present, and future trends, patterns, and behaviors of various phenomena. Data '\n",
    "          'science can also help us make better decisions, predictions, and recommendations based on data. Some examples of data '\n",
    "          'science applications are: Recommending products, movies, or music to users based on their preferences and history. Detecting '\n",
    "          'fraud, spam, or anomalies in transactions, emails, or networks. Classifying images, texts, or sounds into categories, such as '\n",
    "          'faces, emotions, or genres. Generating new content, such as poems, songs, or stories, based on existing data. Finding optimal '\n",
    "          'solutions, such as routes, schedules, or prices, for complex problems. As you can see, data science is a very civic and radar '\n",
    "          'field, as it can wow us with its power and potential. Data science is also a very popular and deedful field, as it can benefit '\n",
    "          'many people and sectors. Data science is not a racecar or a rotor, but a Kayak that can take us to new horizons of knowledge and innovation.')"
   ]
  },
  {
   "cell_type": "code",
   "execution_count": 91,
   "metadata": {},
   "outputs": [
    {
     "data": {
      "text/plain": [
       "['a', 'civic', 'radar', 'wow', 'a', 'a', 'racecar', 'a', 'rotor', 'a', 'kayak']"
      ]
     },
     "execution_count": 91,
     "metadata": {},
     "output_type": "execute_result"
    }
   ],
   "source": [
    "sentences = string.split(\". \")\n",
    "words = []\n",
    "for sentence in sentences:\n",
    "    sentence = sentence.split(\", \")\n",
    "    for s in sentence:\n",
    "        words.append(s)\n",
    "\n",
    "all_word = []\n",
    "for word in words:\n",
    "    word = word.split(\" \")\n",
    "    for w in word:\n",
    "        all_word.append(w)\n",
    "\n",
    "palindrome = []\n",
    "for word in all_word:\n",
    "    word = word.lower()\n",
    "    if (word == word[::-1]):\n",
    "        palindrome.append(word)\n",
    "\n",
    "palindrome"
   ]
  },
  {
   "cell_type": "code",
   "execution_count": 97,
   "metadata": {},
   "outputs": [],
   "source": [
    "string = ('Data science is the discipline of discovering, deriving, and delivering insights from data. Data scientists use diverse methods and tools to collect, clean, analyze, and visualize data. They apply domain knowledge and statistical techniques to solve complex problems and make data-driven decisions. Data science is a dynamic and interdisciplinary field that draws from mathematics, computer science, and other domains. Data science has many applications and benefits for various industries and sectors, such as healthcare, education, business, and government.'\n",
    "          'Data science is not only about analyzing data, but also about communicating the results and recommendations to different audiences. Data scientists need to have effective storytelling skills to present their findings in a clear and compelling way. They use various formats and platforms, such as reports, dashboards, blogs, podcasts, and videos, to convey their messages and persuade their stakeholders. Data science is also about collaborating with other experts and professionals, such as domain specialists, engineers, developers, and managers, to achieve common goals and objectives. Data scientists need to have strong interpersonal and teamwork skills to work well with others and leverage their diverse perspectives and expertise. Data science is a rapidly evolving and expanding field that offers many opportunities and challenges for those who are interested and passionate about data. Data scientists need to have a curious and creative mindset to explore new data sources, methods, and technologies. They also need to have a critical and ethical mindset to ensure the quality, validity, and reliability of their data and analyses. Data science is a rewarding and exciting career path that allows data scientists to make a positive impact on the world and society.')"
   ]
  },
  {
   "cell_type": "code",
   "execution_count": 98,
   "metadata": {},
   "outputs": [
    {
     "data": {
      "text/plain": [
       "14"
      ]
     },
     "execution_count": 98,
     "metadata": {},
     "output_type": "execute_result"
    }
   ],
   "source": [
    "sentences = string.split(\". \")\n",
    "words = []\n",
    "for sentence in sentences:\n",
    "    sentence = sentence.split(\", \")\n",
    "    for s in sentence:\n",
    "        words.append(s)\n",
    "\n",
    "all_word = []\n",
    "for word in words:\n",
    "    word = word.split(\" \")\n",
    "    for w in word:\n",
    "        all_word.append(w)\n",
    "\n",
    "special = []\n",
    "for word in all_word:\n",
    "    if (word[0] == \"d\" and word[1] != \"a\"):\n",
    "        special.append(word)\n",
    "\n",
    "len(special)"
   ]
  },
  {
   "cell_type": "code",
   "execution_count": 99,
   "metadata": {},
   "outputs": [],
   "source": [
    "s = ('Data science is the field of study that combines mathematics, statistics, computer science, and domain knowledge to collect, analyze, and extract insights from large and complex data sets. Data science is important for a plethora reasons, especially in our current world where data is abundant and ubiquitous. First, data science can help us understand the world better by finding patterns, trends, and correlations in data. For example, data science can help us discover the causes and effects of climate change, the spread and prevention of diseases, the behavior and preferences of customers, the performance and optimization of systems, and many more. Data science can also help us make better decisions by providing evidence-based and data-driven solutions to various problems and challenges. Second, data science can help us create new and innovative products and services by using data as a raw material. For example, data science can help us create personalized recommendations, smart assistants, self-driving cars, facial recognition, natural language processing, computer vision, and many more. Data science can also help us improve the quality and efficiency of existing products and services by using data to monitor, evaluate, and enhance their performance. Third, data science can help us advance the frontiers of knowledge and discovery by using data as a source of inspiration. For example, data science can help us explore the mysteries of the universe, the secrets of the human genome, the origins of life, the evolution of languages, the dynamics of social networks, and many more. Data science can also help us generate new and novel hypotheses and questions by using data to stimulate our curiosity and creativity. Learning data science at a young age is going to be important for your future career because data science is a highly valuable and in-demand skill in the modern world. Data science is applicable to almost every domain and industry, such as health care, education, business, finance, engineering, arts, and entertainment. Data science is also a versatile and flexible skill that can adapt to the changing needs and trends of the society and the economy. Data science is also a rewarding and fulfilling skill that can enable you to make a positive impact on the world and the people around you. Therefore, data science is a vital and essential field of study that can help us make sense of the data that surrounds us, create value from the data that we have, and discover new possibilities from the data that we generate. Learning data scinece at a young age can help you prepare for the future and achieve your goals and aspirations.')"
   ]
  },
  {
   "cell_type": "code",
   "execution_count": 118,
   "metadata": {},
   "outputs": [
    {
     "data": {
      "text/plain": [
       "'science is a vital and essential field of study that can help us make sense of the D that surrounds us, cr'"
      ]
     },
     "execution_count": 118,
     "metadata": {},
     "output_type": "execute_result"
    }
   ],
   "source": [
    "s = s.replace(\"data\", \"D\")\n",
    "s[2294:2400]"
   ]
  },
  {
   "cell_type": "code",
   "execution_count": 133,
   "metadata": {},
   "outputs": [
    {
     "data": {
      "text/plain": [
       "204"
      ]
     },
     "execution_count": 133,
     "metadata": {},
     "output_type": "execute_result"
    }
   ],
   "source": [
    "import re\n",
    "\n",
    "def count_valid_us_phone_numbers(phone_numbers):\n",
    "    # Regular expression pattern for valid US phone numbers\n",
    "    pattern = r'\\(\\d{3}\\) \\d{3}-\\d{4}'\n",
    "    # Count of valid US phone numbers\n",
    "    valid_count = 0\n",
    "    # Iterate through each phone number\n",
    "    for phone_number in phone_numbers:\n",
    "        # Check if the phone number matches the pattern and has exactly 10 digits\n",
    "        if re.fullmatch(pattern, phone_number):\n",
    "            # Increment the count if it's valid\n",
    "            valid_count += 1\n",
    "    return valid_count\n",
    "\n",
    "\n",
    "\n",
    "\n",
    "\n",
    "phone_numbers = ['(7425) 734-9527', '(299) 937-6414', '(994) 285-7386', '(482) 815-9840', '(591) 758-9654', '(352) 166-0789', '(8953) 288-5954', '(997) 646-2712', '(381) 605-6066', '(339) 091-2890', '(122) 315-1913', '(891) 906-3254', '(445) 338-5073', '(229) 239-6734', '(013) 638-4474', '(042) 545-8434', '(8819) 079-6327', '(850) 682-8302', '(781) 638-0065', '(9907) 679-3525', '(137) 360-9235', '(420) 504-4094', '(9346) 378-3960', '(700) 544-6439', '(743) 879-6132', '(921) 351-46849', '(446) 623-01278', '(780) 802-0831', '(695) 5568-9792', '(584) 358-6015', '(089) 480-1280', '(448) 619-6304', '(066) 533-4864', '(316) 719-9868', '(717) 747-0949', '(6520) 876-3145', '(9407) 046-9970', '(303) 980-2269', '(030) 811-9193', '(299) 191-1898', '(272) 010-0457', '(460) 390-4732', '(497) 567-3742', '(914) 420-6027', '(517) 672-2918', '(255) 122-9507', '(352) 1425-6546', '(772) 616-5163', '(446) 603-0604', '(0508) 760-6986', '(272) 431-8447', '(194) 383-1950', '(201) 616-7528', '(465) 9995-7220', '(061) 693-3187', '(430) 325-2673', '(2370) 0470-9410', '(749) 047-0141', '(9345) 522-6522', '(707) 276-5816', '(736) 628-5626', '(185) 501-9507', '(756) 787-5691', '(5340) 664-3826', '(873) 079-4762', '(335) 106-0260', '(948) 431-9734', '(576) 094-0185', '(138) 208-7610', '(5641) 287-9002', '(237) 243-9597', '(264) 440-0657', '(625) 992-3995', '(639) 370-5936', '(769) 101-98771', '(491) 611-7672', '(497) 5591-7871', '(953) 5468-0596', '(647) 829-4745', '(7919) 6928-6000', '(737) 380-8173', '(450) 301-5098', '(3997) 654-0114', '(708) 576-5058', '(272) 991-0560', '(806) 241-6455', '(3804) 485-30708', '(403) 077-8003', '(7658) 081-3131', '(604) 840-8782', '(083) 4096-0315', '(196) 869-8602', '(122) 481-0903', '(9085) 716-6304', '(3215) 046-4423', '(358) 8306-2037', '(1807) 483-6134', '(925) 3676-1915', '(624) 273-6143', '(767) 512-5838', '(731) 8488-5369', '(7389) 959-10579', '(662) 916-3708', '(4145) 479-8089', '(888) 627-0138', '(990) 354-1846', '(151) 810-3952', '(118) 881-0857', '(695) 300-8324', '(5305) 337-9748', '(317) 546-9434', '(984) 432-9413', '(599) 665-3603', '(2995) 023-7320', '(016) 1710-8012', '(3843) 625-8665', '(972) 663-6251', '(918) 434-5382', '(490) 047-4242', '(659) 5025-9108', '(7464) 378-57197', '(466) 524-9851', '(146) 687-6983', '(153) 468-1779', '(458) 028-8420', '(1643) 094-4737', '(290) 512-2823', '(382) 165-9437', '(469) 814-2333', '(1853) 140-3396', '(705) 854-7357', '(6936) 329-9828', '(2670) 379-6217', '(5344) 409-2460', '(6286) 590-8615', '(452) 844-3528', '(238) 9075-2244', '(0783) 231-2028', '(892) 851-9287', '(778) 152-4100', '(0997) 243-7812', '(085) 447-1650', '(639) 614-8134', '(428) 3635-5678', '(255) 597-8434', '(607) 4021-7089', '(193) 090-9838', '(433) 767-5329', '(116) 559-9080', '(954) 996-3196', '(963) 081-2764', '(976) 717-7461', '(276) 500-7113', '(8380) 590-9053', '(748) 9088-9129', '(5224) 607-0278', '(913) 315-3234', '(033) 440-6851', '(135) 553-7487', '(4370) 935-0146', '(510) 912-9906', '(678) 871-7591', '(284) 7959-4595', '(6533) 295-8923', '(317) 571-6667', '(423) 347-9615', '(564) 698-8109', '(653) 842-7970', '(8537) 050-8705', '(189) 5812-2124', '(720) 691-0541', '(2868) 770-2501', '(032) 382-7613', '(592) 039-8794', '(857) 043-3873', '(751) 655-4305', '(671) 254-5520', '(0115) 436-8660', '(726) 4520-4682', '(767) 014-6219', '(025) 715-7381', '(5473) 426-8411', '(229) 959-2403', '(1208) 542-7716', '(575) 6601-7161', '(860) 247-9719', '(363) 227-1823', '(7459) 769-4626', '(3343) 072-4655', '(013) 445-4910', '(781) 369-7162', '(946) 845-4095', '(626) 086-5560', '(074) 364-9411', '(317) 167-8641', '(817) 501-6323', '(553) 859-2548', '(872) 189-0477', '(017) 189-5044', '(4050) 6769-2004', '(706) 874-7003', '(367) 295-6616', '(979) 8564-4961', '(440) 336-8400', '(0616) 9442-9048', '(182) 308-4068', '(965) 840-2000', '(8401) 5700-1894', '(745) 513-5050', '(2798) 365-6147', '(233) 176-1144', '(988) 683-7121', '(627) 979-0339', '(279) 979-0629', '(8729) 611-5486', '(063) 251-7845', '(638) 703-9776', '(7697) 817-3149', '(7620) 9097-1129', '(544) 322-0955', '(777) 4077-4893', '(477) 150-3007', '(193) 617-4779', '(353) 808-1910', '(506) 503-4338', '(169) 764-2424', '(818) 610-3283', '(978) 054-0323', '(137) 881-6154', '(788) 304-7016', '(6005) 738-7766', '(811) 259-7860', '(794) 349-9407', '(125) 856-5622', '(611) 831-5565', '(837) 345-0780', '(018) 967-7783', '(656) 430-5874', '(069) 322-3432', '(4543) 826-9424', '(881) 4919-8281', '(6194) 800-0709', '(563) 438-2542', '(809) 1927-4757', '(038) 953-4280', '(959) 868-9378', '(782) 409-1836', '(469) 089-1478', '(9614) 1935-0149', '(6173) 545-8488', '(455) 783-2172', '(9333) 988-9889', '(055) 797-7816', '(842) 400-4655', '(0357) 668-5040', '(8315) 785-0244', '(1556) 003-7618', '(813) 659-5645', '(814) 101-3315', '(038) 984-7435', '(689) 523-7511', '(166) 752-3024', '(787) 516-2329', '(313) 813-2199', '(504) 823-9545', '(728) 242-60832', '(819) 650-4483', '(060) 013-1999', '(9547) 271-9513', '(415) 916-1562', '(891) 569-8009', '(725) 779-4164', '(934) 323-3930', '(5370) 101-0921', '(257) 366-4631', '(0819) 0768-3775', '(7495) 012-1055', '(644) 666-2656', '(745) 2678-9954', '(536) 878-9355', '(690) 459-2857', '(944) 375-6230', '(236) 721-4061', '(293) 612-5397', '(088) 818-2013', '(804) 883-4264', '(752) 046-2043', '(054) 630-7507', '(1755) 413-8762', '(879) 935-7991', '(540) 772-7396', '(019) 725-9593', '(601) 214-1814', '(726) 421-5652', '(149) 989-6486', '(984) 443-8161', '(2109) 385-5062', '(869) 086-2955']\n",
    "\n",
    "count_valid_us_phone_numbers(phone_numbers)\n",
    "\n"
   ]
  },
  {
   "cell_type": "code",
   "execution_count": 134,
   "metadata": {},
   "outputs": [],
   "source": [
    "passwords = ['M9TB!My6@', 'Q8mT3Zi8?', 'Za$QFPo8!', '@nMLpQ0Hh2&', 'Lxy?eHETr9!', '?J*EB1Ee0&', 'yFcIUw5@', '&Bd2&', 'hc2Bt0$', 'HTNf0*', '0%NTKq4@', 'TXc5?', '1eAt3?', 'g1yOO7*', 'ypzMAg0?', '*SoUc0!', '$6Rk5*', 'fEi5!', 'QM1nm9EPx3@', 'tvWlKd7@', 'B2Ad6*', 'zpLd1&', '@sZ2$PTe1$', 'e?sGtWLkr9$', 'b5QutPc1*', '2AL19XMQb9@', 'HMZa0?', 'ktT0Jx5@', 'SyX@ohYe0@', 'XLpyKu1?', '*BLz1@', 'd53Ns6@', 'UCl1o', '6o9Xa4!', 'NuWsqC?Pj4*', 'jq1Fj5%', '1P4AVL8Ch7?', 'x13Di1*', '7aBMo%Ou1%', 'cpIfaGYp1?', 'kejHNRhMo1?', '&nFc6&', '81BFd1%', 'bEx7@', '36QXIu4?', 'X2@&CzEo2*', 'wDMlKTBm0$', 'BRIf%gQv8?', 'C6yRAe1&', 'yzGMNXKi0*', '0$64pkfHb4*', 'YfxEn3%', '4%7HIDKn1*', '%2Df6I', 'NVw8?', 'w%Rq5!', 'ndT@6NXe3&', 'HFv7&', 'SKx3!', 'hSPu0@', '7fp0Xvavk6%', 'cvVq2@', 'e$Tt0!', 'K8eXy6!', 'LA*RXGnPb0!', 'bgtSULOHs8?', '9Gat6$', '3INCv2*', 'a%tXRq8!', 'T$cFUt3@', 'myvCs7$', 'zYX3*Ny5*', 'kSUaEs4!', '0s?ZBk0!', 'XxSWu0?', '5tew*OKw4&', 'r8hkZo9$', 'prTl9%', 'vTj0g4wBn0?', 'HyIv4*', 'kgZMt0!', 'WRus*wDp0$', 'EKQvHt5@', 'wLs2y', 'QFrUBZSt2&', '9YiGJVILd6%', '&Ph4@', 'K!oVSsWo9%', 'WfLQy0$', 'j2Ee1*', '0HuRPl9?', '8%N0?Xx8!', '%oITu8@', 'Duj%vXp5@', 'XvNt3%', 'Y8HxDUkQo0%', '9DoLsUZEo1@', '@n8SBY2*', 'jN2Ji3@', 'pZTGx7?', 'Lp5tNi5%', 'CHd6%', '0lHPk6$', 'k7AG0@', 'dim7&', 'Oz1%Wd4@', 'k!QDDq7%', 'G98sDAo0*', 'tReQEq1$', '*yPx3tGf6@', 'zaSg9%', 'KR$yVv1&', 'tY7AVfbMo5&', 'r?@NWifNs9&', 'Ed%Ag6*', 'lftHm6?', 'dp3Mx0@', 'u$cHLt3?', '@eZy1!', 'SzB7OqrWv3%', 'bLovAc5!', 'PwLE3KCn8*', 'F*rIc5!', 'gDKz8%', 'IZ3Eo0&', 'dxD1uFWGh2$', 'c6zhSv2?', 'kbFRq7@', '%i5Xc2*', 'GrAt2!', '!MPj5!', '8RH3M6$Zt8&', 'aXg4%', 'l3odwbTf4&', '!0Dag3Gm3!', 'yhRUe8@', 'Z51u*qRIu1%', '2HJoTjaDs1&', 'rEd6%', 'h5sBt6$', 'ibKtsrIi3%', '@8k*Ke5*', 'Osj?teRn8@', 'O7%Cq4*', 'FdZq0$', 'E9Suf?HKi7%', 'w4OMw4?', 'V6EMj3$', 'xTRf8?', '6kG!K@Ln5?', 'I4N19VXw6@', 'mEcfCz1*', 'xCrqDHWe9*', 'zcS9qTi3@', 'a1qs@fWi9?', 'ymSFo5?', 'rRm1$', 'XqIo5%', 'vezDEmMOg6@', 'qy*3YHRg8$', 'z4B*aTz0!', 'lpIu4%', '%POjAp4$', '?y@St!Ux6%', 'eGd2$', 'WAw9@', 'winHe9?', 'G0XcLESn0?', '*qQEh8$', '5gK%2Hz4&', '8H%Zq$Gf0!', 'NPyAg5!', 'Unl5qmaYx7%', 'LvMWm7$', 'v5ZYk7&', 'hFov4%kRd8&', 'mNkWAGWf7?', 'DKS%Tq8&', 'PcV8KXw4!', '7Fg6?', 'RXq8%', 'DKBc5%', 'M8V&Mv6%', '$imweJc3!', '9unoVn6$', 'LBs4!', 'vZc5@', '5!Ty1$', 'WVPYNCu8@', 'GArMy5j', 'm!$sGPIe0$', 'XTeQDWh5&', '1aIDwIy2!', 'fHaduUd2%', '5QSUocARg0?', '$0Yut2Hx6&', 'xmtGUx36', 'KW%c$zBKr6%', 'd&$XS8Nx0@', '3iCWp9$', 'CfU%HOw2%', '@Dj2*', 'oN?UJl2%', 'Ws2AUg1%', 'RC$tm4Kl4&', 'PNQayKf4!', 'WFp3@', 'mBMZw5Eu1&', 'B*TFu6!', '43mUCOz0$', 'IRk7&', 'W1ORDQJo2@', 'ohPNyiAx7&', '1AYfFz5%', 'JL5R0@vEy3@', 'JbB7MZ*Jo8!', 'jIVe2%', 'mrNf1&', 'mr1Ks8$', 'YbhyZv5$', 'hSQvlJ8Sd5@', '6iXI7KbTu2&', '4aPt1d%Oz1$', '&Zf1%', 'ydWQHCh1$', '8b*YRB9Xb4&', 'MGvZFf4$', 'mCc9$', 'ltVaQAu0*', 'mMtTeb1Ja9%', '6ibflqMa6S', 'WdO1Hu8@', 'BePq0&', '$uWC0Fs6!', 'kotvMdWl0?', '%BQt2*', 'HnKv1?', 'YdfVm1*', 'pKLw@Xc1*', 'nr7SSw3@', 'i7w&Yp5&', '?VUs4*', 'xRJl7*', '$KQlADx8@', 'i5qWk3*', 'TWzcYIo0!', 'LzUFkCDk0%', '5buavgWu4@', '$Hh7!', '5YbOAqBt8@', 'NpOGI5CMt8&', 'QnzacJkT?', 'HzZ59Va7?', 'HYt9&', 'XRwVf8@', 'wTYt5@', 'Pdb6GBDu0%', '?KiQ9RYx6*', 'zoFdQh7*', 'RRp6$', 'tkrEt5*', 'VUi0y?8YC0$', 'OmvTEg8$', 'V&ITtLd5$', 'd40mOt6?', '2Aw9$', '6O9SCNQt7$', 'aCXrGEi3!', 'rdYVx7!', 'x$6eMw9$', 'uhnqGDj4$', 'nhdR2Ld6!', 'StfZh1%', 'oZk8*', 'RlBu5$', 'B%Mn3&', 'PQoKmSb9?', 'g79Cd6%', '9yFw4@', 'JEx9*', 'g&0MLb6?', 'pbDn4&', 'g*@jDe8$', '1GyeXtSCh3&', 'QDiEb4%', 'AmHq6!', 'Yi84mvOKg6&', '2Q&WfIi0%', 'Q2Ac0$', '?cW7vTg3$', 'DHMl1&', 'ZUd8*', 'TG3we%Wz9*', 'VG6KWy3!', 'TG!bi1QRd1$', 'Wx0eS2Wn7&', 'fCSo8!', 'eyMA5Jr3!', 'Z!TtlPnWa2?', 'eYm4!', 'NfAM@WCh6%', '7yNLLc7!', 'uta6j0Gp3%', '1guGL!2Fc9&', '9iNA17wSa7@', '?KWp5@', '2lAu6!', 'uBPt0@', 'ZHb$?mUc0&', 'B%MFKu8&', 'xNq4*', 'KG7hn2oAh5@', 'UgSt1$', 'DlK!WPk3$', 'ORSg7*', 'AiW&Lm6?', '71RMLPUc1&', 'sTPApLEv7$', 'jA?zTVaOu8&', 's68ObVVa5*', '9MXaAh8@', 'XI6RmvFo3@', 'PWBo7%', 'nGXBiV0We4*', 'ZVn8%', '1Ka6&', 'uGf3*', 'RNrxJo4$', '3@hPn2*', 'L3R6oUu7@', '8!2ChBm8!', '5t%c0Rg1*', 'FISyPteVh4$', 'kmNGt9$', 'PYVpJp6!', 'GfC!TXQl4*', '0c&2Dw8?', 'K*Rj3%', 'M%Ri0@', 'o0@%lOb1&', 'fxN?R9Pd8?', 'OWr0!', '2ycuWPa2@', 'k&bYh7@', '$vQzVj9*', 'etBNMb9$', 'cVp3!', 'JeYUAIh0$', 'IWd0@', 'H3MArnYq8$', 'HrkoGj4&', 'q&XVTpK&', 'udP@jUb6*', 'LFh0%', 'CeOQ7dEc0!', 'v1yYgPx6!', 'cfwGj2*', 'eUMJu6*', 'AJV4%0nMp1?', 'cejKd3*', '8qCg5EXp7@', 'qBj1%', 'LHEVk4*', 'Qlj8@', 'qKwUb0U', '9N5LyRnRh5@', '7Fq3&', 'wIs8?', 'Fv4XOWj6@', 'FDx4%', '!CEfEe4!', '71Pg7*', 'xzeRSPr2@', 'OS3mpcjKk1!', '9Ha1*', 'HC*PCb5&', 'PQL3?yOWe1!', 'NfZu6$', 'JZsCD13Ou6*', 'aEoiYf2?', 'PgQn1!', 'Flp1uDl5!', 'AQgkeq2&', 'Onx6?', '3L791BGi3@', 'RBGl2!', 'Nd4nyUc8@', 'YOi4*', '3Jg1!', 'c0TzAQXl9$', 'qciwPn4!', '6ZGowKkNz3%', 'M3a$ASx8%', 'WAObhnVq4@', 'sORkG*Nd6!', 'I5qIu4$', 'DQlnH@Vu1?', 'L*v81FxLs8$', 'mYk2!', 'QEz0?', 'q95lNv7&', '24i7cwOk9!', 'mUu6&tNr5$', 'AY8cIDj4&', 'co&Q2stRm4!', '1&*N93Dj7&', 'JnOoaOj2@', 'yDOxegBi9?', 'uE!v6Vb7@', '%&jwYt9%', '!C6kb8HLu9%', '?jhiLxYk7?', 'ecqDk2Cd9$', '*Tl1$', '6qXfaFIJp8?', 'VAj0Ec8@', 'EFz0rZ@Jl2?', 'eLGf0!', 'scfZqhLo6$', 'O9g@bm3%', '0IAoKv08', 'azDNRg3%', 'PJhFa0@', 'SxYi0K', 'Sbsz&FcGi2?', 'WIPZRFs0%', 'Tu8MXF2Jv7&', 'HcSEy8!', 'O*AWt3?', 'nJkR6Rm5!', 'aCi3$', '!At5*', 'q2o*BGh6&', 'z!yJkBLc8$', 'NwAcZw7$', '$U81GwVXe9!', '93@Up4@', 'SZnQt5&', '4v2AFs0@', 'viOW$Rx5?', 'mSCZKe2!', 'OXQd6&', '*Xf1?', 'G9f8?Tq4!', 'OwIt0@', 'pNsX1Jm7@', 'P0s4kFh5!', 'ahE%QYo3!', 'QjIYs4@', 'oTj@QNx6?', 'uTwAf6?', 'yaVUd5$', '0LyISO*Fa6&', 'A@R!DF?Ws6?', 'qf!Xp3&', '8MFc1Ol4&', '6sSp6?', '1zILq7*', 'FqmSADu3@', '5LJUfNu2%', '0OnmEBg9@', 'QI%WZh7*', 'mFTeQEKCl4*', 'Z$Vy1@', '7ETbCNk0%', 'na$hctSFn7$', 'cAitazWp2$', 'c4w@zjmRz7?', 'w0Ip1l&Md6$', '9!?Rp4?', '$&h8fcNn4!', 'MsHs1*', 'JUCHRw6$', 'HJLR*aIr3@', 'ucDm5*', 'DTQzJi7*', 'PNb6@', 'aPEe3%', 'EZx4!', '!EQa2*', '34EFiIOh7@', 'D7alYPFj4&', 'GLo7@', '1Gnt&cYl9!', 'dbFUzjWq4@', '$Ts2!', '@zCIg8*', 'XNi4%', 'heC40$UVv5%', 'PCa4@', 'XwO$dytCe1&', 'SUh2%', 'G3Up0$', 'o5AEo1*', 'D67bYNn0$', 'ANboUCKMg1@', 'vIk1PBe1$', 'ECL3Yd3$', 'XsMA0&', '4VRSZa1@', '@IKe0$', 'FWnDu3?', 'xSkLk8!', 'Jr4&LQw1!', 'mjrwS*Dc8$', 'bsHDMih8&', 'ufJbCd7!', 'M8nNe9?', 'lDyUMFm9$', '2Tb5!', 'Wp5lNc9*', 'xtPJb?Hg4!', 'VOq8$', 'M?An1!', '&pbABk4&', '49lIi2Oq7&', 'R$fO!rCc5&', 'DzAe0&', 'p16Yi3&', 'xAh9&', 'kcMB?Tw2!', '47EnKh9*', 'lnJ0qKsg0!', '6YmXMFn8$', 'EjVuVf5&', '$q2M!hZQl7?', '$M?pPc2%', 'sC!0gKaGe5@', 'ioy&1eTn9@', 'aMv0%', 'vmxXVg3%', 'L?I8YGJGh1!', 'QUiXw1?', 'fALSb8!', 'UT2d&iCk0$', '5q&W9NTk2%', 'OBozPg6!', 'dVJ1DVk4!', 'ZxUWpDu4*', 'hNEukFow$', 'WSJeEKa0&', 'wU6$mZkAC8%', '7d&XkXx7$', 'fCd9$', 'rGd2%', 'Oq&Cg@Vy1@', 'SrVs5&', '8LtHycIs6!', 'EXyYp0@', 'kl2OFr2*', 'P@Pm3@', 'cJd6%', '2WQ7ra9Ch7@', '7XyWFnZNg1!', 'lLeDKk4?', 'W8gVz5?', 'uqXtGw6!', 'ILs9@', 'i%jNeLb3*', '$wMn1!', 'i%WVm!jFm7@', '3GHo9?', 'e&4C%DAu5@', 'THp3*', 'hQfJrGq7$', 'Bcm%Os9*', 'Gy?qtUOk4%', 'FTLy7!', 'atCm9!', 'DiJWo5&', '!ltX0Jv7$', 'q*KV12Jm1$', 'EqoFY?Sa6@', 'EfMPx3!', '3@Da2!', 'PLKo6%', '*Pn6!', 'Gem0KPQu6$', '2Cr2?', 'EGOo4%', '6OJCHv0%', '8si2JKe9*', 'bNb8!', 'zj!BKAPd2$', 'NbEx1?', 'AQd8@', 'OsVnBAJAu9@', 'BwSv4$', 'fV1EpVm0*', 'QyTS08No4*', 'bh27nLt6%', 'jhrNYmBGg3@', 'xGEdV5Bz2*', 'b$rYIMKd8!', 'hV8LCTe6*', 'jwRe2&', 'NLTq1&', 'O!TRIVYq9?', 'zqNb5!', '2!lyiw0Wy4?', 'utbq?Xg8*', '*wYb9$', '5XIy2?', 'mIc5$', '7fijd4Tz8?', 'yCZz1?', '7oNXg3$', '5v$Ut4*', 'eYGf8&', 'H$3@wDEm7@', 'tYwgDxZt5?', '?Vf2!', 'xF!Vt6&', 'Vs1MU!eBa7?', 'BsWu&oCu5*', '8w7dg6$', '*k2VQx3!', 'tuQj9!', 'R*usa@Nc9!', 'yXk3%', 'c!HJnMTId7%', '2OTFKLxMc2$', 'DZFE$fCm7$', 'bL56AQb5?', 'WZm1@', 'WHCm3@', 'bg&DKBRm5@', 'UbHn9&', 'xQ?7T5JOn6!', '1ca8uFWy7&', 'G*!QTm2?', 'vl12Au1?', 'yOa@Ks6$', 'DwjNe7!', 'zoiLSXv6&', 'D@3XGn6%', 'rLZXdFd8*', 'UQi3@', 'OjHMPHt8!', 'cr0woaJu7%', '!WXr0!', 'SuQ*Nx7@', '95sntEb6!', 'TfHa5@', 'MvXt0DLt5%', 'DuSksE4Jt8?', 'K3lUERo4%', 'PYTGKb7%', 'c&NDBTw5%', 'e1df!PKn9!', 'tyEn6&', 'bFe0!', 'Bv9asRIt8$', 'b*yEXviWu7?', 'BSm4%', 'sYc1!', '*xJ82ATIy9*', 'mCcOm0&', 'qdTvaBc7*', 'dM@8hfZe8*', 'om4Ny2@', '?@DhHp9?', 'AQOD7Qk9%', 'UVQabEt5$', 'Apb8Qm8?', '2Nl1&', 'NZj7$', 'q1&kMHVt1@', 'z0Uu3@', 'iYduRu1*', '8Xn8!', 'm78Zi9*', '0i&6drZh5%', 'cC0QLQu7*', 'QynD7tcHn6?', 'v3sxwNr3%', 'cLGb4@', 'MdxoA6Uo0%', '$f@2MWe4*', '4RU*%Qq8?', '4D!3XLYx9@', 'OIcZpYwOa9%', 'dCDU4gaOk1*', '7Mn6*', 's@GUXt0?', 'P0rwvSTv7@', 'dEm&T76Vg1%', 'KHjkWAi2$', 'buXx4?', 'MvbhZ0YTw1*', 'VaUv7!', '$0Jfw?Ww8%', '@TjPCeNs3$', '*e!XlZBn4*', '?%XzGv5?', 'AaJZOk6%', '&?Ra6%', '6UNqDg8?', 'ZHp?fJUDp7*', 'Sr@vKtQd1$', 'SX?Re0&', 'vepWw&Zjq!', 'hCW&H5Jg4&', 'ohgPp8@', '9ALGy&wPj7*', '08izG&Vp6$', 'M0XSNaHo9*', 'khYc5@', '%P4Da9*', '@Gp5?', 'zQwBGWRe9!', '6zF0cIo0*', '@0qm0&', 'zy9N!$6Cc7!', 'kXMcgnQm8!', 'hUNAj2@', 'mYSZLPc3*', 'ADSb1?', '$Uq3!', 'QOy5%', 'JQr4$', '0?Id8Oc0!', 'We5p6PVa3!', '7fvJf8$', 'L!rKpOr9!', 'a6hz?Fd3$', 'MtLvLs6&', 'Yloz1HFx4&', 'Z!zdi7xXx7&', '$jBc5*', 'IUQd6%', 'vIDb6*', 'QvHx6?', '5HWx7!', 'Xg60ETe9?', 'O*937seKh9$', 'KX!9Ti7$', 'czFo6*', 'myVSy6?', 'h7Lu2%', '%Wxc8Cy6?', 'QOQe6s', '$0Us3$', 'phuTy0$', 'GQd9!', 'XgvOl4$', 'O1gaD0Gn4?', 'NHk4*', 'a36ouRs3$', 'Jx8noHq2?', 'qT8F04Wl8*', 'ZiJDsATb2?', '5*AoTKmHb3?', 'biNl9&', 'S5MGo0@', 'zevcTVm2%', 'phUm3@', 'EV!b8BLp9*', '&k0mvRb9&', '$v1lIXd9%', 'jJF9Yk4*', 'oZe5*', '4LAg2$', 'drWK1zGMc2S', 'eXvK6Ur2@', 'mZOdKSj2$', 'gJ@4vFaYl4*', '1Bz5?', 'GyUb2*', 'zBr0!', 'gqSr4!', 'pPb0*', 'Z6xPLd2@', 'dEWOy8$', '%QOIHb7!', 'mBk1?', '2Lm7!', 'VFt0$', 'gVw1$', 'eAs9!', 'NCpvqakEi6?', 'brDUu9*', 'RoFjAUHs8@', 'nCmTK1QFd1%', 'wTueOiEb6!', '@Qr0%', '7KoMt0$', 'FkJyl9bFo4@', 'OhGx1%', 'xPE9hAv3$', '$Wt0&', 'H$0&dQi0@', 'TwSPp6%', '!p1dVNRx8?', 'Dfb!TJz2!', 'BtZ2aOz6?', '%uH9@PsYh3?', '$qLe9&', 'dGn5?', 'blO8t0WNf7!', 'neXd1?', 'IxzcRj9&', '5%dLb8$', 'YSC*Vj3@', 'RWbt?Ll7&', 'T1SrFcDu5?', '8Ew9%', 'sVg2*', 'HMq8%', '8Dk2*', 'q%H?&yDu7?', 'UWB2rjBj4?', '1oAUWNj3!', 'vBihXe0&', 'By7?Pc1@', '0&SFb8!', 'kEDv8*', 'mnMlyHIa9&', '5Jv3&', '9dceYh7!', 'MPx0&', 'GIUi6&', 'ODOp8$', '?b@u*5Lc4@', 'FXh9$', '%cwGN1@', '4%Xb3?', 'sP*Kh5?', '@dZe1&', 'UQ@RwCYDu2?', '$lZ@DaUZt0@', 'MekOQs5&', 'xYp2*', 'yd87VSSg9$', '7ZrY3eyPc6&', 'yFsIZj3@', 'VgGqHmrIw0*', 'MgVm7$', 'iROz1?', '&Zd2?', 'U89DBktUq7!', 'fYxHTCk7*', 'q!Cg9$', 'PF*DmecLv1%', 'S*VGnJn5@', 'pDrUz8@', 'VSPUXB?Bn1!', 'QhxXn7%', 'sSn3?', 'xenEi9?', 'Hj7vE9Wm0$', 'Vf8Od6$', 'aCj8%', '!eCt7$', 'HpuvLd7?', 'avRd5?', '?nkW2xZe0$', 'XlyhOkgMr3@', 'E2If1?', 'oj%GHy8$', 'fD&Ad2@', '?7JFe5?', '&%pQn7*', 'GyCw1IP4?', '!Ah5%', 'KF8uCU5Zb8!', 'li5JzXk8*', 'eCUj8?', 'u3kCx6Oe1$', 'hET60@rIq0?', 'uAwJJp7%', 'cH%QwYs9*', 'wtFoN*Xl5*', 'D9Jf0%', 'i2Jav4&', 'qmdW&LMqU!', '9MdoETz7$', 'TtZBm5@', 'RDNf5sPh4&', '0yVOLRq2%', 'Z8Eb1jNHy6!', 'd?!5%f$Wu1%', '4WTRVs1%', 'JvYy5%', 'uWb1?', 'ZWmoGj1?', 'fcrWB4Wy1!', 'mSk4!', 'tJOqRi9!', 'vQ$Ey8!', 'P8cHa3*', 'iRc4&', 'qOYs4&', 'zQs8@', 'ol1VCe8&', '$!7Gw8@', 'JC0UXq2*', 'tJuJc7!', 'ZbfgjlUbj5@', 'tU*gIiKw8@', 'JpP6VTo3!', 'CxOt1*mAn4%', 'eNXn7@', 'e3iQXSW0$', 'ct5Vb6*', 'N!B64qJq9*', 'izLufGJf1%', 'IOy$MZHR9@', '5EBx9!', 'gkbMsXt1@', 'j&AFUz1&', 'DCn9*', 'Vb6HEg4*', 'GxeAc6&', '$tFu1&', 'wdXNy9&', '?Kg0&', 'NfWSPs0$', 'plbg!Ht4*', 'BpnHw9$', 'gT8Kmt9Mt9!', 'IXZMWq2&', 'xJeXvtQHg9$', '&5wRWLp1%', 'rTnJRu8%', '6FlTy!Ih6*', 'kxCtIAc3?', '1vJKHFd0&', 'S!Wp1@', 'B1rSdJf7$', 'a37ipo4Bz5*', 'xo38Sb7$', 'O4I5p1$Ji0$', '4AUIb8$', '?agZTJOBp6&', '*xu4%Ka5?', '$eUV4Li6*', 'OnB@?H!Mq1$', 'EZga%Sb0!', 'ORNlZb6$', 'MKk4&', '$Hc0&', 'XyLz9*', 'TVBx3?', 'ucxMZun?', '?FhXKVCm9$', 'QNHSUq4&', '$QycWl8&', 'zpfUai!Dd2!', '4OgwJfcTd9&', 'I5UB6@Xs5%', 'wPcXG2&', 'EnNo4!', '2JSh7Jz1&', '0$u7PAOk2$', '3hCo5&', 'n$Fv9@', 'YLPq6Zh6%', 'qJZlHWEGc8$', 'y%zaAc9!', 'L?icdSh3@', 's*OYr8@', 'AWuyIJVJS9@', 'dCHk9*', 'xOS$nBQBn7?', 'ypdumiGo8@', 'jWc4$', '$vKo3%', 'NX5b%DRBh7&', 'rj12WuVa9*', '6j2fcGEb9!', 'i6Xt6@', '3X4Hi8@', 'DCenIq3!', '*JhF*', 'zwZNSGz2?', '1Of2$', 'CnbPFn6*', 'XKm9?', '6Nb8&', 'nuI!VdTUh1&', '5oBxJEg4@', 'XTb4$', 'GjBf01cDl9$', 'K*8Dx6$', 'acm5tIBz3?', 'Jya%jYZr1!', 'Z4JaXxPe9&', '69IHEo4*', 'px9eJq4?', '%Cc5%', '3xFZd8?', 'gTO@UXm1$', 'H69*kP5Pu3?', 'J8igAw3&', 'aM9ZG3%Ks1!', 'DTN0fZIt5@', 'm%Ty2*', 'KIXe8%', 'OYNrGNy2&', 'rHZq!KAPd7@', 'lYf5$', 'EMJVgDq4$', 'maQuYVf5!', 'gQkH8?USw4*', 't3rh7CVw2!', '6PAYr6$', 'J8Ol4?', 'y!MwLssz3?', 'w1BQKWt3!', 'g8&KDx9!', 'tNc3!', 'zGl2!', '8R$Pq&Cr4@', '4XRk2*', 'dBk1$', 'PpwD$Xk0%', 'v7k9@Nqn1&', 'KNbWId2?', 'XHh9@', 'z8Gg8!', 'mDMg9?', 'zKMoCltMb2%', 'SAu7!']"
   ]
  },
  {
   "cell_type": "code",
   "execution_count": 174,
   "metadata": {},
   "outputs": [
    {
     "data": {
      "text/plain": [
       "589"
      ]
     },
     "execution_count": 174,
     "metadata": {},
     "output_type": "execute_result"
    }
   ],
   "source": [
    "def count_valid_passwords(passwords):\n",
    "    # Regular expression patterns for password requirements\n",
    "    patterns = [\n",
    "        r'.{8,}',           # At least 8 characters long\n",
    "        r'.*[A-Z].*',       # At least one uppercase letter\n",
    "        r'.*[a-z].*',       # At least one lowercase letter\n",
    "        r'.*\\d.*',          # At least one digit\n",
    "        r'.*[@$!%*?&].*'   # At least one special character\n",
    "    ]\n",
    "    # Compile patterns into regex objects\n",
    "    compiled_patterns = [re.compile(pattern) for pattern in patterns]\n",
    "    # Count of valid passwords\n",
    "    valid = []\n",
    "    # Iterate through each password\n",
    "    for password in passwords:\n",
    "        # Check if the password matches all patterns\n",
    "        if all(pattern.match(password) for pattern in compiled_patterns):\n",
    "            # Increment the count if it's valid\n",
    "            valid.append(password)\n",
    "    return valid\n",
    "\n",
    "len(count_valid_passwords(passwords))"
   ]
  },
  {
   "cell_type": "code",
   "execution_count": 166,
   "metadata": {},
   "outputs": [
    {
     "name": "stdout",
     "output_type": "stream",
     "text": [
      "3\n",
      "7\n",
      "31\n",
      "127\n",
      "8191\n",
      "131071\n",
      "524287\n"
     ]
    }
   ],
   "source": [
    "primes = []\n",
    " \n",
    "# Function to generate N prime numbers using  \n",
    "# Sieve of Eratosthenes \n",
    "def SieveOfEratosthenes():\n",
    "     \n",
    "    n = 1000005\n",
    "     \n",
    "    # Create a boolean array \"prime[0..n]\" and \n",
    "    # initialize all entries it as true. A value\n",
    "    # in prime[i] will finally be false if i is \n",
    "    # Not a prime, else true. \n",
    "    prime = [True for i in range(n + 1)] \n",
    "     \n",
    "    p = 2\n",
    "    while (p * p <= n): \n",
    "           \n",
    "        # If prime[p] is not changed, \n",
    "        # then it is a prime \n",
    "        if (prime[p] == True): \n",
    "               \n",
    "            # Update all multiples of p \n",
    "            for i in range(p * p, n + 1, p): \n",
    "                prime[i] = False\n",
    "                 \n",
    "        p += 1\n",
    "       \n",
    "    # Print all prime numbers \n",
    "    for p in range(2, n + 1): \n",
    "        if prime[p]: \n",
    "            primes.append(p) \n",
    "\n",
    "def isPowerofTwo(n):\n",
    " \n",
    "    if (n == 0):\n",
    "        return 0\n",
    "    if ((n & (~(n - 1))) == n):\n",
    "        return 1\n",
    "    return 0\n",
    "\n",
    "\n",
    "# Driver code\n",
    "if __name__=='__main__': \n",
    "    \n",
    "    # Function call \n",
    "    SieveOfEratosthenes()\n",
    "    sum = 0\n",
    "    for i in range (50000):\n",
    "    #    print(\"prime:\" + str(primes[i]))\n",
    "       if isPowerofTwo(primes[i]+1):\n",
    "           print(primes[i])\n",
    "\n"
   ]
  },
  {
   "cell_type": "code",
   "execution_count": 152,
   "metadata": {},
   "outputs": [
    {
     "name": "stdout",
     "output_type": "stream",
     "text": [
      "73280915\n"
     ]
    }
   ],
   "source": [
    "def nth_prime(n):\n",
    "    \"\"\"\n",
    "    This function finds the nth prime number.\n",
    "    \"\"\"\n",
    "    count = 0\n",
    "    num = 2\n",
    "    while count < n:\n",
    "        if is_prime(num):\n",
    "            count += 1\n",
    "        if count == n:\n",
    "            return num\n",
    "        num += 1\n",
    "def is_prime(num):\n",
    "    \"\"\"\n",
    "    This function checks if a number is prime or not.\n",
    "    \"\"\"\n",
    "    if num <= 1:\n",
    "        return False\n",
    "    elif num <= 3:\n",
    "        return True\n",
    "    elif num % 2 == 0 or num % 3 == 0:\n",
    "        return False\n",
    "    i = 5\n",
    "    while i * i <= num:\n",
    "        if num % i == 0 or num % (i + 2) == 0:\n",
    "            return False\n",
    "        i += 6\n",
    "    return True\n",
    "\n",
    "\n",
    "\n",
    "\n",
    "sum = 0\n",
    "for i in range (11,190):\n",
    "    sum += nth_prime(i)**2\n",
    "\n",
    "print(sum)\n"
   ]
  },
  {
   "cell_type": "code",
   "execution_count": 170,
   "metadata": {},
   "outputs": [
    {
     "name": "stdout",
     "output_type": "stream",
     "text": [
      "Result: 32\n"
     ]
    }
   ],
   "source": [
    "import math\n",
    "\n",
    "def find_n(number):\n",
    "    n = 1\n",
    "    while True:\n",
    "        result = int(math.sqrt(n**2 * 2**n)) + 1\n",
    "        if result == number:\n",
    "            return n\n",
    "        elif result > number:\n",
    "            return -1\n",
    "        n += 1\n",
    "\n",
    "# Test the function\n",
    "number = 2097153\n",
    "result = find_n(number)\n",
    "print(\"Result:\", result)\n",
    "\n"
   ]
  },
  {
   "cell_type": "code",
   "execution_count": null,
   "metadata": {},
   "outputs": [],
   "source": [
    "def sum_odd_lengths_in_latex(text):\n",
    "    import re\n",
    "\n",
    "    # Remove comments\n",
    "    no_comments = re.sub(r\"%.*\", \"\", text)\n",
    "\n",
    "    # Find all pairs of parentheses and brackets, considering the rules mentioned\n",
    "    # Using non-greedy matching to handle nested structures correctly\n",
    "    pairs = re.findall(r\"\\(([^()]*)\\)|\\{([^\\{\\}]*)\\}\", no_comments)\n",
    "\n",
    "    # Flatten the list of tuples and filter out empty strings\n",
    "    contents = [content for pair in pairs for content in pair if content]\n",
    "\n",
    "    # Calculate the number of characters inside each pair\n",
    "    lengths = [len(content) for content in contents]\n",
    "\n",
    "    # Sum the elements that are odd numbers\n",
    "    sum_odds = sum(length for length in lengths if length % 2 == 1)\n",
    "\n",
    "    return sum_odds\n",
    "\n",
    "latex_code = r\"\"\"\n",
    "\\documentclass{article}\n",
    "\\usepackage{amsmath, amssymb, graphicx}\n",
    "\n",
    "\\begin{document}\n",
    "\\title{Testing out Latex}\n",
    "\\author{204}\n",
    "\\date{\\today}\n",
    "\\maketitle\n",
    "\n",
    "\\section*{Introduction to Machine Learning and Transformers}\n",
    "\n",
    "Machine learning (ML) is a transformative field within artificial intelligence (AI) that empowers systems to learn patterns and make decisions without explicit programming. It encompasses various algorithms and models that enable computers to improve their performance on a task through experience.\n",
    "\n",
    "One powerful paradigm in ML is the transformer architecture, which has revolutionized natural language processing (NLP) tasks. The transformer was introduced by Vaswani et al. in the seminal paper ``Attention is All You Need'' \\cite{vaswani2017attention}.\n",
    "\n",
    "\\subsection*{Attention Mechanism}\n",
    "\n",
    "The attention mechanism is a key component of transformers. Given a sequence of input values, it assigns different weights to each element based on its relevance to the current computation. The weighted sum of these elements forms the attention output. The attention weight for an element is computed using a compatibility function, often the dot product, with a query, key, and value.\n",
    "\n",
    "The attention mechanism can be defined as:\n",
    "\\begin{equation}\n",
    "    \\text{{Attention}}(Q, K, V) = \\text{{softmax}}\\left(\\frac{QK^T}{\\sqrt{d_k}}\\right) V\n",
    "\\end{equation}\n",
    "Here, $Q$, $K$, and $V$ are matrices representing the query, key, and value, respectively. $d_k$ is the dimension of the key. The softmax function normalizes the weights.\n",
    "\n",
    "\\subsection*{Transformer Model}\n",
    "The transformer model is composed of an encoder and a decoder, each consisting of multiple layers. Self-attention mechanisms in these layers allow the model to capture dependencies regardless of their distance in the input sequence.\n",
    "\n",
    "The output of the self-attention mechanism in a transformer layer is given by:\n",
    "\\begin{equation}\n",
    "    \\text{{Output}} = \\text{{LayerNorm}}(\\text{{Input}} + \\text{{Attention}}(\\text{{Input}})\n",
    "\\end{equation}\n",
    "Here, $\\text{{LayerNorm}}$ is layer normalization, and $\\text{{Input}}$ is the input to the layer. This formulation allows the model to retain information from the input while attending to different parts selectively.\n",
    "\n",
    "\\subsection*{Applications}\n",
    "\n",
    "Transformers have achieved remarkable success in various applications. In natural language processing, models like BERT \\cite{devlin2018bert} and GPT \\cite{brown2020language} have set state-of-the-art results in tasks like language understanding and text generation.\n",
    "\n",
    "In conclusion, machine learning, with the transformative power of models like transformers, continues to drive innovations across diverse domains, bringing us closer to achieving human-like understanding and decision-making capabilities.\n",
    "\n",
    "% % \\emph{Important} remark: % \\textbf{ECE } \\emph{for 204}\n",
    "\\textbf{Remark}: We emphasize that this is a sample text and it should \\emph{not} be accounted for an official paper on \\textit{Transformers}, their input ${X}$ or their final \\emph{arhictecture}. %{Network}.\n",
    "\n",
    "\\textbf{Nevertheless, this is an exciting era % for all of ML\n",
    "and we do recommend that you consider this as a starting point to diver deeper in the future to ML courses.}\n",
    "\n",
    "\\emph{\\LARGE{Copyright: (204) 2024 (ECE)}}\n",
    "\\textbf{20 %\n",
    "24}\n",
    "\\bibliographystyle{plain}\n",
    "\\bibliography{references}\n",
    "\n",
    "\\end{document}\n",
    "\"\"\"\n",
    "sum_odd_lengths_in_latex(latex_code)"
   ]
  },
  {
   "cell_type": "code",
   "execution_count": 181,
   "metadata": {},
   "outputs": [
    {
     "data": {
      "text/plain": [
       "28"
      ]
     },
     "execution_count": 181,
     "metadata": {},
     "output_type": "execute_result"
    }
   ],
   "source": [
    "import re\n",
    "\n",
    "text = \"\"\"Data science and machine learning are two interrelated fields that have gained tremendous popularity and importance in the modern world. Data science is the process of extracting insights and knowledge from large and complex data sets, using various methods such as statistics, visualization, and programming. Machine learning is the branch of artificial intelligence that enables computers to learn from data and perform tasks that would otherwise require human intelligence, such as classification, regression, clustering, and recommendation.\n",
    "\n",
    "One of the key factors that drives the success and innovation of data science and machine learning is the availability and quality of data. Data is the fuel that powers these fields, as it provides the information and evidence that can be used to discover patterns, test hypotheses, train models, and make predictions. Without datas, data science and machine learning would not be possible.\n",
    "\n",
    "However, not all data is created equal. The quantity, diversity, and relevance of data can have a significant impact on the performance and applicability of data science and machine learning methods and models. In general, more data is better than less data, as it can reduce the variance and bias of the models, increase the generalization and robustness of the results, and enable the exploration of more complex and nuanced phenomena. However, more data also comes with more challenges, such as storage, processing, cleaning, and privacy issues.\n",
    "\n",
    "One of the most prominent examples of how data can transform data science and machine learning is the ImageNet project. ImageNet is a large-scale visual database that contains more than 14 million images, organized into more than 20,000 categories, covering a wide range of objects, scenes, and concepts. ImageNet was created by a team of researchers from Stanford University, Princeton University, and other institutions, with the goal of providing a common benchmark for image recognition and classification tasks using established datasets.\n",
    "\n",
    "ImageNet has been instrumental in advancing the field of computer vision, especially with the advent of deep learning, a subfield of machine learning that uses multiple layers of artificial neural networks to learn from data. Deep learning models, such as convolutional neural networks (CNNs), have shown remarkable performance and accuracy in image recognition and classification tasks, surpassing human-level performance in some cases. However, deep learning models also require a large amount of data to train and fine-tune their parameters, and ImageNet has provided the ideal data set for this purpose.\n",
    "\n",
    "One of the most influential events in the history of computer vision and deep learning was the ImageNet Large Scale Visual Recognition Challenge (ILSVRC), an annual competition that started in 2010 and ended in 2017. The ILSVRC aimed to evaluate the state-of-the-art algorithms and models for image recognition and classification, using a subset of ImageNet images as the test data. The ILSVRC had two main tasks: image classification, where the goal was to assign a single label to an image from a predefined set of 1000 categories, and object detection, where the goal was to locate and identify multiple objects in an image from a predefined set of 200 categories.\n",
    "\n",
    "The ILSVRC witnessed a dramatic improvement in the performance and accuracy of the algorithms and models over the years, largely due to the adoption and innovation of deep learning techniques. The most notable breakthrough occurred in 2012, when a team from the University of Toronto, led by Geoffrey Hinton, introduced a CNN model called AlexNet, which achieved a top-5 error rate of 15.3% in the image classification task, beating the second-best model by more than 10 percentage points. AlexNet had eight layers, including five convolutional layers and three fully connected layers, and used a technique called dropout to prevent overfitting. AlexNet also used a technique called data augmentation to increase the diversity and size of the training data, by applying random transformations such as cropping, flipping, and rotating to the original images.\n",
    "\n",
    "AlexNet sparked a revolution in computer vision and deep learning, and inspired many subsequent models and architectures that improved upon its design and performance. Some of the most prominent examples are VGGNet, GoogLeNet, ResNet, DenseNet, and MobileNet, which introduced various innovations such as deeper and wider networks, inception modules, residual connections, dense connections, and efficient computations. These models achieved impressive results in the ILSVRC and other computer vision tasks, such as scene understanding, and semantic segmentation. [All matching data, scientific or not.]\n",
    "\n",
    "ImageNet and the ILSVRC have demonstrated the power and potential of data science and machine learning, especially deep learning, in solving complex and challenging problems in computer vision and beyond. However, they have also raised some limitations and challenges that need to be addressed and overcome. Some of these are:\n",
    "\n",
    "- Data quality and diversity: ImageNet and the ILSVRC are based on a specific and limited set of categories and images, which may not reflect the real-world diversity and complexity of visual data. For example, ImageNet does not include categories such as actions, events, emotions, or abstract concepts, and the images are mostly static and centered. Moreover, ImageNet and the ILSVRC may suffer from biases and errors in the data collection and annotation process, such as cultural, geographical, and temporal biases, and mislabeling and noise. These issues may affect the validity and generalizability of the models and results, and may also raise ethical and social concerns.\n",
    "\n",
    "- Data availability and accessibility: ImageNet and the ILSVRC are publicly available and accessible to researchers and practitioners, which has enabled the rapid development and dissemination of data science and machine learning methods and models. However, not all data sets are as open and accessible as ImageNet and the ILSVRC, due to various reasons such as privacy, security, ownership, and regulation. For example, data sets that contain sensitive or personal information, such as medical records, financial transactions, or social media posts, may not be easily or legally shared or used for data science and machine learning purposes. This may limit the scope and applicability of the methods and models, and may also create unfair advantages or disadvantages for different parties.\n",
    "\n",
    "- Data interpretation and explanation: ImageNet and the ILSVRC are focused on the quantitative evaluation and comparison of the algorithms and models, based on metrics such as accuracy, precision, recall, and F1-score. However, these metrics may not capture the qualitative aspects and implications of the data science and machine learning methods and models, such as the meaning, context, and impact of the data, results, and decisions. For example, ImageNet and the ILSVRC do not provide any explanation or justification for why a certain image is classified or detected as a certain category, or what are the consequences or implications of such a classification or detection. Moreover, data science and machine learning methods and models, especially deep learning models, are often considered as black boxes, as they are complex and opaque, and their internal workings and logic are not easily understandable or interpretable by humans. This may raise issues such as trust, accountability, and responsibility, especially when the methods and models are used for high-stakes and critical applications, such as healthcare, law, and education.\n",
    "\n",
    "Data science and machine learning are two exciting and promising fields that have revolutionized and transformed many domains and applications, thanks to the availability and quality of data, such as ImageNet and the ILSVRC. However, data science and machine learning are also facing many challenges and limitations that need to be addressed and overcome, in order to ensure the validity, reliability, and fairness of the data, methods, models, and results. Data science and machine learning are not only about data, but also about science, learning, and human values.\"\"\"\n",
    "\n",
    "# Define the regular expression pattern\n",
    "pattern = r'\\bdata\\b(?! science)'\n",
    "\n",
    "# Compile the pattern with the re.IGNORECASE flag to make the search case-insensitive\n",
    "regex = re.compile(pattern, flags=re.IGNORECASE)\n",
    "\n",
    "# Find all matches in the text\n",
    "matches = regex.findall(text)\n",
    "\n",
    "# Print the matches\n",
    "len(matches)\n"
   ]
  },
  {
   "cell_type": "markdown",
   "metadata": {},
   "source": [
    "---"
   ]
  }
 ],
 "metadata": {
  "kernelspec": {
   "display_name": "Python 3 (ipykernel)",
   "language": "python",
   "name": "python3"
  },
  "language_info": {
   "codemirror_mode": {
    "name": "ipython",
    "version": 3
   },
   "file_extension": ".py",
   "mimetype": "text/x-python",
   "name": "python",
   "nbconvert_exporter": "python",
   "pygments_lexer": "ipython3",
   "version": "3.10.9"
  }
 },
 "nbformat": 4,
 "nbformat_minor": 4
}
