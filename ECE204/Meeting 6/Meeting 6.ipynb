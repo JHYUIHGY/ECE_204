{
 "cells": [
  {
   "cell_type": "code",
   "execution_count": 1,
   "metadata": {},
   "outputs": [
    {
     "name": "stdout",
     "output_type": "stream",
     "text": [
      "['Ali', 'Bob']\n"
     ]
    }
   ],
   "source": [
    "students = ['Alice', 'Bobby']\n",
    "new_names = []\n",
    "for student in students:\n",
    "    new_names.append(student[:3])\n",
    "print(new_names)"
   ]
  },
  {
   "cell_type": "code",
   "execution_count": 3,
   "metadata": {},
   "outputs": [
    {
     "name": "stdout",
     "output_type": "stream",
     "text": [
      "['B', 'C', 'A', 'C', 'A', 'A']\n"
     ]
    }
   ],
   "source": [
    "scores = [52, 41, 91, 46, 77, 85]\n",
    "grades = []\n",
    "for score in scores:\n",
    "    if score >= 70:\n",
    "        grades.append(\"A\")\n",
    "    elif ((50 <= score) and (score < 70)):\n",
    "        grades.append(\"B\")\n",
    "    else:\n",
    "        grades.append(\"C\")\n",
    "print(grades)"
   ]
  },
  {
   "cell_type": "code",
   "execution_count": 4,
   "metadata": {},
   "outputs": [
    {
     "data": {
      "text/plain": [
       "[76, -1, 56, 32, 13, 57, 96, 52]"
      ]
     },
     "execution_count": 4,
     "metadata": {},
     "output_type": "execute_result"
    }
   ],
   "source": [
    "far_temp = [170, 30, 133, 91, 56, 136, 206, 126]\n",
    "ce_temp = []\n",
    "for temp in far_temp:\n",
    "    temp = int((temp-32)*(5/9))\n",
    "    ce_temp.append(temp)\n",
    "ce_temp"
   ]
  },
  {
   "cell_type": "code",
   "execution_count": 5,
   "metadata": {},
   "outputs": [
    {
     "data": {
      "text/plain": [
       "24437"
      ]
     },
     "execution_count": 5,
     "metadata": {},
     "output_type": "execute_result"
    }
   ],
   "source": [
    "sum = 0\n",
    "for i in range(27,298):\n",
    "    if str(i).startswith(\"2\"):\n",
    "        sum += i\n",
    "\n",
    "sum"
   ]
  },
  {
   "cell_type": "code",
   "execution_count": 15,
   "metadata": {},
   "outputs": [
    {
     "name": "stdout",
     "output_type": "stream",
     "text": [
      "2\n",
      "1\n"
     ]
    }
   ],
   "source": [
    "numbers = [2, 4, 6, 8, 10]\n",
    "if all(num % 2 == 0 for num in numbers):\n",
    "    print(numbers[0])\n",
    "print(1)"
   ]
  },
  {
   "cell_type": "code",
   "execution_count": 27,
   "metadata": {},
   "outputs": [
    {
     "data": {
      "text/plain": [
       "82"
      ]
     },
     "execution_count": 27,
     "metadata": {},
     "output_type": "execute_result"
    }
   ],
   "source": [
    "import random\n",
    "r = lambda x: random.randint(-3, 3)\n",
    "random.seed(0)\n",
    "numbers2 = [r(0), r(0), r(0), r(0), r(0), r(0), r(0), r(0), r(0), r(0), r(0), r(0), r(0), r(0),\n",
    "            r(0), r(0), r(0), r(0), r(0), r(0), r(0), r(0), r(0), r(0), r(0), r(0), r(0), r(0),\n",
    "            r(0), r(0), r(0), r(0), r(0), r(0), r(0), r(0), r(0), r(0), r(0), r(0), r(0), r(0),\n",
    "            r(0), r(0), r(0), r(0), r(0), r(0), r(0), r(0), r(0), r(0), r(0), r(0), r(0), r(0)]\n",
    "\n",
    "\n",
    "odd_nums = [num for num in numbers2 if num % 2 == 1]\n",
    "\n",
    "sums = 0\n",
    "for num in odd_nums:\n",
    "    num = num**3\n",
    "    sums+= num\n",
    "\n",
    "sums"
   ]
  },
  {
   "cell_type": "code",
   "execution_count": 7,
   "metadata": {},
   "outputs": [
    {
     "name": "stdout",
     "output_type": "stream",
     "text": [
      "[4, 4, 36, 4, 64, 16, 36, 36, 36, 4, 36, 64, 0, 0, 100, 16, 16, 36, 4, 100, 64, 4, 100, 100, 0, 0, 64, 16, 64]\n",
      "16\n",
      "0\n",
      "0\n",
      "16\n",
      "16\n",
      "0\n",
      "0\n",
      "16\n"
     ]
    },
    {
     "data": {
      "text/plain": [
       "64"
      ]
     },
     "execution_count": 7,
     "metadata": {},
     "output_type": "execute_result"
    }
   ],
   "source": [
    "import random\n",
    "r = lambda x: random.randint(-10, 10)\n",
    "random.seed(0)\n",
    "l1 = [r(0), r(0), r(0), r(0), r(0), r(0), r(0), r(0), r(0), r(0), r(0), r(0), r(0), r(0),\n",
    "      r(0), r(0), r(0), r(0), r(0), r(0), r(0), r(0), r(0), r(0), r(0), r(0), r(0), r(0),\n",
    "      r(0), r(0), r(0), r(0), r(0), r(0), r(0), r(0), r(0), r(0), r(0), r(0), r(0), r(0),\n",
    "      r(0), r(0), r(0), r(0), r(0), r(0), r(0), r(0), r(0), r(0), r(0), r(0), r(0), r(0)]\n",
    "\n",
    "even_sq = [num**2 for num in l1 if (num%2==0)]\n",
    "result = 0\n",
    "print(even_sq)\n",
    "for num in even_sq:\n",
    "    if (num % 8 == 0) and (num < 55):\n",
    "        result += num\n",
    "        print(num)\n",
    "\n",
    "result"
   ]
  }
 ],
 "metadata": {
  "kernelspec": {
   "display_name": "bonding",
   "language": "python",
   "name": "python3"
  },
  "language_info": {
   "codemirror_mode": {
    "name": "ipython",
    "version": 3
   },
   "file_extension": ".py",
   "mimetype": "text/x-python",
   "name": "python",
   "nbconvert_exporter": "python",
   "pygments_lexer": "ipython3",
   "version": "3.11.4"
  }
 },
 "nbformat": 4,
 "nbformat_minor": 2
}
