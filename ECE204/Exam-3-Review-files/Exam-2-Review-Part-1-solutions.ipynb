{
 "cells": [
  {
   "cell_type": "markdown",
   "metadata": {},
   "source": [
    "# Pre-Midterm 2 Review (Part I)\n",
    "## ECE204 Data Science & Engineering\n",
    "### This notebook contains practice questions for Midterm 2. The following topics are covered:\n",
    "- Loops and Flow Control\n",
    "- Pivot Tables & Data Aggregation\n",
    "- Data Cleaning\n",
    "- Random Numbers"
   ]
  },
  {
   "cell_type": "markdown",
   "metadata": {},
   "source": [
    "## I. Loops and Flow Control"
   ]
  },
  {
   "cell_type": "markdown",
   "metadata": {},
   "source": [
    "> ### Question 1\n",
    "> In this question, you have to find the count of **Fibonacci** numbers in a list. In a **Fibonacci Sequence**, each number in the sequence is the sum of the two numbers that precede it. So, the sequence goes like: 0, 1, 1, 2, 3, 5, 8, 13, 21, 34, and so on. Any number that belongs in this sequence is called a **Fibonacci number**.\n",
    ">\n",
    "> You have been given two lists (fib_list1 and fib_list2). **Find the count of all numbers in each list which are Fibonacci numbers (Use loops to solve this problem).** <br> Eg. in a list `[2, 9, 13, 55, 56, 22]`: 2, 13 and 55  are fibonacci numbers, hence the count is `3`.\n",
    ">\n",
    "> `Hint`: A number _'n'_ is a fibonacci number if one or both of the expressions $(5\\cdot n^2 + 4)$ or $(5\\cdot n^2 – 4)$ are perfect squares.\n",
    "\n",
    "\n",
    "> Solve the problem in following steps:\n",
    ">\n",
    "> 1. Write a function `is_perfect_square(n)` that returns `True` if `n` is a perfect square and `False` otherwise. For example, `is_perfect_square(9)` returns `True`. (This function has already been given)\n",
    ">\n",
    ">2. Write a function `is_fibonacci(n)` that returns `True` if `n` is a Fibonacci number and `False` otherwise.\n",
    ">\n",
    ">3. Write a function `count_fibonacci(flist)` that loops through the elements of the list `flist` and returns the total number of Fibonacci numbers >contained in the list.\n",
    ">\n",
    ">4. If you can get this to work, try rewriting the `count_fibonacci(flist)` function so that it **uses a list comprehension rather than a loop.**\n",
    ">\n",
    ">5. **Bonus question:** can you solve the entire problem in one line of code?"
   ]
  },
  {
   "cell_type": "code",
   "execution_count": null,
   "metadata": {},
   "outputs": [],
   "source": [
    "import math\n",
    "\n",
    "# Code to find if a number is a Perfect Square : Returns True if the input is a perfect square\n",
    "def is_perfect_square(n):\n",
    "    x = math.sqrt(n)\n",
    "    return x == int(x) and n >= 0\n",
    "\n",
    "# Two test cases\n",
    "fib_list1 = [2, 9, 13, 55, 56, 22]\n",
    "fib_list2 = [0, 1, 15, 377, 2, 3, 5, 12]"
   ]
  },
  {
   "cell_type": "code",
   "execution_count": null,
   "metadata": {},
   "outputs": [],
   "source": [
    "# Solution - loop\n",
    "def is_fibonacci(n):\n",
    "    return is_perfect_square(5*(n**2) + 4) or is_perfect_square(5*(n**2) - 4)\n",
    "    \n",
    "def count_fibonacci_loop(fib_list):\n",
    "    count = 0\n",
    "    for i in fib_list:\n",
    "        if is_fibonacci(i):\n",
    "            count += 1\n",
    "    return count\n",
    "\n",
    "print(count_fibonacci_loop(fib_list1))\n",
    "print(count_fibonacci_loop(fib_list2))"
   ]
  },
  {
   "cell_type": "code",
   "execution_count": null,
   "metadata": {},
   "outputs": [],
   "source": [
    "# Solution - Using list-comprehension instead of loop\n",
    "def count_fibonacci_lc(fib_list):\n",
    "    return len([i for i in fib_list if is_fibonacci(i)])\n",
    "\n",
    "print(count_fibonacci_lc(fib_list1))\n",
    "print(count_fibonacci_lc(fib_list2))"
   ]
  },
  {
   "cell_type": "code",
   "execution_count": null,
   "metadata": {},
   "outputs": [],
   "source": [
    "# Solution -- In one line\n",
    "fib_list2 = [0, 1, 15, 377, 2, 3, 5, 12]\n",
    "\n",
    "sum([ 1 for n in fib_list2 if (math.sqrt(5*(n**2)+4) == int(math.sqrt(5*(n**2)+4))) or (math.sqrt(5*(n**2)-4) == int(math.sqrt(5*(n**2)-4))) ])"
   ]
  },
  {
   "cell_type": "markdown",
   "metadata": {},
   "source": [
    "## II. Pivot Tables and Data Aggregation"
   ]
  },
  {
   "cell_type": "markdown",
   "metadata": {},
   "source": [
    "> ## Question 2\n",
    "> Import the video-game sales dataset `video-game-sales.csv`, which contains data about video games, their publishers,  Sales, Ratings etc. <br> **Using this data, your objective is write code to generate plots like the ones shown.**\n",
    "\n",
    "> ### Question 2a\n",
    "The plot shows **total** `Global_Sales` for each `Platform`.\n",
    "![BP1](barplot1.png)"
   ]
  },
  {
   "cell_type": "code",
   "execution_count": 1,
   "metadata": {
    "scrolled": true
   },
   "outputs": [
    {
     "name": "stdout",
     "output_type": "stream",
     "text": [
      "Intel MKL WARNING: Support of Intel(R) Streaming SIMD Extensions 4.2 (Intel(R) SSE4.2) enabled only processors has been deprecated. Intel oneAPI Math Kernel Library 2025.0 will require Intel(R) Advanced Vector Extensions (Intel(R) AVX) instructions.\n",
      "Intel MKL WARNING: Support of Intel(R) Streaming SIMD Extensions 4.2 (Intel(R) SSE4.2) enabled only processors has been deprecated. Intel oneAPI Math Kernel Library 2025.0 will require Intel(R) Advanced Vector Extensions (Intel(R) AVX) instructions.\n"
     ]
    },
    {
     "data": {
      "text/html": [
       "<div>\n",
       "<style scoped>\n",
       "    .dataframe tbody tr th:only-of-type {\n",
       "        vertical-align: middle;\n",
       "    }\n",
       "\n",
       "    .dataframe tbody tr th {\n",
       "        vertical-align: top;\n",
       "    }\n",
       "\n",
       "    .dataframe thead th {\n",
       "        text-align: right;\n",
       "    }\n",
       "</style>\n",
       "<table border=\"1\" class=\"dataframe\">\n",
       "  <thead>\n",
       "    <tr style=\"text-align: right;\">\n",
       "      <th></th>\n",
       "      <th>Name</th>\n",
       "      <th>Platform</th>\n",
       "      <th>Year_of_Release</th>\n",
       "      <th>Genre</th>\n",
       "      <th>Publisher</th>\n",
       "      <th>NA_Sales</th>\n",
       "      <th>EU_Sales</th>\n",
       "      <th>JP_Sales</th>\n",
       "      <th>Other_Sales</th>\n",
       "      <th>Global_Sales</th>\n",
       "      <th>Critic_Score</th>\n",
       "      <th>Critic_Count</th>\n",
       "      <th>User_Score</th>\n",
       "      <th>User_Count</th>\n",
       "      <th>Developer</th>\n",
       "      <th>Rating</th>\n",
       "    </tr>\n",
       "  </thead>\n",
       "  <tbody>\n",
       "    <tr>\n",
       "      <th>0</th>\n",
       "      <td>Wii Sports</td>\n",
       "      <td>Wii</td>\n",
       "      <td>2006.0</td>\n",
       "      <td>Sports</td>\n",
       "      <td>Nintendo</td>\n",
       "      <td>41.36</td>\n",
       "      <td>28.96</td>\n",
       "      <td>3.77</td>\n",
       "      <td>8.45</td>\n",
       "      <td>82.53</td>\n",
       "      <td>76.0</td>\n",
       "      <td>51.0</td>\n",
       "      <td>8.0</td>\n",
       "      <td>322.0</td>\n",
       "      <td>Nintendo</td>\n",
       "      <td>E</td>\n",
       "    </tr>\n",
       "    <tr>\n",
       "      <th>1</th>\n",
       "      <td>Mario Kart Wii</td>\n",
       "      <td>Wii</td>\n",
       "      <td>2008.0</td>\n",
       "      <td>Racing</td>\n",
       "      <td>Nintendo</td>\n",
       "      <td>15.68</td>\n",
       "      <td>12.76</td>\n",
       "      <td>3.79</td>\n",
       "      <td>3.29</td>\n",
       "      <td>35.52</td>\n",
       "      <td>82.0</td>\n",
       "      <td>73.0</td>\n",
       "      <td>8.3</td>\n",
       "      <td>709.0</td>\n",
       "      <td>Nintendo</td>\n",
       "      <td>E</td>\n",
       "    </tr>\n",
       "    <tr>\n",
       "      <th>2</th>\n",
       "      <td>Wii Sports Resort</td>\n",
       "      <td>Wii</td>\n",
       "      <td>2009.0</td>\n",
       "      <td>Sports</td>\n",
       "      <td>Nintendo</td>\n",
       "      <td>15.61</td>\n",
       "      <td>10.93</td>\n",
       "      <td>3.28</td>\n",
       "      <td>2.95</td>\n",
       "      <td>32.77</td>\n",
       "      <td>80.0</td>\n",
       "      <td>73.0</td>\n",
       "      <td>8.0</td>\n",
       "      <td>192.0</td>\n",
       "      <td>Nintendo</td>\n",
       "      <td>E</td>\n",
       "    </tr>\n",
       "    <tr>\n",
       "      <th>3</th>\n",
       "      <td>New Super Mario Bros.</td>\n",
       "      <td>DS</td>\n",
       "      <td>2006.0</td>\n",
       "      <td>Platform</td>\n",
       "      <td>Nintendo</td>\n",
       "      <td>11.28</td>\n",
       "      <td>9.14</td>\n",
       "      <td>6.50</td>\n",
       "      <td>2.88</td>\n",
       "      <td>29.80</td>\n",
       "      <td>89.0</td>\n",
       "      <td>65.0</td>\n",
       "      <td>8.5</td>\n",
       "      <td>431.0</td>\n",
       "      <td>Nintendo</td>\n",
       "      <td>E</td>\n",
       "    </tr>\n",
       "    <tr>\n",
       "      <th>4</th>\n",
       "      <td>Wii Play</td>\n",
       "      <td>Wii</td>\n",
       "      <td>2006.0</td>\n",
       "      <td>Misc</td>\n",
       "      <td>Nintendo</td>\n",
       "      <td>13.96</td>\n",
       "      <td>9.18</td>\n",
       "      <td>2.93</td>\n",
       "      <td>2.84</td>\n",
       "      <td>28.92</td>\n",
       "      <td>58.0</td>\n",
       "      <td>41.0</td>\n",
       "      <td>6.6</td>\n",
       "      <td>129.0</td>\n",
       "      <td>Nintendo</td>\n",
       "      <td>E</td>\n",
       "    </tr>\n",
       "  </tbody>\n",
       "</table>\n",
       "</div>"
      ],
      "text/plain": [
       "                    Name Platform  Year_of_Release     Genre Publisher  \\\n",
       "0             Wii Sports      Wii           2006.0    Sports  Nintendo   \n",
       "1         Mario Kart Wii      Wii           2008.0    Racing  Nintendo   \n",
       "2      Wii Sports Resort      Wii           2009.0    Sports  Nintendo   \n",
       "3  New Super Mario Bros.       DS           2006.0  Platform  Nintendo   \n",
       "4               Wii Play      Wii           2006.0      Misc  Nintendo   \n",
       "\n",
       "   NA_Sales  EU_Sales  JP_Sales  Other_Sales  Global_Sales  Critic_Score  \\\n",
       "0     41.36     28.96      3.77         8.45         82.53          76.0   \n",
       "1     15.68     12.76      3.79         3.29         35.52          82.0   \n",
       "2     15.61     10.93      3.28         2.95         32.77          80.0   \n",
       "3     11.28      9.14      6.50         2.88         29.80          89.0   \n",
       "4     13.96      9.18      2.93         2.84         28.92          58.0   \n",
       "\n",
       "   Critic_Count  User_Score  User_Count Developer Rating  \n",
       "0          51.0         8.0       322.0  Nintendo      E  \n",
       "1          73.0         8.3       709.0  Nintendo      E  \n",
       "2          73.0         8.0       192.0  Nintendo      E  \n",
       "3          65.0         8.5       431.0  Nintendo      E  \n",
       "4          41.0         6.6       129.0  Nintendo      E  "
      ]
     },
     "execution_count": 1,
     "metadata": {},
     "output_type": "execute_result"
    }
   ],
   "source": [
    "import pandas as pd\n",
    "\n",
    "dfv = pd.read_csv(\"video-game-sales.csv\")\n",
    "dfv.head()"
   ]
  },
  {
   "cell_type": "code",
   "execution_count": 6,
   "metadata": {
    "scrolled": true
   },
   "outputs": [
    {
     "data": {
      "text/plain": [
       "Text(0, 0.5, 'Global Sales')"
      ]
     },
     "execution_count": 6,
     "metadata": {},
     "output_type": "execute_result"
    },
    {
     "data": {
      "image/png": "[encoded data removed]",
      "text/plain": [
       "<Figure size 640x480 with 1 Axes>"
      ]
     },
     "metadata": {},
     "output_type": "display_data"
    }
   ],
   "source": [
    "# Solution - a\n",
    "dfv_pivot = dfv.pivot_table(index='Platform', values='Global_Sales', aggfunc='sum')\n",
    "ax = dfv_pivot.plot.bar(title='Total global sales for each platform');\n",
    "ax.set_ylabel(\"Global Sales\")\n",
    "# or use group by:\n",
    "# dfv.groupby(['Platform']).sum().reset_index().plot.bar(x='Platform', y='Global_Sales')"
   ]
  },
  {
   "cell_type": "markdown",
   "metadata": {},
   "source": [
    "> ### Question 2b\n",
    "> The plot shows **total** number of users (`User_Count`) for each `Genre`. <br><br>\n",
    "![BP2](barplot2.png)<br>\n",
    "> `Hint:` To produce a horizontal bar plot, use `.barh()` in place of `.bar()`."
   ]
  },
  {
   "cell_type": "code",
   "execution_count": null,
   "metadata": {
    "scrolled": true
   },
   "outputs": [],
   "source": [
    "dfv = pd.read_csv(\"video-game-sales.csv\")"
   ]
  },
  {
   "cell_type": "code",
   "execution_count": null,
   "metadata": {},
   "outputs": [],
   "source": [
    "# Solution - b\n",
    "dfv_pivot = dfv.pivot_table(index='Genre', values='User_Count', aggfunc='sum');\n",
    "ax = dfv_pivot.plot.barh(title='Total number of users by Genre');\n",
    "ax.set_xlabel(\"Total Number of Users\");"
   ]
  },
  {
   "cell_type": "markdown",
   "metadata": {},
   "source": [
    "> ### Question 2c\n",
    "> The scatter plot shows the **median** `User_Score` vs **total** `User_Count` for each platform (where each point represents a single platform)\n",
    "\n",
    "> ![SC1](scatter1.png)<br>"
   ]
  },
  {
   "cell_type": "code",
   "execution_count": null,
   "metadata": {
    "scrolled": true
   },
   "outputs": [],
   "source": [
    "dfv = pd.read_csv(\"video-game-sales.csv\")\n",
    "dfv.head()"
   ]
  },
  {
   "cell_type": "code",
   "execution_count": null,
   "metadata": {},
   "outputs": [],
   "source": [
    "# Solution - c\n",
    "dfv_pivot = dfv.pivot_table(index='Platform', values=['User_Score', 'User_Count'], aggfunc={'User_Score':'median', 'User_Count':'sum'})\n",
    "ax = dfv_pivot.plot.scatter(x='User_Count', y='User_Score', title='Median User Score vs Total User Count for each platform')\n",
    "ax.set_xlabel('Total Number of Users (User_Count)')\n",
    "ax.set_ylabel('Median User Score (User_Score)')"
   ]
  },
  {
   "cell_type": "markdown",
   "metadata": {},
   "source": [
    "> ## Question 3a\n",
    "> Import the video-game sales dataset `video-game-sales.csv`, which contains data about video games, their publishers,  Sales, Ratings etc. <br>\n",
    "> **Aggregate the data using `pivot_table` to get the `mean` Global_Sales and `mean` User_Count by Genre and Platform like the image below.**<br>\n",
    "![Average](MPQ2_Img.png)\n",
    "<br><br>\n",
    "**`Note:` You may see NANs in the table after aggregation, what could be the reason behind them?**"
   ]
  },
  {
   "cell_type": "code",
   "execution_count": null,
   "metadata": {},
   "outputs": [],
   "source": [
    "import pandas as pd\n",
    "dfv = pd.read_csv(\"video-game-sales.csv\")"
   ]
  },
  {
   "cell_type": "code",
   "execution_count": 7,
   "metadata": {
    "scrolled": true
   },
   "outputs": [
    {
     "data": {
      "text/html": [
       "<div>\n",
       "<style scoped>\n",
       "    .dataframe tbody tr th:only-of-type {\n",
       "        vertical-align: middle;\n",
       "    }\n",
       "\n",
       "    .dataframe tbody tr th {\n",
       "        vertical-align: top;\n",
       "    }\n",
       "\n",
       "    .dataframe thead tr th {\n",
       "        text-align: left;\n",
       "    }\n",
       "\n",
       "    .dataframe thead tr:last-of-type th {\n",
       "        text-align: right;\n",
       "    }\n",
       "</style>\n",
       "<table border=\"1\" class=\"dataframe\">\n",
       "  <thead>\n",
       "    <tr>\n",
       "      <th></th>\n",
       "      <th colspan=\"10\" halign=\"left\">Global_Sales</th>\n",
       "      <th>...</th>\n",
       "      <th colspan=\"10\" halign=\"left\">User_Count</th>\n",
       "    </tr>\n",
       "    <tr>\n",
       "      <th>Platform</th>\n",
       "      <th>3DS</th>\n",
       "      <th>DC</th>\n",
       "      <th>DS</th>\n",
       "      <th>GBA</th>\n",
       "      <th>GC</th>\n",
       "      <th>PC</th>\n",
       "      <th>PS</th>\n",
       "      <th>PS2</th>\n",
       "      <th>PS3</th>\n",
       "      <th>PS4</th>\n",
       "      <th>...</th>\n",
       "      <th>PS2</th>\n",
       "      <th>PS3</th>\n",
       "      <th>PS4</th>\n",
       "      <th>PSP</th>\n",
       "      <th>PSV</th>\n",
       "      <th>Wii</th>\n",
       "      <th>WiiU</th>\n",
       "      <th>X360</th>\n",
       "      <th>XB</th>\n",
       "      <th>XOne</th>\n",
       "    </tr>\n",
       "    <tr>\n",
       "      <th>Genre</th>\n",
       "      <th></th>\n",
       "      <th></th>\n",
       "      <th></th>\n",
       "      <th></th>\n",
       "      <th></th>\n",
       "      <th></th>\n",
       "      <th></th>\n",
       "      <th></th>\n",
       "      <th></th>\n",
       "      <th></th>\n",
       "      <th></th>\n",
       "      <th></th>\n",
       "      <th></th>\n",
       "      <th></th>\n",
       "      <th></th>\n",
       "      <th></th>\n",
       "      <th></th>\n",
       "      <th></th>\n",
       "      <th></th>\n",
       "      <th></th>\n",
       "      <th></th>\n",
       "    </tr>\n",
       "  </thead>\n",
       "  <tbody>\n",
       "    <tr>\n",
       "      <th>Action</th>\n",
       "      <td>0.471194</td>\n",
       "      <td>NaN</td>\n",
       "      <td>0.463404</td>\n",
       "      <td>0.359403</td>\n",
       "      <td>0.355000</td>\n",
       "      <td>0.137039</td>\n",
       "      <td>1.900000</td>\n",
       "      <td>0.872283</td>\n",
       "      <td>1.096250</td>\n",
       "      <td>0.730374</td>\n",
       "      <td>...</td>\n",
       "      <td>75.344203</td>\n",
       "      <td>309.670833</td>\n",
       "      <td>457.420561</td>\n",
       "      <td>40.191011</td>\n",
       "      <td>81.466667</td>\n",
       "      <td>55.661765</td>\n",
       "      <td>167.955556</td>\n",
       "      <td>193.039683</td>\n",
       "      <td>19.376623</td>\n",
       "      <td>204.265625</td>\n",
       "    </tr>\n",
       "    <tr>\n",
       "      <th>Adventure</th>\n",
       "      <td>0.177500</td>\n",
       "      <td>0.665</td>\n",
       "      <td>0.222326</td>\n",
       "      <td>0.426364</td>\n",
       "      <td>0.308000</td>\n",
       "      <td>0.046364</td>\n",
       "      <td>0.220000</td>\n",
       "      <td>0.227959</td>\n",
       "      <td>0.715217</td>\n",
       "      <td>0.177895</td>\n",
       "      <td>...</td>\n",
       "      <td>22.469388</td>\n",
       "      <td>423.869565</td>\n",
       "      <td>191.736842</td>\n",
       "      <td>19.761905</td>\n",
       "      <td>59.705882</td>\n",
       "      <td>16.392857</td>\n",
       "      <td>7.000000</td>\n",
       "      <td>166.812500</td>\n",
       "      <td>18.535714</td>\n",
       "      <td>247.500000</td>\n",
       "    </tr>\n",
       "    <tr>\n",
       "      <th>Fighting</th>\n",
       "      <td>0.341250</td>\n",
       "      <td>0.280</td>\n",
       "      <td>0.211176</td>\n",
       "      <td>0.195000</td>\n",
       "      <td>0.591481</td>\n",
       "      <td>0.043333</td>\n",
       "      <td>1.183125</td>\n",
       "      <td>0.796829</td>\n",
       "      <td>0.802167</td>\n",
       "      <td>0.474000</td>\n",
       "      <td>...</td>\n",
       "      <td>37.426829</td>\n",
       "      <td>89.333333</td>\n",
       "      <td>237.866667</td>\n",
       "      <td>27.852941</td>\n",
       "      <td>60.900000</td>\n",
       "      <td>71.625000</td>\n",
       "      <td>105.250000</td>\n",
       "      <td>65.661765</td>\n",
       "      <td>15.216216</td>\n",
       "      <td>115.500000</td>\n",
       "    </tr>\n",
       "    <tr>\n",
       "      <th>Misc</th>\n",
       "      <td>0.416364</td>\n",
       "      <td>NaN</td>\n",
       "      <td>1.645714</td>\n",
       "      <td>0.620714</td>\n",
       "      <td>0.650000</td>\n",
       "      <td>0.610000</td>\n",
       "      <td>1.150000</td>\n",
       "      <td>0.623175</td>\n",
       "      <td>0.634286</td>\n",
       "      <td>0.343750</td>\n",
       "      <td>...</td>\n",
       "      <td>16.412698</td>\n",
       "      <td>29.142857</td>\n",
       "      <td>63.125000</td>\n",
       "      <td>18.370370</td>\n",
       "      <td>84.666667</td>\n",
       "      <td>27.750000</td>\n",
       "      <td>94.928571</td>\n",
       "      <td>38.820896</td>\n",
       "      <td>7.478261</td>\n",
       "      <td>68.384615</td>\n",
       "    </tr>\n",
       "    <tr>\n",
       "      <th>Platform</th>\n",
       "      <td>1.322857</td>\n",
       "      <td>0.120</td>\n",
       "      <td>1.417436</td>\n",
       "      <td>0.740364</td>\n",
       "      <td>0.469630</td>\n",
       "      <td>0.042632</td>\n",
       "      <td>1.058333</td>\n",
       "      <td>0.654568</td>\n",
       "      <td>0.912609</td>\n",
       "      <td>0.455000</td>\n",
       "      <td>...</td>\n",
       "      <td>41.271605</td>\n",
       "      <td>367.173913</td>\n",
       "      <td>305.928571</td>\n",
       "      <td>29.851852</td>\n",
       "      <td>150.285714</td>\n",
       "      <td>169.928571</td>\n",
       "      <td>354.157895</td>\n",
       "      <td>94.875000</td>\n",
       "      <td>14.781250</td>\n",
       "      <td>114.666667</td>\n",
       "    </tr>\n",
       "  </tbody>\n",
       "</table>\n",
       "<p>5 rows × 34 columns</p>\n",
       "</div>"
      ],
      "text/plain": [
       "          Global_Sales                                                 \\\n",
       "Platform           3DS     DC        DS       GBA        GC        PC   \n",
       "Genre                                                                   \n",
       "Action        0.471194    NaN  0.463404  0.359403  0.355000  0.137039   \n",
       "Adventure     0.177500  0.665  0.222326  0.426364  0.308000  0.046364   \n",
       "Fighting      0.341250  0.280  0.211176  0.195000  0.591481  0.043333   \n",
       "Misc          0.416364    NaN  1.645714  0.620714  0.650000  0.610000   \n",
       "Platform      1.322857  0.120  1.417436  0.740364  0.469630  0.042632   \n",
       "\n",
       "                                                   ... User_Count              \\\n",
       "Platform         PS       PS2       PS3       PS4  ...        PS2         PS3   \n",
       "Genre                                              ...                          \n",
       "Action     1.900000  0.872283  1.096250  0.730374  ...  75.344203  309.670833   \n",
       "Adventure  0.220000  0.227959  0.715217  0.177895  ...  22.469388  423.869565   \n",
       "Fighting   1.183125  0.796829  0.802167  0.474000  ...  37.426829   89.333333   \n",
       "Misc       1.150000  0.623175  0.634286  0.343750  ...  16.412698   29.142857   \n",
       "Platform   1.058333  0.654568  0.912609  0.455000  ...  41.271605  367.173913   \n",
       "\n",
       "                                                                      \\\n",
       "Platform          PS4        PSP         PSV         Wii        WiiU   \n",
       "Genre                                                                  \n",
       "Action     457.420561  40.191011   81.466667   55.661765  167.955556   \n",
       "Adventure  191.736842  19.761905   59.705882   16.392857    7.000000   \n",
       "Fighting   237.866667  27.852941   60.900000   71.625000  105.250000   \n",
       "Misc        63.125000  18.370370   84.666667   27.750000   94.928571   \n",
       "Platform   305.928571  29.851852  150.285714  169.928571  354.157895   \n",
       "\n",
       "                                              \n",
       "Platform         X360         XB        XOne  \n",
       "Genre                                         \n",
       "Action     193.039683  19.376623  204.265625  \n",
       "Adventure  166.812500  18.535714  247.500000  \n",
       "Fighting    65.661765  15.216216  115.500000  \n",
       "Misc        38.820896   7.478261   68.384615  \n",
       "Platform    94.875000  14.781250  114.666667  \n",
       "\n",
       "[5 rows x 34 columns]"
      ]
     },
     "execution_count": 7,
     "metadata": {},
     "output_type": "execute_result"
    }
   ],
   "source": [
    "# Solution\n",
    "dfv_pivot = dfv.pivot_table(index='Genre', columns=['Platform'], values=['Global_Sales', 'User_Count'], aggfunc='mean')\n",
    "dfv_pivot.head()"
   ]
  },
  {
   "cell_type": "markdown",
   "metadata": {},
   "source": [
    "> ## **Question 3b** \n",
    "> Now suppose not all platforms are important in your analysis. Aggregate the data to get mean `User_Count` by Genre and Platform, but only for selected Platforms:['PC', 'PS', 'PS2', 'PS3', 'PS4'] "
   ]
  },
  {
   "cell_type": "code",
   "execution_count": null,
   "metadata": {},
   "outputs": [],
   "source": [
    "# Your code goes here"
   ]
  },
  {
   "cell_type": "code",
   "execution_count": 8,
   "metadata": {},
   "outputs": [
    {
     "data": {
      "text/html": [
       "<div>\n",
       "<style scoped>\n",
       "    .dataframe tbody tr th:only-of-type {\n",
       "        vertical-align: middle;\n",
       "    }\n",
       "\n",
       "    .dataframe tbody tr th {\n",
       "        vertical-align: top;\n",
       "    }\n",
       "\n",
       "    .dataframe thead th {\n",
       "        text-align: right;\n",
       "    }\n",
       "</style>\n",
       "<table border=\"1\" class=\"dataframe\">\n",
       "  <thead>\n",
       "    <tr style=\"text-align: right;\">\n",
       "      <th>Platform</th>\n",
       "      <th>PC</th>\n",
       "      <th>PS</th>\n",
       "      <th>PS2</th>\n",
       "      <th>PS3</th>\n",
       "      <th>PS4</th>\n",
       "    </tr>\n",
       "    <tr>\n",
       "      <th>Genre</th>\n",
       "      <th></th>\n",
       "      <th></th>\n",
       "      <th></th>\n",
       "      <th></th>\n",
       "      <th></th>\n",
       "    </tr>\n",
       "  </thead>\n",
       "  <tbody>\n",
       "    <tr>\n",
       "      <th>Action</th>\n",
       "      <td>520.830097</td>\n",
       "      <td>97.931034</td>\n",
       "      <td>75.344203</td>\n",
       "      <td>309.670833</td>\n",
       "      <td>457.420561</td>\n",
       "    </tr>\n",
       "    <tr>\n",
       "      <th>Adventure</th>\n",
       "      <td>210.795455</td>\n",
       "      <td>13.000000</td>\n",
       "      <td>22.469388</td>\n",
       "      <td>423.869565</td>\n",
       "      <td>191.736842</td>\n",
       "    </tr>\n",
       "    <tr>\n",
       "      <th>Fighting</th>\n",
       "      <td>346.666667</td>\n",
       "      <td>52.437500</td>\n",
       "      <td>37.426829</td>\n",
       "      <td>89.333333</td>\n",
       "      <td>237.866667</td>\n",
       "    </tr>\n",
       "    <tr>\n",
       "      <th>Misc</th>\n",
       "      <td>41.600000</td>\n",
       "      <td>38.800000</td>\n",
       "      <td>16.412698</td>\n",
       "      <td>29.142857</td>\n",
       "      <td>63.125000</td>\n",
       "    </tr>\n",
       "    <tr>\n",
       "      <th>Platform</th>\n",
       "      <td>411.421053</td>\n",
       "      <td>76.222222</td>\n",
       "      <td>41.271605</td>\n",
       "      <td>367.173913</td>\n",
       "      <td>305.928571</td>\n",
       "    </tr>\n",
       "    <tr>\n",
       "      <th>Puzzle</th>\n",
       "      <td>182.000000</td>\n",
       "      <td>5.500000</td>\n",
       "      <td>25.000000</td>\n",
       "      <td>50.000000</td>\n",
       "      <td>124.000000</td>\n",
       "    </tr>\n",
       "    <tr>\n",
       "      <th>Racing</th>\n",
       "      <td>192.974026</td>\n",
       "      <td>39.555556</td>\n",
       "      <td>27.926174</td>\n",
       "      <td>91.464789</td>\n",
       "      <td>209.428571</td>\n",
       "    </tr>\n",
       "    <tr>\n",
       "      <th>Role-Playing</th>\n",
       "      <td>1097.376000</td>\n",
       "      <td>156.500000</td>\n",
       "      <td>67.814286</td>\n",
       "      <td>289.113636</td>\n",
       "      <td>728.161290</td>\n",
       "    </tr>\n",
       "    <tr>\n",
       "      <th>Shooter</th>\n",
       "      <td>967.720812</td>\n",
       "      <td>19.764706</td>\n",
       "      <td>33.012987</td>\n",
       "      <td>309.622047</td>\n",
       "      <td>942.625000</td>\n",
       "    </tr>\n",
       "    <tr>\n",
       "      <th>Simulation</th>\n",
       "      <td>242.040000</td>\n",
       "      <td>27.600000</td>\n",
       "      <td>24.705882</td>\n",
       "      <td>31.105263</td>\n",
       "      <td>61.000000</td>\n",
       "    </tr>\n",
       "    <tr>\n",
       "      <th>Sports</th>\n",
       "      <td>134.891304</td>\n",
       "      <td>32.937500</td>\n",
       "      <td>23.404762</td>\n",
       "      <td>46.533333</td>\n",
       "      <td>234.711111</td>\n",
       "    </tr>\n",
       "    <tr>\n",
       "      <th>Strategy</th>\n",
       "      <td>325.904523</td>\n",
       "      <td>22.000000</td>\n",
       "      <td>13.433962</td>\n",
       "      <td>68.222222</td>\n",
       "      <td>53.166667</td>\n",
       "    </tr>\n",
       "  </tbody>\n",
       "</table>\n",
       "</div>"
      ],
      "text/plain": [
       "Platform               PC          PS        PS2         PS3         PS4\n",
       "Genre                                                                   \n",
       "Action         520.830097   97.931034  75.344203  309.670833  457.420561\n",
       "Adventure      210.795455   13.000000  22.469388  423.869565  191.736842\n",
       "Fighting       346.666667   52.437500  37.426829   89.333333  237.866667\n",
       "Misc            41.600000   38.800000  16.412698   29.142857   63.125000\n",
       "Platform       411.421053   76.222222  41.271605  367.173913  305.928571\n",
       "Puzzle         182.000000    5.500000  25.000000   50.000000  124.000000\n",
       "Racing         192.974026   39.555556  27.926174   91.464789  209.428571\n",
       "Role-Playing  1097.376000  156.500000  67.814286  289.113636  728.161290\n",
       "Shooter        967.720812   19.764706  33.012987  309.622047  942.625000\n",
       "Simulation     242.040000   27.600000  24.705882   31.105263   61.000000\n",
       "Sports         134.891304   32.937500  23.404762   46.533333  234.711111\n",
       "Strategy       325.904523   22.000000  13.433962   68.222222   53.166667"
      ]
     },
     "execution_count": 8,
     "metadata": {},
     "output_type": "execute_result"
    }
   ],
   "source": [
    "# Solution\n",
    "dfv_pivot['User_Count'].loc[:, 'PC':'PS4']"
   ]
  },
  {
   "cell_type": "markdown",
   "metadata": {},
   "source": [
    "## III. Random Numbers"
   ]
  },
  {
   "cell_type": "markdown",
   "metadata": {},
   "source": [
    "> ## Question 4\n",
    "> Generate 100,000 random points following a uniform distribution in the interval 20 to 60. Visualize the distribution using a histogram and confirm that it is indeed uniform."
   ]
  },
  {
   "cell_type": "code",
   "execution_count": null,
   "metadata": {},
   "outputs": [],
   "source": [
    "# Code to import required libraries\n",
    "import numpy as np\n",
    "from numpy.random import rand\n",
    "\n",
    "np.random.seed(1)   # set the random seed"
   ]
  },
  {
   "cell_type": "code",
   "execution_count": null,
   "metadata": {
    "scrolled": true
   },
   "outputs": [],
   "source": [
    "# Solution\n",
    "a,b = 20,60\n",
    "randnums_u = rand(100000)\n",
    "s = pd.Series( (b-a)*randnums_u + a ) # rescale the random variable so it's in the interval [a,b]\n",
    "s.plot.hist(bins = 10, range=(0,100) );"
   ]
  },
  {
   "cell_type": "markdown",
   "metadata": {},
   "source": [
    "## IV. Data Cleaning\n",
    "> ## **Question 5** \n",
    "> There was a survey that collected data (`person-type.csv`) whether the respondent was an \"Early Bird\" or a \"Night Owl\". People were expected to respond with either Yes / No to each type. It was allowed for a person to respond Yes or No to both too. However, the responses were not standarized, meaning people responded with various flavors of Yes and No. (like y, YES, n, N etc.). **Your objective is to standardize the data, and find out how many of people responded Yes to each type.**\n",
    ">\n",
    "> You can solve the problem in the following steps\n",
    "> 1. use .unique() to find all possible responses.\n",
    "> 2. use .replace() to fix the errors and produce a clean dataset.\n",
    "> 3. Find out how many people responded Yes to \"early bird\" and \"night owl\"."
   ]
  },
  {
   "cell_type": "code",
   "execution_count": null,
   "metadata": {},
   "outputs": [],
   "source": [
    "df = pd.read_csv('person-type.csv')\n",
    "df.head()"
   ]
  },
  {
   "cell_type": "code",
   "execution_count": null,
   "metadata": {
    "scrolled": true
   },
   "outputs": [],
   "source": [
    "# Solution - Part 1\n",
    "# use .unique() to find all possible responses.\n",
    "print(df.Early_Bird.unique())\n",
    "print(df.Night_Owl.unique())"
   ]
  },
  {
   "cell_type": "code",
   "execution_count": null,
   "metadata": {},
   "outputs": [],
   "source": [
    "# Solution - Part 2\n",
    "# use .replace() to fix the errors and produce a clean dataset.\n",
    "df = df.replace([\"y\", \"Y\", \"YES\", \"Ye\"], \"Yes\")\n",
    "df = df.replace([\"N\", \"NO\", \"n\"], \"No\")\n",
    "\n",
    "# Check unique values after standardization\n",
    "print(df.Early_Bird.unique())\n",
    "print(df.Night_Owl.unique())"
   ]
  },
  {
   "cell_type": "code",
   "execution_count": null,
   "metadata": {
    "scrolled": true
   },
   "outputs": [],
   "source": [
    "# Solution - Part 3\n",
    "# Find out how many people responded Yes to \"early bird\" and \"night owl\".\n",
    "print(df.Early_Bird.value_counts())\n",
    "print(df.Night_Owl.value_counts())\n",
    "\n",
    "# 22 People responded No to each type, and 20 people responded Yes to each type"
   ]
  },
  {
   "cell_type": "markdown",
   "metadata": {},
   "source": [
    "> ## **Question 6**\n",
    "> This question deals with removal of outliers. There are 4 obvious outliers in the dataset `blobs.csv` (see scatter plot below). **Remove these obvious outliers, and plot the resulting dataset.**"
   ]
  },
  {
   "cell_type": "code",
   "execution_count": 9,
   "metadata": {},
   "outputs": [
    {
     "data": {
      "image/png": "[encoded data removed]",
      "text/plain": [
       "<Figure size 640x480 with 1 Axes>"
      ]
     },
     "metadata": {},
     "output_type": "display_data"
    }
   ],
   "source": [
    "import pandas as pd\n",
    "df = pd.read_csv(\"blobs.csv\")\n",
    "df.plot.scatter(x=\"foo\", y=\"bar\", grid=True);"
   ]
  },
  {
   "cell_type": "code",
   "execution_count": null,
   "metadata": {},
   "outputs": [],
   "source": [
    "# Solution\n",
    "i = (df.foo > -100) & (df.foo < 100) & (df.bar < 20)\n",
    "df = df[i]\n",
    "df.plot.scatter(x=\"foo\", y=\"bar\");"
   ]
  }
 ],
 "metadata": {
  "kernelspec": {
   "display_name": "Python 3",
   "language": "python",
   "name": "python3"
  },
  "language_info": {
   "codemirror_mode": {
    "name": "ipython",
    "version": 3
   },
   "file_extension": ".py",
   "mimetype": "text/x-python",
   "name": "python",
   "nbconvert_exporter": "python",
   "pygments_lexer": "ipython3",
   "version": "3.11.4"
  }
 },
 "nbformat": 4,
 "nbformat_minor": 4
}
