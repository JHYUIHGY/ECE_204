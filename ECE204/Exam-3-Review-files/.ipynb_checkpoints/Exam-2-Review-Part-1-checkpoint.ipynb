{
 "cells": [
  {
   "cell_type": "markdown",
   "metadata": {},
   "source": [
    "# Midterm 2 Review (Part I)\n",
    "## ECE204 Data Science & Engineering\n",
    "### This notebook contains practice questions for Midterm 2. The following topics are covered:\n",
    "- Loops and Flow Control\n",
    "- Pivot Tables & Data Aggregation\n",
    "- Data Cleaning\n",
    "- Random Numbers"
   ]
  },
  {
   "cell_type": "markdown",
   "metadata": {},
   "source": [
    "## I. Loops and Flow Control"
   ]
  },
  {
   "cell_type": "markdown",
   "metadata": {},
   "source": [
    "> ### Question 1\n",
    "> In this question, you have to find the count of **Fibonacci numbers** contained in a list. In the **Fibonacci Sequence**, each number in the sequence is the sum of the two numbers that precede it (starting with 0,1,...). So, the sequence goes like: 0, 1, 1, 2, 3, 5, 8, 13, 21, 34, and so on. Any number in this sequence is called a **Fibonacci number**.\n",
    ">\n",
    "> You have been given a few lists to test (list1 and list2). **Find the count of all numbers in each list which are Fibonacci numbers (Use loops to solve this problem).** <br> Eg. in a list `[2, 9, 13, 55, 56, 22]`: 2, 13 and 55  are fibonacci numbers, hence the count is `3`.\n",
    ">\n",
    "> `Hint`: A number _'n'_ is a fibonacci number if one or both of the expressions $(5\\cdot n^2 + 4)$ or $(5\\cdot n^2 – 4)$ are perfect squares.\n",
    "\n",
    "\n",
    "> Solve the problem in following steps:\n",
    ">\n",
    "> 1. Write a function `is_perfect_square(n)` that returns `True` if `n` is a perfect square and `False` otherwise. For example, `is_perfect_square(9)` returns `True`. (This function has already been given)\n",
    ">\n",
    ">2. Write a function `is_fibonacci(n)` that returns `True` if `n` is a Fibonacci number and `False` otherwise.\n",
    ">\n",
    ">3. Write a function `count_fibonacci(flist)` that loops through the elements of the list `flist` and returns the total number of Fibonacci numbers >contained in the list.\n",
    ">\n",
    ">4. If you can get this to work, try rewriting the `count_fibonacci(flist)` function so that it **uses a list comprehension rather than a loop.**\n",
    ">\n",
    ">5. **Bonus question:** can you solve the entire problem in one line of code?"
   ]
  },
  {
   "cell_type": "code",
   "execution_count": null,
   "metadata": {},
   "outputs": [],
   "source": [
    "import math\n",
    "\n",
    "# Code to find if a number is a Perfect Square : Returns True if the input is a perfect square\n",
    "def is_perfect_square(n):\n",
    "    x = math.sqrt(n)\n",
    "    return x == int(x) and n >= 0\n",
    "\n",
    "# Two test cases\n",
    "list1 = [2, 9, 13, 55, 56, 22]\n",
    "list2 = [0, 1, 15, 377, 2, 3, 5, 12]"
   ]
  },
  {
   "cell_type": "code",
   "execution_count": null,
   "metadata": {},
   "outputs": [],
   "source": [
    "# Your code goes here\n"
   ]
  },
  {
   "cell_type": "markdown",
   "metadata": {},
   "source": [
    "## II. Pivot Tables and Data Aggregation"
   ]
  },
  {
   "cell_type": "markdown",
   "metadata": {},
   "source": [
    "> ## Question 2\n",
    "> Import the video-game sales dataset `video-game-sales.csv`, which contains data about video games, their publishers,  Sales, Ratings etc. <br> **Using this data, your objective is write code to generate plots like the ones shown.**\n",
    "\n",
    "> ### Question 2a\n",
    "The plot shows **total** `Global_Sales` for each `Platform`.\n",
    "![BP1](barplot1.png)<br>"
   ]
  },
  {
   "cell_type": "code",
   "execution_count": null,
   "metadata": {
    "scrolled": true
   },
   "outputs": [],
   "source": [
    "import pandas as pd\n",
    "\n",
    "dfv = pd.read_csv(\"video-game-sales.csv\")\n",
    "dfv.head()"
   ]
  },
  {
   "cell_type": "code",
   "execution_count": null,
   "metadata": {},
   "outputs": [],
   "source": [
    "# Your code here\n"
   ]
  },
  {
   "cell_type": "markdown",
   "metadata": {},
   "source": [
    "> ### Question 2b\n",
    "> The plot shows **total** number of users (`User_Count`) for each `Genre`. <br><br>\n",
    "![BP2](barplot2.png)<br>\n",
    "> `Hint:` To produce a horizontal bar plot, use `.barh()` in place of `.bar()`."
   ]
  },
  {
   "cell_type": "code",
   "execution_count": null,
   "metadata": {
    "scrolled": true
   },
   "outputs": [],
   "source": [
    "dfv = pd.read_csv(\"video-game-sales.csv\")"
   ]
  },
  {
   "cell_type": "code",
   "execution_count": null,
   "metadata": {},
   "outputs": [],
   "source": [
    "# Your code here\n"
   ]
  },
  {
   "cell_type": "markdown",
   "metadata": {},
   "source": [
    "> ### Question 2c\n",
    "> The scatter plot shows the **median** `User_Score` vs **total** `User_Count` for each platform (where each point represents a single platform)\n",
    "\n",
    "> ![SC1](scatter1.png)<br>"
   ]
  },
  {
   "cell_type": "code",
   "execution_count": null,
   "metadata": {
    "scrolled": true
   },
   "outputs": [],
   "source": [
    "dfv = pd.read_csv(\"video-game-sales.csv\")\n",
    "dfv.head()"
   ]
  },
  {
   "cell_type": "markdown",
   "metadata": {},
   "source": [
    "> ## Question 3a\n",
    "> Import the video-game sales dataset `video-game-sales.csv`, which contains data about video games, their publishers,  Sales, Ratings etc. <br>\n",
    "> **Aggregate the data using `pivot_table` to get the `mean` Global_Sales and `mean` User_Count by Genre and Platform like the image below.**<br>\n",
    "![Average](MPQ2_Img.png)\n",
    "<br><br>\n",
    "**`Note:` You may see NANs in the table after aggregation, what could be the reason behind them?**"
   ]
  },
  {
   "cell_type": "code",
   "execution_count": null,
   "metadata": {},
   "outputs": [],
   "source": [
    "import pandas as pd\n",
    "dfv = pd.read_csv(\"video-game-sales.csv\")"
   ]
  },
  {
   "cell_type": "code",
   "execution_count": null,
   "metadata": {},
   "outputs": [],
   "source": [
    "# Your code goes here\n"
   ]
  },
  {
   "cell_type": "markdown",
   "metadata": {},
   "source": [
    "> ## **Question 3b** \n",
    "> Now suppose not all platforms are important in your analysis. Aggregate the data to get mean `User_Count` by Genre and Platform, but only for selected Platforms:['PC', 'PS', 'PS2', 'PS3', 'PS4'] "
   ]
  },
  {
   "cell_type": "code",
   "execution_count": null,
   "metadata": {},
   "outputs": [],
   "source": [
    "# Your code goes here\n"
   ]
  },
  {
   "cell_type": "markdown",
   "metadata": {},
   "source": [
    "## III. Random Numbers"
   ]
  },
  {
   "cell_type": "markdown",
   "metadata": {},
   "source": [
    "> ## Question 4\n",
    "> Generate 100,000 random points following a uniform distribution in the interval 20 to 60. Visualize the distribution using a histogram and confirm that it is indeed uniform."
   ]
  },
  {
   "cell_type": "code",
   "execution_count": null,
   "metadata": {},
   "outputs": [],
   "source": [
    "# Code to import required libraries\n",
    "import numpy as np\n",
    "from numpy.random import rand\n",
    "\n",
    "np.random.seed(1)   # set the random seed"
   ]
  },
  {
   "cell_type": "code",
   "execution_count": null,
   "metadata": {},
   "outputs": [],
   "source": [
    "# Your code here\n"
   ]
  },
  {
   "cell_type": "markdown",
   "metadata": {},
   "source": [
    "## IV. Data Cleaning\n",
    "> ## **Question 5** \n",
    "> There was a survey that collected data (`person-type.csv`) whether the respondent was an \"Early Bird\" or a \"Night Owl\". People were expected to respond with either Yes / No to each type. It was allowed for a person to respond Yes or No to both too. However, the responses were not standarized, meaning people responded with various flavors of Yes and No. (like y, YES, n, N etc.). **Your objective is to standardize the data, and find out how many of people responded Yes to each type.**\n",
    ">\n",
    "> You can solve the problem in the following steps\n",
    "> 1. use .unique() to find all possible responses.\n",
    "> 2. use .replace() to fix the errors and produce a clean dataset.\n",
    "> 3. Find out how many people responded Yes to \"early bird\" and \"night owl\"."
   ]
  },
  {
   "cell_type": "code",
   "execution_count": null,
   "metadata": {},
   "outputs": [],
   "source": [
    "df = pd.read_csv('person-type.csv')\n",
    "df.head()"
   ]
  },
  {
   "cell_type": "code",
   "execution_count": null,
   "metadata": {},
   "outputs": [],
   "source": [
    "# Your code here\n"
   ]
  },
  {
   "cell_type": "markdown",
   "metadata": {},
   "source": [
    "> ## **Question 6**\n",
    "> This question deals with removal of outliers. There are 4 obvious outliers in the dataset `blobs.csv` (see scatter plot below). **Remove these obvious outliers, and plot the resulting dataset.**"
   ]
  },
  {
   "cell_type": "code",
   "execution_count": null,
   "metadata": {},
   "outputs": [],
   "source": [
    "import pandas as pd\n",
    "df = pd.read_csv(\"blobs.csv\")\n",
    "df.plot.scatter(x=\"foo\", y=\"bar\", grid=True);"
   ]
  },
  {
   "cell_type": "code",
   "execution_count": null,
   "metadata": {},
   "outputs": [],
   "source": [
    "# Your code here\n"
   ]
  }
 ],
 "metadata": {
  "kernelspec": {
   "display_name": "Python 3",
   "language": "python",
   "name": "python3"
  },
  "language_info": {
   "codemirror_mode": {
    "name": "ipython",
    "version": 3
   },
   "file_extension": ".py",
   "mimetype": "text/x-python",
   "name": "python",
   "nbconvert_exporter": "python",
   "pygments_lexer": "ipython3",
   "version": "3.8.5"
  }
 },
 "nbformat": 4,
 "nbformat_minor": 4
}
