{
  "cells": [
    {
      "cell_type": "markdown",
      "metadata": {
        "id": "Gp4bTwC8JOYf"
      },
      "source": [
        "# ECE 204: Assessment 3 (Fall 2022)"
      ]
    },
    {
      "cell_type": "code",
      "execution_count": 53,
      "metadata": {
        "id": "5B22bWcOJOYh"
      },
      "outputs": [],
      "source": [
        "# Import Statements\n",
        "import pandas as pd\n",
        "import numpy as np\n",
        "\n",
        "from sklearn.tree import DecisionTreeClassifier\n",
        "from sklearn.model_selection import cross_val_score\n",
        "from sklearn.linear_model import LinearRegression\n",
        "from sklearn.metrics import accuracy_score"
      ]
    },
    {
      "cell_type": "markdown",
      "metadata": {
        "id": "JsUn-bmYJOYh"
      },
      "source": [
        "## Item 3: Classification"
      ]
    },
    {
      "cell_type": "markdown",
      "metadata": {
        "id": "tdUFGT2aJOYi"
      },
      "source": [
        "Please add cells below as necessary to answer the questions in this item. Do not change the pre-set random seeds."
      ]
    },
    {
      "cell_type": "code",
      "execution_count": 54,
      "metadata": {
        "id": "ovM_Xj8sJOYi"
      },
      "outputs": [
        {
          "data": {
            "text/html": [
              "<div>\n",
              "<style scoped>\n",
              "    .dataframe tbody tr th:only-of-type {\n",
              "        vertical-align: middle;\n",
              "    }\n",
              "\n",
              "    .dataframe tbody tr th {\n",
              "        vertical-align: top;\n",
              "    }\n",
              "\n",
              "    .dataframe thead th {\n",
              "        text-align: right;\n",
              "    }\n",
              "</style>\n",
              "<table border=\"1\" class=\"dataframe\">\n",
              "  <thead>\n",
              "    <tr style=\"text-align: right;\">\n",
              "      <th></th>\n",
              "      <th>Sensor_1</th>\n",
              "      <th>Sensor_2</th>\n",
              "      <th>Sensor_3</th>\n",
              "      <th>Sensor_4</th>\n",
              "      <th>Status</th>\n",
              "    </tr>\n",
              "  </thead>\n",
              "  <tbody>\n",
              "    <tr>\n",
              "      <th>0</th>\n",
              "      <td>14.161</td>\n",
              "      <td>14.255</td>\n",
              "      <td>13.657</td>\n",
              "      <td>58.989</td>\n",
              "      <td>Yellow</td>\n",
              "    </tr>\n",
              "    <tr>\n",
              "      <th>1</th>\n",
              "      <td>21.341</td>\n",
              "      <td>20.094</td>\n",
              "      <td>14.489</td>\n",
              "      <td>70.697</td>\n",
              "      <td>Red</td>\n",
              "    </tr>\n",
              "    <tr>\n",
              "      <th>2</th>\n",
              "      <td>21.674</td>\n",
              "      <td>20.433</td>\n",
              "      <td>13.804</td>\n",
              "      <td>69.272</td>\n",
              "      <td>Green</td>\n",
              "    </tr>\n",
              "    <tr>\n",
              "      <th>3</th>\n",
              "      <td>15.834</td>\n",
              "      <td>15.591</td>\n",
              "      <td>18.119</td>\n",
              "      <td>75.727</td>\n",
              "      <td>Red</td>\n",
              "    </tr>\n",
              "    <tr>\n",
              "      <th>4</th>\n",
              "      <td>12.898</td>\n",
              "      <td>13.186</td>\n",
              "      <td>8.127</td>\n",
              "      <td>42.537</td>\n",
              "      <td>Red</td>\n",
              "    </tr>\n",
              "  </tbody>\n",
              "</table>\n",
              "</div>"
            ],
            "text/plain": [
              "   Sensor_1  Sensor_2  Sensor_3  Sensor_4  Status\n",
              "0    14.161    14.255    13.657    58.989  Yellow\n",
              "1    21.341    20.094    14.489    70.697     Red\n",
              "2    21.674    20.433    13.804    69.272   Green\n",
              "3    15.834    15.591    18.119    75.727     Red\n",
              "4    12.898    13.186     8.127    42.537     Red"
            ]
          },
          "execution_count": 54,
          "metadata": {},
          "output_type": "execute_result"
        }
      ],
      "source": [
        "# Read in Data\n",
        "df_train = pd.read_csv('sensors_train.csv')\n",
        "df_test = pd.read_csv('sensors_test.csv')\n",
        "df_train.head()"
      ]
    },
    {
      "cell_type": "code",
      "execution_count": 55,
      "metadata": {
        "id": "T6gXQF7xJOYj"
      },
      "outputs": [],
      "source": [
        "X_train = df_train.loc[:,['Sensor_1','Sensor_2', 'Sensor_3', 'Sensor_4']]\n",
        "y_train = df_train['Status']\n",
        "\n",
        "X_test = df_test.loc[:,['Sensor_1','Sensor_2', 'Sensor_3', 'Sensor_4']]\n",
        "y_test = df_test['Status']"
      ]
    },
    {
      "cell_type": "code",
      "execution_count": 56,
      "metadata": {
        "id": "MKR7nFfTJOYj"
      },
      "outputs": [
        {
          "name": "stdout",
          "output_type": "stream",
          "text": [
            "0.88625\n",
            "0.6125\n",
            "0.6125\n",
            "Feature importances = [0.43061892 0.12836297 0.27171336 0.16930475]\n"
          ]
        }
      ],
      "source": [
        "# Find training and testing accuracies for a given max depth \n",
        "clf = DecisionTreeClassifier(max_depth = 15, random_state = 42)\n",
        "clf.fit(X_train,y_train)\n",
        "y_pred = clf.predict(X_test)\n",
        "\n",
        "\n",
        "print(clf.score(X_train, y_train))\n",
        "\n",
        "print(clf.score(X_test, y_test))\n",
        "print(accuracy_score(y_test,y_pred))\n",
        "print(\"Feature importances =\",clf.feature_importances_)"
      ]
    },
    {
      "cell_type": "code",
      "execution_count": 57,
      "metadata": {},
      "outputs": [
        {
          "name": "stdout",
          "output_type": "stream",
          "text": [
            "max_depth= 1 Fold acc = [0.578125 0.571875 0.578125 0.571875 0.58125 ]\n",
            "max_depth= 1 Mean acc = 0.5762499999999999\n",
            "0.5762499999999999\n",
            "max_depth= 2 Fold acc = [0.7      0.7125   0.734375 0.690625 0.684375]\n",
            "max_depth= 2 Mean acc = 0.7043750000000001\n",
            "0.7043750000000001\n",
            "max_depth= 3 Fold acc = [0.7      0.703125 0.734375 0.690625 0.675   ]\n",
            "max_depth= 3 Mean acc = 0.7006249999999999\n",
            "0.7006249999999999\n",
            "max_depth= 4 Fold acc = [0.6875   0.709375 0.71875  0.690625 0.68125 ]\n",
            "max_depth= 4 Mean acc = 0.6975\n",
            "0.6975\n",
            "max_depth= 5 Fold acc = [0.6875   0.696875 0.709375 0.69375  0.665625]\n",
            "max_depth= 5 Mean acc = 0.690625\n",
            "0.690625\n",
            "max_depth= 6 Fold acc = [0.678125 0.684375 0.690625 0.665625 0.6625  ]\n",
            "max_depth= 6 Mean acc = 0.6762499999999999\n",
            "0.6762499999999999\n",
            "max_depth= 7 Fold acc = [0.653125 0.671875 0.684375 0.65625  0.6375  ]\n",
            "max_depth= 7 Mean acc = 0.6606249999999999\n",
            "0.6606249999999999\n",
            "max_depth= 8 Fold acc = [0.64375  0.615625 0.66875  0.659375 0.634375]\n",
            "max_depth= 8 Mean acc = 0.6443749999999999\n",
            "0.6443749999999999\n",
            "max_depth= 9 Fold acc = [0.63125  0.6      0.628125 0.640625 0.625   ]\n",
            "max_depth= 9 Mean acc = 0.625\n",
            "0.625\n",
            "max_depth= 10 Fold acc = [0.634375 0.584375 0.6125   0.628125 0.609375]\n",
            "max_depth= 10 Mean acc = 0.61375\n",
            "0.61375\n",
            "max_depth= 11 Fold acc = [0.634375 0.590625 0.61875  0.609375 0.60625 ]\n",
            "max_depth= 11 Mean acc = 0.6118750000000001\n",
            "0.6118750000000001\n",
            "max_depth= 12 Fold acc = [0.621875 0.59375  0.596875 0.6      0.596875]\n",
            "max_depth= 12 Mean acc = 0.601875\n",
            "0.601875\n",
            "max_depth= 13 Fold acc = [0.615625 0.5625   0.59375  0.596875 0.609375]\n",
            "max_depth= 13 Mean acc = 0.5956250000000001\n",
            "0.5956250000000001\n",
            "max_depth= 14 Fold acc = [0.596875 0.55625  0.565625 0.603125 0.596875]\n",
            "max_depth= 14 Mean acc = 0.58375\n",
            "0.58375\n",
            "max_depth= 15 Fold acc = [0.590625 0.553125 0.53125  0.5875   0.596875]\n",
            "max_depth= 15 Mean acc = 0.571875\n",
            "0.571875\n"
          ]
        }
      ],
      "source": [
        "from sklearn.model_selection import cross_val_score\n",
        "from sklearn.tree import DecisionTreeClassifier\n",
        "for max_dep in [1,2,3,4,5,6,7,8,9,10,11,12,13,14,15]:\n",
        "    clf = DecisionTreeClassifier(max_depth=max_dep)\n",
        "    model_scores = cross_val_score(clf, X_train, y_train, cv=5)\n",
        "    print(\"max_depth=\", str(max_dep), \"Fold acc =\", model_scores)\n",
        "    print(\"max_depth=\", str(max_dep), \"Mean acc =\", model_scores.mean())\n",
        "    print(model_scores.mean())"
      ]
    },
    {
      "cell_type": "code",
      "execution_count": 58,
      "metadata": {
        "id": "-XHeudHhJOYj"
      },
      "outputs": [],
      "source": [
        "# Model selection via cross validation\n",
        "# Make sure to use random_state = 42 when creating the DecisionTreeClassifier\n"
      ]
    },
    {
      "cell_type": "code",
      "execution_count": null,
      "metadata": {},
      "outputs": [],
      "source": [
        "\n"
      ]
    },
    {
      "cell_type": "code",
      "execution_count": 59,
      "metadata": {
        "id": "I1xVUBFiJOYk"
      },
      "outputs": [
        {
          "name": "stdout",
          "output_type": "stream",
          "text": [
            "0.706875\n",
            "0.7125\n",
            "0.7125\n",
            "Feature importances = [0.59776968 0.         0.40223032 0.        ]\n"
          ]
        }
      ],
      "source": [
        "# Retrain classifier with optimal max_depth\n",
        "clf = DecisionTreeClassifier(max_depth = 2, random_state = 42)\n",
        "\n",
        "clf.fit(X_train,y_train)\n",
        "y_pred = clf.predict(X_test)\n",
        "\n",
        "\n",
        "print(clf.score(X_train, y_train))\n",
        "\n",
        "print(clf.score(X_test, y_test))\n",
        "print(accuracy_score(y_test,y_pred))\n",
        "print(\"Feature importances =\",clf.feature_importances_)\n"
      ]
    },
    {
      "cell_type": "code",
      "execution_count": 60,
      "metadata": {},
      "outputs": [
        {
          "data": {
            "text/plain": [
              "array(['Green'], dtype=object)"
            ]
          },
          "execution_count": 60,
          "metadata": {},
          "output_type": "execute_result"
        }
      ],
      "source": [
        "s1 = pd.Series([50, 50,50,50,\"Status\"])\n",
        "\n",
        "df = pd.DataFrame([list(s1)],  columns =  [\"Sensor_1\", \"Sensor_2\", \"Sensor_3\",\"Sensor_4\",\"Status\"])\n",
        "X_train = df.loc[:,['Sensor_1','Sensor_2', 'Sensor_3', 'Sensor_4']]\n",
        "y_train = df['Status']\n",
        "clf.predict(X_train)"
      ]
    },
    {
      "cell_type": "markdown",
      "metadata": {
        "id": "R_KG9sVGJOYl"
      },
      "source": [
        "## Item 4: Linear Regression"
      ]
    },
    {
      "cell_type": "markdown",
      "metadata": {
        "id": "nZxjBeudJOYl"
      },
      "source": [
        "Please add/delete cells as necessary below to answer the questions in this item."
      ]
    },
    {
      "cell_type": "code",
      "execution_count": 61,
      "metadata": {
        "id": "rYMXb83JJOYl"
      },
      "outputs": [],
      "source": [
        "# Read in Data\n",
        "df_train = pd.read_csv('sensors_train.csv')\n",
        "df_test = pd.read_csv('sensors_test.csv')\n",
        "\n",
        "Xr_train = df_train.loc[:,['Sensor_1','Sensor_2', 'Sensor_3']]\n",
        "yr_train = df_train['Sensor_4']"
      ]
    },
    {
      "cell_type": "code",
      "execution_count": 68,
      "metadata": {
        "id": "npAgaJwNJOYm"
      },
      "outputs": [
        {
          "name": "stdout",
          "output_type": "stream",
          "text": [
            "4.4476012501414885\n",
            "[ 2.141181   -1.17779325  3.00670267]\n",
            "0.9597076468309549\n"
          ]
        }
      ],
      "source": [
        "\n",
        "\n",
        "model = LinearRegression()\n",
        "model.fit(Xr_train, yr_train)\n",
        "print(model.intercept_)\n",
        "print(model.coef_)\n",
        "print(model.score(Xr_train,yr_train))\n"
      ]
    },
    {
      "cell_type": "code",
      "execution_count": 103,
      "metadata": {
        "id": "RmPN3nXMJOYm"
      },
      "outputs": [],
      "source": [
        "import numpy as np\n",
        "\n",
        "A = np.array([[       1,       13,      169,     2197,    28561,   371293],\n",
        "       [       1,       25,      625,    15625,   390625,  9765625],\n",
        "       [       1,       14,      196,     2744,    38416,   537824],\n",
        "       [       1,        2,        4,        8,       16,       32],\n",
        "       [       1,        9,       81,      729,     6561,    59049],\n",
        "       [       1,       17,      289,     4913,    83521,  1419857],\n",
        "       [       1,       16,      256,     4096,    65536,  1048576],\n",
        "       [       1,       13,      169,     2197,    28561,   371293],\n",
        "       [       1,       26,      676,    17576,   456976, 11881376],\n",
        "       [       1,       10,      100,     1000,    10000,   100000],\n",
        "       [       1,       16,      256,     4096,    65536,  1048576],\n",
        "       [       1,       12,      144,     1728,    20736,   248832],\n",
        "       [       1,       19,      361,     6859,   130321,  2476089],\n",
        "       [       1,        7,       49,      343,     2401,    16807],\n",
        "       [       1,       17,      289,     4913,    83521,  1419857],\n",
        "       [       1,        5,       25,      125,      625,     3125],\n",
        "       [       1,       10,      100,     1000,    10000,   100000],\n",
        "       [       1,        5,       25,      125,      625,     3125],\n",
        "       [       1,       25,      625,    15625,   390625,  9765625],\n",
        "       [       1,        4,       16,       64,      256,     1024],\n",
        "       [       1,       20,      400,     8000,   160000,  3200000],\n",
        "       [       1,       26,      676,    17576,   456976, 11881376]])\n",
        "\n"
      ]
    },
    {
      "cell_type": "code",
      "execution_count": 106,
      "metadata": {},
      "outputs": [
        {
          "name": "stdout",
          "output_type": "stream",
          "text": [
            "1 13 1\n",
            "13 13 13\n",
            "169 13 169\n",
            "2197 13 2197\n",
            "28561 13 28561\n",
            "371293 13 371293\n",
            "1 25 1\n",
            "25 25 25\n",
            "625 25 625\n",
            "15625 25 15625\n",
            "390625 25 390625\n",
            "9765625 25 9765625\n",
            "1 14 1\n",
            "14 14 14\n",
            "196 14 196\n",
            "2744 14 2744\n",
            "38416 14 38416\n",
            "537824 14 537824\n",
            "1 2 1\n",
            "2 2 2\n",
            "4 2 4\n",
            "8 2 8\n",
            "16 2 16\n",
            "32 2 32\n",
            "1 9 1\n",
            "9 9 9\n",
            "81 9 81\n",
            "729 9 729\n",
            "6561 9 6561\n",
            "59049 9 59049\n",
            "1 17 1\n",
            "17 17 17\n",
            "289 17 289\n",
            "4913 17 4913\n",
            "83521 17 83521\n",
            "1419857 17 1419857\n",
            "1 16 1\n",
            "16 16 16\n",
            "256 16 256\n",
            "4096 16 4096\n",
            "65536 16 65536\n",
            "1048576 16 1048576\n",
            "1 13 1\n",
            "13 13 13\n",
            "169 13 169\n",
            "2197 13 2197\n",
            "28561 13 28561\n",
            "371293 13 371293\n",
            "1 26 1\n",
            "26 26 26\n",
            "676 26 676\n",
            "17576 26 17576\n",
            "456976 26 456976\n",
            "11881376 26 11881376\n",
            "1 10 1\n",
            "10 10 10\n",
            "100 10 100\n",
            "1000 10 1000\n",
            "10000 10 10000\n",
            "100000 10 100000\n",
            "1 16 1\n",
            "16 16 16\n",
            "256 16 256\n",
            "4096 16 4096\n",
            "65536 16 65536\n",
            "1048576 16 1048576\n",
            "1 12 1\n",
            "12 12 12\n",
            "144 12 144\n",
            "1728 12 1728\n",
            "20736 12 20736\n",
            "248832 12 248832\n",
            "1 19 1\n",
            "19 19 19\n",
            "361 19 361\n",
            "6859 19 6859\n",
            "130321 19 130321\n",
            "2476089 19 2476099\n",
            "False\n",
            "1 7 1\n",
            "7 7 7\n",
            "49 7 49\n",
            "343 7 343\n",
            "2401 7 2401\n",
            "16807 7 16807\n",
            "1 17 1\n",
            "17 17 17\n",
            "289 17 289\n",
            "4913 17 4913\n",
            "83521 17 83521\n",
            "1419857 17 1419857\n",
            "1 5 1\n",
            "5 5 5\n",
            "25 5 25\n",
            "125 5 125\n",
            "625 5 625\n",
            "3125 5 3125\n",
            "1 10 1\n",
            "10 10 10\n",
            "100 10 100\n",
            "1000 10 1000\n",
            "10000 10 10000\n",
            "100000 10 100000\n",
            "1 5 1\n",
            "5 5 5\n",
            "25 5 25\n",
            "125 5 125\n",
            "625 5 625\n",
            "3125 5 3125\n",
            "1 25 1\n",
            "25 25 25\n",
            "625 25 625\n",
            "15625 25 15625\n",
            "390625 25 390625\n",
            "9765625 25 9765625\n",
            "1 4 1\n",
            "4 4 4\n",
            "16 4 16\n",
            "64 4 64\n",
            "256 4 256\n",
            "1024 4 1024\n",
            "1 20 1\n",
            "20 20 20\n",
            "400 20 400\n",
            "8000 20 8000\n",
            "160000 20 160000\n",
            "3200000 20 3200000\n",
            "1 26 1\n",
            "26 26 26\n",
            "676 26 676\n",
            "17576 26 17576\n",
            "456976 26 456976\n",
            "11881376 26 11881376\n",
            "True\n"
          ]
        }
      ],
      "source": [
        "\n",
        "for i in range(22):\n",
        "    for j in range (6):\n",
        "        vi = A[i][1]\n",
        "        vij = vi ** (j)\n",
        "        print(A[i][j],vi,vij)\n",
        "        if (A[i][j] != vij):\n",
        "            print(False)\n",
        "            break\n",
        "    \n",
        "print(True)\n",
        "    "
      ]
    },
    {
      "cell_type": "code",
      "execution_count": 109,
      "metadata": {},
      "outputs": [
        {
          "name": "stdout",
          "output_type": "stream",
          "text": [
            "1 9 1\n",
            "9 9 9\n",
            "81 9 81\n",
            "729 9 729\n",
            "6561 9 6561\n",
            "59049 9 59049\n",
            "1 18 1\n",
            "18 18 18\n",
            "324 18 324\n",
            "5832 18 5832\n",
            "104976 18 104976\n",
            "1889568 18 1889568\n",
            "1 23 1\n",
            "23 23 23\n",
            "529 23 529\n",
            "12167 23 12167\n",
            "279841 23 279841\n",
            "6436343 23 6436343\n",
            "1 26 1\n",
            "26 26 26\n",
            "676 26 676\n",
            "17576 26 17576\n",
            "456976 26 456976\n",
            "11881376 26 11881376\n",
            "1 20 1\n",
            "20 20 20\n",
            "400 20 400\n",
            "8000 20 8000\n",
            "160000 20 160000\n",
            "3200000 20 3200000\n",
            "1 5 1\n",
            "5 5 5\n",
            "25 5 25\n",
            "125 5 125\n",
            "625 5 625\n",
            "3125 5 3125\n",
            "1 10 1\n",
            "10 10 10\n",
            "100 10 100\n",
            "1000 10 1000\n",
            "10000 10 10000\n",
            "100000 10 100000\n",
            "1 4 1\n",
            "4 4 4\n",
            "16 4 16\n",
            "64 4 64\n",
            "256 4 256\n",
            "1024 4 1024\n",
            "1 24 1\n",
            "24 24 24\n",
            "576 24 576\n",
            "13824 24 13824\n",
            "331776 24 331776\n",
            "7962624 24 7962624\n",
            "1 3 1\n",
            "3 3 3\n",
            "9 3 9\n",
            "27 3 27\n",
            "81 3 81\n",
            "243 3 243\n",
            "1 22 1\n",
            "22 22 22\n",
            "484 22 484\n",
            "10648 22 10648\n",
            "234256 22 234256\n",
            "5153632 22 5153632\n",
            "1 11 1\n",
            "11 11 11\n",
            "121 11 121\n",
            "1331 11 1331\n",
            "14641 11 14641\n",
            "161051 11 161051\n",
            "1 16 1\n",
            "16 16 16\n",
            "256 16 256\n",
            "4096 16 4096\n",
            "65536 16 65536\n",
            "1048576 16 1048576\n",
            "1 18 1\n",
            "18 18 18\n",
            "324 18 324\n",
            "5832 18 5832\n",
            "104976 18 104976\n",
            "1889568 18 1889568\n",
            "1 4 1\n",
            "4 4 4\n",
            "16 4 16\n",
            "64 4 64\n",
            "256 4 256\n",
            "1024 4 1024\n",
            "1 12 1\n",
            "12 12 12\n",
            "144 12 144\n",
            "1728 12 1728\n",
            "20736 12 20736\n",
            "248832 12 248832\n",
            "1 14 1\n",
            "14 14 14\n",
            "196 14 196\n",
            "2744 14 2744\n",
            "38416 14 38416\n",
            "537824 14 537824\n",
            "1 11 1\n",
            "11 11 11\n",
            "121 11 121\n",
            "1331 11 1331\n",
            "14641 11 14641\n",
            "161051 11 161051\n",
            "1 20 1\n",
            "20 20 20\n",
            "400 20 400\n",
            "8000 20 8000\n",
            "160000 20 160000\n",
            "3200000 20 3200000\n",
            "1 21 1\n",
            "21 21 21\n",
            "441 21 441\n",
            "9261 21 9261\n",
            "194481 21 194481\n",
            "4084101 21 4084101\n",
            "1 7 1\n",
            "7 7 7\n",
            "49 7 49\n",
            "343 7 343\n",
            "2401 7 2401\n",
            "16807 7 16807\n",
            "1 18 1\n",
            "18 18 18\n",
            "324 18 324\n",
            "5832 18 5832\n",
            "104976 18 104976\n",
            "1889568 18 1889568\n",
            "1 16 1\n",
            "16 16 16\n",
            "256 16 256\n",
            "4096 16 4096\n",
            "65536 16 65536\n",
            "1048576 16 1048576\n",
            "1 15 1\n",
            "15 15 15\n",
            "225 15 225\n",
            "3375 15 3375\n",
            "50625 15 50625\n",
            "759375 15 759375\n",
            "1 17 1\n",
            "17 17 17\n",
            "289 17 289\n",
            "4913 17 4913\n",
            "83521 17 83521\n",
            "1419857 17 1419857\n",
            "1 9 1\n",
            "9 9 9\n",
            "81 9 81\n",
            "729 9 729\n",
            "6561 9 6561\n",
            "59049 9 59049\n",
            "1 2 1\n",
            "2 2 2\n",
            "4 2 4\n",
            "8 2 8\n",
            "16 2 16\n",
            "32 2 32\n",
            "True\n"
          ]
        }
      ],
      "source": [
        "B = np.array([[       1,        9,       81,      729,     6561,    59049],\n",
        "       [       1,       18,      324,     5832,   104976,  1889568],\n",
        "       [       1,       23,      529,    12167,   279841,  6436343],\n",
        "       [       1,       26,      676,    17576,   456976, 11881376],\n",
        "       [       1,       20,      400,     8000,   160000,  3200000],\n",
        "       [       1,        5,       25,      125,      625,     3125],\n",
        "       [       1,       10,      100,     1000,    10000,   100000],\n",
        "       [       1,        4,       16,       64,      256,     1024],\n",
        "       [       1,       24,      576,    13824,   331776,  7962624],\n",
        "       [       1,        3,        9,       27,       81,      243],\n",
        "       [       1,       22,      484,    10648,   234256,  5153632],\n",
        "       [       1,       11,      121,     1331,    14641,   161051],\n",
        "       [       1,       16,      256,     4096,    65536,  1048576],\n",
        "       [       1,       18,      324,     5832,   104976,  1889568],\n",
        "       [       1,        4,       16,       64,      256,     1024],\n",
        "       [       1,       12,      144,     1728,    20736,   248832],\n",
        "       [       1,       14,      196,     2744,    38416,   537824],\n",
        "       [       1,       11,      121,     1331,    14641,   161051],\n",
        "       [       1,       20,      400,     8000,   160000,  3200000],\n",
        "       [       1,       21,      441,     9261,   194481,  4084101],\n",
        "       [       1,        7,       49,      343,     2401,    16807],\n",
        "       [       1,       18,      324,     5832,   104976,  1889568],\n",
        "       [       1,       16,      256,     4096,    65536,  1048576],\n",
        "       [       1,       15,      225,     3375,    50625,   759375],\n",
        "       [       1,       17,      289,     4913,    83521,  1419857],\n",
        "       [       1,        9,       81,      729,     6561,    59049],\n",
        "       [       1,        2,        4,        8,       16,       32]])\n",
        "\n",
        "\n",
        "for i in range(27):\n",
        "    for j in range (6):\n",
        "        vi = B[i][1]\n",
        "        vij = vi ** (j)\n",
        "        print(B[i][j],vi,vij)\n",
        "        if (B[i][j] != vij):\n",
        "            print(False)\n",
        "            break\n",
        "    \n",
        "print(True)"
      ]
    },
    {
      "cell_type": "code",
      "execution_count": 108,
      "metadata": {},
      "outputs": [],
      "source": [
        "data_science_text = \"\"\"\n",
        "Data science is an interdisciplinary field that uses scientific methods, algorithms, processes, and systems to extract knowledge and insights from structured and unstructured data. It combines expertise from computer science, mathematics, statistics, domain knowledge, and communication skills.\n",
        "\n",
        "In data science, we explore, analyze, and visualize data to uncover patterns, trends, and relationships. We use machine learning techniques to build predictive models, classification algorithms, and clustering methods. Data scientists work with large datasets, often using tools like Pandas, NumPy, and scikit-learn in Python.\n",
        "\n",
        "Data science encompasses various tasks:\n",
        "- Data collection: Gathering data from different sources, such as databases, APIs, or web scraping.\n",
        "- Data cleaning: Preprocessing data by handling missing values, outliers, and inconsistencies.\n",
        "- Exploratory data analysis (EDA): Understanding the data distribution, correlations, and summary statistics.\n",
        "- Feature engineering: Creating new features from existing data to improve model performance.\n",
        "- Model selection: Choosing the appropriate algorithm (linear regression, decision trees, neural networks, etc.) for the problem.\n",
        "- Model training: Training the selected model on the data.\n",
        "- Model evaluation: Assessing the model's performance using metrics like accuracy, precision, recall, or F1-score.\n",
        "- Model deployment: Integrating the model into a production environment.\n",
        "\n",
        "Data science is widely used in various domains, including finance, healthcare, marketing, and social sciences. It plays a crucial role in making data-driven decisions, optimizing processes, and solving complex problems.\n",
        "\n",
        "Happy data science exploration!\n",
        "\"\"\""
      ]
    },
    {
      "cell_type": "code",
      "execution_count": 1,
      "metadata": {},
      "outputs": [
        {
          "ename": "NameError",
          "evalue": "name 'data_science_text' is not defined",
          "output_type": "error",
          "traceback": [
            "\u001b[0;31m---------------------------------------------------------------------------\u001b[0m",
            "\u001b[0;31mNameError\u001b[0m                                 Traceback (most recent call last)",
            "Cell \u001b[0;32mIn[1], line 3\u001b[0m\n\u001b[1;32m      1\u001b[0m \u001b[38;5;28;01mfrom\u001b[39;00m \u001b[38;5;21;01mcollections\u001b[39;00m \u001b[38;5;28;01mimport\u001b[39;00m Counter\n\u001b[0;32m----> 3\u001b[0m cleaned_text \u001b[38;5;241m=\u001b[39m \u001b[38;5;124m\"\u001b[39m\u001b[38;5;124m\"\u001b[39m\u001b[38;5;241m.\u001b[39mjoin([char\u001b[38;5;241m.\u001b[39mlower() \u001b[38;5;28;01mfor\u001b[39;00m char \u001b[38;5;129;01min\u001b[39;00m \u001b[43mdata_science_text\u001b[49m \u001b[38;5;28;01mif\u001b[39;00m char\u001b[38;5;241m.\u001b[39misalpha()])\n\u001b[1;32m      5\u001b[0m letter_frequency \u001b[38;5;241m=\u001b[39m Counter(cleaned_text)\n\u001b[1;32m      6\u001b[0m \u001b[38;5;28mprint\u001b[39m(letter_frequency)\n",
            "\u001b[0;31mNameError\u001b[0m: name 'data_science_text' is not defined"
          ]
        }
      ],
      "source": [
        "from collections import Counter\n",
        "\n",
        "cleaned_text = \"\".join([char.lower() for char in data_science_text if char.isalpha()])\n",
        "\n",
        "letter_frequency = Counter(cleaned_text)\n",
        "print(letter_frequency)\n",
        "\n",
        "shift = 13\n",
        "def f(data_science_text, shift):\n",
        "    ciphered_text = ''\n",
        "    for char in data_science_text:\n",
        "        if char.isalpha():\n",
        "            shifted_char = chr((ord(char) - ord(\"a\") + shift) % 26 + ord(\"a\"))\n",
        "            ciphered_text += shifted_char\n",
        "        else:\n",
        "            ciphered_text += char\n",
        "    return ciphered_text\n",
        "\n",
        "ciphered_text = f(cleaned_text, shift)\n",
        "\n",
        "ciphered_text.count(\"z\")\n",
        "print(cleaned_text)\n"
      ]
    }
  ],
  "metadata": {
    "colab": {
      "provenance": []
    },
    "kernelspec": {
      "display_name": "bonding",
      "language": "python",
      "name": "python3"
    },
    "language_info": {
      "codemirror_mode": {
        "name": "ipython",
        "version": 3
      },
      "file_extension": ".py",
      "mimetype": "text/x-python",
      "name": "python",
      "nbconvert_exporter": "python",
      "pygments_lexer": "ipython3",
      "version": "3.11.4"
    }
  },
  "nbformat": 4,
  "nbformat_minor": 0
}
