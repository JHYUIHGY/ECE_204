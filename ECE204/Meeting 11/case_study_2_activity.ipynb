{
 "cells": [
  {
   "cell_type": "markdown",
   "metadata": {},
   "source": [
    "# Concept 7 & Case Study 2: Standardization and PCA\n",
    "## ECE 204 Data Science & Engineering"
   ]
  },
  {
   "cell_type": "markdown",
   "metadata": {},
   "source": [
    "### Lecture Notes"
   ]
  },
  {
   "cell_type": "code",
   "execution_count": null,
   "metadata": {},
   "outputs": [],
   "source": []
  },
  {
   "cell_type": "markdown",
   "metadata": {},
   "source": [
    "### In-Class Activity\n",
    "#### Please first read the questions in the in-class activity, where the questions are there in detail. This is just a starter notebook."
   ]
  },
  {
   "cell_type": "code",
   "execution_count": null,
   "metadata": {},
   "outputs": [],
   "source": []
  },
  {
   "cell_type": "code",
   "execution_count": null,
   "metadata": {},
   "outputs": [],
   "source": []
  },
  {
   "cell_type": "code",
   "execution_count": null,
   "metadata": {},
   "outputs": [
    {
     "name": "stdout",
     "output_type": "stream",
     "text": [
      "['silent', 'night', 'disrupted', 'distant', 'listen', 'enlist', 'soldiers', 'marched', 'through', 'inlets', 'their', 'footsteps', 'tinsel', 'sound', 'cobblestones', 'Brags', 'their', 'victories', 'shared', 'while', 'garbs', 'finest', 'grabs', 'power', 'lightning', 'illuminated', 'parked', 'along', 'street', 'burnt', 'earth', 'marked', 'where', 'struck', 'swift', 'creatures', 'darted', 'through', 'forest', 'their', 'movements', 'fluid', 'covered', 'Alert', 'dangers', 'would', 'alter', 'their', 'danger', 'presented', 'later', 'recount', 'tales', 'their', 'journey', 'Aligned', 'stars', 'dealing', 'leading', 'force', 'lives', 'allergy', 'mundane', 'gallery', 'extraordinary', 'largely', 'regally', 'lived', 'angel', 'descended', 'angle', 'mercy', 'glean', 'heavens', 'brought', 'antler', 'caught', 'brush', 'learnt', 'lesson', 'caution', 'rental', 'wilderness', 'smallest', 'things', 'encouragement', 'Arches', 'stone', 'stood', 'chaser', 'dreams', 'walked', 'beneath', 'search', 'beyond', 'outstretched', 'friendship', 'grievances', 'forgotten', 'stubbornness', 'overcome', 'artist', 'painted', 'strait', 'strokes', 'traits', 'landscape', 'vivid', 'canvas', 'celebrated', 'scurried', 'alleys', 'shone', 'brightly', 'above', 'paved', 'forward', 'ascent', 'greatness', 'secant', 'success', 'stance', 'determination', 'ascot', 'pride', 'coats', 'colors', 'coast', 'endless', 'possibilities', 'tacos', 'savored', 'delight', 'Asleep', 'meadow', 'elapse', 'unnoticed', 'please', 'contentment', 'whispered', 'Assert', 'place', 'world', 'asters', 'blooming', 'confidence', 'stares', 'admiration', 'followed', 'aster', 'bloom', 'rates', 'growth', 'astounding', 'stare', 'unknown', 'taser', 'surprise', 'tears', 'gusto', 'measure', 'sipped', 'leisurely', 'auctioned', 'piece', 'history', 'cautioned', 'tales', 'education', 'making', 'baker', 'brake', 'applied', 'break', 'routine', 'tales', 'pages', 'together', 'world', 'brightened', 'Bared', 'souls', 'conversation', 'beard', 'wisdom', 'bread', 'shared', 'among', 'friends', 'debar', 'worries', 'twilight', 'excitement', 'changing', 'seasons', 'Begin', 'being', 'present', 'moment', 'binge', 'happiness', 'Below', 'surface', 'bowel', 'earth', 'elbow', 'Bleats', 'flock', 'stable', 'shelter', 'tables', 'feast']\n",
      "212\n"
     ]
    }
   ],
   "source": [
    "text = (\n",
    "    \"The silent night was disrupted only by the distant listen of the wind. \"\n",
    "    \"An enlist of soldiers marched through the inlets, their footsteps a tinsel sound on the cobblestones. \"\n",
    "    \"Brags of their past victories were shared, while garbs of the finest silk were worn, and grabs for more power were made. \"\n",
    "    \"Arcs of lightning illuminated the cars parked along the street, and a scar of burnt earth marked where they struck. \"\n",
    "    \"A race of swift creatures darted through the forest, their movements as fluid as care, and the acre of land they covered vast. \"\n",
    "    \"Alert to the dangers, they would alter their path if danger presented, and later recount the tales of their journey. \"\n",
    "    \"Aligned with the stars, the dealing of fate was a leading force in the lives of all. \"\n",
    "    \"An allergy to the mundane, a gallery of the extraordinary, and largely a regally lived life. \"\n",
    "    \"The angel descended with an angle of mercy, and glean from the heavens brought hope. \"\n",
    "    \"An antler caught in the brush, a learnt lesson of caution, a rental of time in the wilderness. \"\n",
    "    \"Apt to find joy in the smallest of things, a pat on the back, a tap of encouragement. \"\n",
    "    \"Arches of stone stood tall, a chaser of dreams walked beneath, in search of what lay beyond. \"\n",
    "    \"An arm outstretched in friendship, a mar of past grievances forgotten, a ram of stubbornness overcome. \"\n",
    "    \"An artist painted the strait with bold strokes, the traits of the landscape vivid on the canvas. \"\n",
    "    \"The arts were celebrated, rats scurried in the alleys, a star shone brightly above, and tars paved the way forward. \"\n",
    "    \"An ascent to greatness, a secant of success, a stance of determination. \"\n",
    "    \"An ascot worn with pride, coats of many colors, a coast of endless possibilities, tacos savored with delight. \"\n",
    "    \"Asleep in the meadow, an elapse of time unnoticed, please of contentment whispered. \"\n",
    "    \"Assert your place in the world, asters blooming with confidence, stares of admiration followed. \"\n",
    "    \"An aster in full bloom, rates of growth astounding, a stare into the unknown, a taser of surprise, tears of joy shed. \"\n",
    "    \"Ate with gusto, eat to live, eta a measure of time, tea sipped leisurely. \"\n",
    "    \"An auctioned piece of history, cautioned tales of the past, an education in the making. \"\n",
    "    \"A baker at work, the brake applied with care, a break from the routine. \"\n",
    "    \"A bard sang tales of old, a brad held the pages together, a drab world brightened by song. \"\n",
    "    \"Bared souls in conversation, a beard of wisdom, bread shared among friends, a debar from worries. \"\n",
    "    \"Bats flew in the twilight, a stab of excitement, tabs kept on the changing seasons. \"\n",
    "    \"Begin anew each day, being present in the moment, a binge of happiness. \"\n",
    "    \"Below the surface, a bowel of the earth, an elbow room to grow. \"\n",
    "    \"Bleats of the flock, a stable shelter, tables set for a feast. \"\n",
    ")\n",
    "\n",
    "sentences = text.split(\". \")\n",
    "words = []\n",
    "for sentence in sentences:\n",
    "    sentence = sentence.split(\", \")\n",
    "    for s in sentence:\n",
    "        words.append(s)\n",
    "\n",
    "singleword = []\n",
    "for word in words:\n",
    "    word = word.split(\" \")\n",
    "    #print(word)\n",
    "    for w in word:\n",
    "        singleword.append(w)\n",
    "\n",
    "\n",
    "filtered_words = [word for word in singleword if len(word) >= 5]\n",
    "print(filtered_words)\n",
    "print(len(filtered_words))"
   ]
  },
  {
   "cell_type": "markdown",
   "metadata": {},
   "source": [
    "#### Import Statments"
   ]
  },
  {
   "cell_type": "code",
   "execution_count": null,
   "metadata": {},
   "outputs": [],
   "source": [
    "# Add the following import statements here: pandas, numpy, StandardScaler, and PCA"
   ]
  },
  {
   "cell_type": "markdown",
   "metadata": {},
   "source": [
    "---\n",
    "**Problem 1.** Read the data in `companies.csv`. Fit a StandardScaler on both the `employees` and `revenue_usd` variables. **Find the standardized data point given to you in Canvas.**"
   ]
  },
  {
   "cell_type": "code",
   "execution_count": null,
   "metadata": {},
   "outputs": [],
   "source": [
    "# read the data\n",
    "dfq1 = pd.read_csv(\"companies.csv\")\n",
    "\n",
    "# fit with StandardScaler to standardize\n",
    "\n",
    "# Now we can standardize the data using the transform method.\n",
    "\n",
    "# Make the new datapoint into a new 1-row dataframe and then transform!\n",
    "\n"
   ]
  },
  {
   "cell_type": "markdown",
   "metadata": {},
   "source": [
    "---\n",
    "**Problem 2.** Read the data in `companies_extended.csv`. Now run PCA on this dataset, first with 4 components, and then with 2 components. **Is the first Principal Component same for both of these runs?**\n",
    "<br>\n",
    "\n",
    "To check if they are same, we can just subtract the two vectors and take the Euclidean norm!\n",
    "\n",
    "`NOTE:` **Skip data standardization for this question**"
   ]
  },
  {
   "cell_type": "code",
   "execution_count": null,
   "metadata": {},
   "outputs": [],
   "source": [
    "### read the data\n",
    "dfq2 = pd.read_csv(\"companies_extended.csv\")\n",
    "\n",
    "### fit PCA with 2 components and get the first Principle Component\n",
    "\n",
    "### fit PCA with 4 components and get the first Principle Component\n",
    "\n",
    "### Check if the first PC is same\n"
   ]
  },
  {
   "cell_type": "markdown",
   "metadata": {},
   "source": [
    "---\n",
    "**Problem 3.** Read in `companies_extended.csv`. Reduce the number of features/dimensions to `2` , and then apply the Inverse transform to get the data back into original number of dimensions. What is the mean value of the reconstructed `employees` feature (The first column)? <br>\n",
    "\n",
    "*Round the value to two decimal places*\n",
    "\n",
    "`NOTE:` **Skip data standardization for this question**"
   ]
  },
  {
   "cell_type": "code",
   "execution_count": null,
   "metadata": {},
   "outputs": [],
   "source": [
    "### read the data\n",
    "dfq3 = pd.read_csv(\"companies_extended.csv\")\n",
    "\n",
    "### use PCA to reduce the data from 5-D to 2D\n",
    "\n",
    "### now use inverse transform to get the data back in 5-D \n",
    "\n",
    "### now report the mean of employee column (The first column)\n",
    "\n"
   ]
  }
 ],
 "metadata": {
  "kernelspec": {
   "display_name": "Python 3",
   "language": "python",
   "name": "python3"
  },
  "language_info": {
   "codemirror_mode": {
    "name": "ipython",
    "version": 3
   },
   "file_extension": ".py",
   "mimetype": "text/x-python",
   "name": "python",
   "nbconvert_exporter": "python",
   "pygments_lexer": "ipython3",
   "version": "3.8.5"
  }
 },
 "nbformat": 4,
 "nbformat_minor": 4
}
