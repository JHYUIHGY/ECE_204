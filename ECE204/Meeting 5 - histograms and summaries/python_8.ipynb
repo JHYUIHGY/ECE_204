{
 "cells": [
  {
   "cell_type": "markdown",
   "metadata": {},
   "source": [
    "# Python 8: Visualization using Histograms \n",
    "## ECE 204 Data Science & Engineering"
   ]
  },
  {
   "cell_type": "markdown",
   "metadata": {},
   "source": [
    "### Lecture Notes"
   ]
  },
  {
   "cell_type": "code",
   "execution_count": 24,
   "metadata": {},
   "outputs": [
    {
     "name": "stdout",
     "output_type": "stream",
     "text": [
      "DATA SCIENCE FOR THE WIN\n",
      "HEXE WGMIRGI JSV XLI AMR\n"
     ]
    }
   ],
   "source": [
    "alphabet = \"ABCDEFGHIJKLMNOPQRSTUVWXYZ\"\n",
    "org_text = \"DATA SCIENCE FOR THE WIN\"\n",
    "shift = 4\n",
    "\n",
    "shifted_alphabet = alphabet[shift:] + alphabet[:shift]\n",
    "\n",
    "\n",
    "encrypted_text = org_text.translate(str.maketrans(alphabet, shifted_alphabet))\n",
    "\n",
    "print(org_text)\n",
    "print(encrypted_text)\n"
   ]
  },
  {
   "cell_type": "markdown",
   "metadata": {},
   "source": [
    "### In-Class Activity"
   ]
  },
  {
   "cell_type": "markdown",
   "metadata": {},
   "source": [
    "We have a dataset (__\"Scores.csv\"__) containing scores of 1,000 students on a test. The minimum score possible is 0 and the maximum is 70. The dataset contains only one column, i.e. \"Scores\"."
   ]
  },
  {
   "cell_type": "code",
   "execution_count": 56,
   "metadata": {},
   "outputs": [
    {
     "data": {
      "text/html": [
       "<div>\n",
       "<style scoped>\n",
       "    .dataframe tbody tr th:only-of-type {\n",
       "        vertical-align: middle;\n",
       "    }\n",
       "\n",
       "    .dataframe tbody tr th {\n",
       "        vertical-align: top;\n",
       "    }\n",
       "\n",
       "    .dataframe thead th {\n",
       "        text-align: right;\n",
       "    }\n",
       "</style>\n",
       "<table border=\"1\" class=\"dataframe\">\n",
       "  <thead>\n",
       "    <tr style=\"text-align: right;\">\n",
       "      <th></th>\n",
       "      <th>Scores</th>\n",
       "    </tr>\n",
       "  </thead>\n",
       "  <tbody>\n",
       "    <tr>\n",
       "      <th>0</th>\n",
       "      <td>0</td>\n",
       "    </tr>\n",
       "    <tr>\n",
       "      <th>1</th>\n",
       "      <td>1</td>\n",
       "    </tr>\n",
       "    <tr>\n",
       "      <th>2</th>\n",
       "      <td>2</td>\n",
       "    </tr>\n",
       "    <tr>\n",
       "      <th>3</th>\n",
       "      <td>4</td>\n",
       "    </tr>\n",
       "    <tr>\n",
       "      <th>4</th>\n",
       "      <td>5</td>\n",
       "    </tr>\n",
       "    <tr>\n",
       "      <th>...</th>\n",
       "      <td>...</td>\n",
       "    </tr>\n",
       "    <tr>\n",
       "      <th>295</th>\n",
       "      <td>30</td>\n",
       "    </tr>\n",
       "    <tr>\n",
       "      <th>296</th>\n",
       "      <td>30</td>\n",
       "    </tr>\n",
       "    <tr>\n",
       "      <th>297</th>\n",
       "      <td>30</td>\n",
       "    </tr>\n",
       "    <tr>\n",
       "      <th>298</th>\n",
       "      <td>30</td>\n",
       "    </tr>\n",
       "    <tr>\n",
       "      <th>299</th>\n",
       "      <td>30</td>\n",
       "    </tr>\n",
       "  </tbody>\n",
       "</table>\n",
       "<p>300 rows × 1 columns</p>\n",
       "</div>"
      ],
      "text/plain": [
       "     Scores\n",
       "0         0\n",
       "1         1\n",
       "2         2\n",
       "3         4\n",
       "4         5\n",
       "..      ...\n",
       "295      30\n",
       "296      30\n",
       "297      30\n",
       "298      30\n",
       "299      30\n",
       "\n",
       "[300 rows x 1 columns]"
      ]
     },
     "execution_count": 56,
     "metadata": {},
     "output_type": "execute_result"
    }
   ],
   "source": [
    "import pandas as pd\n",
    "\n",
    "df1 = pd.read_csv(\"Scores.csv\")\n",
    "df1.head()\n",
    "\n",
    "df1[\"Scores\"] = sorted(df1[\"Scores\"])\n",
    "df1.iloc[0:300]\n"
   ]
  },
  {
   "cell_type": "markdown",
   "metadata": {},
   "source": [
    "---\n",
    "**Problem 1.** Visualize the distribution of scores using a histogram. Choose an appropriate bin size, title and labels. <br>**Question:** What does the shape of the histogram look like?"
   ]
  },
  {
   "cell_type": "code",
   "execution_count": 17,
   "metadata": {},
   "outputs": [
    {
     "data": {
      "text/plain": [
       "<Axes: title={'center': 'Scores of 1000 students on test'}, ylabel='Frequency'>"
      ]
     },
     "execution_count": 17,
     "metadata": {},
     "output_type": "execute_result"
    },
    {
     "data": {
      "image/png": "[encoded data removed]",
      "text/plain": [
       "<Figure size 640x480 with 1 Axes>"
      ]
     },
     "metadata": {},
     "output_type": "display_data"
    }
   ],
   "source": [
    "ax = df1.plot.hist(bins=7, ec='black', title=\"Scores of 1000 students on test\")\n",
    "ax"
   ]
  },
  {
   "cell_type": "markdown",
   "metadata": {},
   "source": [
    "---\n",
    "**Problem 2.** Suppose you want to divide the scores into 3 letter grades 'A', 'B', and 'C'. We want A's to be scores of 50 or higher, C's to be scores less than 20, and B's to be everything else. Create a histogram with three bins, one for each of the letter grades. <br>**Question:** What is the approximate count of scores that are to be assigned the grade B? <br> **Hint:** Remember that you can customize bin boundaries!"
   ]
  },
  {
   "cell_type": "code",
   "execution_count": 39,
   "metadata": {},
   "outputs": [
    {
     "data": {
      "text/plain": [
       "<Axes: title={'center': 'Scores of 1000 students on test'}, ylabel='Frequency'>"
      ]
     },
     "execution_count": 39,
     "metadata": {},
     "output_type": "execute_result"
    },
    {
     "data": {
      "image/png": "[encoded data removed]",
      "text/plain": [
       "<Figure size 640x480 with 1 Axes>"
      ]
     },
     "metadata": {},
     "output_type": "display_data"
    }
   ],
   "source": [
    "ax = df1.plot.hist(bins=7, ec='black',grid = True, title=\"Scores of 1000 students on test\")\n",
    "ax"
   ]
  },
  {
   "cell_type": "markdown",
   "metadata": {},
   "source": [
    "---\n",
    "**Problem 3.** Now, let's say we want to assign letter grades a bit differently. Instead of the rule mentioned in Problem 2, we decide that the highest 300 scores get assigned an 'A', the middle 400 scores get a 'B' and the lowest 300 scores get a 'C'. <br>\n",
    "Create a Pandas DataFrame containing two columns: <br>\n",
    "1. `'Scores'`: The sorted (ascending) 1000 scores from the above defined dataset. **Hint:** The `sorted()` function can be used on a `pd.Series object`. You can also use the `pd.Series.sort_values()` method<br>\n",
    "2. `'Grade'`: Letter Grades assigned according to the rule given above"
   ]
  },
  {
   "cell_type": "code",
   "execution_count": 46,
   "metadata": {},
   "outputs": [
    {
     "data": {
      "text/html": [
       "<div>\n",
       "<style scoped>\n",
       "    .dataframe tbody tr th:only-of-type {\n",
       "        vertical-align: middle;\n",
       "    }\n",
       "\n",
       "    .dataframe tbody tr th {\n",
       "        vertical-align: top;\n",
       "    }\n",
       "\n",
       "    .dataframe thead th {\n",
       "        text-align: right;\n",
       "    }\n",
       "</style>\n",
       "<table border=\"1\" class=\"dataframe\">\n",
       "  <thead>\n",
       "    <tr style=\"text-align: right;\">\n",
       "      <th></th>\n",
       "      <th>Grade</th>\n",
       "      <th>Scores</th>\n",
       "    </tr>\n",
       "  </thead>\n",
       "  <tbody>\n",
       "    <tr>\n",
       "      <th>0</th>\n",
       "      <td>C</td>\n",
       "      <td>0</td>\n",
       "    </tr>\n",
       "    <tr>\n",
       "      <th>1</th>\n",
       "      <td>C</td>\n",
       "      <td>1</td>\n",
       "    </tr>\n",
       "    <tr>\n",
       "      <th>2</th>\n",
       "      <td>C</td>\n",
       "      <td>2</td>\n",
       "    </tr>\n",
       "    <tr>\n",
       "      <th>3</th>\n",
       "      <td>C</td>\n",
       "      <td>4</td>\n",
       "    </tr>\n",
       "    <tr>\n",
       "      <th>4</th>\n",
       "      <td>C</td>\n",
       "      <td>5</td>\n",
       "    </tr>\n",
       "    <tr>\n",
       "      <th>...</th>\n",
       "      <td>...</td>\n",
       "      <td>...</td>\n",
       "    </tr>\n",
       "    <tr>\n",
       "      <th>995</th>\n",
       "      <td>A</td>\n",
       "      <td>67</td>\n",
       "    </tr>\n",
       "    <tr>\n",
       "      <th>996</th>\n",
       "      <td>A</td>\n",
       "      <td>67</td>\n",
       "    </tr>\n",
       "    <tr>\n",
       "      <th>997</th>\n",
       "      <td>A</td>\n",
       "      <td>68</td>\n",
       "    </tr>\n",
       "    <tr>\n",
       "      <th>998</th>\n",
       "      <td>A</td>\n",
       "      <td>69</td>\n",
       "    </tr>\n",
       "    <tr>\n",
       "      <th>999</th>\n",
       "      <td>A</td>\n",
       "      <td>70</td>\n",
       "    </tr>\n",
       "  </tbody>\n",
       "</table>\n",
       "<p>1000 rows × 2 columns</p>\n",
       "</div>"
      ],
      "text/plain": [
       "    Grade  Scores\n",
       "0       C       0\n",
       "1       C       1\n",
       "2       C       2\n",
       "3       C       4\n",
       "4       C       5\n",
       "..    ...     ...\n",
       "995     A      67\n",
       "996     A      67\n",
       "997     A      68\n",
       "998     A      69\n",
       "999     A      70\n",
       "\n",
       "[1000 rows x 2 columns]"
      ]
     },
     "execution_count": 46,
     "metadata": {},
     "output_type": "execute_result"
    }
   ],
   "source": [
    "LetterGrade = ['C']*300 + ['B']*400 + ['A']*300   # Letter grade list for convenience\n",
    "df = pd.DataFrame(LetterGrade,columns=[\"Grade\"])\n",
    "\n",
    "df[\"Scores\"] = sorted(df1[\"Scores\"])\n",
    "df"
   ]
  },
  {
   "cell_type": "markdown",
   "metadata": {},
   "source": [
    "Using this new DataFrame, Plot histograms of scores for each letter grade separately. You should have three histograms, one each for scores with Grade A, scores with Grade B, and scores with Grade C. <br> <br>**Question:** What does the shape of histogram for Grade 'C' Scores look like?"
   ]
  },
  {
   "cell_type": "code",
   "execution_count": 60,
   "metadata": {},
   "outputs": [
    {
     "data": {
      "image/png": "[encoded data removed]",
      "text/plain": [
       "<Figure size 640x480 with 1 Axes>"
      ]
     },
     "metadata": {},
     "output_type": "display_data"
    },
    {
     "data": {
      "image/png": "[encoded data removed]",
      "text/plain": [
       "<Figure size 640x480 with 1 Axes>"
      ]
     },
     "metadata": {},
     "output_type": "display_data"
    },
    {
     "data": {
      "image/png": "[encoded data removed]",
      "text/plain": [
       "<Figure size 640x480 with 1 Axes>"
      ]
     },
     "metadata": {},
     "output_type": "display_data"
    }
   ],
   "source": [
    "df2 = df[df[\"Grade\"]== \"A\"]\n",
    "ax1 = df2.plot.hist(bins=12, ec='black',grid = True)\n",
    "df3 = df[df[\"Grade\"]== \"B\"]\n",
    "ax2 = df3.plot.hist(bins=6, ec='black',grid = True)\n",
    "\n",
    "\n",
    "df4 = df[df[\"Grade\"]== \"C\"]\n",
    "ax3 = df4.plot.hist(bins=12, ec='black',grid = True)"
   ]
  },
  {
   "cell_type": "markdown",
   "metadata": {},
   "source": [
    "**Problem 4.** Please use the `df2` DataFrame below to answer the following question."
   ]
  },
  {
   "cell_type": "code",
   "execution_count": 15,
   "metadata": {},
   "outputs": [],
   "source": [
    "x = [-62, 162, 119, -169, 165, -32, 13, 182, -173, 57, 94, 113, -177, 115, -199, -159, 8, 123, 65, 50, -109, -179, -18, 32, 63, 135, 97, 199, -133, 149, -87, -42, 36, 21, 31, 4, 148, 12, -185, -53, 37, -36, 158, -154, -114, -180, 59, 118, 88, 110, -102, 24, -181, 82, 52, -132, -122, 188, -51, 38, 128, 42, -143, 29, -142, 71, 146, -40, -47, -176, -113, 173, -121, -43, 143, 46, 51, -27, 23, -26, -141, 75, -98, -30, 5, 144, -148, 26, -193, 167, -15, 145, 58, -1, -89, -34, 125, -184, 139, 107]\n",
    "y = [-157, 69, -15, -164, 187, 128, 137, 171, -64, 33, 28, -129, 143, 106, -57, -189, -106, 131, -85, 142, -116, 163, 68, -32, 199, -190, 105, -198, -68, 53, 91, 63, 112, -6, -193, -52, -83, -3, 20, -56, -134, -87, -158, -130, -137, 104, 152, -146, 174, -111, 85, 162, -77, 81, 26, -82, 170, 153, 136, -13, -180, -30, 139, 58, -127, -88, 188, 86, -168, 41, -76, 82, 144, 155, -196, -1, 17, -95, -179, 178, 9, -67, 133, -58, -48, 149, -65, 45, 192, 191, -55, -4, 87, -165, -7, 71, -103, 51, -74, -105]\n",
    "df2 = pd.DataFrame(y, columns=[\"y\"], index=x)\n"
   ]
  },
  {
   "cell_type": "code",
   "execution_count": 28,
   "metadata": {},
   "outputs": [
    {
     "name": "stdout",
     "output_type": "stream",
     "text": [
      "29\n"
     ]
    }
   ],
   "source": [
    "print(x[63])"
   ]
  },
  {
   "cell_type": "markdown",
   "metadata": {},
   "source": [
    "**Question.** What value should `label_location` be so that the code in the cell below returns True?"
   ]
  },
  {
   "cell_type": "code",
   "execution_count": 13,
   "metadata": {},
   "outputs": [
    {
     "name": "stdout",
     "output_type": "stream",
     "text": [
      "29\n",
      "58\n"
     ]
    },
    {
     "data": {
      "text/plain": [
       "y    False\n",
       "dtype: bool"
      ]
     },
     "execution_count": 13,
     "metadata": {},
     "output_type": "execute_result"
    }
   ],
   "source": [
    "integer_location = 63\n",
    "label_location =  -98\n",
    "print(x[63])\n",
    "print(y[63])\n",
    "df2.iloc[integer_location] == df2.loc[label_location]"
   ]
  },
  {
   "cell_type": "code",
   "execution_count": 29,
   "metadata": {},
   "outputs": [],
   "source": [
    "\n",
    "df3 = pd.DataFrame({'odd': [1, 3, 5, 7, 9], 'even': [0, 2, 4, 6, 8]}, index=['a', 'b', 'c', 'd', 'e'])"
   ]
  },
  {
   "cell_type": "code",
   "execution_count": 31,
   "metadata": {},
   "outputs": [
    {
     "name": "stdout",
     "output_type": "stream",
     "text": [
      "True\n",
      "True\n"
     ]
    }
   ],
   "source": [
    "l1 = [4244530312433166, 40937967176, 193285507610732333145838635, 712066649769401300258, 2, 1230, 9367676476326953763, 426581027718477880074488843607, 3361968689330811120964600127114860714, 157940964738754500327491300544853348193, 871415242, 37284804110243375209310823927144619978, 9664143118, 4114320979130032160060915, 359607300338648395229065958920519, 1188611027608, 9080304536725289625694354943, 6452891178097439379049311979274666, 394845, 7896940157218997793093, 60328080314255562559090238308854364109, 150819, 73828494374523271301274764, 690222601804358220614615539418, 141704841438129202797416, 1672578, 90350075010114, 2464785104328870816547125237093065, 2834135616999800006404595404971085399139, 1621266313070262, 13600, 23043276204012187349779414381709744130, 440081391812757478212, 263641574085880340540126695811, 1, 2143569127066903974389528450, 600271341072744362440739, 3578134018344046609, 5439779608450188369283404709160007570, 10771432163989170972682189, 2542790205729106652560366, 291, 581856834550524675362997773084012, 13181898293171, 2706287, 2, 13, 39682114344946675603, 6657111184859138812621279, 3988106073768568562502186742181601, 5035037111748, 5972768917, 522042717771511576, 54126433058950825773169, 10440997251866007941551498721456264, 18, 33451975320227551251085, 137357766126772115095134144757028, 8405, 1116803629522836100689104383024, 107176989500, 71563659793622357844905429545105304, 55839417242352, 3016362732933718857185, 103889124100530165882, 20040227998231735073875281294641, 11112324624229237, 7419863374032130704271126525480992504213, 66239022323, 115792433905415260427658549668023422, 669048663065261376519276026106558012736, 454009013143, 100702120453282801005764548010, 64207009755583490283, 21328759474594, 280593001321, 3111824069676, 97612884424498937768401062235998984083, 2077810919119377248318804582045146859, 244026, 3, 844682860933674489, 758, 303148527604452878700222528881152140, 76165006056534404, 312742520846941394990402512, 12385542045204479908585912761274, 4, 271985257956643822047, 34510657767762, 1324798577762288851262884797, 199402574609348660, 1751592140032530691461935715538821705937, 25301055147, 14692241368621386425736296638, 22005, 1571530773400925507500552, 28199975512837480757985652, 18549153, 1523320969439697745955061505088537, 3212, 236539567262577, 0, 84891768085104165038797669406471, 6867794311796075, 1284157770211433872645795545069713859, 2211408439638860550, 8801748297780999490248004836274868282, 119457013236209061844563876, 52465998041667950056336475350556, 72, 818770549304615123126643654, 1864214691351560078723, 2623263999362908, 20674457738723274522088, 146189492252463, 187356093699037618272563979213128723, 29092443560254549, 1033712, 619268626777613, 78575465, 173416011821, 5789542457982907159, 23772545905346676051430651580, 16893888429963447320600810700730931, 638866, 8146861181422, 8, 17980118936025313, 471, 87578408379178377024251, 5611936831896096800041941695, 4378863, 38464787273968062477166948215, 15157218934309860921, 4730856092177224743296544227907, 1001997686292650, 45628518861685790543289116, 168096133856113656166, 2923829860850030421992824305465, 1, 48562308, 12777517581504276728998, 413494813902007938423383663325705680465, 734602014465, 506028028457673728136241142, 47072562496279860, 11464007, 7085149, 29, 2281394722, 30013158, 62237333179314738528597599794, 370988091255436782619080, 322640143162162918, 27334885681829455262152309422187191, 1409979481, 255553849163253438095892362780852332276, 490504621303490496972786508094280863, 1807026231327194321303719922443, 4, 229283249817307579821663, 17428543348848309785303463, 793653148907943375673009036975432999, 127137773, 4880577424285278935907, 123237568552814259, 382729059515041, 941464134889173070592063732004530, 12005591131064461402137657645990899609288, 15636912034, 112, 1923213042073, 5196, 32425770043436214982461194055915, 1152148041582158778467, 3468367704829192825652413247, 14241527906231187859531409545434875853, 44228774111792902582753120122918118, 44, 3691374200, 971259432328181145059814, 4585727757032330697866531120509907105075, 205713234, 538564238, 3, 1082543476967269314942659689432263693202, 3, 35606, 1366725578705186062, 1983, 24524895410636814681, 57610, 162939453632597539534362147800, 7654685953027255165289368533369, 332851006, 222249534211876280133931814163496, 93212, 2, 183]\n",
    "num = 734602014465\n",
    "if num in l1:\n",
    "    print(True)\n"
   ]
  },
  {
   "cell_type": "code",
   "execution_count": 95,
   "metadata": {},
   "outputs": [
    {
     "data": {
      "text/plain": [
       "175"
      ]
     },
     "execution_count": 95,
     "metadata": {},
     "output_type": "execute_result"
    }
   ],
   "source": [
    "def my_f(m1, m2):\n",
    "  return m1 * m2\n",
    "\n",
    "def my_ops(m1, m2):\n",
    "  def my_f(m1, m2):\n",
    "    return m1 ** m2\n",
    "\n",
    "  return my_f(max(m1, m2), min(m1, m2))\n",
    "\n",
    "# # call the expression here.\n",
    "my_f(my_ops(5, 2), 7)"
   ]
  },
  {
   "cell_type": "code",
   "execution_count": 96,
   "metadata": {},
   "outputs": [
    {
     "name": "stdout",
     "output_type": "stream",
     "text": [
      "Filtered list:  556\n"
     ]
    }
   ],
   "source": [
    "import random\n",
    "r = lambda _: random.randint(0, 11)\n",
    "random.seed(0)\n",
    "numbers = [r(0), r(0), r(0), r(0), r(0), r(0), r(0), r(0), r(0), r(0), r(0), r(0), r(0), r(0), r(0), r(0),\n",
    "           r(0), r(0), r(0), r(0), r(0), r(0), r(0), r(0), r(0), r(0), r(0), r(0), r(0), r(0), r(0), r(0), ]\n",
    "\n",
    "# Squaring and filtering even numbers\n",
    "result = sum(filter(lambda x: x % 2 == 0, map(lambda x: x ** 2, numbers)))\n",
    "print('Filtered list: ', result)"
   ]
  },
  {
   "cell_type": "code",
   "execution_count": 99,
   "metadata": {},
   "outputs": [
    {
     "data": {
      "text/plain": [
       "8"
      ]
     },
     "execution_count": 99,
     "metadata": {},
     "output_type": "execute_result"
    }
   ],
   "source": [
    "# Define a class to represent a person\n",
    "class Person:\n",
    "    def __init__(self, name, age, grade):\n",
    "        self.name = name\n",
    "        self.age = age\n",
    "        self.grade = grade\n",
    "\n",
    "    def __repr__(self):\n",
    "        return f\"Person(name={self.name}, age={self.age}, grade={self.grade})\"\n",
    "\n",
    "# Create a list of dictionaries\n",
    "people_dict = [\n",
    "    {\"name\": \"Alice\", \"age\": 25, \"grade\": 100},\n",
    "    {\"name\": \"Bob\", \"age\": 30, \"grade\": 99},\n",
    "    {\"name\": \"Charlie\", \"age\": 35, \"grade\": 100},\n",
    "    {\"name\": \"Eve\", \"age\": 18, \"grade\": 100},\n",
    "    {\"name\": \"Li\", \"age\": 21, \"grade\": 100},\n",
    "    {\"name\": \"Eve\", \"age\": 22, \"grade\": 100},\n",
    "    {\"name\": \"Joyee\", \"age\": 23, \"grade\": 97},\n",
    "    {\"name\": \"Zhan\", \"age\": 19, \"grade\": 97},\n",
    "]\n",
    "\n",
    "# Use map to apply a function that takes a dictionary and returns a Person object\n",
    "people_obj = list(map(lambda d: Person(**d), people_dict))\n",
    "len(people_obj)"
   ]
  }
 ],
 "metadata": {
  "kernelspec": {
   "display_name": "Python 3",
   "language": "python",
   "name": "python3"
  },
  "language_info": {
   "codemirror_mode": {
    "name": "ipython",
    "version": 3
   },
   "file_extension": ".py",
   "mimetype": "text/x-python",
   "name": "python",
   "nbconvert_exporter": "python",
   "pygments_lexer": "ipython3",
   "version": "3.11.4"
  }
 },
 "nbformat": 4,
 "nbformat_minor": 4
}
