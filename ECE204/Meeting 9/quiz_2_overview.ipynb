{
 "cells": [
  {
   "cell_type": "markdown",
   "metadata": {},
   "source": [
    "# Midterm Exam-2 Overview\n",
    "\n",
    "`NOTE:` Please run the notebook in sequence and make sure you have the correct variable defined in any section before running an operation on it."
   ]
  },
  {
   "cell_type": "markdown",
   "metadata": {},
   "source": [
    "## 1. Jupyter Notebook Basics\n",
    "\n",
    "Please see the Python 2 slides on the modules page in Canvas for information on Jupyter Notebooks and how to use them.\n",
    "\n",
    "---"
   ]
  },
  {
   "cell_type": "markdown",
   "metadata": {},
   "source": [
    "## 2. Data Types\n",
    "\n",
    "### 2.1 Basic Data Types\n",
    "- Integers (`int`) are whole numbers like:  4, -23, 1782\n",
    "- Floats (`float`) are numbers with a decimal point: -202.25\n",
    "- Booleans (`bool`) represent True or False\n",
    "- Strings (`str`) represent a sequence of characters: \"Data-Science123\""
   ]
  },
  {
   "cell_type": "code",
   "execution_count": 1,
   "metadata": {},
   "outputs": [
    {
     "name": "stdout",
     "output_type": "stream",
     "text": [
      "Type of int_var:  <class 'int'>\n",
      "Type of float_var:  <class 'float'>\n",
      "Type of bool_var:  <class 'bool'>\n",
      "Type of string_var:  <class 'str'>\n"
     ]
    }
   ],
   "source": [
    "# Integer\n",
    "int_var = 4\n",
    "# The type() function returns the data type of the object\n",
    "print(\"Type of int_var: \", type(int_var))\n",
    "\n",
    "# Float\n",
    "float_var = -202.25\n",
    "print(\"Type of float_var: \", type(float_var))\n",
    "\n",
    "# Boolean\n",
    "bool_var = True\n",
    "print(\"Type of bool_var: \", type(bool_var))\n",
    "\n",
    "# String\n",
    "string_var = 'Data-Science123'\n",
    "print(\"Type of string_var: \", type(string_var))"
   ]
  },
  {
   "cell_type": "markdown",
   "metadata": {},
   "source": [
    "**The functions int( ), float( ), bool( ), str( ) perform conversions between data types.**"
   ]
  },
  {
   "cell_type": "code",
   "execution_count": null,
   "metadata": {},
   "outputs": [],
   "source": []
  },
  {
   "cell_type": "code",
   "execution_count": 2,
   "metadata": {},
   "outputs": [
    {
     "name": "stdout",
     "output_type": "stream",
     "text": [
      "int -> float:  4.0 <class 'float'>\n",
      "float -> int:  -202 <class 'int'>\n",
      "int -> string:  4 <class 'str'>\n",
      "int -> bool  True <class 'bool'>\n"
     ]
    }
   ],
   "source": [
    "# Example conversions between data types\n",
    "print(\"int -> float: \", float(int_var), type(float(int_var)))\n",
    "print(\"float -> int: \", int(float_var), type(int(float_var)))\n",
    "print(\"int -> string: \", str(int_var), type(str(int_var)))\n",
    "print(\"int -> bool \", bool(int_var), type(bool(int_var))) # Converts 0: False, Otherwise: True"
   ]
  },
  {
   "cell_type": "markdown",
   "metadata": {},
   "source": [
    "---\n",
    "### 2.2 Built-in Compound Data Types: Lists and Tuples\n",
    "- **Lists:** Sequence of items separated by a comma, between [...]\n",
    "- **Tuples:** Similar to lists but are immutable, between (...). Use them for a sequence you don't intend to change."
   ]
  },
  {
   "cell_type": "code",
   "execution_count": 3,
   "metadata": {},
   "outputs": [
    {
     "name": "stdout",
     "output_type": "stream",
     "text": [
      "Concatenated List: [1, 'two', 3, 4, 5, 'six']\n",
      "Repeated List: [1, 'two', 1, 'two', 1, 'two']\n"
     ]
    }
   ],
   "source": [
    "# Examples - lists\n",
    "mylist = [100, \"hundred\", \"100\", 2.14e3]\n",
    "\n",
    "# Concatenating two lists: Use the \"+\" operator\n",
    "concat_list = [1, \"two\", 3] + [4, 5, \"six\"]\n",
    "print(\"Concatenated List:\", concat_list)\n",
    "\n",
    "# Repeating a list: Use the \"*\" operator\n",
    "repeat_list = [1, \"two\"] * 3  # Repeats 3 times\n",
    "print(\"Repeated List:\", repeat_list)\n",
    "\n",
    "# Example - tuple\n",
    "mytuple = (100, \"hundred\", \"100\", 2.14e3)"
   ]
  },
  {
   "cell_type": "markdown",
   "metadata": {},
   "source": [
    "#### Indexing and Slicing\n",
    "\n",
    "**Indexing Syntax**: Each element can be indexed starting from 0 counting from beginning **OR** starting from -1 counting from the end. <br> \n",
    "eg. To get the 3rd element from start: X[2] <br>"
   ]
  },
  {
   "cell_type": "code",
   "execution_count": 4,
   "metadata": {},
   "outputs": [
    {
     "name": "stdout",
     "output_type": "stream",
     "text": [
      "Indexing to get the last element from beginning: [20, 30, 40]\n",
      "Indexing to get the last element from end: [20, 30, 40]\n",
      "Indexing to get the second element in the last element in mylist: 30\n"
     ]
    }
   ],
   "source": [
    "# List elements can be of any type, including other lists\n",
    "mylist = [100, \"hundred\", \"100\", 2.14e3, \"two-hundred\", 200, [20, 30, 40]]\n",
    "\n",
    "# Examples - Indexing\n",
    "# Indexing to get the last element of mylist, [20, 30, 40]\n",
    "print(\"Indexing to get the last element from beginning:\", mylist[6])\n",
    "print(\"Indexing to get the last element from end:\", mylist[-1])\n",
    "\n",
    "# Indexing to get the \"second\" element (30) in the last element of mylist ([20, 30, 40])\n",
    "print(\"Indexing to get the second element in the last element in mylist:\", mylist[-1][1])"
   ]
  },
  {
   "cell_type": "markdown",
   "metadata": {},
   "source": [
    "**Slicing Syntax**: X[a:b:s], where\n",
    "- a: Starting from index a (**inclusive**). If blank, starts at beginning if s>0 or starts at the end if s<0.\n",
    "- b: Ending at index b (**exclusive**). If blank, ends at the end if s>0 or ends at the beginning if s<0.\n",
    "- s: Move in steps of length s. If blank, defaults to s=1. <br>\n",
    "Note that the second colon **:** is optional and may be omitted."
   ]
  },
  {
   "cell_type": "code",
   "execution_count": 5,
   "metadata": {},
   "outputs": [
    {
     "name": "stdout",
     "output_type": "stream",
     "text": [
      "Starting from beginning to the 4th element in steps of 1: ['a', 'b', 'c', 'd']\n",
      "Starting from beginning to the 4th element in steps of 2: ['a', 'c']\n",
      "Starting from 4th element (inclusive) and going backwards all the way in steps of 1: ['d', 'c', 'b', 'a']\n"
     ]
    }
   ],
   "source": [
    "# Examples - Slicing\n",
    "mylist = ['a', 'b', 'c', 'd', 'e', 'f', 'g']\n",
    "\n",
    "# Note that end index is excluded (Index 4 is actually the 5th element)\n",
    "print(\"Starting from beginning to the 4th element in steps of 1:\", mylist[0:4:1])\n",
    "\n",
    "print(\"Starting from beginning to the 4th element in steps of 2:\", mylist[0:4:2])\n",
    "\n",
    "print(\"Starting from 4th element (inclusive) and going backwards all the way in steps of 1:\", mylist[3::-1])\n",
    "\n",
    "# NOTE: The above indexing and slicing syntax can be applied to strings too!"
   ]
  },
  {
   "cell_type": "markdown",
   "metadata": {},
   "source": [
    "#### Common Built-in List/Tuple Functions"
   ]
  },
  {
   "cell_type": "code",
   "execution_count": 6,
   "metadata": {},
   "outputs": [
    {
     "name": "stdout",
     "output_type": "stream",
     "text": [
      "Length of the list:  6\n",
      "Minimum from the list:  -1\n",
      "Maximum from the list:  254\n",
      "Sum of all the elements:  277.5601\n",
      "Sorted Ascending: [-1, 0.0001, 2.56, 10, 12, 254]\n",
      "Sorted Descending: [254, 12, 10, 2.56, 0.0001, -1]\n"
     ]
    }
   ],
   "source": [
    "mylist = [10, 254, 12, -1, 2.56, 1e-4]\n",
    "\n",
    "# len(): Length of the list\n",
    "print(\"Length of the list: \", len(mylist))\n",
    "\n",
    "# min(): Get the minimum from the list\n",
    "print(\"Minimum from the list: \", min(mylist))\n",
    "\n",
    "# max(): Get the minimum from the list\n",
    "print(\"Maximum from the list: \", max(mylist))\n",
    "\n",
    "# sum(): Sum of all the elements\n",
    "print(\"Sum of all the elements: \", sum(mylist))\n",
    "\n",
    "# sorted(): Sorting all elements\n",
    "print(\"Sorted Ascending:\", sorted(mylist))\n",
    "print(\"Sorted Descending:\", sorted(mylist, reverse=True))\n",
    "\n",
    "# NOTE: All the above functions work on Tuples too"
   ]
  },
  {
   "cell_type": "markdown",
   "metadata": {},
   "source": [
    "**`tuple()` and `list()` functions can be used to convert between the two** <br>\n",
    "NOTE: `tuple()` and `list()` functions create a copy of the object"
   ]
  },
  {
   "cell_type": "code",
   "execution_count": 7,
   "metadata": {},
   "outputs": [
    {
     "name": "stdout",
     "output_type": "stream",
     "text": [
      "List -> Tuple:  (10, 254, 12, -1, 2.56, 0.0001) <class 'tuple'>\n",
      "Tuple -> List:  [1, 2.5, 12123, -15, 'a'] <class 'list'>\n"
     ]
    }
   ],
   "source": [
    "mylist = [10, 254, 12, -1, 2.56, 1e-4]\n",
    "mytuple = (1, 2.5, 12123, -15, \"a\")\n",
    "\n",
    "print(\"List -> Tuple: \", tuple(mylist), type(tuple(mylist)))\n",
    "print(\"Tuple -> List: \", list(mytuple), type(list(mytuple)))"
   ]
  },
  {
   "cell_type": "markdown",
   "metadata": {},
   "source": [
    "---\n",
    "### 2.3 Built-in Compound Data Types: Dictionaries\n",
    "\n",
    "Dictionaries (`dict`) are similar to lists, except they are indexed using strings rather than integers. <br>\n",
    "\n",
    "Use D = `dict()` or `{}` to create dictionaries"
   ]
  },
  {
   "cell_type": "code",
   "execution_count": 8,
   "metadata": {},
   "outputs": [
    {
     "name": "stdout",
     "output_type": "stream",
     "text": [
      "{'a': 1, 'b': 2, 'c': 3}\n"
     ]
    }
   ],
   "source": [
    "# Different methods of creating a dictionary\n",
    "\n",
    "# 1. Using the curly brace syntax\n",
    "D = {'a': 1, 'b': 2, 'c':3}\n",
    "\n",
    "# 2. Using a list of lists (or a list of tuples, or a tuple of tuples, etc.)\n",
    "D = dict( [('a',1), ('b',2), ('c',3)])\n",
    "\n",
    "# 3. Using an optional argument for each (key,value) pair\n",
    "D = dict( a=1, b=2, c=3 )\n",
    "\n",
    "# 4. Creating a blank dictionary and adding values later\n",
    "D = {};  \n",
    "D['a'] = 1\n",
    "D['b'] = 2\n",
    "D['c'] = 3\n",
    "\n",
    "print(D)\n",
    "# NOTE: Dictionaries work on arbitrary data types."
   ]
  },
  {
   "cell_type": "markdown",
   "metadata": {},
   "source": [
    "---\n",
    "## 3 Operators\n",
    "Operators are symbols that can perform certain actions. Some basic operators are:\n",
    "\n",
    "### 3.1 **Arithmetic Operators**\n",
    "- **\\+** Addition operator\n",
    "    - Adds values on either side of the operator when applied to Integers, Floats or Bools (In Bools, True=1, False=0)\n",
    "    - Concatenates values on either side of the operator when applied to Strings, Lists or Tuples. Both inputs should be of the same type.\n",
    "- **\\-** Subtraction operator: Subtracts right hand operand from left hand operand.\n",
    "- **\\*** Multiplication operator: Multiplies values on either side of the operator\n",
    "- **\\/** Division operator: Divides left hand operand by right hand operand\n",
    "- **\\*\\*** Exponent operator: Performs exponent calculation eg. 10\\*\\*2 = 100\n",
    "\n",
    "### 3.2 **Comparison Operators**\n",
    "- **==** If the values of two operands are equal, then the condition becomes true. eg. 10==20 is false\n",
    "- **!=** If values of two operands are not equal, then condition becomes true. eg 10 != 20 is true.\n",
    "- **>** If the value of left operand is greater than the value of right operand, then condition becomes true. eg. 10 > 20 is false\n",
    "- **<** If the value of left operand is less than the value of right operand, then condition becomes true. eg 10 < 20 is true\n",
    "- **>=** If the value of left operand is greater or equal to the value of right operand, then condition becomes true. eg. 20 >= 20 is true\n",
    "- **<=** If the value of left operand is less than or equal to the value of right operand, then condition becomes true. eg 10 <= 20 is true"
   ]
  },
  {
   "cell_type": "markdown",
   "metadata": {},
   "source": [
    "---\n",
    "## 4. Functions\n",
    "A block of typically re-usable code to perform a task.\n",
    "- Reduce redundancy in code.\n",
    "- Separate code into modules for easier readability and maintenance.\n",
    "\n",
    "### 4.1 Built-in Functions\n",
    "Part of packages/libraries. eg. print( ), len( ), max( ) etc."
   ]
  },
  {
   "cell_type": "code",
   "execution_count": 9,
   "metadata": {},
   "outputs": [
    {
     "data": {
      "text/plain": [
       "5.0"
      ]
     },
     "execution_count": 9,
     "metadata": {},
     "output_type": "execute_result"
    }
   ],
   "source": [
    "# Some built-in functions need to be explicitly imported\n",
    "\n",
    "# Import the \"sqrt\" function from the \"math\" library\n",
    "from math import sqrt\n",
    "sqrt(25)"
   ]
  },
  {
   "cell_type": "markdown",
   "metadata": {},
   "source": [
    "### 4.2 User-Defined Functions\n",
    "Written by the user, and can be modified as required."
   ]
  },
  {
   "cell_type": "code",
   "execution_count": 10,
   "metadata": {},
   "outputs": [
    {
     "data": {
      "text/plain": [
       "35.0"
      ]
     },
     "execution_count": 10,
     "metadata": {},
     "output_type": "execute_result"
    }
   ],
   "source": [
    "# User defined function example\n",
    "def average(a, b): # Takes in two inputs a & b\n",
    "    avg = (a+b)/2\n",
    "    return avg  # The return statement is optional and returns an output.\n",
    "\n",
    "# Function call\n",
    "average(30, 40)"
   ]
  },
  {
   "cell_type": "markdown",
   "metadata": {},
   "source": [
    "---\n",
    "## 5. Pandas\n",
    "Pandas is a package/library for data manipulation or analysis. It **must** be imported before use."
   ]
  },
  {
   "cell_type": "code",
   "execution_count": 11,
   "metadata": {},
   "outputs": [],
   "source": [
    "# Importing pandas for use (You don't have to necessarily call it 'pd')\n",
    "import pandas as pd"
   ]
  },
  {
   "cell_type": "markdown",
   "metadata": {},
   "source": [
    "### 5.1 Series\n",
    "- Similar to dictionaries (`dict`) and lists (`list`)\n",
    "- Provide efficient computation, storage and additional advanced functionalities."
   ]
  },
  {
   "cell_type": "code",
   "execution_count": 12,
   "metadata": {},
   "outputs": [
    {
     "name": "stdout",
     "output_type": "stream",
     "text": [
      "2.7 2.7 2.7\n"
     ]
    }
   ],
   "source": [
    "# 1. Creating a Series using a dictionary\n",
    "D = {'CA': 2.7, 'TX': 1.7, 'NY':1.5} # A dictionary\n",
    "gdps = pd.Series( D )\n",
    "\n",
    "# 2. Manually specify the indices in a Series using the Index object\n",
    "ix = pd.Index(['CA','TX','NY'], name='state') # Create an index object\n",
    "gdps = pd.Series( data=[2.7, 1.7, 1.5], index=ix ) # Pass Index object as an argument\n",
    "\n",
    "# Different ways to index a Series\n",
    "val1 = gdps['CA'] # 1. Like a dict\n",
    "\n",
    "val2 = gdps[0] # 2. Like a list\n",
    "\n",
    "val3 = gdps.CA # 3. Using the dot\n",
    "\n",
    "print(val1, val2, val3)"
   ]
  },
  {
   "cell_type": "code",
   "execution_count": 13,
   "metadata": {},
   "outputs": [
    {
     "name": "stdout",
     "output_type": "stream",
     "text": [
      "Adding two Series:\n",
      "CA    16.0\n",
      "MA     NaN\n",
      "NY     NaN\n",
      "TX     5.0\n",
      "dtype: float64\n",
      "Multiplying two Series:\n",
      "CA    48.0\n",
      "MA     NaN\n",
      "NY     NaN\n",
      "TX     6.0\n",
      "dtype: float64\n"
     ]
    }
   ],
   "source": [
    "# Adding two series automatically aligns keys\n",
    "s1 = pd.Series( {'CA':4,'TX':3,'NY':5} )\n",
    "s2 = pd.Series( {'TX':2,'CA':12,'MA':6} )\n",
    "print(\"Adding two Series:\")\n",
    "print(s1 + s2)\n",
    "\n",
    "print(\"Multiplying two Series:\")\n",
    "print(s1 * s2)"
   ]
  },
  {
   "cell_type": "markdown",
   "metadata": {},
   "source": [
    "You can manually specify the indices of the series using the Index object"
   ]
  },
  {
   "cell_type": "markdown",
   "metadata": {},
   "source": [
    "### 5.2 DataFrames\n",
    "- Group of pd.Series objects that form a table. \n",
    "- Used to represent and manipulate tabular data efficiently.\n",
    "\n",
    "#### 5.2.1 Creating DataFrames"
   ]
  },
  {
   "cell_type": "code",
   "execution_count": 14,
   "metadata": {},
   "outputs": [
    {
     "data": {
      "text/html": [
       "<div>\n",
       "<style scoped>\n",
       "    .dataframe tbody tr th:only-of-type {\n",
       "        vertical-align: middle;\n",
       "    }\n",
       "\n",
       "    .dataframe tbody tr th {\n",
       "        vertical-align: top;\n",
       "    }\n",
       "\n",
       "    .dataframe thead th {\n",
       "        text-align: right;\n",
       "    }\n",
       "</style>\n",
       "<table border=\"1\" class=\"dataframe\">\n",
       "  <thead>\n",
       "    <tr style=\"text-align: right;\">\n",
       "      <th></th>\n",
       "      <th>population</th>\n",
       "      <th>GDP</th>\n",
       "    </tr>\n",
       "    <tr>\n",
       "      <th>state</th>\n",
       "      <th></th>\n",
       "      <th></th>\n",
       "    </tr>\n",
       "  </thead>\n",
       "  <tbody>\n",
       "    <tr>\n",
       "      <th>CA</th>\n",
       "      <td>39.6</td>\n",
       "      <td>2.7</td>\n",
       "    </tr>\n",
       "    <tr>\n",
       "      <th>TX</th>\n",
       "      <td>28.7</td>\n",
       "      <td>1.7</td>\n",
       "    </tr>\n",
       "    <tr>\n",
       "      <th>NY</th>\n",
       "      <td>19.5</td>\n",
       "      <td>1.5</td>\n",
       "    </tr>\n",
       "  </tbody>\n",
       "</table>\n",
       "</div>"
      ],
      "text/plain": [
       "       population  GDP\n",
       "state                 \n",
       "CA           39.6  2.7\n",
       "TX           28.7  1.7\n",
       "NY           19.5  1.5"
      ]
     },
     "execution_count": 14,
     "metadata": {},
     "output_type": "execute_result"
    }
   ],
   "source": [
    "# Examples of methods to create a DataFrame\n",
    "\n",
    "# 1. Specify the table one column at a time using a DICT\n",
    "ix = pd.Index(['CA','TX','NY'], name='state')\n",
    "pops = pd.Series( data=[39.6, 28.7, 19.5], index=ix )\n",
    "gdps = pd.Series( data=[2.7, 1.7, 1.5],    index=ix )\n",
    "df = pd.DataFrame( {'population':pops, 'GDP':gdps} )\n",
    "\n",
    "# 2. Specify the table one row at a time using a LIST\n",
    "ix = pd.Index(['CA','TX','NY'], name='state')\n",
    "cx = pd.Index(['population','GDP'])\n",
    "cali     = pd.Series( data=[39.6, 2.7], index=cx )\n",
    "texas    = pd.Series( data=[28.7, 1.7], index=cx )\n",
    "new_york = pd.Series( data=[19.5, 1.5], index=cx )\n",
    "df = pd.DataFrame( [cali, texas, new_york], index=ix )\n",
    "\n",
    "# 3. Specify the table all at once!\n",
    "ix = pd.Index(['CA','TX','NY'], name='state')\n",
    "cx = pd.Index(['population','GDP'])\n",
    "vals = [[39.6, 2.7],[28.7, 1.7],[19.5, 1.5]]\n",
    "df = pd.DataFrame( data=vals, index=ix, columns=cx )\n",
    "\n",
    "# NOTE: All 3 methods above are equivalent\n",
    "df"
   ]
  },
  {
   "cell_type": "code",
   "execution_count": 15,
   "metadata": {},
   "outputs": [
    {
     "data": {
      "text/html": [
       "<div>\n",
       "<style scoped>\n",
       "    .dataframe tbody tr th:only-of-type {\n",
       "        vertical-align: middle;\n",
       "    }\n",
       "\n",
       "    .dataframe tbody tr th {\n",
       "        vertical-align: top;\n",
       "    }\n",
       "\n",
       "    .dataframe thead th {\n",
       "        text-align: right;\n",
       "    }\n",
       "</style>\n",
       "<table border=\"1\" class=\"dataframe\">\n",
       "  <thead>\n",
       "    <tr style=\"text-align: right;\">\n",
       "      <th></th>\n",
       "      <th>0</th>\n",
       "      <th>1</th>\n",
       "    </tr>\n",
       "  </thead>\n",
       "  <tbody>\n",
       "    <tr>\n",
       "      <th>0</th>\n",
       "      <td>39.6</td>\n",
       "      <td>2.7</td>\n",
       "    </tr>\n",
       "    <tr>\n",
       "      <th>1</th>\n",
       "      <td>28.7</td>\n",
       "      <td>1.7</td>\n",
       "    </tr>\n",
       "    <tr>\n",
       "      <th>2</th>\n",
       "      <td>19.5</td>\n",
       "      <td>1.5</td>\n",
       "    </tr>\n",
       "  </tbody>\n",
       "</table>\n",
       "</div>"
      ],
      "text/plain": [
       "      0    1\n",
       "0  39.6  2.7\n",
       "1  28.7  1.7\n",
       "2  19.5  1.5"
      ]
     },
     "execution_count": 15,
     "metadata": {},
     "output_type": "execute_result"
    }
   ],
   "source": [
    "# Lazy DataFrame: If you omit the index and name, defaults will be used (indexing starting at 0)\n",
    "vals = [[39.6, 2.7],[28.7, 1.7],[19.5, 1.5]]\n",
    "df = pd.DataFrame( vals )\n",
    "df"
   ]
  },
  {
   "cell_type": "markdown",
   "metadata": {},
   "source": [
    "#### 5.2.2 Indexing DataFrames"
   ]
  },
  {
   "cell_type": "code",
   "execution_count": 16,
   "metadata": {},
   "outputs": [
    {
     "data": {
      "text/html": [
       "<div>\n",
       "<style scoped>\n",
       "    .dataframe tbody tr th:only-of-type {\n",
       "        vertical-align: middle;\n",
       "    }\n",
       "\n",
       "    .dataframe tbody tr th {\n",
       "        vertical-align: top;\n",
       "    }\n",
       "\n",
       "    .dataframe thead th {\n",
       "        text-align: right;\n",
       "    }\n",
       "</style>\n",
       "<table border=\"1\" class=\"dataframe\">\n",
       "  <thead>\n",
       "    <tr style=\"text-align: right;\">\n",
       "      <th></th>\n",
       "      <th>population</th>\n",
       "      <th>GDP</th>\n",
       "    </tr>\n",
       "    <tr>\n",
       "      <th>state</th>\n",
       "      <th></th>\n",
       "      <th></th>\n",
       "    </tr>\n",
       "  </thead>\n",
       "  <tbody>\n",
       "    <tr>\n",
       "      <th>CA</th>\n",
       "      <td>39.6</td>\n",
       "      <td>2.7</td>\n",
       "    </tr>\n",
       "    <tr>\n",
       "      <th>TX</th>\n",
       "      <td>28.7</td>\n",
       "      <td>1.7</td>\n",
       "    </tr>\n",
       "    <tr>\n",
       "      <th>NY</th>\n",
       "      <td>19.5</td>\n",
       "      <td>1.5</td>\n",
       "    </tr>\n",
       "  </tbody>\n",
       "</table>\n",
       "</div>"
      ],
      "text/plain": [
       "       population  GDP\n",
       "state                 \n",
       "CA           39.6  2.7\n",
       "TX           28.7  1.7\n",
       "NY           19.5  1.5"
      ]
     },
     "execution_count": 16,
     "metadata": {},
     "output_type": "execute_result"
    }
   ],
   "source": [
    "# Sample DataFrame\n",
    "ix = pd.Index(['CA','TX','NY'], name='state')\n",
    "cx = pd.Index(['population','GDP'])\n",
    "vals = [[39.6, 2.7],[28.7, 1.7],[19.5, 1.5]]\n",
    "df = pd.DataFrame( data=vals, index=ix, columns=cx )\n",
    "df"
   ]
  },
  {
   "cell_type": "code",
   "execution_count": 17,
   "metadata": {},
   "outputs": [
    {
     "data": {
      "text/plain": [
       "state\n",
       "CA    2.7\n",
       "TX    1.7\n",
       "NY    1.5\n",
       "Name: GDP, dtype: float64"
      ]
     },
     "execution_count": 17,
     "metadata": {},
     "output_type": "execute_result"
    }
   ],
   "source": [
    "# Extracting a Column as a series.\n",
    "GDP_series = df['GDP'] # Or df.GDP\n",
    "GDP_series"
   ]
  },
  {
   "cell_type": "markdown",
   "metadata": {},
   "source": [
    "#### `loc` operator\n",
    "The .loc method accesses a row by name"
   ]
  },
  {
   "cell_type": "code",
   "execution_count": 18,
   "metadata": {},
   "outputs": [
    {
     "data": {
      "text/plain": [
       "state\n",
       "TX    1.7\n",
       "NY    1.5\n",
       "Name: GDP, dtype: float64"
      ]
     },
     "execution_count": 18,
     "metadata": {},
     "output_type": "execute_result"
    }
   ],
   "source": [
    "# Accessing a row of data in a dataframe by name\n",
    "\n",
    "# Access the row corresponding to 'CA' index\n",
    "row_CA = df.loc['CA']         # returns a pd.Series object\n",
    "\n",
    "# Access the item corresponding to 'CA' index and 'GDP' column name\n",
    "item_CA_GDP = df.loc['CA','GDP']   # access a single item\n",
    "\n",
    "# Access the slice from indices 'TX':'NY' (BOTH INCLUSIVE) corresponding to 'GDP' column\n",
    "slice_data = df.loc['TX':'NY','GDP']   # access a slice!\n",
    "slice_data"
   ]
  },
  {
   "cell_type": "markdown",
   "metadata": {},
   "source": [
    "#### `iloc` operator\n",
    "The .iloc method accesses a row by index"
   ]
  },
  {
   "cell_type": "code",
   "execution_count": 19,
   "metadata": {},
   "outputs": [
    {
     "data": {
      "text/plain": [
       "state\n",
       "CA    2.7\n",
       "TX    1.7\n",
       "Name: GDP, dtype: float64"
      ]
     },
     "execution_count": 19,
     "metadata": {},
     "output_type": "execute_result"
    }
   ],
   "source": [
    "# Accessing a row of data in a dataframe by index\n",
    "# CAUTION: All indices start with '0'\n",
    "\n",
    "# Access the first row\n",
    "row_CA = df.iloc[0]          # returns a pd.Series object\n",
    "\n",
    "# Access the item corresponding to first row and second column\n",
    "item_CA_GDP = df.iloc[0,1]        # access a single item\n",
    "\n",
    "# Access the slice from indices 0:2 (EXCLUDING 2) corresponding to second column\n",
    "df.iloc[0:2, 1]      # access a slice!"
   ]
  },
  {
   "cell_type": "markdown",
   "metadata": {},
   "source": [
    "#### 5.2.3 Methods\n",
    "Objects can have their own functions (called methods) and can be accessed using the dot operator. Eg. df.head(), df.describe() etc."
   ]
  },
  {
   "cell_type": "markdown",
   "metadata": {},
   "source": [
    "##### Head and Tail Methods"
   ]
  },
  {
   "cell_type": "code",
   "execution_count": 20,
   "metadata": {},
   "outputs": [
    {
     "data": {
      "text/html": [
       "<div>\n",
       "<style scoped>\n",
       "    .dataframe tbody tr th:only-of-type {\n",
       "        vertical-align: middle;\n",
       "    }\n",
       "\n",
       "    .dataframe tbody tr th {\n",
       "        vertical-align: top;\n",
       "    }\n",
       "\n",
       "    .dataframe thead th {\n",
       "        text-align: right;\n",
       "    }\n",
       "</style>\n",
       "<table border=\"1\" class=\"dataframe\">\n",
       "  <thead>\n",
       "    <tr style=\"text-align: right;\">\n",
       "      <th></th>\n",
       "      <th>A</th>\n",
       "      <th>B</th>\n",
       "    </tr>\n",
       "  </thead>\n",
       "  <tbody>\n",
       "    <tr>\n",
       "      <th>1</th>\n",
       "      <td>28.7</td>\n",
       "      <td>1.7</td>\n",
       "    </tr>\n",
       "    <tr>\n",
       "      <th>2</th>\n",
       "      <td>19.5</td>\n",
       "      <td>1.5</td>\n",
       "    </tr>\n",
       "    <tr>\n",
       "      <th>3</th>\n",
       "      <td>22.3</td>\n",
       "      <td>4.2</td>\n",
       "    </tr>\n",
       "    <tr>\n",
       "      <th>4</th>\n",
       "      <td>29.7</td>\n",
       "      <td>1.2</td>\n",
       "    </tr>\n",
       "    <tr>\n",
       "      <th>5</th>\n",
       "      <td>31.9</td>\n",
       "      <td>2.2</td>\n",
       "    </tr>\n",
       "  </tbody>\n",
       "</table>\n",
       "</div>"
      ],
      "text/plain": [
       "      A    B\n",
       "1  28.7  1.7\n",
       "2  19.5  1.5\n",
       "3  22.3  4.2\n",
       "4  29.7  1.2\n",
       "5  31.9  2.2"
      ]
     },
     "execution_count": 20,
     "metadata": {},
     "output_type": "execute_result"
    }
   ],
   "source": [
    "df_methods = pd.DataFrame( [[39.6, 2.7],[28.7, 1.7],[19.5, 1.5], [22.3, 4.2], [29.7, 1.2], [31.9, 2.2]], columns=['A', 'B'])\n",
    "\n",
    "# HEAD AND TAIL METHODS\n",
    "# df.head() returns the first n rows. Default n=5\n",
    "\n",
    "df_methods.tail() # Return the last n rows. Default n=5"
   ]
  },
  {
   "cell_type": "markdown",
   "metadata": {},
   "source": [
    "##### Describe Method"
   ]
  },
  {
   "cell_type": "code",
   "execution_count": 21,
   "metadata": {},
   "outputs": [
    {
     "data": {
      "text/html": [
       "<div>\n",
       "<style scoped>\n",
       "    .dataframe tbody tr th:only-of-type {\n",
       "        vertical-align: middle;\n",
       "    }\n",
       "\n",
       "    .dataframe tbody tr th {\n",
       "        vertical-align: top;\n",
       "    }\n",
       "\n",
       "    .dataframe thead th {\n",
       "        text-align: right;\n",
       "    }\n",
       "</style>\n",
       "<table border=\"1\" class=\"dataframe\">\n",
       "  <thead>\n",
       "    <tr style=\"text-align: right;\">\n",
       "      <th></th>\n",
       "      <th>A</th>\n",
       "      <th>B</th>\n",
       "    </tr>\n",
       "  </thead>\n",
       "  <tbody>\n",
       "    <tr>\n",
       "      <th>count</th>\n",
       "      <td>6.000000</td>\n",
       "      <td>6.000000</td>\n",
       "    </tr>\n",
       "    <tr>\n",
       "      <th>mean</th>\n",
       "      <td>28.616667</td>\n",
       "      <td>2.250000</td>\n",
       "    </tr>\n",
       "    <tr>\n",
       "      <th>std</th>\n",
       "      <td>7.149942</td>\n",
       "      <td>1.093161</td>\n",
       "    </tr>\n",
       "    <tr>\n",
       "      <th>min</th>\n",
       "      <td>19.500000</td>\n",
       "      <td>1.200000</td>\n",
       "    </tr>\n",
       "    <tr>\n",
       "      <th>25%</th>\n",
       "      <td>23.900000</td>\n",
       "      <td>1.550000</td>\n",
       "    </tr>\n",
       "    <tr>\n",
       "      <th>50%</th>\n",
       "      <td>29.200000</td>\n",
       "      <td>1.950000</td>\n",
       "    </tr>\n",
       "    <tr>\n",
       "      <th>75%</th>\n",
       "      <td>31.350000</td>\n",
       "      <td>2.575000</td>\n",
       "    </tr>\n",
       "    <tr>\n",
       "      <th>max</th>\n",
       "      <td>39.600000</td>\n",
       "      <td>4.200000</td>\n",
       "    </tr>\n",
       "  </tbody>\n",
       "</table>\n",
       "</div>"
      ],
      "text/plain": [
       "               A         B\n",
       "count   6.000000  6.000000\n",
       "mean   28.616667  2.250000\n",
       "std     7.149942  1.093161\n",
       "min    19.500000  1.200000\n",
       "25%    23.900000  1.550000\n",
       "50%    29.200000  1.950000\n",
       "75%    31.350000  2.575000\n",
       "max    39.600000  4.200000"
      ]
     },
     "execution_count": 21,
     "metadata": {},
     "output_type": "execute_result"
    }
   ],
   "source": [
    "# Describe generates descriptive statistics that summarize the central tendency, dispersion and shape of a dataset’s distribution, excluding NaN values.\n",
    "df_methods.describe()"
   ]
  },
  {
   "cell_type": "markdown",
   "metadata": {},
   "source": [
    "##### Apply Method\n",
    "Apply Method applies a function to each column (axis=0) or each row (axis=1)"
   ]
  },
  {
   "cell_type": "code",
   "execution_count": 22,
   "metadata": {},
   "outputs": [
    {
     "data": {
      "text/html": [
       "<div>\n",
       "<style scoped>\n",
       "    .dataframe tbody tr th:only-of-type {\n",
       "        vertical-align: middle;\n",
       "    }\n",
       "\n",
       "    .dataframe tbody tr th {\n",
       "        vertical-align: top;\n",
       "    }\n",
       "\n",
       "    .dataframe thead th {\n",
       "        text-align: right;\n",
       "    }\n",
       "</style>\n",
       "<table border=\"1\" class=\"dataframe\">\n",
       "  <thead>\n",
       "    <tr style=\"text-align: right;\">\n",
       "      <th></th>\n",
       "      <th>A</th>\n",
       "      <th>B</th>\n",
       "    </tr>\n",
       "  </thead>\n",
       "  <tbody>\n",
       "    <tr>\n",
       "      <th>0</th>\n",
       "      <td>40.0</td>\n",
       "      <td>3.0</td>\n",
       "    </tr>\n",
       "    <tr>\n",
       "      <th>1</th>\n",
       "      <td>29.0</td>\n",
       "      <td>2.0</td>\n",
       "    </tr>\n",
       "    <tr>\n",
       "      <th>2</th>\n",
       "      <td>20.0</td>\n",
       "      <td>2.0</td>\n",
       "    </tr>\n",
       "    <tr>\n",
       "      <th>3</th>\n",
       "      <td>22.0</td>\n",
       "      <td>4.0</td>\n",
       "    </tr>\n",
       "    <tr>\n",
       "      <th>4</th>\n",
       "      <td>30.0</td>\n",
       "      <td>1.0</td>\n",
       "    </tr>\n",
       "    <tr>\n",
       "      <th>5</th>\n",
       "      <td>32.0</td>\n",
       "      <td>2.0</td>\n",
       "    </tr>\n",
       "  </tbody>\n",
       "</table>\n",
       "</div>"
      ],
      "text/plain": [
       "      A    B\n",
       "0  40.0  3.0\n",
       "1  29.0  2.0\n",
       "2  20.0  2.0\n",
       "3  22.0  4.0\n",
       "4  30.0  1.0\n",
       "5  32.0  2.0"
      ]
     },
     "execution_count": 22,
     "metadata": {},
     "output_type": "execute_result"
    }
   ],
   "source": [
    "def round_func(x):\n",
    "    # round(x, n) Rounds off x to n digits and returns the floating point\n",
    "    return round(x, 0)\n",
    "\n",
    "df_methods.apply(round_func, axis=0) # axis=0 is default"
   ]
  },
  {
   "cell_type": "markdown",
   "metadata": {},
   "source": [
    "#### 5.2.4 Filtering a DataFrame\n",
    "\n",
    "It is possible to extract certain rows out of a dataframe that satisfy a boolean condition"
   ]
  },
  {
   "cell_type": "code",
   "execution_count": 23,
   "metadata": {},
   "outputs": [
    {
     "data": {
      "text/html": [
       "<div>\n",
       "<style scoped>\n",
       "    .dataframe tbody tr th:only-of-type {\n",
       "        vertical-align: middle;\n",
       "    }\n",
       "\n",
       "    .dataframe tbody tr th {\n",
       "        vertical-align: top;\n",
       "    }\n",
       "\n",
       "    .dataframe thead th {\n",
       "        text-align: right;\n",
       "    }\n",
       "</style>\n",
       "<table border=\"1\" class=\"dataframe\">\n",
       "  <thead>\n",
       "    <tr style=\"text-align: right;\">\n",
       "      <th></th>\n",
       "      <th>name</th>\n",
       "      <th>year</th>\n",
       "      <th>salary</th>\n",
       "    </tr>\n",
       "  </thead>\n",
       "  <tbody>\n",
       "    <tr>\n",
       "      <th>0</th>\n",
       "      <td>Alice</td>\n",
       "      <td>2012</td>\n",
       "      <td>40000</td>\n",
       "    </tr>\n",
       "    <tr>\n",
       "      <th>1</th>\n",
       "      <td>Bob</td>\n",
       "      <td>2015</td>\n",
       "      <td>24000</td>\n",
       "    </tr>\n",
       "    <tr>\n",
       "      <th>2</th>\n",
       "      <td>Charles</td>\n",
       "      <td>2017</td>\n",
       "      <td>31000</td>\n",
       "    </tr>\n",
       "    <tr>\n",
       "      <th>3</th>\n",
       "      <td>David</td>\n",
       "      <td>2015</td>\n",
       "      <td>20000</td>\n",
       "    </tr>\n",
       "    <tr>\n",
       "      <th>4</th>\n",
       "      <td>Eric</td>\n",
       "      <td>2017</td>\n",
       "      <td>30000</td>\n",
       "    </tr>\n",
       "  </tbody>\n",
       "</table>\n",
       "</div>"
      ],
      "text/plain": [
       "      name  year  salary\n",
       "0    Alice  2012   40000\n",
       "1      Bob  2015   24000\n",
       "2  Charles  2017   31000\n",
       "3    David  2015   20000\n",
       "4     Eric  2017   30000"
      ]
     },
     "execution_count": 23,
     "metadata": {},
     "output_type": "execute_result"
    }
   ],
   "source": [
    "data = {'name': ['Alice', 'Bob', 'Charles', 'David', 'Eric'],\n",
    "        'year': [2012, 2015, 2017, 2015, 2017],\n",
    "        'salary': [40000, 24000, 31000, 20000, 30000]}\n",
    "\n",
    "df_filter = pd.DataFrame(data)\n",
    "df_filter.head()"
   ]
  },
  {
   "cell_type": "code",
   "execution_count": 24,
   "metadata": {},
   "outputs": [
    {
     "data": {
      "text/html": [
       "<div>\n",
       "<style scoped>\n",
       "    .dataframe tbody tr th:only-of-type {\n",
       "        vertical-align: middle;\n",
       "    }\n",
       "\n",
       "    .dataframe tbody tr th {\n",
       "        vertical-align: top;\n",
       "    }\n",
       "\n",
       "    .dataframe thead th {\n",
       "        text-align: right;\n",
       "    }\n",
       "</style>\n",
       "<table border=\"1\" class=\"dataframe\">\n",
       "  <thead>\n",
       "    <tr style=\"text-align: right;\">\n",
       "      <th></th>\n",
       "      <th>name</th>\n",
       "      <th>year</th>\n",
       "      <th>salary</th>\n",
       "    </tr>\n",
       "  </thead>\n",
       "  <tbody>\n",
       "    <tr>\n",
       "      <th>0</th>\n",
       "      <td>Alice</td>\n",
       "      <td>2012</td>\n",
       "      <td>40000</td>\n",
       "    </tr>\n",
       "    <tr>\n",
       "      <th>2</th>\n",
       "      <td>Charles</td>\n",
       "      <td>2017</td>\n",
       "      <td>31000</td>\n",
       "    </tr>\n",
       "    <tr>\n",
       "      <th>4</th>\n",
       "      <td>Eric</td>\n",
       "      <td>2017</td>\n",
       "      <td>30000</td>\n",
       "    </tr>\n",
       "  </tbody>\n",
       "</table>\n",
       "</div>"
      ],
      "text/plain": [
       "      name  year  salary\n",
       "0    Alice  2012   40000\n",
       "2  Charles  2017   31000\n",
       "4     Eric  2017   30000"
      ]
     },
     "execution_count": 24,
     "metadata": {},
     "output_type": "execute_result"
    }
   ],
   "source": [
    "# Example-1 Find records that have a salary equal to or more than 25000\n",
    "df_filter[df_filter.salary >= 25000]"
   ]
  },
  {
   "cell_type": "code",
   "execution_count": 25,
   "metadata": {},
   "outputs": [
    {
     "data": {
      "text/html": [
       "<div>\n",
       "<style scoped>\n",
       "    .dataframe tbody tr th:only-of-type {\n",
       "        vertical-align: middle;\n",
       "    }\n",
       "\n",
       "    .dataframe tbody tr th {\n",
       "        vertical-align: top;\n",
       "    }\n",
       "\n",
       "    .dataframe thead th {\n",
       "        text-align: right;\n",
       "    }\n",
       "</style>\n",
       "<table border=\"1\" class=\"dataframe\">\n",
       "  <thead>\n",
       "    <tr style=\"text-align: right;\">\n",
       "      <th></th>\n",
       "      <th>name</th>\n",
       "      <th>year</th>\n",
       "      <th>salary</th>\n",
       "    </tr>\n",
       "  </thead>\n",
       "  <tbody>\n",
       "    <tr>\n",
       "      <th>1</th>\n",
       "      <td>Bob</td>\n",
       "      <td>2015</td>\n",
       "      <td>24000</td>\n",
       "    </tr>\n",
       "    <tr>\n",
       "      <th>3</th>\n",
       "      <td>David</td>\n",
       "      <td>2015</td>\n",
       "      <td>20000</td>\n",
       "    </tr>\n",
       "  </tbody>\n",
       "</table>\n",
       "</div>"
      ],
      "text/plain": [
       "    name  year  salary\n",
       "1    Bob  2015   24000\n",
       "3  David  2015   20000"
      ]
     },
     "execution_count": 25,
     "metadata": {},
     "output_type": "execute_result"
    }
   ],
   "source": [
    "# Example-2 Find records that have the year as 2015\n",
    "df_filter[df_filter.year == 2015]"
   ]
  },
  {
   "cell_type": "markdown",
   "metadata": {},
   "source": [
    "---\n",
    "### 6. Visualization Methods\n",
    "Pandas provides methods for various kinds of plots\n",
    "- Scatter Plot: `df.plot.scatter(x=X, y=Y)`\n",
    "- Bar Plot: `df.plot.bar()`\n",
    "- Line Plot: `df.plot.line()`\n",
    "- Histogram Plot: `df.plot.hist()`"
   ]
  },
  {
   "cell_type": "code",
   "execution_count": 32,
   "metadata": {},
   "outputs": [
    {
     "data": {
      "text/html": [
       "<div>\n",
       "<style scoped>\n",
       "    .dataframe tbody tr th:only-of-type {\n",
       "        vertical-align: middle;\n",
       "    }\n",
       "\n",
       "    .dataframe tbody tr th {\n",
       "        vertical-align: top;\n",
       "    }\n",
       "\n",
       "    .dataframe thead th {\n",
       "        text-align: right;\n",
       "    }\n",
       "</style>\n",
       "<table border=\"1\" class=\"dataframe\">\n",
       "  <thead>\n",
       "    <tr style=\"text-align: right;\">\n",
       "      <th></th>\n",
       "      <th>Physics</th>\n",
       "      <th>Math</th>\n",
       "    </tr>\n",
       "    <tr>\n",
       "      <th>StudentID</th>\n",
       "      <th></th>\n",
       "      <th></th>\n",
       "    </tr>\n",
       "  </thead>\n",
       "  <tbody>\n",
       "    <tr>\n",
       "      <th>1</th>\n",
       "      <td>30</td>\n",
       "      <td>40</td>\n",
       "    </tr>\n",
       "    <tr>\n",
       "      <th>2</th>\n",
       "      <td>33</td>\n",
       "      <td>38</td>\n",
       "    </tr>\n",
       "    <tr>\n",
       "      <th>3</th>\n",
       "      <td>38</td>\n",
       "      <td>43</td>\n",
       "    </tr>\n",
       "    <tr>\n",
       "      <th>4</th>\n",
       "      <td>73</td>\n",
       "      <td>65</td>\n",
       "    </tr>\n",
       "    <tr>\n",
       "      <th>5</th>\n",
       "      <td>56</td>\n",
       "      <td>92</td>\n",
       "    </tr>\n",
       "  </tbody>\n",
       "</table>\n",
       "</div>"
      ],
      "text/plain": [
       "           Physics  Math\n",
       "StudentID               \n",
       "1               30    40\n",
       "2               33    38\n",
       "3               38    43\n",
       "4               73    65\n",
       "5               56    92"
      ]
     },
     "execution_count": 32,
     "metadata": {},
     "output_type": "execute_result"
    }
   ],
   "source": [
    "# Sample DataFrame\n",
    "ix = pd.Index([1, 2, 3, 4, 5], name='StudentID')\n",
    "cx = pd.Index(['Physics','Math'])\n",
    "vals = [[30, 40],[33, 38],[38, 43], [73, 65], [56, 92]]\n",
    "df = pd.DataFrame( data=vals, index=ix, columns=cx )\n",
    "df.head()"
   ]
  },
  {
   "cell_type": "markdown",
   "metadata": {},
   "source": [
    "#### 6.1 Scatter Plot\n",
    "- Shows how one quantity relates to another\n",
    "- Two numerical variables (x and y axis)\n",
    "- Each row plotted as a single point in x-y space <br>\n",
    "NOTE: x, y are necessary arguments to df.plot.scatter(x=X, y=Y)"
   ]
  },
  {
   "cell_type": "code",
   "execution_count": 33,
   "metadata": {},
   "outputs": [
    {
     "data": {
      "image/png": "[encoded data removed]",
      "text/plain": [
       "<Figure size 432x288 with 1 Axes>"
      ]
     },
     "metadata": {},
     "output_type": "display_data"
    }
   ],
   "source": [
    "# SCATTER PLOT\n",
    "ax = df.plot.scatter(x=\"Physics\", y='Math', grid=True);\n",
    "ax.set_title(\"Distribution of Math vs Physics Scores\", fontsize=12);\n",
    "ax.set_xlabel(\"Physics Scores\", fontsize=12);\n",
    "ax.set_ylabel(\"Math Scores\", fontsize=12);"
   ]
  },
  {
   "cell_type": "markdown",
   "metadata": {},
   "source": [
    "#### 6.2 Bar Plot\n",
    "- Shows how data varies across categories\n",
    "- Categorial/Ordinal variable on one of the axes\n",
    "- Numerical variable on the other (length of bar encodes this quanity)"
   ]
  },
  {
   "cell_type": "code",
   "execution_count": 28,
   "metadata": {},
   "outputs": [
    {
     "data": {
      "image/png": "[encoded data removed]",
      "text/plain": [
       "<Figure size 720x360 with 1 Axes>"
      ]
     },
     "metadata": {},
     "output_type": "display_data"
    }
   ],
   "source": [
    "# BAR PLOT\n",
    "# If unspecific, x defaults to the Index, as follows\n",
    "ax = df.plot.bar(y=['Physics', 'Math'], grid=True, figsize=(10, 5));\n",
    "ax.set_title(\"Distribution of Physics vs Math Scores\", fontsize=12);\n",
    "ax.set_xlabel(\"Student ID\", fontsize=12);\n",
    "ax.set_ylabel(\"Math/Physics Scores\", fontsize=12);"
   ]
  },
  {
   "cell_type": "markdown",
   "metadata": {},
   "source": [
    "#### 6.3 Line Plot\n",
    "- Shows how a quantity changes (usually with time)\n",
    "- x-axis is time, y-axis is a numerical variable"
   ]
  },
  {
   "cell_type": "code",
   "execution_count": 29,
   "metadata": {},
   "outputs": [
    {
     "data": {
      "image/png": "[encoded data removed]",
      "text/plain": [
       "<Figure size 432x288 with 1 Axes>"
      ]
     },
     "metadata": {},
     "output_type": "display_data"
    }
   ],
   "source": [
    "# Example dataframe with GDP changing with years\n",
    "ix = pd.Index([1, 2, 3, 4, 5], name='year')\n",
    "cx = pd.Index(['GDP'])\n",
    "vals = [2.1, 2.5, 2.7, 3.2, 2.9]\n",
    "df = pd.DataFrame( data=vals, index=ix, columns=cx )\n",
    "\n",
    "# LINE PLOT\n",
    "# Unspecified x defaults to the index, which is time-based in this case\n",
    "ax = df.plot.line(y=\"GDP\", legend=False, grid=True, style=\"--\", rot=15)\n",
    "ax.set_title(\"GDP over the years\", fontsize=18)\n",
    "ax.set_xlabel(\"Year\", fontsize=13)\n",
    "ax.set_ylabel(\"GDP (in billions)\", fontsize=13);\n",
    "ax.set_xticks([1, 2, 3, 4, 5]); # set_xticks() method helps decide the placement of xticks. "
   ]
  },
  {
   "cell_type": "markdown",
   "metadata": {},
   "source": [
    "#### 6.4 Histogram Plot\n",
    "- Visualize the distribution of a numerical variable. \n",
    "- Divides data into “bins”. Each bin is a numerical interval that includes one boundary e.g. 20 ≤ x < 25.\n",
    "- Each bar represents the frequency in each interval\n",
    "\n",
    "Qualitative Descriptions:\n",
    "- **Unimodal** distributions have a single peak. Often called “bell-shaped” or “normal”.\n",
    "- **Bimodal** distributions have two peaks. Often the result of two different effects at work.\n",
    "- **Uniform** distributions have roughly equal frequencies observed for all bins.\n",
    "- **Skewed** distributions have one tail longer than the other\n",
    "    - Skewed right distributions have a longer right tail. Also called “right-tailed”.\n",
    "    - Skewed left distributions have a longer left tail. Also called “left-tailed”."
   ]
  },
  {
   "cell_type": "code",
   "execution_count": 30,
   "metadata": {},
   "outputs": [
    {
     "data": {
      "text/plain": [
       "Text(0.5,0,'Score Bins')"
      ]
     },
     "execution_count": 30,
     "metadata": {},
     "output_type": "execute_result"
    },
    {
     "data": {
      "image/png": "[encoded data removed]",
      "text/plain": [
       "<Figure size 432x288 with 1 Axes>"
      ]
     },
     "metadata": {},
     "output_type": "display_data"
    }
   ],
   "source": [
    "# Sample Data\n",
    "scores = [18.1, 23.6, 30.4, 28.7, 45.8, 27.9, 51.4, 54.9, 12.0, 2.9, 23.2,  9.0, 29.1, 14.5, 22.0]\n",
    "df = pd.DataFrame( data=scores, columns=['scores'])\n",
    "\n",
    "# HISTOGRAM PLOT\n",
    "ax = df.plot.hist(y='scores', bins = [0, 20, 40, 60], title='Math Scores', alpha=0.8, grid=True);\n",
    "ax.set_xlabel(\"Score Bins\")"
   ]
  },
  {
   "cell_type": "markdown",
   "metadata": {},
   "source": [
    "---\n",
    "### 7. Numerical Summaries\n",
    "Useful to quantitatively describe the data.\n",
    "\n",
    "- Mean: Average Value of data. eg. df.mean()\n",
    "- Standard Deviation: Represents the amount of deviation from the mean (the spread). eg. df.std()\n",
    "- Median: Separates lower half of data from the upper half (the \"middle\" value) eg. df.median()\n",
    "- Mode: Most frequently occuring value in a list\n",
    "\n",
    "Other Useful methods\n",
    "- df.count() - To count the number of instances of data (ignores missing data or NaNs) (axis= 0 or ‘index’, 1 or ‘columns’)\n",
    "- df.min() / df.max() - Return the minimum/maximum of the values for the requested axis. (axis= 0 or ‘index’, 1 or ‘columns’)\n",
    "- df.idxmin() / df.idxmax() - Return index of first occurrence of minimum/maximum over requested axis (axis= 0 or ‘index’, 1 or ‘columns’)\n",
    "- df.sum() - Return the sum of the values for the requested axis. (axis= 0 or ‘index’, 1 or ‘columns’)"
   ]
  },
  {
   "cell_type": "code",
   "execution_count": 31,
   "metadata": {},
   "outputs": [
    {
     "name": "stdout",
     "output_type": "stream",
     "text": [
      "Mean of scores: 23.3333333333\n",
      "Standard Deviation of scores: 16.0252776516\n",
      "Median Mean of scores: 22.0\n",
      "Mode of scores: 0    12\n",
      "dtype: int64\n"
     ]
    }
   ],
   "source": [
    "scores = [12, 23, 30, 28, 45, 27, 51, 54, 12, 2, 12,  9, 9, 14, 22]\n",
    "df = pd.DataFrame( data=scores, columns=['scores'])\n",
    "\n",
    "print(\"Mean of scores:\", df.scores.mean())\n",
    "print(\"Standard Deviation of scores:\", df.scores.std())\n",
    "print(\"Median Mean of scores:\", df.scores.median())\n",
    "print(\"Mode of scores:\", df.scores.mode())\n",
    "\n",
    "# Mean, Median and Mode are also called measures of central tendancy"
   ]
  },
  {
   "cell_type": "markdown",
   "metadata": {},
   "source": [
    "---"
   ]
  }
 ],
 "metadata": {
  "kernelspec": {
   "display_name": "Python 3 (ipykernel)",
   "language": "python",
   "name": "python3"
  },
  "language_info": {
   "codemirror_mode": {
    "name": "ipython",
    "version": 3
   },
   "file_extension": ".py",
   "mimetype": "text/x-python",
   "name": "python",
   "nbconvert_exporter": "python",
   "pygments_lexer": "ipython3",
   "version": "3.11.4"
  }
 },
 "nbformat": 4,
 "nbformat_minor": 4
}
