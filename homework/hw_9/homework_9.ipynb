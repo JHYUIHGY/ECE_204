{
  "cells": [
    {
      "cell_type": "markdown",
      "metadata": {
        "id": "mU5Ko-tF27Kk"
      },
      "source": [
        "# Homework 9\n",
        "## ECE 204 Data Science & Engineering"
      ]
    },
    {
      "cell_type": "code",
      "execution_count": 1,
      "metadata": {
        "id": "-Y88smSw27Km"
      },
      "outputs": [],
      "source": [
        "from sklearn.metrics import mean_squared_error\n",
        "from statsmodels.tsa.ar_model import AutoReg\n",
        "import warnings\n",
        "warnings.filterwarnings(\"ignore\")\n",
        "\n",
        "import pandas as pd \n",
        "import numpy as np\n",
        "import matplotlib.pyplot as plt"
      ]
    },
    {
      "cell_type": "markdown",
      "metadata": {
        "id": "aK0-OK4o27Kn"
      },
      "source": [
        "---\n",
        "**Problem 1.** Read in `australia-rosslyn-bay.csv`.\n",
        "\n",
        "**What is the mean air temperature for all measurements made between 2 pm and 6 pm (Both inclusive)?**\n",
        "\n",
        "*Note:* in 24-hour time (which is what this dataset uses, 2pm is hour 14 and 6pm is hour 18)."
      ]
    },
    {
      "cell_type": "code",
      "execution_count": 2,
      "metadata": {
        "id": "DqoKlr7E27Kn"
      },
      "outputs": [
        {
          "data": {
            "text/html": [
              "<div>\n",
              "<style scoped>\n",
              "    .dataframe tbody tr th:only-of-type {\n",
              "        vertical-align: middle;\n",
              "    }\n",
              "\n",
              "    .dataframe tbody tr th {\n",
              "        vertical-align: top;\n",
              "    }\n",
              "\n",
              "    .dataframe thead th {\n",
              "        text-align: right;\n",
              "    }\n",
              "</style>\n",
              "<table border=\"1\" class=\"dataframe\">\n",
              "  <thead>\n",
              "    <tr style=\"text-align: right;\">\n",
              "      <th></th>\n",
              "      <th>sea_level</th>\n",
              "      <th>water_temp</th>\n",
              "      <th>air_temp</th>\n",
              "      <th>pressure</th>\n",
              "      <th>wind_dir</th>\n",
              "      <th>wind_gust</th>\n",
              "      <th>wind_speed</th>\n",
              "    </tr>\n",
              "    <tr>\n",
              "      <th>datetime</th>\n",
              "      <th></th>\n",
              "      <th></th>\n",
              "      <th></th>\n",
              "      <th></th>\n",
              "      <th></th>\n",
              "      <th></th>\n",
              "      <th></th>\n",
              "    </tr>\n",
              "  </thead>\n",
              "  <tbody>\n",
              "    <tr>\n",
              "      <th>1997-03-26 02:00:00</th>\n",
              "      <td>1.179638</td>\n",
              "      <td>24.4</td>\n",
              "      <td>24.3</td>\n",
              "      <td>1014.8</td>\n",
              "      <td>270.0</td>\n",
              "      <td>17.9</td>\n",
              "      <td>0.0</td>\n",
              "    </tr>\n",
              "    <tr>\n",
              "      <th>1997-03-26 03:00:00</th>\n",
              "      <td>0.387638</td>\n",
              "      <td>24.5</td>\n",
              "      <td>24.0</td>\n",
              "      <td>1014.3</td>\n",
              "      <td>359.0</td>\n",
              "      <td>0.0</td>\n",
              "      <td>0.0</td>\n",
              "    </tr>\n",
              "    <tr>\n",
              "      <th>1997-03-26 04:00:00</th>\n",
              "      <td>-0.485362</td>\n",
              "      <td>24.7</td>\n",
              "      <td>22.4</td>\n",
              "      <td>1013.7</td>\n",
              "      <td>193.0</td>\n",
              "      <td>5.2</td>\n",
              "      <td>0.3</td>\n",
              "    </tr>\n",
              "    <tr>\n",
              "      <th>1997-03-26 06:00:00</th>\n",
              "      <td>-1.478362</td>\n",
              "      <td>24.7</td>\n",
              "      <td>22.7</td>\n",
              "      <td>1013.8</td>\n",
              "      <td>162.0</td>\n",
              "      <td>11.0</td>\n",
              "      <td>3.4</td>\n",
              "    </tr>\n",
              "    <tr>\n",
              "      <th>1997-03-26 07:00:00</th>\n",
              "      <td>-1.330362</td>\n",
              "      <td>24.7</td>\n",
              "      <td>22.0</td>\n",
              "      <td>1014.4</td>\n",
              "      <td>173.0</td>\n",
              "      <td>10.2</td>\n",
              "      <td>4.0</td>\n",
              "    </tr>\n",
              "  </tbody>\n",
              "</table>\n",
              "</div>"
            ],
            "text/plain": [
              "                     sea_level  water_temp  air_temp  pressure  wind_dir  \\\n",
              "datetime                                                                   \n",
              "1997-03-26 02:00:00   1.179638        24.4      24.3    1014.8     270.0   \n",
              "1997-03-26 03:00:00   0.387638        24.5      24.0    1014.3     359.0   \n",
              "1997-03-26 04:00:00  -0.485362        24.7      22.4    1013.7     193.0   \n",
              "1997-03-26 06:00:00  -1.478362        24.7      22.7    1013.8     162.0   \n",
              "1997-03-26 07:00:00  -1.330362        24.7      22.0    1014.4     173.0   \n",
              "\n",
              "                     wind_gust  wind_speed  \n",
              "datetime                                    \n",
              "1997-03-26 02:00:00       17.9         0.0  \n",
              "1997-03-26 03:00:00        0.0         0.0  \n",
              "1997-03-26 04:00:00        5.2         0.3  \n",
              "1997-03-26 06:00:00       11.0         3.4  \n",
              "1997-03-26 07:00:00       10.2         4.0  "
            ]
          },
          "execution_count": 2,
          "metadata": {},
          "output_type": "execute_result"
        }
      ],
      "source": [
        "df = pd.read_csv(\"australia_rosslyn_bay.csv\", parse_dates=True, index_col=0)\n",
        "df.head()"
      ]
    },
    {
      "cell_type": "code",
      "execution_count": 3,
      "metadata": {},
      "outputs": [
        {
          "data": {
            "text/plain": [
              "21.594"
            ]
          },
          "execution_count": 3,
          "metadata": {},
          "output_type": "execute_result"
        }
      ],
      "source": [
        "two_six_df = df.between_time('14:00', '18:00', inclusive='both')\n",
        "mean_temp =two_six_df['air_temp'].mean()\n",
        "round(mean_temp, 3)"
      ]
    },
    {
      "cell_type": "markdown",
      "metadata": {
        "id": "s0hkPD6G27Ko"
      },
      "source": [
        "---\n",
        "**Problem 2.** Read in `australia-rosslyn-bay.csv`. **What is the mean air temperature for all measurements made in October?**"
      ]
    },
    {
      "cell_type": "code",
      "execution_count": 4,
      "metadata": {
        "id": "8LG0AXQx27Kp"
      },
      "outputs": [
        {
          "data": {
            "text/plain": [
              "23.137"
            ]
          },
          "execution_count": 4,
          "metadata": {},
          "output_type": "execute_result"
        }
      ],
      "source": [
        "df = pd.read_csv(\"australia_rosslyn_bay.csv\", parse_dates=True, index_col=0)\n",
        "\n",
        "oct_df = df[df.index.month == 10]\n",
        "oct_temp = oct_df['air_temp'].mean()\n",
        "round(oct_temp, 3)"
      ]
    },
    {
      "cell_type": "markdown",
      "metadata": {
        "id": "6NMHIr1g27Kq"
      },
      "source": [
        "---\n",
        "**Problem 3.** Read in `australia-rosslyn-bay.csv`. **What month has the lowest average pressure?** Report the answer as a number (e.g., \"3\" for \"March\")."
      ]
    },
    {
      "cell_type": "code",
      "execution_count": 5,
      "metadata": {
        "id": "RnyWCd2P27Kq"
      },
      "outputs": [
        {
          "data": {
            "text/plain": [
              "1"
            ]
          },
          "execution_count": 5,
          "metadata": {},
          "output_type": "execute_result"
        }
      ],
      "source": [
        "df = pd.read_csv(\"australia_rosslyn_bay.csv\", parse_dates=True, index_col=0)\n",
        "\n",
        "pressure_df = df.groupby(df.index.month)['pressure'].mean()\n",
        "lowest_avg_month = pressure_df.idxmin()\n",
        "lowest_avg_month"
      ]
    },
    {
      "cell_type": "markdown",
      "metadata": {
        "id": "FhhYaVUi27Kr"
      },
      "source": [
        "---\n",
        "**Problem 4.** Read in australia-rosslyn-bay.csv. **What is the 95th percentile (or quantile) of the air pressure during August?**\n",
        "\n",
        "*Hint:* https://pandas.pydata.org/pandas-docs/stable/reference/api/pandas.Series.quantile.html"
      ]
    },
    {
      "cell_type": "code",
      "execution_count": 6,
      "metadata": {
        "id": "7h8jJ38Z27Kr"
      },
      "outputs": [
        {
          "data": {
            "text/plain": [
              "1024.0"
            ]
          },
          "execution_count": 6,
          "metadata": {},
          "output_type": "execute_result"
        }
      ],
      "source": [
        "df = pd.read_csv(\"australia_rosslyn_bay.csv\", parse_dates=True, index_col=0)\n",
        "\n",
        "august_df = df[df.index.month == 8]\n",
        "nintyfifth_df = august_df['pressure'].quantile(0.95)\n",
        "round(nintyfifth_df, 2)"
      ]
    },
    {
      "cell_type": "markdown",
      "metadata": {
        "id": "aBdaJCnh27Ks"
      },
      "source": [
        "---"
      ]
    },
    {
      "cell_type": "markdown",
      "metadata": {
        "id": "4px_NnCE27Ks"
      },
      "source": [
        "The following questions are based on a synthetic dataset \"share-prices.csv\" that capture daily mean share prices ((opening + closing)/ 2) of a company from 1st January, 2000 to 2nd May, 2000. This amount to 123 mean share price observations."
      ]
    },
    {
      "cell_type": "markdown",
      "metadata": {
        "id": "aYs0EkL_27Kt"
      },
      "source": [
        "The next two questions will pretend you're a stock market analyst on May 2nd, 2000 and are developing a new method of finding future stock prices. You're using all days up to and including April 19th, 2000 as train data, and trying to predict stock prices on April 20th, 2000 and beyond.\n",
        "\n",
        "Let's pretend we're developing a new technique to predict future performance. This means that there is a natural division between the train and test sets:\n",
        "\n",
        "- **Train set:** January 1st, 2000 (2000-01-01) to 19th April, 2000 (2000-04-19), or 110 days.\n",
        "- **Test set:** April 20th, 2000 (2000-04-20) to the end, 2nd May, 2000 (2000-05-02), or 13 days."
      ]
    },
    {
      "cell_type": "markdown",
      "metadata": {
        "id": "EF6Za33K27Ku"
      },
      "source": [
        "The next two questions use the library `statsmodels`, and only for the \"auto-regressive\" model or AR model. Auto-regression is linear regression on the last `maxlag` values of a time series (and below the statsmodel package is only used to help with predicting more than one new value).\n",
        "\n",
        "`statsmodels` differs from Scikit-Learn in a couple ways:\n",
        "\n",
        "* In statsmodels, the data is passed to during model creation (not during model fitting like Scikit-Learn).\n",
        "* In statsmodels, the hyper-parameters are passed to during model fitting (not during model creation like Scikit-Learn).\n",
        "\n",
        "Notably, predicting new values only needs the train dataset: the prediction works recursively starting from the last value in the train dataset."
      ]
    },
    {
      "cell_type": "markdown",
      "metadata": {
        "id": "ufjF5iOt27Ku"
      },
      "source": [
        "---\n",
        "**Problem 5.** Read in `share-prices.csv`. Train an auto-regressive model with the previous 4 weeks of data, or `lags=28`; that is, predict today's stock price given the last 28 days.\n",
        "\n",
        "Use the historical data (or train set) to fit the model. Predict stock price from April, 20th 2000 to May 2nd, 2000. This will happen recursively using statsmodels – the statsmodel auto-regressive model will generate a prediction for April 20th, then use that value to predict April 21st and so on.\n",
        "\n",
        "**What is the mean squared error between the predicted and true values from April 20th to May 2nd 2000?**\n",
        "\n",
        "*Gold star question:* Would you use this model for actually making decisions on stock transactions? It'd be useful to plot and visualize both the predicted and true values for the testing time-period. "
      ]
    },
    {
      "cell_type": "code",
      "execution_count": 7,
      "metadata": {
        "id": "W_gR75XM27Ku",
        "outputId": "abc001ee-0cd5-4e33-dfd3-f3292753cbdb"
      },
      "outputs": [
        {
          "data": {
            "text/html": [
              "<div>\n",
              "<style scoped>\n",
              "    .dataframe tbody tr th:only-of-type {\n",
              "        vertical-align: middle;\n",
              "    }\n",
              "\n",
              "    .dataframe tbody tr th {\n",
              "        vertical-align: top;\n",
              "    }\n",
              "\n",
              "    .dataframe thead th {\n",
              "        text-align: right;\n",
              "    }\n",
              "</style>\n",
              "<table border=\"1\" class=\"dataframe\">\n",
              "  <thead>\n",
              "    <tr style=\"text-align: right;\">\n",
              "      <th></th>\n",
              "      <th>price</th>\n",
              "    </tr>\n",
              "    <tr>\n",
              "      <th>date</th>\n",
              "      <th></th>\n",
              "    </tr>\n",
              "  </thead>\n",
              "  <tbody>\n",
              "    <tr>\n",
              "      <th>2000-04-15</th>\n",
              "      <td>57.24</td>\n",
              "    </tr>\n",
              "    <tr>\n",
              "      <th>2000-04-16</th>\n",
              "      <td>42.70</td>\n",
              "    </tr>\n",
              "    <tr>\n",
              "      <th>2000-04-17</th>\n",
              "      <td>51.28</td>\n",
              "    </tr>\n",
              "    <tr>\n",
              "      <th>2000-04-18</th>\n",
              "      <td>58.82</td>\n",
              "    </tr>\n",
              "    <tr>\n",
              "      <th>2000-04-19</th>\n",
              "      <td>64.79</td>\n",
              "    </tr>\n",
              "  </tbody>\n",
              "</table>\n",
              "</div>"
            ],
            "text/plain": [
              "            price\n",
              "date             \n",
              "2000-04-15  57.24\n",
              "2000-04-16  42.70\n",
              "2000-04-17  51.28\n",
              "2000-04-18  58.82\n",
              "2000-04-19  64.79"
            ]
          },
          "execution_count": 7,
          "metadata": {},
          "output_type": "execute_result"
        }
      ],
      "source": [
        "df = pd.read_csv(\"share_prices.csv\", parse_dates=True, index_col=0)\n",
        "df.index.freq = \"D\"  # set as \"daily\" frequency; observations are recorded every day. Removes a warning in statsmodels\n",
        "\n",
        "# Training and testing set\n",
        "df_train = df.loc[:'2000-04-19']\n",
        "df_test = df.loc['2000-04-20':]\n",
        "df_train.tail()"
      ]
    },
    {
      "cell_type": "code",
      "execution_count": 8,
      "metadata": {},
      "outputs": [
        {
          "data": {
            "text/plain": [
              "(110, 13)"
            ]
          },
          "execution_count": 8,
          "metadata": {},
          "output_type": "execute_result"
        }
      ],
      "source": [
        "len(df_train), len(df_test)"
      ]
    },
    {
      "cell_type": "code",
      "execution_count": 9,
      "metadata": {
        "id": "XTB-3nwd27Kv"
      },
      "outputs": [
        {
          "data": {
            "text/plain": [
              "1189.41"
            ]
          },
          "execution_count": 9,
          "metadata": {},
          "output_type": "execute_result"
        }
      ],
      "source": [
        "model = AutoReg(df_train.price, lags=28)\n",
        "model_fit = model.fit()\n",
        "\n",
        "start=len(df_train)\n",
        "end = start + len(df_test)-1\n",
        "\n",
        "predict = model_fit.predict(start=start, end=end)\n",
        "mse_predict = mean_squared_error(df_test.price, predict)\n",
        "round(mse_predict, 2)"
      ]
    },
    {
      "cell_type": "code",
      "execution_count": 10,
      "metadata": {},
      "outputs": [
        {
          "data": {
            "image/png": "[encoded data removed]",
            "text/plain": [
              "<Figure size 1000x500 with 1 Axes>"
            ]
          },
          "metadata": {},
          "output_type": "display_data"
        }
      ],
      "source": [
        "plt.figure(figsize=(10, 5))\n",
        "plt.plot(df_test.index, df_test['price'], label='Actual', color='blue')\n",
        "plt.plot(df_test.index, predict, label='Predicted', color='red')\n",
        "plt.legend()\n",
        "plt.tight_layout()\n",
        "plt.show()"
      ]
    },
    {
      "cell_type": "markdown",
      "metadata": {
        "id": "Ziijh9jr27Kv"
      },
      "source": [
        "---\n",
        "**Problem 6.** In this question, **use auto-regression model to find the best value of `lags` from 1 to 10 both inclusive**. Here **best** is defined to be **\"minimum mean squared error on the validation set\"**. The dataset has been split as follows:\n",
        "\n",
        "- Training set: January 1st, 2000 to April 1st, 2000\n",
        "- Validation set: from April 2nd, 2000 to May 2nd, 2000.\n",
        "\n",
        "The validation set has 31 observations, which provides a more fair assessment of different values of `maxlag`; there are at least 20 predictions that are solely created by the model and don't use any \"free\" historical data.\n",
        "\n",
        "*Gold star question: Plot the predictions for the best `lags`. Would you use this model to buy stocks?*"
      ]
    },
    {
      "cell_type": "code",
      "execution_count": 11,
      "metadata": {
        "id": "cNG4uXsh27Kv"
      },
      "outputs": [],
      "source": [
        "df = pd.read_csv(\"share_prices.csv\", parse_dates=True, index_col=0)\n",
        "df.index.freq = \"D\"  # set as \"daily\" frequency; observations are recorded every day. Removes a warning in statsmodels\n",
        "\n",
        "# Training and validation set\n",
        "df_train = df.loc[:'2000-04-01']\n",
        "df_val = df.loc['2000-04-02':]"
      ]
    },
    {
      "cell_type": "code",
      "execution_count": 12,
      "metadata": {
        "id": "iExzJZ7k27Kw"
      },
      "outputs": [
        {
          "data": {
            "text/plain": [
              "(806.51, 6)"
            ]
          },
          "execution_count": 12,
          "metadata": {},
          "output_type": "execute_result"
        }
      ],
      "source": [
        "min_rmse = np.Infinity\n",
        "best_k = None\n",
        "best_pred = None\n",
        "\n",
        "for k in range(1, 11):\n",
        "    model = AutoReg(df_train.price, lags=k)\n",
        "    model_fit = model.fit()\n",
        "    \n",
        "    start = len(df_train)\n",
        "    end = len(df_train) + len(df_val) -1\n",
        "    pred = model_fit.predict(start, end)\n",
        "    rmse = mean_squared_error(df_val.price, pred)\n",
        "\n",
        "    if rmse < min_rmse:\n",
        "        min_rmse = rmse\n",
        "        best_k = k\n",
        "        best_pred = pred\n",
        "\n",
        "round(min_rmse, 2), best_k"
      ]
    },
    {
      "cell_type": "code",
      "execution_count": 13,
      "metadata": {},
      "outputs": [
        {
          "data": {
            "image/png": "[encoded data removed]",
            "text/plain": [
              "<Figure size 1000x500 with 1 Axes>"
            ]
          },
          "metadata": {},
          "output_type": "display_data"
        }
      ],
      "source": [
        "plt.figure(figsize=(10, 5))\n",
        "plt.plot(df_val.index, df_val['price'], label='Actual Price', marker='o')\n",
        "plt.plot(df_val.index, best_pred, label=f'Predicted (lags={best_k})', marker='_')\n",
        "plt.tight_layout()\n",
        "plt.legend()\n",
        "plt.show()"
      ]
    },
    {
      "cell_type": "code",
      "execution_count": null,
      "metadata": {},
      "outputs": [],
      "source": []
    }
  ],
  "metadata": {
    "colab": {
      "provenance": []
    },
    "kernelspec": {
      "display_name": "Python 3",
      "language": "python",
      "name": "python3"
    },
    "language_info": {
      "codemirror_mode": {
        "name": "ipython",
        "version": 3
      },
      "file_extension": ".py",
      "mimetype": "text/x-python",
      "name": "python",
      "nbconvert_exporter": "python",
      "pygments_lexer": "ipython3",
      "version": "3.10.11"
    }
  },
  "nbformat": 4,
  "nbformat_minor": 0
}
