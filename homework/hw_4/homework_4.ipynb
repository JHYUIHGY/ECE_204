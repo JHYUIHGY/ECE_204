{
 "cells": [
  {
   "cell_type": "markdown",
   "metadata": {},
   "source": [
    "# Homework 4 Solutions: Data Aggregation and Cleaning\n",
    "## ECE204 Data Science & Engineering"
   ]
  },
  {
   "cell_type": "markdown",
   "metadata": {},
   "source": [
    "### Please refer to Homework 4 in Canvas for the prompts for each question"
   ]
  },
  {
   "cell_type": "code",
   "execution_count": 1,
   "metadata": {},
   "outputs": [],
   "source": [
    "import pandas as pd\n"
   ]
  },
  {
   "cell_type": "markdown",
   "metadata": {},
   "source": [
    "---\n",
    "**Problem 1.**"
   ]
  },
  {
   "cell_type": "code",
   "execution_count": 2,
   "metadata": {},
   "outputs": [
    {
     "data": {
      "text/html": [
       "<div>\n",
       "<style scoped>\n",
       "    .dataframe tbody tr th:only-of-type {\n",
       "        vertical-align: middle;\n",
       "    }\n",
       "\n",
       "    .dataframe tbody tr th {\n",
       "        vertical-align: top;\n",
       "    }\n",
       "\n",
       "    .dataframe thead th {\n",
       "        text-align: right;\n",
       "    }\n",
       "</style>\n",
       "<table border=\"1\" class=\"dataframe\">\n",
       "  <thead>\n",
       "    <tr style=\"text-align: right;\">\n",
       "      <th></th>\n",
       "      <th>Acceleration</th>\n",
       "      <th>Cylinders</th>\n",
       "      <th>Displacement</th>\n",
       "      <th>Horsepower</th>\n",
       "      <th>Miles_per_Gallon</th>\n",
       "      <th>Name</th>\n",
       "      <th>Origin</th>\n",
       "      <th>Weight_in_lbs</th>\n",
       "      <th>Year</th>\n",
       "    </tr>\n",
       "  </thead>\n",
       "  <tbody>\n",
       "    <tr>\n",
       "      <th>0</th>\n",
       "      <td>12.0</td>\n",
       "      <td>8</td>\n",
       "      <td>307.0</td>\n",
       "      <td>130.0</td>\n",
       "      <td>18.0</td>\n",
       "      <td>chevrolet chevelle malibu</td>\n",
       "      <td>USA</td>\n",
       "      <td>3504</td>\n",
       "      <td>1970-01-01</td>\n",
       "    </tr>\n",
       "    <tr>\n",
       "      <th>1</th>\n",
       "      <td>11.5</td>\n",
       "      <td>8</td>\n",
       "      <td>350.0</td>\n",
       "      <td>165.0</td>\n",
       "      <td>15.0</td>\n",
       "      <td>buick skylark 320</td>\n",
       "      <td>USA</td>\n",
       "      <td>3693</td>\n",
       "      <td>1970-01-01</td>\n",
       "    </tr>\n",
       "    <tr>\n",
       "      <th>2</th>\n",
       "      <td>11.0</td>\n",
       "      <td>8</td>\n",
       "      <td>318.0</td>\n",
       "      <td>150.0</td>\n",
       "      <td>18.0</td>\n",
       "      <td>plymouth satellite</td>\n",
       "      <td>USA</td>\n",
       "      <td>3436</td>\n",
       "      <td>1970-01-01</td>\n",
       "    </tr>\n",
       "    <tr>\n",
       "      <th>3</th>\n",
       "      <td>12.0</td>\n",
       "      <td>8</td>\n",
       "      <td>304.0</td>\n",
       "      <td>150.0</td>\n",
       "      <td>16.0</td>\n",
       "      <td>amc rebel sst</td>\n",
       "      <td>USA</td>\n",
       "      <td>3433</td>\n",
       "      <td>1970-01-01</td>\n",
       "    </tr>\n",
       "    <tr>\n",
       "      <th>4</th>\n",
       "      <td>10.5</td>\n",
       "      <td>8</td>\n",
       "      <td>302.0</td>\n",
       "      <td>140.0</td>\n",
       "      <td>17.0</td>\n",
       "      <td>ford torino</td>\n",
       "      <td>USA</td>\n",
       "      <td>3449</td>\n",
       "      <td>1970-01-01</td>\n",
       "    </tr>\n",
       "    <tr>\n",
       "      <th>5</th>\n",
       "      <td>10.0</td>\n",
       "      <td>8</td>\n",
       "      <td>429.0</td>\n",
       "      <td>198.0</td>\n",
       "      <td>15.0</td>\n",
       "      <td>ford galaxie 500</td>\n",
       "      <td>USA</td>\n",
       "      <td>4341</td>\n",
       "      <td>1970-01-01</td>\n",
       "    </tr>\n",
       "    <tr>\n",
       "      <th>6</th>\n",
       "      <td>9.0</td>\n",
       "      <td>8</td>\n",
       "      <td>454.0</td>\n",
       "      <td>220.0</td>\n",
       "      <td>14.0</td>\n",
       "      <td>chevrolet impala</td>\n",
       "      <td>USA</td>\n",
       "      <td>4354</td>\n",
       "      <td>1970-01-01</td>\n",
       "    </tr>\n",
       "    <tr>\n",
       "      <th>7</th>\n",
       "      <td>8.5</td>\n",
       "      <td>8</td>\n",
       "      <td>440.0</td>\n",
       "      <td>215.0</td>\n",
       "      <td>14.0</td>\n",
       "      <td>plymouth fury iii</td>\n",
       "      <td>USA</td>\n",
       "      <td>4312</td>\n",
       "      <td>1970-01-01</td>\n",
       "    </tr>\n",
       "    <tr>\n",
       "      <th>8</th>\n",
       "      <td>10.0</td>\n",
       "      <td>8</td>\n",
       "      <td>455.0</td>\n",
       "      <td>225.0</td>\n",
       "      <td>14.0</td>\n",
       "      <td>pontiac catalina</td>\n",
       "      <td>USA</td>\n",
       "      <td>4425</td>\n",
       "      <td>1970-01-01</td>\n",
       "    </tr>\n",
       "    <tr>\n",
       "      <th>9</th>\n",
       "      <td>8.5</td>\n",
       "      <td>8</td>\n",
       "      <td>390.0</td>\n",
       "      <td>190.0</td>\n",
       "      <td>15.0</td>\n",
       "      <td>amc ambassador dpl</td>\n",
       "      <td>USA</td>\n",
       "      <td>3850</td>\n",
       "      <td>1970-01-01</td>\n",
       "    </tr>\n",
       "  </tbody>\n",
       "</table>\n",
       "</div>"
      ],
      "text/plain": [
       "   Acceleration  Cylinders  Displacement  Horsepower  Miles_per_Gallon  \\\n",
       "0          12.0          8         307.0       130.0              18.0   \n",
       "1          11.5          8         350.0       165.0              15.0   \n",
       "2          11.0          8         318.0       150.0              18.0   \n",
       "3          12.0          8         304.0       150.0              16.0   \n",
       "4          10.5          8         302.0       140.0              17.0   \n",
       "5          10.0          8         429.0       198.0              15.0   \n",
       "6           9.0          8         454.0       220.0              14.0   \n",
       "7           8.5          8         440.0       215.0              14.0   \n",
       "8          10.0          8         455.0       225.0              14.0   \n",
       "9           8.5          8         390.0       190.0              15.0   \n",
       "\n",
       "                        Name Origin  Weight_in_lbs        Year  \n",
       "0  chevrolet chevelle malibu    USA           3504  1970-01-01  \n",
       "1          buick skylark 320    USA           3693  1970-01-01  \n",
       "2         plymouth satellite    USA           3436  1970-01-01  \n",
       "3              amc rebel sst    USA           3433  1970-01-01  \n",
       "4                ford torino    USA           3449  1970-01-01  \n",
       "5           ford galaxie 500    USA           4341  1970-01-01  \n",
       "6           chevrolet impala    USA           4354  1970-01-01  \n",
       "7          plymouth fury iii    USA           4312  1970-01-01  \n",
       "8           pontiac catalina    USA           4425  1970-01-01  \n",
       "9         amc ambassador dpl    USA           3850  1970-01-01  "
      ]
     },
     "execution_count": 2,
     "metadata": {},
     "output_type": "execute_result"
    }
   ],
   "source": [
    "df_cars = pd.read_csv(\"cars.csv\")\n",
    "df_cars.head(10)"
   ]
  },
  {
   "cell_type": "markdown",
   "metadata": {},
   "source": [
    "1.) What is the mean Displacement of the cars that do not have a null/NaN value in Horsepower or Miles_per_Gallon columns in the dataset cars.csv?\n",
    "\n",
    "NOTE: Report your result rounded to 2 places after the decimal."
   ]
  },
  {
   "cell_type": "code",
   "execution_count": 3,
   "metadata": {},
   "outputs": [
    {
     "data": {
      "text/plain": [
       "194.41"
      ]
     },
     "execution_count": 3,
     "metadata": {},
     "output_type": "execute_result"
    }
   ],
   "source": [
    "filtered_df = df_cars[df_cars['Miles_per_Gallon'].notna() & df_cars['Horsepower'].notna()]\n",
    "displace_df = filtered_df['Displacement'].mean()\n",
    "round(displace_df, 2)"
   ]
  },
  {
   "cell_type": "markdown",
   "metadata": {},
   "source": [
    "---\n",
    "**Problem 2.**"
   ]
  },
  {
   "cell_type": "code",
   "execution_count": 4,
   "metadata": {},
   "outputs": [
    {
     "data": {
      "text/html": [
       "<div>\n",
       "<style scoped>\n",
       "    .dataframe tbody tr th:only-of-type {\n",
       "        vertical-align: middle;\n",
       "    }\n",
       "\n",
       "    .dataframe tbody tr th {\n",
       "        vertical-align: top;\n",
       "    }\n",
       "\n",
       "    .dataframe thead th {\n",
       "        text-align: right;\n",
       "    }\n",
       "</style>\n",
       "<table border=\"1\" class=\"dataframe\">\n",
       "  <thead>\n",
       "    <tr style=\"text-align: right;\">\n",
       "      <th></th>\n",
       "      <th>Acceleration</th>\n",
       "      <th>Cylinders</th>\n",
       "      <th>Displacement</th>\n",
       "      <th>Horsepower</th>\n",
       "      <th>Miles_per_Gallon</th>\n",
       "      <th>Name</th>\n",
       "      <th>Origin</th>\n",
       "      <th>Weight_in_lbs</th>\n",
       "      <th>Year</th>\n",
       "    </tr>\n",
       "  </thead>\n",
       "  <tbody>\n",
       "    <tr>\n",
       "      <th>0</th>\n",
       "      <td>12.0</td>\n",
       "      <td>8</td>\n",
       "      <td>307.0</td>\n",
       "      <td>130.0</td>\n",
       "      <td>18.0</td>\n",
       "      <td>chevrolet chevelle malibu</td>\n",
       "      <td>USA</td>\n",
       "      <td>3504</td>\n",
       "      <td>1970-01-01</td>\n",
       "    </tr>\n",
       "    <tr>\n",
       "      <th>1</th>\n",
       "      <td>11.5</td>\n",
       "      <td>8</td>\n",
       "      <td>350.0</td>\n",
       "      <td>165.0</td>\n",
       "      <td>15.0</td>\n",
       "      <td>buick skylark 320</td>\n",
       "      <td>USA</td>\n",
       "      <td>3693</td>\n",
       "      <td>1970-01-01</td>\n",
       "    </tr>\n",
       "    <tr>\n",
       "      <th>2</th>\n",
       "      <td>11.0</td>\n",
       "      <td>8</td>\n",
       "      <td>318.0</td>\n",
       "      <td>150.0</td>\n",
       "      <td>18.0</td>\n",
       "      <td>plymouth satellite</td>\n",
       "      <td>USA</td>\n",
       "      <td>3436</td>\n",
       "      <td>1970-01-01</td>\n",
       "    </tr>\n",
       "    <tr>\n",
       "      <th>3</th>\n",
       "      <td>12.0</td>\n",
       "      <td>8</td>\n",
       "      <td>304.0</td>\n",
       "      <td>150.0</td>\n",
       "      <td>16.0</td>\n",
       "      <td>amc rebel sst</td>\n",
       "      <td>USA</td>\n",
       "      <td>3433</td>\n",
       "      <td>1970-01-01</td>\n",
       "    </tr>\n",
       "    <tr>\n",
       "      <th>4</th>\n",
       "      <td>10.5</td>\n",
       "      <td>8</td>\n",
       "      <td>302.0</td>\n",
       "      <td>140.0</td>\n",
       "      <td>17.0</td>\n",
       "      <td>ford torino</td>\n",
       "      <td>USA</td>\n",
       "      <td>3449</td>\n",
       "      <td>1970-01-01</td>\n",
       "    </tr>\n",
       "  </tbody>\n",
       "</table>\n",
       "</div>"
      ],
      "text/plain": [
       "   Acceleration  Cylinders  Displacement  Horsepower  Miles_per_Gallon  \\\n",
       "0          12.0          8         307.0       130.0              18.0   \n",
       "1          11.5          8         350.0       165.0              15.0   \n",
       "2          11.0          8         318.0       150.0              18.0   \n",
       "3          12.0          8         304.0       150.0              16.0   \n",
       "4          10.5          8         302.0       140.0              17.0   \n",
       "\n",
       "                        Name Origin  Weight_in_lbs        Year  \n",
       "0  chevrolet chevelle malibu    USA           3504  1970-01-01  \n",
       "1          buick skylark 320    USA           3693  1970-01-01  \n",
       "2         plymouth satellite    USA           3436  1970-01-01  \n",
       "3              amc rebel sst    USA           3433  1970-01-01  \n",
       "4                ford torino    USA           3449  1970-01-01  "
      ]
     },
     "execution_count": 4,
     "metadata": {},
     "output_type": "execute_result"
    }
   ],
   "source": [
    "df_cars = pd.read_csv(\"cars.csv\")\n",
    "df_cars.head()"
   ]
  },
  {
   "cell_type": "markdown",
   "metadata": {},
   "source": [
    "2.) In the dataset cars.csv, find the cars with the highest fuel economy (Miles_per_Gallon) for each unique country of Origin. What is the median fuel economy of these 3 cars?\n",
    "\n",
    "NOTE: Report your result rounded to 2 places after the decimal."
   ]
  },
  {
   "cell_type": "code",
   "execution_count": 5,
   "metadata": {},
   "outputs": [
    {
     "data": {
      "text/plain": [
       "44.3"
      ]
     },
     "execution_count": 5,
     "metadata": {},
     "output_type": "execute_result"
    }
   ],
   "source": [
    "highest_mpg_cars = df_cars.loc[df_cars.groupby('Origin')['Miles_per_Gallon'].idxmax()]\n",
    "median_mpg = round(highest_mpg_cars['Miles_per_Gallon'].median(), 2)\n",
    "median_mpg"
   ]
  },
  {
   "cell_type": "markdown",
   "metadata": {},
   "source": [
    "---\n",
    "**Problem 3.**"
   ]
  },
  {
   "cell_type": "code",
   "execution_count": 6,
   "metadata": {},
   "outputs": [],
   "source": [
    "df_cars = pd.read_csv(\"cars.csv\")"
   ]
  },
  {
   "cell_type": "markdown",
   "metadata": {},
   "source": [
    "3.) From each country/origin, find the car that has the highest Horsepower. What is the mean weight (in lbs) of these cars?\n",
    "\n",
    "Hint:  aggfunc='idxmax'\n",
    "\n",
    "NOTE: Report your result rounded to 2 places after the decimal.\n",
    "\n"
   ]
  },
  {
   "cell_type": "code",
   "execution_count": 7,
   "metadata": {},
   "outputs": [
    {
     "data": {
      "text/plain": [
       "3532.67"
      ]
     },
     "execution_count": 7,
     "metadata": {},
     "output_type": "execute_result"
    }
   ],
   "source": [
    "cars_pivot = pd.pivot_table(df_cars, index='Origin', values='Horsepower', aggfunc='idxmax', fill_value=0)\n",
    "highest_hp = df_cars.loc[cars_pivot['Horsepower']]\n",
    "mean_weight = round(highest_hp['Weight_in_lbs'].mean(), 2)\n",
    "mean_weight"
   ]
  },
  {
   "cell_type": "markdown",
   "metadata": {},
   "source": [
    "---\n",
    "**Problem 4.**"
   ]
  },
  {
   "cell_type": "code",
   "execution_count": 8,
   "metadata": {},
   "outputs": [
    {
     "data": {
      "text/html": [
       "<div>\n",
       "<style scoped>\n",
       "    .dataframe tbody tr th:only-of-type {\n",
       "        vertical-align: middle;\n",
       "    }\n",
       "\n",
       "    .dataframe tbody tr th {\n",
       "        vertical-align: top;\n",
       "    }\n",
       "\n",
       "    .dataframe thead th {\n",
       "        text-align: right;\n",
       "    }\n",
       "</style>\n",
       "<table border=\"1\" class=\"dataframe\">\n",
       "  <thead>\n",
       "    <tr style=\"text-align: right;\">\n",
       "      <th></th>\n",
       "      <th>Acceleration</th>\n",
       "      <th>Cylinders</th>\n",
       "      <th>Displacement</th>\n",
       "      <th>Horsepower</th>\n",
       "      <th>Miles_per_Gallon</th>\n",
       "      <th>Name</th>\n",
       "      <th>Origin</th>\n",
       "      <th>Weight_in_lbs</th>\n",
       "      <th>Year</th>\n",
       "    </tr>\n",
       "  </thead>\n",
       "  <tbody>\n",
       "    <tr>\n",
       "      <th>0</th>\n",
       "      <td>12.0</td>\n",
       "      <td>8</td>\n",
       "      <td>307.0</td>\n",
       "      <td>130.0</td>\n",
       "      <td>18.0</td>\n",
       "      <td>chevrolet chevelle malibu</td>\n",
       "      <td>USA</td>\n",
       "      <td>3504</td>\n",
       "      <td>1970-01-01</td>\n",
       "    </tr>\n",
       "    <tr>\n",
       "      <th>1</th>\n",
       "      <td>11.5</td>\n",
       "      <td>8</td>\n",
       "      <td>350.0</td>\n",
       "      <td>165.0</td>\n",
       "      <td>15.0</td>\n",
       "      <td>buick skylark 320</td>\n",
       "      <td>USA</td>\n",
       "      <td>3693</td>\n",
       "      <td>1970-01-01</td>\n",
       "    </tr>\n",
       "    <tr>\n",
       "      <th>2</th>\n",
       "      <td>11.0</td>\n",
       "      <td>8</td>\n",
       "      <td>318.0</td>\n",
       "      <td>150.0</td>\n",
       "      <td>18.0</td>\n",
       "      <td>plymouth satellite</td>\n",
       "      <td>USA</td>\n",
       "      <td>3436</td>\n",
       "      <td>1970-01-01</td>\n",
       "    </tr>\n",
       "    <tr>\n",
       "      <th>3</th>\n",
       "      <td>12.0</td>\n",
       "      <td>8</td>\n",
       "      <td>304.0</td>\n",
       "      <td>150.0</td>\n",
       "      <td>16.0</td>\n",
       "      <td>amc rebel sst</td>\n",
       "      <td>USA</td>\n",
       "      <td>3433</td>\n",
       "      <td>1970-01-01</td>\n",
       "    </tr>\n",
       "    <tr>\n",
       "      <th>4</th>\n",
       "      <td>10.5</td>\n",
       "      <td>8</td>\n",
       "      <td>302.0</td>\n",
       "      <td>140.0</td>\n",
       "      <td>17.0</td>\n",
       "      <td>ford torino</td>\n",
       "      <td>USA</td>\n",
       "      <td>3449</td>\n",
       "      <td>1970-01-01</td>\n",
       "    </tr>\n",
       "  </tbody>\n",
       "</table>\n",
       "</div>"
      ],
      "text/plain": [
       "   Acceleration  Cylinders  Displacement  Horsepower  Miles_per_Gallon  \\\n",
       "0          12.0          8         307.0       130.0              18.0   \n",
       "1          11.5          8         350.0       165.0              15.0   \n",
       "2          11.0          8         318.0       150.0              18.0   \n",
       "3          12.0          8         304.0       150.0              16.0   \n",
       "4          10.5          8         302.0       140.0              17.0   \n",
       "\n",
       "                        Name Origin  Weight_in_lbs        Year  \n",
       "0  chevrolet chevelle malibu    USA           3504  1970-01-01  \n",
       "1          buick skylark 320    USA           3693  1970-01-01  \n",
       "2         plymouth satellite    USA           3436  1970-01-01  \n",
       "3              amc rebel sst    USA           3433  1970-01-01  \n",
       "4                ford torino    USA           3449  1970-01-01  "
      ]
     },
     "execution_count": 8,
     "metadata": {},
     "output_type": "execute_result"
    }
   ],
   "source": [
    "df_cars = pd.read_csv(\"cars.csv\")\n",
    "df_cars.head()"
   ]
  },
  {
   "cell_type": "markdown",
   "metadata": {},
   "source": [
    "4.) In cars.csv, for each unique value of Cylinders, find the length of the longest Name among the cars having that many Cylinders. What is the average length of Name of the 5 such lengths you will find?\n",
    "\n",
    "NOTE: Report your result rounded to 2 places after the decimal."
   ]
  },
  {
   "cell_type": "code",
   "execution_count": 9,
   "metadata": {},
   "outputs": [
    {
     "data": {
      "text/plain": [
       "26.8"
      ]
     },
     "execution_count": 9,
     "metadata": {},
     "output_type": "execute_result"
    }
   ],
   "source": [
    "df_cars['Name_length'] = df_cars['Name'].apply(len)\n",
    "max_name = df_cars.groupby('Cylinders')['Name_length'].max()\n",
    "avg_length = max_name.mean()\n",
    "round(avg_length, 2)"
   ]
  },
  {
   "cell_type": "markdown",
   "metadata": {},
   "source": [
    "---\n",
    "**Problem 5.**"
   ]
  },
  {
   "cell_type": "code",
   "execution_count": 10,
   "metadata": {},
   "outputs": [],
   "source": [
    "import numpy as np"
   ]
  },
  {
   "cell_type": "markdown",
   "metadata": {},
   "source": [
    "5.) Generate 100,000 random numbers using a normal distribution with mean 3.03 and standard deviation 2.97. What proportion of these numbers is greater than 0.67? \n",
    "\n",
    "NOTE: Your answer should be between 0 and 1. Report your result rounded to 2 places after the decimal."
   ]
  },
  {
   "cell_type": "code",
   "execution_count": 11,
   "metadata": {},
   "outputs": [
    {
     "data": {
      "text/plain": [
       "0.79"
      ]
     },
     "execution_count": 11,
     "metadata": {},
     "output_type": "execute_result"
    }
   ],
   "source": [
    "numbers = np.random.normal(loc=3.03, scale=2.97, size=100000)\n",
    "proportion = round((np.mean(numbers > 0.67)), 2)\n",
    "proportion"
   ]
  },
  {
   "cell_type": "markdown",
   "metadata": {},
   "source": [
    "---\n",
    "**Problem 6.**"
   ]
  },
  {
   "cell_type": "code",
   "execution_count": 12,
   "metadata": {},
   "outputs": [
    {
     "data": {
      "text/html": [
       "<div>\n",
       "<style scoped>\n",
       "    .dataframe tbody tr th:only-of-type {\n",
       "        vertical-align: middle;\n",
       "    }\n",
       "\n",
       "    .dataframe tbody tr th {\n",
       "        vertical-align: top;\n",
       "    }\n",
       "\n",
       "    .dataframe thead th {\n",
       "        text-align: right;\n",
       "    }\n",
       "</style>\n",
       "<table border=\"1\" class=\"dataframe\">\n",
       "  <thead>\n",
       "    <tr style=\"text-align: right;\">\n",
       "      <th></th>\n",
       "      <th>Acceleration</th>\n",
       "      <th>Cylinders</th>\n",
       "      <th>Displacement</th>\n",
       "      <th>Horsepower</th>\n",
       "      <th>Miles_per_Gallon</th>\n",
       "      <th>Name</th>\n",
       "      <th>Origin</th>\n",
       "      <th>Weight_in_lbs</th>\n",
       "      <th>Year</th>\n",
       "    </tr>\n",
       "  </thead>\n",
       "  <tbody>\n",
       "    <tr>\n",
       "      <th>0</th>\n",
       "      <td>14.5</td>\n",
       "      <td>4.0</td>\n",
       "      <td>90.0</td>\n",
       "      <td>75.0</td>\n",
       "      <td>28.0</td>\n",
       "      <td>dodge colt</td>\n",
       "      <td>USA</td>\n",
       "      <td>2125</td>\n",
       "      <td>1/1/1974</td>\n",
       "    </tr>\n",
       "    <tr>\n",
       "      <th>1</th>\n",
       "      <td>22.1</td>\n",
       "      <td>NaN</td>\n",
       "      <td>NaN</td>\n",
       "      <td>60.0</td>\n",
       "      <td>24.5</td>\n",
       "      <td>NaN</td>\n",
       "      <td>USA</td>\n",
       "      <td>2164</td>\n",
       "      <td>NaN</td>\n",
       "    </tr>\n",
       "    <tr>\n",
       "      <th>2</th>\n",
       "      <td>17.0</td>\n",
       "      <td>6.0</td>\n",
       "      <td>262.0</td>\n",
       "      <td>85.0</td>\n",
       "      <td>38.0</td>\n",
       "      <td>oldsmobile cutlass ciera (diesel)</td>\n",
       "      <td>USA</td>\n",
       "      <td>3015</td>\n",
       "      <td>1/1/1982</td>\n",
       "    </tr>\n",
       "    <tr>\n",
       "      <th>3</th>\n",
       "      <td>16.4</td>\n",
       "      <td>4.0</td>\n",
       "      <td>86.0</td>\n",
       "      <td>65.0</td>\n",
       "      <td>37.2</td>\n",
       "      <td>datsun 310</td>\n",
       "      <td>Japan</td>\n",
       "      <td>2019</td>\n",
       "      <td>1/1/1980</td>\n",
       "    </tr>\n",
       "    <tr>\n",
       "      <th>4</th>\n",
       "      <td>14.5</td>\n",
       "      <td>4.0</td>\n",
       "      <td>156.0</td>\n",
       "      <td>92.0</td>\n",
       "      <td>26.0</td>\n",
       "      <td>chrysler lebaron medallion</td>\n",
       "      <td>USA</td>\n",
       "      <td>2585</td>\n",
       "      <td>1/1/1982</td>\n",
       "    </tr>\n",
       "  </tbody>\n",
       "</table>\n",
       "</div>"
      ],
      "text/plain": [
       "   Acceleration  Cylinders  Displacement  Horsepower  Miles_per_Gallon  \\\n",
       "0          14.5        4.0          90.0        75.0              28.0   \n",
       "1          22.1        NaN           NaN        60.0              24.5   \n",
       "2          17.0        6.0         262.0        85.0              38.0   \n",
       "3          16.4        4.0          86.0        65.0              37.2   \n",
       "4          14.5        4.0         156.0        92.0              26.0   \n",
       "\n",
       "                                Name Origin  Weight_in_lbs      Year  \n",
       "0                         dodge colt    USA           2125  1/1/1974  \n",
       "1                                NaN    USA           2164       NaN  \n",
       "2  oldsmobile cutlass ciera (diesel)    USA           3015  1/1/1982  \n",
       "3                         datsun 310  Japan           2019  1/1/1980  \n",
       "4         chrysler lebaron medallion    USA           2585  1/1/1982  "
      ]
     },
     "execution_count": 12,
     "metadata": {},
     "output_type": "execute_result"
    }
   ],
   "source": [
    "df_cars_unclean = pd.read_csv(\"cars_unclean.csv\")\n",
    "df_cars_unclean.head()"
   ]
  },
  {
   "cell_type": "markdown",
   "metadata": {},
   "source": [
    "6.) Let's find the mean Miles_per_Gallon of cars from cars_unclean.csv. Unfortunately, the cars dataset has been corrupted and contains missing values. It is your job to present a dataset that contains:\n",
    "\n",
    "Only the ['Acceleration', 'Cylinders', 'Displacement', 'Horsepower', 'Miles_per_Gallon', 'Weight_in_lbs'] variables (Drop all other columns)\n",
    "Remove all rows with nulls/NaNs\n",
    "What is the mean Miles_per_Gallon of the cars in the clean dataset?\n",
    "\n",
    "NOTE: Report your result rounded to 2 places after the decimal."
   ]
  },
  {
   "cell_type": "code",
   "execution_count": 13,
   "metadata": {},
   "outputs": [
    {
     "data": {
      "text/plain": [
       "23.49"
      ]
     },
     "execution_count": 13,
     "metadata": {},
     "output_type": "execute_result"
    }
   ],
   "source": [
    "drop_car = df_cars_unclean.drop(columns=['Name', 'Origin', 'Year'])\n",
    "clean_df = drop_car.dropna()\n",
    "mean_mpg = clean_df['Miles_per_Gallon'].mean()\n",
    "round(mean_mpg, 2)"
   ]
  },
  {
   "cell_type": "markdown",
   "metadata": {},
   "source": [
    "---\n",
    "**Problem 7.**"
   ]
  },
  {
   "cell_type": "code",
   "execution_count": 14,
   "metadata": {},
   "outputs": [
    {
     "data": {
      "text/html": [
       "<div>\n",
       "<style scoped>\n",
       "    .dataframe tbody tr th:only-of-type {\n",
       "        vertical-align: middle;\n",
       "    }\n",
       "\n",
       "    .dataframe tbody tr th {\n",
       "        vertical-align: top;\n",
       "    }\n",
       "\n",
       "    .dataframe thead th {\n",
       "        text-align: right;\n",
       "    }\n",
       "</style>\n",
       "<table border=\"1\" class=\"dataframe\">\n",
       "  <thead>\n",
       "    <tr style=\"text-align: right;\">\n",
       "      <th></th>\n",
       "      <th>iata</th>\n",
       "      <th>name</th>\n",
       "      <th>city</th>\n",
       "      <th>state</th>\n",
       "      <th>country</th>\n",
       "      <th>latitude</th>\n",
       "      <th>longitude</th>\n",
       "    </tr>\n",
       "  </thead>\n",
       "  <tbody>\n",
       "    <tr>\n",
       "      <th>0</th>\n",
       "      <td>X67</td>\n",
       "      <td>Christiansted Harbor Seaplane Base</td>\n",
       "      <td>Christiansted</td>\n",
       "      <td>VI</td>\n",
       "      <td>USA</td>\n",
       "      <td>17.747195</td>\n",
       "      <td>-64.704864</td>\n",
       "    </tr>\n",
       "    <tr>\n",
       "      <th>1</th>\n",
       "      <td>STX</td>\n",
       "      <td>Henry E. Rohlsen</td>\n",
       "      <td>Christiansted</td>\n",
       "      <td>VI</td>\n",
       "      <td>USA</td>\n",
       "      <td>17.701889</td>\n",
       "      <td>-64.798556</td>\n",
       "    </tr>\n",
       "    <tr>\n",
       "      <th>2</th>\n",
       "      <td>X96</td>\n",
       "      <td>Cruz Bay Harbor Seaplane Base</td>\n",
       "      <td>Cruz Bay</td>\n",
       "      <td>VI</td>\n",
       "      <td>USA</td>\n",
       "      <td>18.336898</td>\n",
       "      <td>-64.799583</td>\n",
       "    </tr>\n",
       "    <tr>\n",
       "      <th>3</th>\n",
       "      <td>X66</td>\n",
       "      <td>Charlotte Amalie Harbor Seaplane Base</td>\n",
       "      <td>Charlotte Amalie</td>\n",
       "      <td>VI</td>\n",
       "      <td>USA</td>\n",
       "      <td>18.338567</td>\n",
       "      <td>-64.940701</td>\n",
       "    </tr>\n",
       "    <tr>\n",
       "      <th>4</th>\n",
       "      <td>STT</td>\n",
       "      <td>Cyril E. King</td>\n",
       "      <td>Charlotte Amalie</td>\n",
       "      <td>VI</td>\n",
       "      <td>USA</td>\n",
       "      <td>18.337306</td>\n",
       "      <td>-64.973361</td>\n",
       "    </tr>\n",
       "    <tr>\n",
       "      <th>...</th>\n",
       "      <td>...</td>\n",
       "      <td>...</td>\n",
       "      <td>...</td>\n",
       "      <td>...</td>\n",
       "      <td>...</td>\n",
       "      <td>...</td>\n",
       "      <td>...</td>\n",
       "    </tr>\n",
       "    <tr>\n",
       "      <th>3359</th>\n",
       "      <td>SVA</td>\n",
       "      <td>Savoonga</td>\n",
       "      <td>Savoonga</td>\n",
       "      <td>AK</td>\n",
       "      <td>USA</td>\n",
       "      <td>63.686394</td>\n",
       "      <td>-170.492636</td>\n",
       "    </tr>\n",
       "    <tr>\n",
       "      <th>3360</th>\n",
       "      <td>PPG</td>\n",
       "      <td>Pago Pago International</td>\n",
       "      <td>Pago Pago</td>\n",
       "      <td>NaN</td>\n",
       "      <td>USA</td>\n",
       "      <td>14.331023</td>\n",
       "      <td>-170.710526</td>\n",
       "    </tr>\n",
       "    <tr>\n",
       "      <th>3361</th>\n",
       "      <td>GAM</td>\n",
       "      <td>Gambell</td>\n",
       "      <td>Gambell</td>\n",
       "      <td>AK</td>\n",
       "      <td>USA</td>\n",
       "      <td>63.766766</td>\n",
       "      <td>-171.732824</td>\n",
       "    </tr>\n",
       "    <tr>\n",
       "      <th>3362</th>\n",
       "      <td>AKA</td>\n",
       "      <td>Atka</td>\n",
       "      <td>Atka</td>\n",
       "      <td>AK</td>\n",
       "      <td>USA</td>\n",
       "      <td>52.220348</td>\n",
       "      <td>-174.206350</td>\n",
       "    </tr>\n",
       "    <tr>\n",
       "      <th>3363</th>\n",
       "      <td>ADK</td>\n",
       "      <td>Adak</td>\n",
       "      <td>Adak</td>\n",
       "      <td>AK</td>\n",
       "      <td>USA</td>\n",
       "      <td>51.877964</td>\n",
       "      <td>-176.646031</td>\n",
       "    </tr>\n",
       "  </tbody>\n",
       "</table>\n",
       "<p>3364 rows × 7 columns</p>\n",
       "</div>"
      ],
      "text/plain": [
       "     iata                                   name              city state  \\\n",
       "0     X67     Christiansted Harbor Seaplane Base     Christiansted    VI   \n",
       "1     STX                       Henry E. Rohlsen     Christiansted    VI   \n",
       "2     X96          Cruz Bay Harbor Seaplane Base          Cruz Bay    VI   \n",
       "3     X66  Charlotte Amalie Harbor Seaplane Base  Charlotte Amalie    VI   \n",
       "4     STT                          Cyril E. King  Charlotte Amalie    VI   \n",
       "...   ...                                    ...               ...   ...   \n",
       "3359  SVA                               Savoonga          Savoonga    AK   \n",
       "3360  PPG                Pago Pago International         Pago Pago   NaN   \n",
       "3361  GAM                                Gambell           Gambell    AK   \n",
       "3362  AKA                                   Atka              Atka    AK   \n",
       "3363  ADK                                   Adak              Adak    AK   \n",
       "\n",
       "     country   latitude   longitude  \n",
       "0        USA  17.747195  -64.704864  \n",
       "1        USA  17.701889  -64.798556  \n",
       "2        USA  18.336898  -64.799583  \n",
       "3        USA  18.338567  -64.940701  \n",
       "4        USA  18.337306  -64.973361  \n",
       "...      ...        ...         ...  \n",
       "3359     USA  63.686394 -170.492636  \n",
       "3360     USA  14.331023 -170.710526  \n",
       "3361     USA  63.766766 -171.732824  \n",
       "3362     USA  52.220348 -174.206350  \n",
       "3363     USA  51.877964 -176.646031  \n",
       "\n",
       "[3364 rows x 7 columns]"
      ]
     },
     "execution_count": 14,
     "metadata": {},
     "output_type": "execute_result"
    }
   ],
   "source": [
    "df_airports = pd.read_csv(\"airports_unclean.csv\")\n",
    "df_airports"
   ]
  },
  {
   "cell_type": "markdown",
   "metadata": {},
   "source": [
    "7.) The goal is to find the airport with the lowest latitude in Wisconsin. However, the dataset in airports_unclean.csv is unclean, which has generated some questions on the data gathering processes.\n",
    "\n",
    "For most rows in this dataset the state column is a two-letter upper case abbreviation of the state name (e.g., CO for Colorado).\n",
    "\n",
    "This is true for the vast majority of airports in the dataset. However, it is not true for some airports. The state column has been corrupted in two ways:\n",
    "\n",
    "The state abbreviation could be corrupted. This happens especially in the state of Wisconsin (e.g., in one case \"wisconsin\" got written instead of \"WI\").\n",
    "The state value could be missing.\n",
    "Additionally, some of the names and cities are missing too.\n",
    "\n",
    "Ignore the airports with missing state values. What is the latitude of the airport with the lowest latitude in Wisconsin? \n",
    "\n",
    "Hint 1: all variations on the spelling of \"Wisconsin\" start with \"w\" and \"i\" but may have different case.\n",
    "\n",
    "Hint 2: To check if a string starts with variants of \"wi\" i.e. \"wi/WI/Wi/wI\", one can simply convert it to lowercase using a method like string .lower() and compare the first two characters to \"wi\".\n",
    "\n",
    "NOTE: Report your result rounded to 2 places after the decimal."
   ]
  },
  {
   "cell_type": "code",
   "execution_count": 15,
   "metadata": {},
   "outputs": [
    {
     "name": "stderr",
     "output_type": "stream",
     "text": [
      "C:\\Users\\phill\\AppData\\Local\\Temp\\ipykernel_42144\\1351255004.py:2: SettingWithCopyWarning: \n",
      "A value is trying to be set on a copy of a slice from a DataFrame.\n",
      "Try using .loc[row_indexer,col_indexer] = value instead\n",
      "\n",
      "See the caveats in the documentation: https://pandas.pydata.org/pandas-docs/stable/user_guide/indexing.html#returning-a-view-versus-a-copy\n",
      "  clean_df_airports['state'] = clean_df_airports['state'].astype(str).str.lower()\n"
     ]
    },
    {
     "data": {
      "text/plain": [
       "42.6"
      ]
     },
     "execution_count": 15,
     "metadata": {},
     "output_type": "execute_result"
    }
   ],
   "source": [
    "clean_df_airports = df_airports.dropna(subset=['state'])\n",
    "clean_df_airports['state'] = clean_df_airports['state'].astype(str).str.lower()\n",
    "wisc_airports = clean_df_airports[clean_df_airports['state'].str.startswith('wi')]\n",
    "lowest_lat = wisc_airports['latitude'].min()\n",
    "round(lowest_lat, 2)"
   ]
  },
  {
   "cell_type": "markdown",
   "metadata": {},
   "source": [
    "---\n",
    "**Problem 8.**"
   ]
  },
  {
   "cell_type": "code",
   "execution_count": 16,
   "metadata": {},
   "outputs": [
    {
     "data": {
      "text/html": [
       "<div>\n",
       "<style scoped>\n",
       "    .dataframe tbody tr th:only-of-type {\n",
       "        vertical-align: middle;\n",
       "    }\n",
       "\n",
       "    .dataframe tbody tr th {\n",
       "        vertical-align: top;\n",
       "    }\n",
       "\n",
       "    .dataframe thead th {\n",
       "        text-align: right;\n",
       "    }\n",
       "</style>\n",
       "<table border=\"1\" class=\"dataframe\">\n",
       "  <thead>\n",
       "    <tr style=\"text-align: right;\">\n",
       "      <th></th>\n",
       "      <th>date</th>\n",
       "      <th>delay</th>\n",
       "      <th>destination</th>\n",
       "      <th>distance</th>\n",
       "      <th>Distance</th>\n",
       "      <th>origin</th>\n",
       "    </tr>\n",
       "  </thead>\n",
       "  <tbody>\n",
       "    <tr>\n",
       "      <th>0</th>\n",
       "      <td>2/3/2001 20:50</td>\n",
       "      <td>-2</td>\n",
       "      <td>RDU</td>\n",
       "      <td>443.0</td>\n",
       "      <td>NaN</td>\n",
       "      <td>BNA</td>\n",
       "    </tr>\n",
       "    <tr>\n",
       "      <th>1</th>\n",
       "      <td>2/7/2001 21:45</td>\n",
       "      <td>-1</td>\n",
       "      <td>LAS</td>\n",
       "      <td>NaN</td>\n",
       "      <td>223.0</td>\n",
       "      <td>BUR</td>\n",
       "    </tr>\n",
       "    <tr>\n",
       "      <th>2</th>\n",
       "      <td>2/10/2001 12:10</td>\n",
       "      <td>-6</td>\n",
       "      <td>LAS</td>\n",
       "      <td>NaN</td>\n",
       "      <td>1235.0</td>\n",
       "      <td>HOU</td>\n",
       "    </tr>\n",
       "    <tr>\n",
       "      <th>3</th>\n",
       "      <td>1/25/2001 11:50</td>\n",
       "      <td>8</td>\n",
       "      <td>MSY</td>\n",
       "      <td>NaN</td>\n",
       "      <td>487.0</td>\n",
       "      <td>TPA</td>\n",
       "    </tr>\n",
       "    <tr>\n",
       "      <th>4</th>\n",
       "      <td>2/1/2001 08:00</td>\n",
       "      <td>-8</td>\n",
       "      <td>LAX</td>\n",
       "      <td>NaN</td>\n",
       "      <td>337.0</td>\n",
       "      <td>OAK</td>\n",
       "    </tr>\n",
       "    <tr>\n",
       "      <th>...</th>\n",
       "      <td>...</td>\n",
       "      <td>...</td>\n",
       "      <td>...</td>\n",
       "      <td>...</td>\n",
       "      <td>...</td>\n",
       "      <td>...</td>\n",
       "    </tr>\n",
       "    <tr>\n",
       "      <th>9995</th>\n",
       "      <td>1/12/2001 06:30</td>\n",
       "      <td>-7</td>\n",
       "      <td>HOU</td>\n",
       "      <td>NaN</td>\n",
       "      <td>148.0</td>\n",
       "      <td>AUS</td>\n",
       "    </tr>\n",
       "    <tr>\n",
       "      <th>9996</th>\n",
       "      <td>2/17/2001 14:35</td>\n",
       "      <td>-6</td>\n",
       "      <td>STL</td>\n",
       "      <td>NaN</td>\n",
       "      <td>237.0</td>\n",
       "      <td>MCI</td>\n",
       "    </tr>\n",
       "    <tr>\n",
       "      <th>9997</th>\n",
       "      <td>2/26/2001 22:29</td>\n",
       "      <td>7</td>\n",
       "      <td>FLL</td>\n",
       "      <td>NaN</td>\n",
       "      <td>197.0</td>\n",
       "      <td>TPA</td>\n",
       "    </tr>\n",
       "    <tr>\n",
       "      <th>9998</th>\n",
       "      <td>1/30/2001 21:30</td>\n",
       "      <td>-5</td>\n",
       "      <td>SFO</td>\n",
       "      <td>447.0</td>\n",
       "      <td>NaN</td>\n",
       "      <td>SAN</td>\n",
       "    </tr>\n",
       "    <tr>\n",
       "      <th>9999</th>\n",
       "      <td>2/19/2001 20:14</td>\n",
       "      <td>21</td>\n",
       "      <td>SEA</td>\n",
       "      <td>697.0</td>\n",
       "      <td>NaN</td>\n",
       "      <td>SJC</td>\n",
       "    </tr>\n",
       "  </tbody>\n",
       "</table>\n",
       "<p>10000 rows × 6 columns</p>\n",
       "</div>"
      ],
      "text/plain": [
       "                 date  delay destination  distance  Distance origin\n",
       "0      2/3/2001 20:50     -2         RDU     443.0       NaN    BNA\n",
       "1      2/7/2001 21:45     -1         LAS       NaN     223.0    BUR\n",
       "2     2/10/2001 12:10     -6         LAS       NaN    1235.0    HOU\n",
       "3     1/25/2001 11:50      8         MSY       NaN     487.0    TPA\n",
       "4      2/1/2001 08:00     -8         LAX       NaN     337.0    OAK\n",
       "...               ...    ...         ...       ...       ...    ...\n",
       "9995  1/12/2001 06:30     -7         HOU       NaN     148.0    AUS\n",
       "9996  2/17/2001 14:35     -6         STL       NaN     237.0    MCI\n",
       "9997  2/26/2001 22:29      7         FLL       NaN     197.0    TPA\n",
       "9998  1/30/2001 21:30     -5         SFO     447.0       NaN    SAN\n",
       "9999  2/19/2001 20:14     21         SEA     697.0       NaN    SJC\n",
       "\n",
       "[10000 rows x 6 columns]"
      ]
     },
     "execution_count": 16,
     "metadata": {},
     "output_type": "execute_result"
    }
   ],
   "source": [
    "df_flights = pd.read_csv(\"flights_unclean.csv\")\n",
    "df_flights"
   ]
  },
  {
   "cell_type": "markdown",
   "metadata": {},
   "source": [
    "8.) A dataset \"flights_unclean.csv\" contains information about flight travel. However, airports have reported distance information with one of two names – \"distance\" or \"Distance\", but not both. What is the mean distance traveled by all flights?\n",
    "\n",
    "Hint: fillna() \n",
    "\n",
    "NOTE: Report your result rounded to 2 places after the decimal."
   ]
  },
  {
   "cell_type": "code",
   "execution_count": 17,
   "metadata": {},
   "outputs": [
    {
     "data": {
      "text/plain": [
       "501.34"
      ]
     },
     "execution_count": 17,
     "metadata": {},
     "output_type": "execute_result"
    }
   ],
   "source": [
    "filled_df_flights = df_flights['distance'].fillna(df_flights['Distance'])\n",
    "round(filled_df_flights.mean(), 2)"
   ]
  },
  {
   "cell_type": "code",
   "execution_count": 18,
   "metadata": {},
   "outputs": [
    {
     "name": "stdout",
     "output_type": "stream",
     "text": [
      "distance    3504\n",
      "Distance    6496\n",
      "dtype: int64\n",
      "Flights with values in both columns: 0\n",
      "Flights with no distance value: 0\n"
     ]
    }
   ],
   "source": [
    "print(df_flights[['distance', 'Distance']].count())\n",
    "\n",
    "both_columns = df_flights[df_flights['distance'].notna() & df_flights['Distance'].notna()]\n",
    "print(f\"Flights with values in both columns: {len(both_columns)}\")\n",
    "\n",
    "no_distance = df_flights[df_flights['distance'].isna() & df_flights['Distance'].isna()]\n",
    "print(f\"Flights with no distance value: {len(no_distance)}\")"
   ]
  },
  {
   "cell_type": "markdown",
   "metadata": {},
   "source": [
    "---"
   ]
  }
 ],
 "metadata": {
  "kernelspec": {
   "display_name": "Python 3",
   "language": "python",
   "name": "python3"
  },
  "language_info": {
   "codemirror_mode": {
    "name": "ipython",
    "version": 3
   },
   "file_extension": ".py",
   "mimetype": "text/x-python",
   "name": "python",
   "nbconvert_exporter": "python",
   "pygments_lexer": "ipython3",
   "version": "3.10.11"
  }
 },
 "nbformat": 4,
 "nbformat_minor": 4
}
