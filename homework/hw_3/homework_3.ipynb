{
 "cells": [
  {
   "cell_type": "markdown",
   "metadata": {},
   "source": [
    "# Homework 3\n",
    "## ECE204 Data Science & Engineering"
   ]
  },
  {
   "cell_type": "markdown",
   "metadata": {},
   "source": [
    "---\n",
    "## Question 1\n",
    "> A number N is _divisible_ by P if P divides N evenly. For example, 15 is divisible by 1, 3, 5, and 15. The numbers [1,3,5,15] are called the \"divisors\" of 15. Your task is to create a function that returns the sum of all the divisors of a number. For example, if you call the function \"F\", you should find that F(15) returns 24.\n",
    "> We can figure out if N is divisible by P by using Python's \"modulo\" function. The syntax for this is:\n",
    "> ```python\n",
    "> N % P == 0    # this returns True if P divides N\n",
    ">```\n",
    "> <br>For more information about the modulo (%) function in Python, see [this link](https://www.pythoncentral.io/using-python-to-check-for-odd-or-even-numbers/).\n",
    ">\n",
    "> Write the function \"F\" and test it to make sure that `F(15) == 24`. Call the function with the argument given to you in Canvas."
   ]
  },
  {
   "cell_type": "code",
   "execution_count": 1,
   "metadata": {},
   "outputs": [
    {
     "data": {
      "text/plain": [
       "22328"
      ]
     },
     "execution_count": 1,
     "metadata": {},
     "output_type": "execute_result"
    }
   ],
   "source": [
    "def F(n):\n",
    "    list_sum = []\n",
    "    for i in range(1, n+1):\n",
    "        if n % i == 0:\n",
    "            list_sum.append(i)\n",
    "    sum_div = sum(list_sum)\n",
    "    return sum_div\n",
    "\n",
    "F = F(16743)\n",
    "F"
   ]
  },
  {
   "cell_type": "markdown",
   "metadata": {},
   "source": [
    "---\n",
    "## Question 2\n",
    "> List comprehensions we saw in class looked like this:\n",
    "> ```python\n",
    "> [ (do this) for (item in collection) ]\n",
    "> ```\n",
    "> <br>But what if we only want to select the items that satisfy an additional condition as well? We can use the syntax:\n",
    "> ```python\n",
    "> [ (do this) for (item in collection) if (true/false condition) ]\n",
    "> ```\n",
    "> <br>**Use this technique to find the sum of numbers divisible by 7 or 11 and report this result. Be sure to use the range of vlaues (inclusive) given to you in Canvas**. You may want to start with a smaller number first to make sure your list comprehension is doing the right thing!\n",
    ">\n",
    "> `NOTE:` If a number is divisible by both 7 and 11, add it only **once**.\n",
    ">\n",
    "> Hint: The answer for numbers 1 to 30 would be: 7 + 11 + 14 + 21 + 22 + 28 = 103"
   ]
  },
  {
   "cell_type": "code",
   "execution_count": 2,
   "metadata": {},
   "outputs": [
    {
     "data": {
      "text/plain": [
       "11295002"
      ]
     },
     "execution_count": 2,
     "metadata": {},
     "output_type": "execute_result"
    }
   ],
   "source": [
    "sum(set([i for i in range(154, 10119) if ((i % 7 == 0) or (i % 11 == 0))]))"
   ]
  },
  {
   "cell_type": "markdown",
   "metadata": {},
   "source": [
    "---\n",
    "## Question 3\n",
    "> The square of the sum of the first ten natural numbers is\n",
    ">\n",
    "> $$(1 + 2 + ... + 10)^2 = 55^2 = 3025$$\n",
    "> \n",
    ">   The sum of the squares of the first ten natural numbers is\n",
    ">\n",
    "> $$1^2 + 2^2 + ... + 10^2 = 385$$\n",
    ">\n",
    "> Hence the difference between the square of the sum of first ten natural numbers and the sum of the squares is 3025 − 385 = 2640.\n",
    ">\n",
    "> **Find the difference between the square of the sum of the first X natural numbers and the sum of the squares. Note that X is the value given to you in Canvas**\n"
   ]
  },
  {
   "cell_type": "code",
   "execution_count": 3,
   "metadata": {},
   "outputs": [
    {
     "data": {
      "text/plain": [
       "130539500"
      ]
     },
     "execution_count": 3,
     "metadata": {},
     "output_type": "execute_result"
    }
   ],
   "source": [
    "diff = sum([i for i in range(1, 151+1)]) ** 2 - sum([i**2 for i in range(1, 151+1)])\n",
    "diff"
   ]
  },
  {
   "cell_type": "markdown",
   "metadata": {},
   "source": [
    "---\n",
    "## Question 4\n",
    "> Out of all the points in the list of `candidates`, find the one that is the furthest (in Euclidean distance) from the `given` point? Note: the `given` point is provided for you in Canvas. \n",
    "> What is this furthest / highest distance? **Report this furthest distance rounded to two numbers after the decimal.**\n",
    ">\n",
    "> `Hint: np.linalg.norm( )`"
   ]
  },
  {
   "cell_type": "code",
   "execution_count": 4,
   "metadata": {},
   "outputs": [],
   "source": [
    "candidates = [\n",
    "    (0.0, 1.0),\n",
    "    (0.32, 0.95),\n",
    "    (0.61, 0.79),\n",
    "    (0.84, 0.55),\n",
    "    (0.97, 0.25),\n",
    "    (1.0, -0.08),\n",
    "    (0.92, -0.4),\n",
    "    (0.74, -0.68),\n",
    "    (0.48, -0.88),\n",
    "    (0.16, -0.99),\n",
    "    (-0.16, -0.99),\n",
    "    (-0.48, -0.88),\n",
    "    (-0.74, -0.68),\n",
    "    (-0.92, -0.4),\n",
    "    (-1.0, -0.08),\n",
    "    (-0.97, 0.25),\n",
    "    (-0.84, 0.55),\n",
    "    (-0.61, 0.79),\n",
    "    (-0.32, 0.95),\n",
    "    (-0.0, 1.0)\n",
    "]"
   ]
  },
  {
   "cell_type": "code",
   "execution_count": 5,
   "metadata": {},
   "outputs": [
    {
     "data": {
      "text/plain": [
       "4.16"
      ]
     },
     "execution_count": 5,
     "metadata": {},
     "output_type": "execute_result"
    }
   ],
   "source": [
    "import numpy as np \n",
    "\n",
    "given = [1, 3]\n",
    "\n",
    "def Euclidean_distance(candidates):\n",
    "    return max([np.linalg.norm(np.array(given) - np.array(i)) for i in candidates])\n",
    "\n",
    "round(Euclidean_distance(candidates), 2)"
   ]
  },
  {
   "cell_type": "markdown",
   "metadata": {},
   "source": [
    "---\n",
    "## Question 5\n",
    "> `celsius.csv` contains a list of temperatures in Celsius. **What is the mean Fahrenheit temperature? (Report your answer rounded to two numbers after the decimal)**\n",
    ">\n",
    "> The Celsuis to Fahrenheit conversion is given by `fahrenheit = 1.8 * celsius + 32`."
   ]
  },
  {
   "cell_type": "code",
   "execution_count": 6,
   "metadata": {},
   "outputs": [
    {
     "data": {
      "text/html": [
       "<div>\n",
       "<style scoped>\n",
       "    .dataframe tbody tr th:only-of-type {\n",
       "        vertical-align: middle;\n",
       "    }\n",
       "\n",
       "    .dataframe tbody tr th {\n",
       "        vertical-align: top;\n",
       "    }\n",
       "\n",
       "    .dataframe thead th {\n",
       "        text-align: right;\n",
       "    }\n",
       "</style>\n",
       "<table border=\"1\" class=\"dataframe\">\n",
       "  <thead>\n",
       "    <tr style=\"text-align: right;\">\n",
       "      <th></th>\n",
       "      <th>temps</th>\n",
       "    </tr>\n",
       "  </thead>\n",
       "  <tbody>\n",
       "    <tr>\n",
       "      <th>0</th>\n",
       "      <td>54.88</td>\n",
       "    </tr>\n",
       "    <tr>\n",
       "      <th>1</th>\n",
       "      <td>71.52</td>\n",
       "    </tr>\n",
       "    <tr>\n",
       "      <th>2</th>\n",
       "      <td>60.28</td>\n",
       "    </tr>\n",
       "    <tr>\n",
       "      <th>3</th>\n",
       "      <td>54.49</td>\n",
       "    </tr>\n",
       "    <tr>\n",
       "      <th>4</th>\n",
       "      <td>42.37</td>\n",
       "    </tr>\n",
       "  </tbody>\n",
       "</table>\n",
       "</div>"
      ],
      "text/plain": [
       "   temps\n",
       "0  54.88\n",
       "1  71.52\n",
       "2  60.28\n",
       "3  54.49\n",
       "4  42.37"
      ]
     },
     "execution_count": 6,
     "metadata": {},
     "output_type": "execute_result"
    }
   ],
   "source": [
    "import pandas as pd \n",
    "\n",
    "s = pd.read_csv(\"celsius.csv\")\n",
    "s.head()"
   ]
  },
  {
   "cell_type": "code",
   "execution_count": 7,
   "metadata": {},
   "outputs": [
    {
     "data": {
      "text/plain": [
       "121.36"
      ]
     },
     "execution_count": 7,
     "metadata": {},
     "output_type": "execute_result"
    }
   ],
   "source": [
    "fahrenheit = [1.8 * float(i) + 32 for i in s['temps']]\n",
    "mean_f = sum(fahrenheit) / len(fahrenheit)\n",
    "round(mean_f, 2)"
   ]
  },
  {
   "cell_type": "markdown",
   "metadata": {},
   "source": [
    "---\n",
    "## Question 6\n",
    "> **What is the fastest method to convert from Celsius to Fahrenheit?**\n",
    ">\n",
    "> * a list comphrension used to make a list of all the converted temperatures\n",
    "> * using `Series.apply` to convert each element of the Series\n",
    "> * directly evaluating (`1.8*T + 32`), where `T` is the Series of temperatures\n",
    ">\n",
    "> `NOTE:` Use `%timeit` to do your timing analysis. Use the `celsius.csv` data file from the previous problem."
   ]
  },
  {
   "cell_type": "code",
   "execution_count": 8,
   "metadata": {},
   "outputs": [
    {
     "name": "stdout",
     "output_type": "stream",
     "text": [
      "1.08 ms ± 32.6 μs per loop (mean ± std. dev. of 7 runs, 500 loops each)\n",
      "1.66 ms ± 42.8 μs per loop (mean ± std. dev. of 7 runs, 500 loops each)\n",
      "76 μs ± 13.9 μs per loop (mean ± std. dev. of 7 runs, 500 loops each)\n"
     ]
    }
   ],
   "source": [
    "def list_comp(T):\n",
    "    return [1.8 * float(i) + 32 for i in T]\n",
    "\n",
    "def series_apply(T):\n",
    "    return T.apply(lambda x: 1.8 * x + 32)\n",
    "\n",
    "def direct(T):\n",
    "    return 1.8 * T + 32\n",
    "\n",
    "%timeit -n 500 list_comp(s['temps'])\n",
    "%timeit -n 500 series_apply(s['temps'])\n",
    "%timeit -n 500 direct(s['temps'])"
   ]
  },
  {
   "cell_type": "markdown",
   "metadata": {},
   "source": [
    "---\n",
    "## Question 7\n",
    "> **What is one of the centers in `features.csv` when using Scikit-Learn's KMeans?** They are listed as `[feature0, feature1]`, and `KMeans` should be used as `KMeans(n_clusters=4, random_state=42)`. These numbers are rounded -- pick the closest one in the list.\n",
    ">\n",
    "> Hint: read the documentation at https://scikit-learn.org/stable/modules/generated/sklearn.cluster.KMeans.html\n",
    ">\n",
    "> * [170  67]\n",
    "> * [170  88]\n",
    "> * [201  88]\n",
    "> * [201  67]\n",
    "> * [-131  748]\n",
    "> * [-131  728]\n",
    "> * [-161  728]\n",
    "> * [-161  748]"
   ]
  },
  {
   "cell_type": "code",
   "execution_count": 9,
   "metadata": {},
   "outputs": [
    {
     "data": {
      "text/html": [
       "<div>\n",
       "<style scoped>\n",
       "    .dataframe tbody tr th:only-of-type {\n",
       "        vertical-align: middle;\n",
       "    }\n",
       "\n",
       "    .dataframe tbody tr th {\n",
       "        vertical-align: top;\n",
       "    }\n",
       "\n",
       "    .dataframe thead th {\n",
       "        text-align: right;\n",
       "    }\n",
       "</style>\n",
       "<table border=\"1\" class=\"dataframe\">\n",
       "  <thead>\n",
       "    <tr style=\"text-align: right;\">\n",
       "      <th></th>\n",
       "      <th>feature0</th>\n",
       "      <th>feature1</th>\n",
       "    </tr>\n",
       "  </thead>\n",
       "  <tbody>\n",
       "    <tr>\n",
       "      <th>0</th>\n",
       "      <td>124.30</td>\n",
       "      <td>172.35</td>\n",
       "    </tr>\n",
       "    <tr>\n",
       "      <th>1</th>\n",
       "      <td>-135.85</td>\n",
       "      <td>755.16</td>\n",
       "    </tr>\n",
       "    <tr>\n",
       "      <th>2</th>\n",
       "      <td>109.56</td>\n",
       "      <td>483.43</td>\n",
       "    </tr>\n",
       "    <tr>\n",
       "      <th>3</th>\n",
       "      <td>-109.52</td>\n",
       "      <td>782.18</td>\n",
       "    </tr>\n",
       "    <tr>\n",
       "      <th>4</th>\n",
       "      <td>153.27</td>\n",
       "      <td>156.09</td>\n",
       "    </tr>\n",
       "  </tbody>\n",
       "</table>\n",
       "</div>"
      ],
      "text/plain": [
       "   feature0  feature1\n",
       "0    124.30    172.35\n",
       "1   -135.85    755.16\n",
       "2    109.56    483.43\n",
       "3   -109.52    782.18\n",
       "4    153.27    156.09"
      ]
     },
     "execution_count": 9,
     "metadata": {},
     "output_type": "execute_result"
    }
   ],
   "source": [
    "df = pd.read_csv(\"features.csv\")\n",
    "df.head()"
   ]
  },
  {
   "cell_type": "code",
   "execution_count": 10,
   "metadata": {},
   "outputs": [
    {
     "data": {
      "text/plain": [
       "array([[ 201.,   88.],\n",
       "       [-133.,  778.],\n",
       "       [-157.,  286.],\n",
       "       [  96.,  438.]])"
      ]
     },
     "execution_count": 10,
     "metadata": {},
     "output_type": "execute_result"
    },
    {
     "data": {
      "image/png": "[encoded data removed]",
      "text/plain": [
       "<Figure size 640x480 with 2 Axes>"
      ]
     },
     "metadata": {},
     "output_type": "display_data"
    }
   ],
   "source": [
    "from sklearn.cluster import KMeans\n",
    "\n",
    "km = KMeans(n_clusters=4, random_state=42)\n",
    "fit_predict = km.fit_predict(df)\n",
    "\n",
    "centers = km.cluster_centers_\n",
    "df.plot.scatter(x='feature0', y='feature1', c=fit_predict, cmap='viridis')\n",
    "\n",
    "np.round(centers)"
   ]
  },
  {
   "cell_type": "markdown",
   "metadata": {},
   "source": [
    "---\n",
    "## Question 8\n",
    "> **Using the same setup as before, which cluster center is the point `[-100, 850]` nearest to?** <br>\n",
    ">\n",
    "> `NOTE:` **choose a valid cluster center**\n",
    ">\n",
    "> * [-157,  286]\n",
    "> * [-91,  743]\n",
    "> * [ 201,   87]\n",
    "> * [  -133,  778]"
   ]
  },
  {
   "cell_type": "code",
   "execution_count": 11,
   "metadata": {},
   "outputs": [
    {
     "data": {
      "text/plain": [
       "[79.20227269466452, [-133, 778]]"
      ]
     },
     "execution_count": 11,
     "metadata": {},
     "output_type": "execute_result"
    }
   ],
   "source": [
    "given = [-100, 850]\n",
    "\n",
    "cluster_centers =[[-157, 286], [-91, 743], [201, 87], [-133,  778]]\n",
    "\n",
    "def Euclidean_dis_near(cluster_centers):\n",
    "    return min([[np.linalg.norm(np.array(given) - np.array(i)), i] for i in cluster_centers])\n",
    "\n",
    "Euclidean_dis_near(cluster_centers)"
   ]
  },
  {
   "cell_type": "markdown",
   "metadata": {},
   "source": [
    "---"
   ]
  }
 ],
 "metadata": {
  "kernelspec": {
   "display_name": "Python 3",
   "language": "python",
   "name": "python3"
  },
  "language_info": {
   "codemirror_mode": {
    "name": "ipython",
    "version": 3
   },
   "file_extension": ".py",
   "mimetype": "text/x-python",
   "name": "python",
   "nbconvert_exporter": "python",
   "pygments_lexer": "ipython3",
   "version": "3.10.11"
  }
 },
 "nbformat": 4,
 "nbformat_minor": 4
}
