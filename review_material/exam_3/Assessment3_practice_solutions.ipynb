{
 "cells": [
  {
   "cell_type": "markdown",
   "metadata": {},
   "source": [
    "# Midterm 4 Review\n",
    "### ECE204 Data Science & Engineering\n",
    "\n",
    "### 1) Classification"
   ]
  },
  {
   "cell_type": "markdown",
   "metadata": {},
   "source": [
    "#### Short-answer questions\n",
    "* What type of label does a classification problem predict?\n",
    "* Once a decision tree classifier has been trained, how does it generate predictions for unlabeled data?\n",
    "* How does a nearest neighbor classifier generate a prediction for unlabeled data?"
   ]
  },
  {
   "cell_type": "markdown",
   "metadata": {},
   "source": [
    "#### Coding questions"
   ]
  },
  {
   "cell_type": "markdown",
   "metadata": {},
   "source": [
    "**Problem 1.**\n",
    "Train a decision tree classifier on the `airports.csv` dataset with `random_state=42` and `max_depth=4`. Predict the state from the latitude and longitude. **Which is the more important feature: latitude or longitude?**\n",
    "\n",
    "*Hint:* https://scikit-learn.org/stable/modules/generated/sklearn.tree.DecisionTreeClassifier.html"
   ]
  },
  {
   "cell_type": "code",
   "execution_count": 1,
   "metadata": {
    "scrolled": true
   },
   "outputs": [
    {
     "data": {
      "text/html": [
       "<div>\n",
       "<style scoped>\n",
       "    .dataframe tbody tr th:only-of-type {\n",
       "        vertical-align: middle;\n",
       "    }\n",
       "\n",
       "    .dataframe tbody tr th {\n",
       "        vertical-align: top;\n",
       "    }\n",
       "\n",
       "    .dataframe thead th {\n",
       "        text-align: right;\n",
       "    }\n",
       "</style>\n",
       "<table border=\"1\" class=\"dataframe\">\n",
       "  <thead>\n",
       "    <tr style=\"text-align: right;\">\n",
       "      <th></th>\n",
       "      <th>iata</th>\n",
       "      <th>name</th>\n",
       "      <th>city</th>\n",
       "      <th>state</th>\n",
       "      <th>country</th>\n",
       "      <th>latitude</th>\n",
       "      <th>longitude</th>\n",
       "    </tr>\n",
       "  </thead>\n",
       "  <tbody>\n",
       "    <tr>\n",
       "      <th>0</th>\n",
       "      <td>00M</td>\n",
       "      <td>Thigpen</td>\n",
       "      <td>Bay Springs</td>\n",
       "      <td>MS</td>\n",
       "      <td>USA</td>\n",
       "      <td>31.953765</td>\n",
       "      <td>-89.234505</td>\n",
       "    </tr>\n",
       "    <tr>\n",
       "      <th>1</th>\n",
       "      <td>00R</td>\n",
       "      <td>Livingston Municipal</td>\n",
       "      <td>Livingston</td>\n",
       "      <td>TX</td>\n",
       "      <td>USA</td>\n",
       "      <td>30.685861</td>\n",
       "      <td>-95.017928</td>\n",
       "    </tr>\n",
       "    <tr>\n",
       "      <th>2</th>\n",
       "      <td>00V</td>\n",
       "      <td>Meadow Lake</td>\n",
       "      <td>Colorado Springs</td>\n",
       "      <td>CO</td>\n",
       "      <td>USA</td>\n",
       "      <td>38.945749</td>\n",
       "      <td>-104.569893</td>\n",
       "    </tr>\n",
       "    <tr>\n",
       "      <th>3</th>\n",
       "      <td>01G</td>\n",
       "      <td>Perry-Warsaw</td>\n",
       "      <td>Perry</td>\n",
       "      <td>NY</td>\n",
       "      <td>USA</td>\n",
       "      <td>42.741347</td>\n",
       "      <td>-78.052081</td>\n",
       "    </tr>\n",
       "    <tr>\n",
       "      <th>4</th>\n",
       "      <td>01J</td>\n",
       "      <td>Hilliard Airpark</td>\n",
       "      <td>Hilliard</td>\n",
       "      <td>FL</td>\n",
       "      <td>USA</td>\n",
       "      <td>30.688012</td>\n",
       "      <td>-81.905944</td>\n",
       "    </tr>\n",
       "  </tbody>\n",
       "</table>\n",
       "</div>"
      ],
      "text/plain": [
       "  iata                  name              city state country   latitude  \\\n",
       "0  00M               Thigpen       Bay Springs    MS     USA  31.953765   \n",
       "1  00R  Livingston Municipal        Livingston    TX     USA  30.685861   \n",
       "2  00V           Meadow Lake  Colorado Springs    CO     USA  38.945749   \n",
       "3  01G          Perry-Warsaw             Perry    NY     USA  42.741347   \n",
       "4  01J      Hilliard Airpark          Hilliard    FL     USA  30.688012   \n",
       "\n",
       "    longitude  \n",
       "0  -89.234505  \n",
       "1  -95.017928  \n",
       "2 -104.569893  \n",
       "3  -78.052081  \n",
       "4  -81.905944  "
      ]
     },
     "execution_count": 1,
     "metadata": {},
     "output_type": "execute_result"
    }
   ],
   "source": [
    "import pandas as pd\n",
    "df = pd.read_csv(\"airports.csv\")\n",
    "df.head()"
   ]
  },
  {
   "cell_type": "code",
   "execution_count": 2,
   "metadata": {},
   "outputs": [],
   "source": [
    "from sklearn.model_selection import train_test_split\n",
    "from sklearn.tree import DecisionTreeClassifier\n",
    "\n",
    "X = df[[\"latitude\", \"longitude\"]]\n",
    "y = df[\"state\"]\n",
    "X_train, X_test, y_train, y_test = train_test_split(X, y, test_size=0.1)"
   ]
  },
  {
   "cell_type": "code",
   "execution_count": 3,
   "metadata": {},
   "outputs": [
    {
     "data": {
      "text/plain": [
       "array([0.62812432, 0.37187568])"
      ]
     },
     "execution_count": 3,
     "metadata": {},
     "output_type": "execute_result"
    }
   ],
   "source": [
    "model = DecisionTreeClassifier(max_depth=4)\n",
    "model.fit(X_train, y_train)\n",
    "model.feature_importances_"
   ]
  },
  {
   "cell_type": "code",
   "execution_count": 39,
   "metadata": {},
   "outputs": [
    {
     "name": "stdout",
     "output_type": "stream",
     "text": [
      "[[0.59514113 0.40485887]\n",
      " [0.63087676 0.36912324]\n",
      " [0.59907976 0.40092024]\n",
      " [0.62787243 0.37212757]\n",
      " [0.58875136 0.41124864]\n",
      " [0.62926408 0.37073592]\n",
      " [0.62175905 0.37824095]\n",
      " [0.58545545 0.41454455]\n",
      " [0.63532449 0.36467551]\n",
      " [0.59943225 0.40056775]]\n",
      "[0.6130399 0.3869601]\n"
     ]
    }
   ],
   "source": [
    "# your code here\n",
    "import numpy as np\n",
    "importances = []\n",
    "for i in range(100):\n",
    "    X_train, X_test, y_train, y_test = train_test_split(X, y, test_size=0.1)\n",
    "    model = DecisionTreeClassifier(max_depth=4)\n",
    "    model.fit(X_train, y_train)\n",
    "    importances.append(model.feature_importances_)\n",
    "importances = np.array(importances)\n",
    "\n",
    "print(importances[:10])\n",
    "print(importances.mean(0))"
   ]
  },
  {
   "cell_type": "markdown",
   "metadata": {},
   "source": [
    "---\n",
    "**Problem 2.** **Using the same datasets and model, what is the accuracy of the model?**"
   ]
  },
  {
   "cell_type": "code",
   "execution_count": 4,
   "metadata": {},
   "outputs": [],
   "source": [
    "# your code here\n"
   ]
  },
  {
   "cell_type": "markdown",
   "metadata": {},
   "source": [
    "The question asks for the \"accuracy of the model.\" This value summarizes the quality of the model. The goal is to predict well on *unseen* data, so it only makes sense to report the accuracy on the **unseen test data** (unless specifically asked about training or validation accuracy)."
   ]
  },
  {
   "cell_type": "code",
   "execution_count": 54,
   "metadata": {},
   "outputs": [
    {
     "name": "stdout",
     "output_type": "stream",
     "text": [
      "0.3117964071856287\n"
     ]
    }
   ],
   "source": [
    "# solution - 1\n",
    "acc_list = []\n",
    "for _ in range(100):\n",
    "    X_train, X_test, y_train, y_test = train_test_split(X, y, test_size=0.1)\n",
    "    model = DecisionTreeClassifier(max_depth=4)\n",
    "    model.fit(X_train, y_train)\n",
    "    acc = model.score(X_test, y_test)\n",
    "    acc_list.append(acc)\n",
    "\n",
    "print(np.mean(acc_list))"
   ]
  },
  {
   "cell_type": "code",
   "execution_count": 42,
   "metadata": {},
   "outputs": [
    {
     "data": {
      "text/plain": [
       "0.33532934131736525"
      ]
     },
     "execution_count": 42,
     "metadata": {},
     "output_type": "execute_result"
    }
   ],
   "source": [
    "# solution - 2\n",
    "from sklearn.metrics import accuracy_score\n",
    "y_pred = model.predict(X_test)\n",
    "accuracy_score(y_pred, y_test)"
   ]
  },
  {
   "cell_type": "code",
   "execution_count": 43,
   "metadata": {},
   "outputs": [
    {
     "data": {
      "text/plain": [
       "0.33532934131736525"
      ]
     },
     "execution_count": 43,
     "metadata": {},
     "output_type": "execute_result"
    }
   ],
   "source": [
    "# solution - 3\n",
    "(y_pred == y_test).sum() / len(y_test)"
   ]
  },
  {
   "cell_type": "markdown",
   "metadata": {},
   "source": [
    "---"
   ]
  },
  {
   "cell_type": "code",
   "execution_count": null,
   "metadata": {},
   "outputs": [],
   "source": []
  },
  {
   "cell_type": "markdown",
   "metadata": {},
   "source": [
    "### 2) Regression"
   ]
  },
  {
   "cell_type": "markdown",
   "metadata": {},
   "source": [
    "#### Short-answer questions\n",
    "* What type of variables do regression problems predict?\n",
    "* What is a residual?\n",
    "* How can you interpret the regression coefficients (the $\\beta_i$ coefficients)"
   ]
  },
  {
   "cell_type": "markdown",
   "metadata": {},
   "source": [
    "#### Coding questions\n",
    "\n",
    "**Problem 1.** \n",
    "Read in the \"housing.csv\" dataset. Predict the price from **all** the other features. **What is the coefficient of determination (R-squared, or $R^2$) value?**\n",
    "\n",
    "Use the provided test and train set when reporting your answer.\n",
    "\n",
    "*Hint:* https://scikit-learn.org/stable/modules/generated/sklearn.linear_model.LinearRegression.html"
   ]
  },
  {
   "cell_type": "code",
   "execution_count": 57,
   "metadata": {},
   "outputs": [
    {
     "data": {
      "text/html": [
       "<div>\n",
       "<style scoped>\n",
       "    .dataframe tbody tr th:only-of-type {\n",
       "        vertical-align: middle;\n",
       "    }\n",
       "\n",
       "    .dataframe tbody tr th {\n",
       "        vertical-align: top;\n",
       "    }\n",
       "\n",
       "    .dataframe thead th {\n",
       "        text-align: right;\n",
       "    }\n",
       "</style>\n",
       "<table border=\"1\" class=\"dataframe\">\n",
       "  <thead>\n",
       "    <tr style=\"text-align: right;\">\n",
       "      <th></th>\n",
       "      <th>bedrooms</th>\n",
       "      <th>bathrooms</th>\n",
       "      <th>sqft_living</th>\n",
       "      <th>sqft_lot</th>\n",
       "      <th>floors</th>\n",
       "      <th>waterfront</th>\n",
       "      <th>condition</th>\n",
       "      <th>grade</th>\n",
       "      <th>sqft_basement</th>\n",
       "      <th>lat</th>\n",
       "      <th>long</th>\n",
       "      <th>price</th>\n",
       "    </tr>\n",
       "  </thead>\n",
       "  <tbody>\n",
       "    <tr>\n",
       "      <th>0</th>\n",
       "      <td>3</td>\n",
       "      <td>1.00</td>\n",
       "      <td>1180</td>\n",
       "      <td>5650</td>\n",
       "      <td>1.0</td>\n",
       "      <td>0</td>\n",
       "      <td>3</td>\n",
       "      <td>7</td>\n",
       "      <td>0</td>\n",
       "      <td>47.5112</td>\n",
       "      <td>-122.257</td>\n",
       "      <td>221900</td>\n",
       "    </tr>\n",
       "    <tr>\n",
       "      <th>1</th>\n",
       "      <td>3</td>\n",
       "      <td>2.25</td>\n",
       "      <td>2570</td>\n",
       "      <td>7242</td>\n",
       "      <td>2.0</td>\n",
       "      <td>0</td>\n",
       "      <td>3</td>\n",
       "      <td>7</td>\n",
       "      <td>400</td>\n",
       "      <td>47.7210</td>\n",
       "      <td>-122.319</td>\n",
       "      <td>538000</td>\n",
       "    </tr>\n",
       "    <tr>\n",
       "      <th>2</th>\n",
       "      <td>2</td>\n",
       "      <td>1.00</td>\n",
       "      <td>770</td>\n",
       "      <td>10000</td>\n",
       "      <td>1.0</td>\n",
       "      <td>0</td>\n",
       "      <td>3</td>\n",
       "      <td>6</td>\n",
       "      <td>0</td>\n",
       "      <td>47.7379</td>\n",
       "      <td>-122.233</td>\n",
       "      <td>180000</td>\n",
       "    </tr>\n",
       "    <tr>\n",
       "      <th>3</th>\n",
       "      <td>4</td>\n",
       "      <td>3.00</td>\n",
       "      <td>1960</td>\n",
       "      <td>5000</td>\n",
       "      <td>1.0</td>\n",
       "      <td>0</td>\n",
       "      <td>5</td>\n",
       "      <td>7</td>\n",
       "      <td>910</td>\n",
       "      <td>47.5208</td>\n",
       "      <td>-122.393</td>\n",
       "      <td>604000</td>\n",
       "    </tr>\n",
       "    <tr>\n",
       "      <th>4</th>\n",
       "      <td>3</td>\n",
       "      <td>2.00</td>\n",
       "      <td>1680</td>\n",
       "      <td>8080</td>\n",
       "      <td>1.0</td>\n",
       "      <td>0</td>\n",
       "      <td>3</td>\n",
       "      <td>8</td>\n",
       "      <td>0</td>\n",
       "      <td>47.6168</td>\n",
       "      <td>-122.045</td>\n",
       "      <td>510000</td>\n",
       "    </tr>\n",
       "  </tbody>\n",
       "</table>\n",
       "</div>"
      ],
      "text/plain": [
       "   bedrooms  bathrooms  sqft_living  sqft_lot  floors  waterfront  condition  \\\n",
       "0         3       1.00         1180      5650     1.0           0          3   \n",
       "1         3       2.25         2570      7242     2.0           0          3   \n",
       "2         2       1.00          770     10000     1.0           0          3   \n",
       "3         4       3.00         1960      5000     1.0           0          5   \n",
       "4         3       2.00         1680      8080     1.0           0          3   \n",
       "\n",
       "   grade  sqft_basement      lat     long   price  \n",
       "0      7              0  47.5112 -122.257  221900  \n",
       "1      7            400  47.7210 -122.319  538000  \n",
       "2      6              0  47.7379 -122.233  180000  \n",
       "3      7            910  47.5208 -122.393  604000  \n",
       "4      8              0  47.6168 -122.045  510000  "
      ]
     },
     "execution_count": 57,
     "metadata": {},
     "output_type": "execute_result"
    }
   ],
   "source": [
    "df = pd.read_csv(\"housing.csv\")\n",
    "df.head()"
   ]
  },
  {
   "cell_type": "code",
   "execution_count": 59,
   "metadata": {},
   "outputs": [],
   "source": [
    "from sklearn.linear_model import LinearRegression\n",
    "X = df[[c for c in df.columns if c != \"price\"]]\n",
    "y = df[\"price\"]\n",
    "\n",
    "X_train, X_test, y_train, y_test = train_test_split(X, y, test_size=0.1)"
   ]
  },
  {
   "cell_type": "code",
   "execution_count": 10,
   "metadata": {},
   "outputs": [],
   "source": [
    "# your code here\n"
   ]
  },
  {
   "cell_type": "markdown",
   "metadata": {},
   "source": [
    "The documentation for `LinearRegression.score()` mentions that it returns the $R^2$ value. Let's use that:"
   ]
  },
  {
   "cell_type": "code",
   "execution_count": 71,
   "metadata": {},
   "outputs": [
    {
     "data": {
      "text/plain": [
       "0.6573557999891935"
      ]
     },
     "execution_count": 71,
     "metadata": {},
     "output_type": "execute_result"
    }
   ],
   "source": [
    "# solution - 1\n",
    "X_train, X_test, y_train, y_test = train_test_split(X, y, test_size=0.1)\n",
    "model = LinearRegression()\n",
    "model.fit(X_train, y_train)\n",
    "model.score(X_test, y_test)"
   ]
  },
  {
   "cell_type": "markdown",
   "metadata": {},
   "source": [
    "This is also available through the `r2_score` in the Scikit-Learn metrics:"
   ]
  },
  {
   "cell_type": "code",
   "execution_count": 62,
   "metadata": {},
   "outputs": [
    {
     "data": {
      "text/plain": [
       "0.6595288439049823"
      ]
     },
     "execution_count": 62,
     "metadata": {},
     "output_type": "execute_result"
    }
   ],
   "source": [
    "# solution - 2\n",
    "from sklearn.metrics import r2_score\n",
    "y_pred = model.predict(X_test)\n",
    "r2_score(y_test, y_pred)"
   ]
  },
  {
   "cell_type": "markdown",
   "metadata": {},
   "source": [
    "Note: `r2_score` is not symmetric. That is, `r2_score(y_test, y_pred) != r2_score(y_pred, y_test)`. `model.score` uses `r2_score(y_test, y_pred)`, which is the **right** way to use `r2_score`."
   ]
  },
  {
   "cell_type": "markdown",
   "metadata": {},
   "source": [
    "---\n",
    "**Problem 2.**\n",
    "Using the same dataset and model, **what's the residual sum of squares (RSS) on the training set?** Compute it in two different ways:\n",
    "* by computing the residuals, squaring them, and summing them up\n",
    "* by using the `mean_squared_error` built-in function (careful! this computes the **mean** of the squared residuals instead of the **sum**)\n",
    "\n",
    "See if you can get the same answer in two different ways!"
   ]
  },
  {
   "cell_type": "code",
   "execution_count": 73,
   "metadata": {},
   "outputs": [],
   "source": [
    "from sklearn.metrics import mean_squared_error"
   ]
  },
  {
   "cell_type": "markdown",
   "metadata": {},
   "source": [
    "This questions asks about the value of the *train* dataset. This is a little unusual; normally, quality is determined from the test set. However, we ask this question because `LinearRegression`'s `fit` minimizes the \"mean squared error\" or \"sum of squared residuals\". That is, the \"sum of squared residuals\" for the train set can not possibly be any lower than reported."
   ]
  },
  {
   "cell_type": "markdown",
   "metadata": {},
   "source": [
    "For $n$ examples, the Scikit-Learn metric `mean_squared_error` calculates\n",
    "\n",
    "$$\\frac{1}{n}\\sum_{i=1}^n (y_i - \\hat{y}_i)^2$$\n",
    "\n",
    "with prediction $\\hat{y}_i$ for example $i$ with ground truth label $y_i$. This could equivalently be called \"squared mean of residuals\". If multiplied by $n$, this is exactly the RSS."
   ]
  },
  {
   "cell_type": "code",
   "execution_count": 75,
   "metadata": {},
   "outputs": [
    {
     "data": {
      "text/plain": [
       "894203104410977.8"
      ]
     },
     "execution_count": 75,
     "metadata": {},
     "output_type": "execute_result"
    }
   ],
   "source": [
    "# solution - 1\n",
    "\n",
    "y_hat = model.predict(X_train)\n",
    "mean_squared_error(y_hat, y_train) * len(y_hat)"
   ]
  },
  {
   "cell_type": "markdown",
   "metadata": {},
   "source": [
    "This can also be directly calculated:"
   ]
  },
  {
   "cell_type": "code",
   "execution_count": 76,
   "metadata": {},
   "outputs": [
    {
     "data": {
      "text/plain": [
       "894203104410977.8"
      ]
     },
     "execution_count": 76,
     "metadata": {},
     "output_type": "execute_result"
    }
   ],
   "source": [
    "# solution - 2\n",
    "errs = (y_hat - y_train)**2\n",
    "errs.sum()"
   ]
  },
  {
   "cell_type": "markdown",
   "metadata": {},
   "source": [
    "---"
   ]
  },
  {
   "cell_type": "markdown",
   "metadata": {},
   "source": [
    "### 3) Model selection"
   ]
  },
  {
   "cell_type": "markdown",
   "metadata": {},
   "source": [
    "**Principle for model selection:** only evaluate model performance on examples it has never seen."
   ]
  },
  {
   "cell_type": "markdown",
   "metadata": {},
   "source": [
    "#### Short answer questions"
   ]
  },
  {
   "cell_type": "markdown",
   "metadata": {},
   "source": [
    "* What are hyper-parameters?\n",
    "* Why shouldn't the same dataset be used to train a model and evaluate performance of that model? (the data used to train a model is the \"train data\", and the data used to evaluate the performance is the \"test data\") \n",
    "* Explain the difference between a **training set**, a **validation set** and a **testing set**.\n",
    "   "
   ]
  },
  {
   "cell_type": "markdown",
   "metadata": {},
   "source": [
    "#### Coding questions\n",
    "These questions will use a synthetic dataset. "
   ]
  },
  {
   "cell_type": "code",
   "execution_count": 77,
   "metadata": {},
   "outputs": [
    {
     "data": {
      "text/plain": [
       "<Axes: xlabel='x0', ylabel='x1'>"
      ]
     },
     "execution_count": 77,
     "metadata": {},
     "output_type": "execute_result"
    },
    {
     "data": {
      "image/png": "[encoded data removed]",
      "text/plain": [
       "<Figure size 640x480 with 2 Axes>"
      ]
     },
     "metadata": {},
     "output_type": "display_data"
    }
   ],
   "source": [
    "from sklearn.datasets import make_blobs\n",
    "import sklearn.datasets as datasets\n",
    "import numpy as np\n",
    "\n",
    "X, y = datasets.make_blobs(n_samples=1000, random_state=190, cluster_std=2.0)\n",
    "# Try out different datasets:\n",
    "#X, y = datasets.make_blobs(n_samples=1000, random_state=170, cluster_std=2.0)\n",
    "#X, y = datasets.make_blobs(n_samples=1000, random_state=120, cluster_std=2.0)\n",
    "\n",
    "transformation = [[0.6, -0.3], [-0.4, 0.8]]\n",
    "X = np.dot(X, transformation)\n",
    "df = pd.DataFrame({\"x0\": X[:, 0], \"x1\": X[:, 1], \"y\": y})\n",
    "df.plot.scatter(x=\"x0\", y=\"x1\", c=\"y\", cmap=\"viridis\", alpha=0.5)"
   ]
  },
  {
   "cell_type": "markdown",
   "metadata": {},
   "source": [
    "---\n",
    "**Problem 1.**\n",
    "Using a decision tree classifier, **what's the cross validation score for `max_depth=3` using 5-fold cross validation on the train set?** Use `random_state=42` for the DecisionTreeClassifier."
   ]
  },
  {
   "cell_type": "markdown",
   "metadata": {},
   "source": [
    "Here is a visual showing K-Fold Cross Validation:\n",
    "![K-Fold Cross Validation](cv_visual.png)\n",
    "\n",
    "More detail is at https://scikit-learn.org/stable/modules/cross_validation.html."
   ]
  },
  {
   "cell_type": "code",
   "execution_count": 78,
   "metadata": {},
   "outputs": [],
   "source": [
    "from sklearn.model_selection import cross_val_score\n",
    "X_train, X_test, y_train, y_test = train_test_split(X, y, test_size=0.2, random_state=42)"
   ]
  },
  {
   "cell_type": "code",
   "execution_count": 19,
   "metadata": {},
   "outputs": [
    {
     "name": "stdout",
     "output_type": "stream",
     "text": [
      "0.6513\n"
     ]
    }
   ],
   "source": [
    "# your code here\n",
    "dtree = DecisionTreeClassifier(max_depth=3)\n",
    "cv_score = cross_val_score(dtree, X_train, y_train, cv=5).mean()\n",
    "print(cv_score.round(4))"
   ]
  },
  {
   "cell_type": "markdown",
   "metadata": {},
   "source": [
    "---\n",
    "**Problem 2.**\n",
    "**What's the best value for `max_depth`?**\n",
    "\n",
    "Train the model with `max_depth` from 1 to 10 inclusive. Use 5-fold cross-validiton with `cv=5` and `random_state=42` for the `DecisionTreeClassifier`."
   ]
  },
  {
   "cell_type": "code",
   "execution_count": 20,
   "metadata": {},
   "outputs": [
    {
     "data": {
      "text/plain": [
       "Text(0.5, 0, 'max_depth')"
      ]
     },
     "execution_count": 20,
     "metadata": {},
     "output_type": "execute_result"
    },
    {
     "data": {
      "image/png": "[encoded data removed]",
      "text/plain": [
       "<Figure size 640x480 with 1 Axes>"
      ]
     },
     "metadata": {},
     "output_type": "display_data"
    }
   ],
   "source": [
    "# Your code here\n",
    "\n",
    "s = []\n",
    "for depth in range(1, 11):\n",
    "    dtree = DecisionTreeClassifier(max_depth=depth)\n",
    "    s.append(cross_val_score(dtree, X_train, y_train, cv=5).mean())\n",
    "    \n",
    "S = pd.Series(s, index = range(1,11))\n",
    "ax = S.plot(style = 'o-', grid=True)\n",
    "ax.set_ylabel('CV scores')\n",
    "ax.set_xlabel('max_depth')"
   ]
  },
  {
   "cell_type": "code",
   "execution_count": 21,
   "metadata": {},
   "outputs": [
    {
     "name": "stdout",
     "output_type": "stream",
     "text": [
      "Best max_depth =  5\n"
     ]
    }
   ],
   "source": [
    "best_depth = S.idxmax()\n",
    "print('Best max_depth = ', best_depth )"
   ]
  },
  {
   "cell_type": "markdown",
   "metadata": {},
   "source": [
    "---\n",
    "**Problem 3.**\n",
    "**What's the accuracy of the classifier with the best `max_depth` found above?**\n",
    "\n",
    "Retrain the classifier using `random_state=42` and report the accuracy *on the test set*."
   ]
  },
  {
   "cell_type": "code",
   "execution_count": 22,
   "metadata": {},
   "outputs": [
    {
     "name": "stdout",
     "output_type": "stream",
     "text": [
      "0.645\n"
     ]
    }
   ],
   "source": [
    "# Your code here\n",
    "\n",
    "dtree = DecisionTreeClassifier(max_depth=best_depth)\n",
    "dtree.fit(X_train, y_train)\n",
    "print(dtree.score(X_test, y_test))"
   ]
  },
  {
   "cell_type": "markdown",
   "metadata": {},
   "source": [
    "---"
   ]
  }
 ],
 "metadata": {
  "kernelspec": {
   "display_name": "Python 3",
   "language": "python",
   "name": "python3"
  },
  "language_info": {
   "codemirror_mode": {
    "name": "ipython",
    "version": 3
   },
   "file_extension": ".py",
   "mimetype": "text/x-python",
   "name": "python",
   "nbconvert_exporter": "python",
   "pygments_lexer": "ipython3",
   "version": "3.10.11"
  }
 },
 "nbformat": 4,
 "nbformat_minor": 4
}
