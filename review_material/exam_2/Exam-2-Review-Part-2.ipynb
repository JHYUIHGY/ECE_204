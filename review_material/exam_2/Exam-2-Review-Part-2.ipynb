{
 "cells": [
  {
   "cell_type": "markdown",
   "metadata": {},
   "source": [
    "# Midterm 2 Review (Part II)\n",
    "\n",
    "## ECE204 Data Science & Engineering\n",
    "### This notebook contains practice questions for Midterm 2. The following topics are covered:\n",
    "- KMeans Clustering\n",
    "- PCA"
   ]
  },
  {
   "cell_type": "markdown",
   "metadata": {},
   "source": [
    "## K Means"
   ]
  },
  {
   "cell_type": "markdown",
   "metadata": {},
   "source": [
    "> ## Question 1\n",
    "> This question involves KMeans clustering.\n",
    "> We have a cleaner version of the blobs dataset from last part, `blobs_2.csv`. <br>\n",
    "> Your objective is to run KMeans (with random_state=42) on the data, and find the folloing: <br>\n",
    "> 1. The total number of points that belong to each cluster.\n",
    "> 2. Which cluster center is the point [2, 2] closest to? Find the distance of this point to the nearest cluster center. <br>\n",
    ">\n",
    ">\n",
    "> Solve the problem using the following steps:\n",
    "> 1. Run KMeans on the data with `n_clusters=2`, since it looks like there are 2 distinct groups. Make sure to set `random_state=42`.\n",
    "> 2. Predict the cluster assignment for each data point. Using this, find out the number of points that belong to each cluster.\n",
    "> 3. Find the distance of the point [2, 2] to each cluster center, and report the smallest distance. (Alternatively, you could predict the cluster assignment for this point, and then find the distance to that point only.)\n"
   ]
  },
  {
   "cell_type": "code",
   "execution_count": 4,
   "metadata": {},
   "outputs": [
    {
     "data": {
      "image/png": "[encoded data removed]",
      "text/plain": [
       "<Figure size 432x288 with 1 Axes>"
      ]
     },
     "metadata": {
      "needs_background": "light"
     },
     "output_type": "display_data"
    }
   ],
   "source": [
    "from sklearn.cluster import KMeans\n",
    "import pandas as pd\n",
    "\n",
    "df = pd.read_csv('blobs_2.csv')\n",
    "df.plot.scatter(x=\"foo\", y=\"bar\");"
   ]
  },
  {
   "cell_type": "code",
   "execution_count": 8,
   "metadata": {},
   "outputs": [],
   "source": [
    "# Your code here\n"
   ]
  },
  {
   "cell_type": "markdown",
   "metadata": {},
   "source": [
    "## PCA"
   ]
  },
  {
   "cell_type": "markdown",
   "metadata": {},
   "source": [
    "## Question 2\n",
    "> Read in the dataset `cars.csv`. We want approximate this dataset with only 2 dimensions. You can use Principal component analysis (PCA) to do dimensionality reduction.\n",
    ">\n",
    "> Perform PCA on this dataset. While doing this, only numeric columns will be allowed. Your objective is to find out the following:\n",
    "\n",
    "> 1. ** What is the standard deviation of each column in the original dataset?**\n",
    "> 2. ** What is the total explained variance after reducing the data to 2 dimensions **\n",
    "> 3. Each column has a different scale, and very different standard deviations. **Standarize the data, and then find out what is the total explained variance after reducing the data to 2 dimensions**. Reason about why there is a difference in the two results.\n",
    ">\n",
    "> Solve the problem using the following steps: <br>\n",
    "> 1. Filter out the non-numeric columns out of the dataframe. We will perform PCA on numeric data only.\n",
    "> 2. Find the standard deviation of each column. (Recall that there is a pandas method for this)\n",
    "> 3. Run PCA on the data to reduce it to 2 dimensions, and check the total explained vairance.\n",
    "> 4. Use `StandardScaler` to normalize the original data, and then run PCA to reduce the dimensions, and check the total explained variance "
   ]
  },
  {
   "cell_type": "code",
   "execution_count": 1,
   "metadata": {
    "scrolled": true
   },
   "outputs": [
    {
     "data": {
      "text/html": [
       "<div>\n",
       "<style scoped>\n",
       "    .dataframe tbody tr th:only-of-type {\n",
       "        vertical-align: middle;\n",
       "    }\n",
       "\n",
       "    .dataframe tbody tr th {\n",
       "        vertical-align: top;\n",
       "    }\n",
       "\n",
       "    .dataframe thead th {\n",
       "        text-align: right;\n",
       "    }\n",
       "</style>\n",
       "<table border=\"1\" class=\"dataframe\">\n",
       "  <thead>\n",
       "    <tr style=\"text-align: right;\">\n",
       "      <th></th>\n",
       "      <th>Acceleration</th>\n",
       "      <th>Cylinders</th>\n",
       "      <th>Displacement</th>\n",
       "      <th>Horsepower</th>\n",
       "      <th>Miles_per_Gallon</th>\n",
       "      <th>Name</th>\n",
       "      <th>Origin</th>\n",
       "      <th>Weight_in_lbs</th>\n",
       "      <th>Year</th>\n",
       "    </tr>\n",
       "  </thead>\n",
       "  <tbody>\n",
       "    <tr>\n",
       "      <th>0</th>\n",
       "      <td>12.0</td>\n",
       "      <td>8</td>\n",
       "      <td>307.0</td>\n",
       "      <td>130.0</td>\n",
       "      <td>18.0</td>\n",
       "      <td>chevrolet chevelle malibu</td>\n",
       "      <td>USA</td>\n",
       "      <td>3504</td>\n",
       "      <td>1970</td>\n",
       "    </tr>\n",
       "    <tr>\n",
       "      <th>1</th>\n",
       "      <td>11.5</td>\n",
       "      <td>8</td>\n",
       "      <td>350.0</td>\n",
       "      <td>165.0</td>\n",
       "      <td>15.0</td>\n",
       "      <td>buick skylark 320</td>\n",
       "      <td>USA</td>\n",
       "      <td>3693</td>\n",
       "      <td>1970</td>\n",
       "    </tr>\n",
       "    <tr>\n",
       "      <th>2</th>\n",
       "      <td>11.0</td>\n",
       "      <td>8</td>\n",
       "      <td>318.0</td>\n",
       "      <td>150.0</td>\n",
       "      <td>18.0</td>\n",
       "      <td>plymouth satellite</td>\n",
       "      <td>USA</td>\n",
       "      <td>3436</td>\n",
       "      <td>1970</td>\n",
       "    </tr>\n",
       "    <tr>\n",
       "      <th>3</th>\n",
       "      <td>12.0</td>\n",
       "      <td>8</td>\n",
       "      <td>304.0</td>\n",
       "      <td>150.0</td>\n",
       "      <td>16.0</td>\n",
       "      <td>amc rebel sst</td>\n",
       "      <td>USA</td>\n",
       "      <td>3433</td>\n",
       "      <td>1970</td>\n",
       "    </tr>\n",
       "    <tr>\n",
       "      <th>4</th>\n",
       "      <td>10.5</td>\n",
       "      <td>8</td>\n",
       "      <td>302.0</td>\n",
       "      <td>140.0</td>\n",
       "      <td>17.0</td>\n",
       "      <td>ford torino</td>\n",
       "      <td>USA</td>\n",
       "      <td>3449</td>\n",
       "      <td>1970</td>\n",
       "    </tr>\n",
       "  </tbody>\n",
       "</table>\n",
       "</div>"
      ],
      "text/plain": [
       "   Acceleration  Cylinders  Displacement  Horsepower  Miles_per_Gallon  \\\n",
       "0          12.0          8         307.0       130.0              18.0   \n",
       "1          11.5          8         350.0       165.0              15.0   \n",
       "2          11.0          8         318.0       150.0              18.0   \n",
       "3          12.0          8         304.0       150.0              16.0   \n",
       "4          10.5          8         302.0       140.0              17.0   \n",
       "\n",
       "                        Name Origin  Weight_in_lbs  Year  \n",
       "0  chevrolet chevelle malibu    USA           3504  1970  \n",
       "1          buick skylark 320    USA           3693  1970  \n",
       "2         plymouth satellite    USA           3436  1970  \n",
       "3              amc rebel sst    USA           3433  1970  \n",
       "4                ford torino    USA           3449  1970  "
      ]
     },
     "execution_count": 1,
     "metadata": {},
     "output_type": "execute_result"
    }
   ],
   "source": [
    "import pandas as pd\n",
    "from sklearn.decomposition import PCA\n",
    "from sklearn.preprocessing import StandardScaler\n",
    "import numpy as np\n",
    "\n",
    "df = pd.read_csv(\"cars.csv\")\n",
    "df.head()"
   ]
  },
  {
   "cell_type": "code",
   "execution_count": null,
   "metadata": {},
   "outputs": [],
   "source": [
    "# Your code here\n"
   ]
  }
 ],
 "metadata": {
  "kernelspec": {
   "display_name": "Python 3",
   "language": "python",
   "name": "python3"
  },
  "language_info": {
   "codemirror_mode": {
    "name": "ipython",
    "version": 3
   },
   "file_extension": ".py",
   "mimetype": "text/x-python",
   "name": "python",
   "nbconvert_exporter": "python",
   "pygments_lexer": "ipython3",
   "version": "3.7.6"
  }
 },
 "nbformat": 4,
 "nbformat_minor": 4
}
